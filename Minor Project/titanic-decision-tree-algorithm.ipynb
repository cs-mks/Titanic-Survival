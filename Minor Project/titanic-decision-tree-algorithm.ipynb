{
 "cells": [
  {
   "cell_type": "markdown",
   "id": "4a984742",
   "metadata": {
    "papermill": {
     "duration": 0.041726,
     "end_time": "2022-11-04T08:38:10.713250",
     "exception": false,
     "start_time": "2022-11-04T08:38:10.671524",
     "status": "completed"
    },
    "tags": []
   },
   "source": [
    "kaggle - Titanic Problem "
   ]
  },
  {
   "cell_type": "markdown",
   "id": "4adcaadb",
   "metadata": {
    "papermill": {
     "duration": 0.037554,
     "end_time": "2022-11-04T08:38:10.788896",
     "exception": false,
     "start_time": "2022-11-04T08:38:10.751342",
     "status": "completed"
    },
    "tags": []
   },
   "source": [
    "importing pandas and numpy libraries <br>\n",
    "pandas - data manipulation<br>\n",
    "numpy for numerical calculations"
   ]
  },
  {
   "cell_type": "code",
   "execution_count": 1,
   "id": "7757ce3f",
   "metadata": {
    "execution": {
     "iopub.execute_input": "2022-11-04T08:38:10.867407Z",
     "iopub.status.busy": "2022-11-04T08:38:10.866642Z",
     "iopub.status.idle": "2022-11-04T08:38:10.876345Z",
     "shell.execute_reply": "2022-11-04T08:38:10.875496Z"
    },
    "papermill": {
     "duration": 0.052663,
     "end_time": "2022-11-04T08:38:10.879064",
     "exception": false,
     "start_time": "2022-11-04T08:38:10.826401",
     "status": "completed"
    },
    "tags": []
   },
   "outputs": [],
   "source": [
    "import pandas as pd"
   ]
  },
  {
   "cell_type": "code",
   "execution_count": 2,
   "id": "12ba94df",
   "metadata": {
    "execution": {
     "iopub.execute_input": "2022-11-04T08:38:10.956683Z",
     "iopub.status.busy": "2022-11-04T08:38:10.955943Z",
     "iopub.status.idle": "2022-11-04T08:38:10.960704Z",
     "shell.execute_reply": "2022-11-04T08:38:10.959909Z"
    },
    "papermill": {
     "duration": 0.046364,
     "end_time": "2022-11-04T08:38:10.962802",
     "exception": false,
     "start_time": "2022-11-04T08:38:10.916438",
     "status": "completed"
    },
    "tags": []
   },
   "outputs": [],
   "source": [
    "import numpy as np"
   ]
  },
  {
   "cell_type": "markdown",
   "id": "0c55ea17",
   "metadata": {
    "papermill": {
     "duration": 0.048744,
     "end_time": "2022-11-04T08:38:11.049742",
     "exception": false,
     "start_time": "2022-11-04T08:38:11.000998",
     "status": "completed"
    },
    "tags": []
   },
   "source": [
    "Loading the datasets"
   ]
  },
  {
   "cell_type": "code",
   "execution_count": 4,
   "id": "d19cc4b4",
   "metadata": {
    "execution": {
     "iopub.execute_input": "2022-11-04T08:38:11.135692Z",
     "iopub.status.busy": "2022-11-04T08:38:11.134934Z",
     "iopub.status.idle": "2022-11-04T08:38:11.157392Z",
     "shell.execute_reply": "2022-11-04T08:38:11.156548Z"
    },
    "papermill": {
     "duration": 0.063609,
     "end_time": "2022-11-04T08:38:11.159893",
     "exception": false,
     "start_time": "2022-11-04T08:38:11.096284",
     "status": "completed"
    },
    "tags": []
   },
   "outputs": [],
   "source": [
    "data_train = pd.read_csv('train.csv')"
   ]
  },
  {
   "cell_type": "code",
   "execution_count": 5,
   "id": "049c4583",
   "metadata": {
    "execution": {
     "iopub.execute_input": "2022-11-04T08:38:11.236738Z",
     "iopub.status.busy": "2022-11-04T08:38:11.236028Z",
     "iopub.status.idle": "2022-11-04T08:38:11.248008Z",
     "shell.execute_reply": "2022-11-04T08:38:11.247064Z"
    },
    "papermill": {
     "duration": 0.052689,
     "end_time": "2022-11-04T08:38:11.250454",
     "exception": false,
     "start_time": "2022-11-04T08:38:11.197765",
     "status": "completed"
    },
    "tags": []
   },
   "outputs": [],
   "source": [
    "data_test = pd.read_csv('test.csv')"
   ]
  },
  {
   "cell_type": "code",
   "execution_count": 6,
   "id": "d75cef0f",
   "metadata": {
    "execution": {
     "iopub.execute_input": "2022-11-04T08:38:11.328049Z",
     "iopub.status.busy": "2022-11-04T08:38:11.327679Z",
     "iopub.status.idle": "2022-11-04T08:38:11.336787Z",
     "shell.execute_reply": "2022-11-04T08:38:11.335691Z"
    },
    "papermill": {
     "duration": 0.051155,
     "end_time": "2022-11-04T08:38:11.339709",
     "exception": false,
     "start_time": "2022-11-04T08:38:11.288554",
     "status": "completed"
    },
    "tags": []
   },
   "outputs": [
    {
     "data": {
      "text/plain": [
       "Index(['PassengerId', 'Survived', 'Pclass', 'Name', 'Sex', 'Age', 'SibSp',\n",
       "       'Parch', 'Ticket', 'Fare', 'Cabin', 'Embarked'],\n",
       "      dtype='object')"
      ]
     },
     "execution_count": 6,
     "metadata": {},
     "output_type": "execute_result"
    }
   ],
   "source": [
    "data_train.columns"
   ]
  },
  {
   "cell_type": "markdown",
   "id": "25519351",
   "metadata": {
    "papermill": {
     "duration": 0.036825,
     "end_time": "2022-11-04T08:38:11.414555",
     "exception": false,
     "start_time": "2022-11-04T08:38:11.377730",
     "status": "completed"
    },
    "tags": []
   },
   "source": [
    "Checking whether the data is Balanced/Imbalanced"
   ]
  },
  {
   "cell_type": "code",
   "execution_count": 7,
   "id": "fda1161f",
   "metadata": {
    "execution": {
     "iopub.execute_input": "2022-11-04T08:38:11.507409Z",
     "iopub.status.busy": "2022-11-04T08:38:11.506738Z",
     "iopub.status.idle": "2022-11-04T08:38:11.512213Z",
     "shell.execute_reply": "2022-11-04T08:38:11.511211Z"
    },
    "papermill": {
     "duration": 0.054139,
     "end_time": "2022-11-04T08:38:11.514688",
     "exception": false,
     "start_time": "2022-11-04T08:38:11.460549",
     "status": "completed"
    },
    "tags": []
   },
   "outputs": [],
   "source": [
    "import matplotlib.pyplot as plt"
   ]
  },
  {
   "cell_type": "code",
   "execution_count": 8,
   "id": "37c21aed",
   "metadata": {
    "execution": {
     "iopub.execute_input": "2022-11-04T08:38:11.598677Z",
     "iopub.status.busy": "2022-11-04T08:38:11.597414Z",
     "iopub.status.idle": "2022-11-04T08:38:11.612600Z",
     "shell.execute_reply": "2022-11-04T08:38:11.611707Z"
    },
    "papermill": {
     "duration": 0.057552,
     "end_time": "2022-11-04T08:38:11.614852",
     "exception": false,
     "start_time": "2022-11-04T08:38:11.557300",
     "status": "completed"
    },
    "tags": []
   },
   "outputs": [
    {
     "data": {
      "text/plain": [
       "0    549\n",
       "1    342\n",
       "Name: Survived, dtype: int64"
      ]
     },
     "execution_count": 8,
     "metadata": {},
     "output_type": "execute_result"
    }
   ],
   "source": [
    "data_train.Survived.value_counts()"
   ]
  },
  {
   "cell_type": "code",
   "execution_count": 9,
   "id": "72132a65",
   "metadata": {
    "execution": {
     "iopub.execute_input": "2022-11-04T08:38:11.694778Z",
     "iopub.status.busy": "2022-11-04T08:38:11.694339Z",
     "iopub.status.idle": "2022-11-04T08:38:11.868644Z",
     "shell.execute_reply": "2022-11-04T08:38:11.866954Z"
    },
    "papermill": {
     "duration": 0.220646,
     "end_time": "2022-11-04T08:38:11.873512",
     "exception": false,
     "start_time": "2022-11-04T08:38:11.652866",
     "status": "completed"
    },
    "tags": []
   },
   "outputs": [
    {
     "data": {
      "text/plain": [
       "<AxesSubplot:ylabel='Survived'>"
      ]
     },
     "execution_count": 9,
     "metadata": {},
     "output_type": "execute_result"
    },
    {
     "data": {
      "image/png": "[encoded data removed]",
      "text/plain": [
       "<Figure size 640x480 with 1 Axes>"
      ]
     },
     "metadata": {},
     "output_type": "display_data"
    }
   ],
   "source": [
    "data_train.Survived.value_counts().plot.pie() # pie chart"
   ]
  },
  {
   "cell_type": "code",
   "execution_count": 10,
   "id": "3e3acfcb",
   "metadata": {
    "execution": {
     "iopub.execute_input": "2022-11-04T08:38:11.993298Z",
     "iopub.status.busy": "2022-11-04T08:38:11.992605Z",
     "iopub.status.idle": "2022-11-04T08:38:12.182397Z",
     "shell.execute_reply": "2022-11-04T08:38:12.181552Z"
    },
    "papermill": {
     "duration": 0.231344,
     "end_time": "2022-11-04T08:38:12.184803",
     "exception": false,
     "start_time": "2022-11-04T08:38:11.953459",
     "status": "completed"
    },
    "tags": []
   },
   "outputs": [
    {
     "data": {
      "text/plain": [
       "<AxesSubplot:>"
      ]
     },
     "execution_count": 10,
     "metadata": {},
     "output_type": "execute_result"
    },
    {
     "data": {
      "image/png": "[encoded data removed]",
      "text/plain": [
       "<Figure size 640x480 with 1 Axes>"
      ]
     },
     "metadata": {},
     "output_type": "display_data"
    }
   ],
   "source": [
    "data_train.Survived.value_counts().plot.bar() # barplot - # Imbalanced Dataset"
   ]
  },
  {
   "cell_type": "markdown",
   "id": "0f4627c8",
   "metadata": {
    "papermill": {
     "duration": 0.038183,
     "end_time": "2022-11-04T08:38:12.262990",
     "exception": false,
     "start_time": "2022-11-04T08:38:12.224807",
     "status": "completed"
    },
    "tags": []
   },
   "source": [
    "moving the output variable to index 0 position "
   ]
  },
  {
   "cell_type": "code",
   "execution_count": 11,
   "id": "5e2811e3",
   "metadata": {
    "execution": {
     "iopub.execute_input": "2022-11-04T08:38:12.343151Z",
     "iopub.status.busy": "2022-11-04T08:38:12.342144Z",
     "iopub.status.idle": "2022-11-04T08:38:12.350477Z",
     "shell.execute_reply": "2022-11-04T08:38:12.349588Z"
    },
    "papermill": {
     "duration": 0.051333,
     "end_time": "2022-11-04T08:38:12.352901",
     "exception": false,
     "start_time": "2022-11-04T08:38:12.301568",
     "status": "completed"
    },
    "tags": []
   },
   "outputs": [],
   "source": [
    "data_train = data_train.iloc[:, [1,0,2,3,4,5,6,7,8,9,10,11]]"
   ]
  },
  {
   "cell_type": "code",
   "execution_count": 12,
   "id": "a7fcf324",
   "metadata": {
    "execution": {
     "iopub.execute_input": "2022-11-04T08:38:12.433054Z",
     "iopub.status.busy": "2022-11-04T08:38:12.432386Z",
     "iopub.status.idle": "2022-11-04T08:38:12.452056Z",
     "shell.execute_reply": "2022-11-04T08:38:12.451146Z"
    },
    "papermill": {
     "duration": 0.061749,
     "end_time": "2022-11-04T08:38:12.454381",
     "exception": false,
     "start_time": "2022-11-04T08:38:12.392632",
     "status": "completed"
    },
    "tags": []
   },
   "outputs": [
    {
     "data": {
      "text/html": [
       "<div>\n",
       "<style scoped>\n",
       "    .dataframe tbody tr th:only-of-type {\n",
       "        vertical-align: middle;\n",
       "    }\n",
       "\n",
       "    .dataframe tbody tr th {\n",
       "        vertical-align: top;\n",
       "    }\n",
       "\n",
       "    .dataframe thead th {\n",
       "        text-align: right;\n",
       "    }\n",
       "</style>\n",
       "<table border=\"1\" class=\"dataframe\">\n",
       "  <thead>\n",
       "    <tr style=\"text-align: right;\">\n",
       "      <th></th>\n",
       "      <th>Survived</th>\n",
       "      <th>PassengerId</th>\n",
       "      <th>Pclass</th>\n",
       "      <th>Name</th>\n",
       "      <th>Sex</th>\n",
       "      <th>Age</th>\n",
       "      <th>SibSp</th>\n",
       "      <th>Parch</th>\n",
       "      <th>Ticket</th>\n",
       "      <th>Fare</th>\n",
       "      <th>Cabin</th>\n",
       "      <th>Embarked</th>\n",
       "    </tr>\n",
       "  </thead>\n",
       "  <tbody>\n",
       "    <tr>\n",
       "      <th>0</th>\n",
       "      <td>0</td>\n",
       "      <td>1</td>\n",
       "      <td>3</td>\n",
       "      <td>Braund, Mr. Owen Harris</td>\n",
       "      <td>male</td>\n",
       "      <td>22.0</td>\n",
       "      <td>1</td>\n",
       "      <td>0</td>\n",
       "      <td>A/5 21171</td>\n",
       "      <td>7.2500</td>\n",
       "      <td>NaN</td>\n",
       "      <td>S</td>\n",
       "    </tr>\n",
       "    <tr>\n",
       "      <th>1</th>\n",
       "      <td>1</td>\n",
       "      <td>2</td>\n",
       "      <td>1</td>\n",
       "      <td>Cumings, Mrs. John Bradley (Florence Briggs Th...</td>\n",
       "      <td>female</td>\n",
       "      <td>38.0</td>\n",
       "      <td>1</td>\n",
       "      <td>0</td>\n",
       "      <td>PC 17599</td>\n",
       "      <td>71.2833</td>\n",
       "      <td>C85</td>\n",
       "      <td>C</td>\n",
       "    </tr>\n",
       "    <tr>\n",
       "      <th>2</th>\n",
       "      <td>1</td>\n",
       "      <td>3</td>\n",
       "      <td>3</td>\n",
       "      <td>Heikkinen, Miss. Laina</td>\n",
       "      <td>female</td>\n",
       "      <td>26.0</td>\n",
       "      <td>0</td>\n",
       "      <td>0</td>\n",
       "      <td>STON/O2. 3101282</td>\n",
       "      <td>7.9250</td>\n",
       "      <td>NaN</td>\n",
       "      <td>S</td>\n",
       "    </tr>\n",
       "    <tr>\n",
       "      <th>3</th>\n",
       "      <td>1</td>\n",
       "      <td>4</td>\n",
       "      <td>1</td>\n",
       "      <td>Futrelle, Mrs. Jacques Heath (Lily May Peel)</td>\n",
       "      <td>female</td>\n",
       "      <td>35.0</td>\n",
       "      <td>1</td>\n",
       "      <td>0</td>\n",
       "      <td>113803</td>\n",
       "      <td>53.1000</td>\n",
       "      <td>C123</td>\n",
       "      <td>S</td>\n",
       "    </tr>\n",
       "    <tr>\n",
       "      <th>4</th>\n",
       "      <td>0</td>\n",
       "      <td>5</td>\n",
       "      <td>3</td>\n",
       "      <td>Allen, Mr. William Henry</td>\n",
       "      <td>male</td>\n",
       "      <td>35.0</td>\n",
       "      <td>0</td>\n",
       "      <td>0</td>\n",
       "      <td>373450</td>\n",
       "      <td>8.0500</td>\n",
       "      <td>NaN</td>\n",
       "      <td>S</td>\n",
       "    </tr>\n",
       "  </tbody>\n",
       "</table>\n",
       "</div>"
      ],
      "text/plain": [
       "   Survived  PassengerId  Pclass  \\\n",
       "0         0            1       3   \n",
       "1         1            2       1   \n",
       "2         1            3       3   \n",
       "3         1            4       1   \n",
       "4         0            5       3   \n",
       "\n",
       "                                                Name     Sex   Age  SibSp  \\\n",
       "0                            Braund, Mr. Owen Harris    male  22.0      1   \n",
       "1  Cumings, Mrs. John Bradley (Florence Briggs Th...  female  38.0      1   \n",
       "2                             Heikkinen, Miss. Laina  female  26.0      0   \n",
       "3       Futrelle, Mrs. Jacques Heath (Lily May Peel)  female  35.0      1   \n",
       "4                           Allen, Mr. William Henry    male  35.0      0   \n",
       "\n",
       "   Parch            Ticket     Fare Cabin Embarked  \n",
       "0      0         A/5 21171   7.2500   NaN        S  \n",
       "1      0          PC 17599  71.2833   C85        C  \n",
       "2      0  STON/O2. 3101282   7.9250   NaN        S  \n",
       "3      0            113803  53.1000  C123        S  \n",
       "4      0            373450   8.0500   NaN        S  "
      ]
     },
     "execution_count": 12,
     "metadata": {},
     "output_type": "execute_result"
    }
   ],
   "source": [
    "data_train.head()"
   ]
  },
  {
   "cell_type": "code",
   "execution_count": 13,
   "id": "26a158d4",
   "metadata": {
    "execution": {
     "iopub.execute_input": "2022-11-04T08:38:12.535200Z",
     "iopub.status.busy": "2022-11-04T08:38:12.534149Z",
     "iopub.status.idle": "2022-11-04T08:38:12.540983Z",
     "shell.execute_reply": "2022-11-04T08:38:12.539809Z"
    },
    "papermill": {
     "duration": 0.049931,
     "end_time": "2022-11-04T08:38:12.543466",
     "exception": false,
     "start_time": "2022-11-04T08:38:12.493535",
     "status": "completed"
    },
    "tags": []
   },
   "outputs": [
    {
     "data": {
      "text/plain": [
       "Index(['Survived', 'PassengerId', 'Pclass', 'Name', 'Sex', 'Age', 'SibSp',\n",
       "       'Parch', 'Ticket', 'Fare', 'Cabin', 'Embarked'],\n",
       "      dtype='object')"
      ]
     },
     "execution_count": 13,
     "metadata": {},
     "output_type": "execute_result"
    }
   ],
   "source": [
    "data_train.columns"
   ]
  },
  {
   "cell_type": "markdown",
   "id": "8257ab72",
   "metadata": {
    "papermill": {
     "duration": 0.038892,
     "end_time": "2022-11-04T08:38:12.624415",
     "exception": false,
     "start_time": "2022-11-04T08:38:12.585523",
     "status": "completed"
    },
    "tags": []
   },
   "source": [
    "Categorical Features in Dataset"
   ]
  },
  {
   "cell_type": "code",
   "execution_count": 14,
   "id": "77377f97",
   "metadata": {
    "execution": {
     "iopub.execute_input": "2022-11-04T08:38:12.706927Z",
     "iopub.status.busy": "2022-11-04T08:38:12.706304Z",
     "iopub.status.idle": "2022-11-04T08:38:12.713429Z",
     "shell.execute_reply": "2022-11-04T08:38:12.712594Z"
    },
    "papermill": {
     "duration": 0.050367,
     "end_time": "2022-11-04T08:38:12.715645",
     "exception": false,
     "start_time": "2022-11-04T08:38:12.665278",
     "status": "completed"
    },
    "tags": []
   },
   "outputs": [
    {
     "data": {
      "text/plain": [
       "0    549\n",
       "1    342\n",
       "Name: Survived, dtype: int64"
      ]
     },
     "execution_count": 14,
     "metadata": {},
     "output_type": "execute_result"
    }
   ],
   "source": [
    "data_train.Survived.value_counts() # 0- Not Survived, 1 - Survived - Ordinal"
   ]
  },
  {
   "cell_type": "code",
   "execution_count": 15,
   "id": "a1a2f668",
   "metadata": {
    "execution": {
     "iopub.execute_input": "2022-11-04T08:38:12.795054Z",
     "iopub.status.busy": "2022-11-04T08:38:12.794461Z",
     "iopub.status.idle": "2022-11-04T08:38:12.802508Z",
     "shell.execute_reply": "2022-11-04T08:38:12.801652Z"
    },
    "papermill": {
     "duration": 0.050513,
     "end_time": "2022-11-04T08:38:12.804816",
     "exception": false,
     "start_time": "2022-11-04T08:38:12.754303",
     "status": "completed"
    },
    "tags": []
   },
   "outputs": [
    {
     "data": {
      "text/plain": [
       "3    491\n",
       "1    216\n",
       "2    184\n",
       "Name: Pclass, dtype: int64"
      ]
     },
     "execution_count": 15,
     "metadata": {},
     "output_type": "execute_result"
    }
   ],
   "source": [
    "data_train.Pclass.value_counts() # 1 - 1st class, 2 - 2nd class, 3 - 3rd class - Ordinal"
   ]
  },
  {
   "cell_type": "code",
   "execution_count": 16,
   "id": "2a4e8440",
   "metadata": {
    "execution": {
     "iopub.execute_input": "2022-11-04T08:38:12.886122Z",
     "iopub.status.busy": "2022-11-04T08:38:12.885512Z",
     "iopub.status.idle": "2022-11-04T08:38:12.893440Z",
     "shell.execute_reply": "2022-11-04T08:38:12.892273Z"
    },
    "papermill": {
     "duration": 0.050768,
     "end_time": "2022-11-04T08:38:12.895750",
     "exception": false,
     "start_time": "2022-11-04T08:38:12.844982",
     "status": "completed"
    },
    "tags": []
   },
   "outputs": [
    {
     "data": {
      "text/plain": [
       "male      577\n",
       "female    314\n",
       "Name: Sex, dtype: int64"
      ]
     },
     "execution_count": 16,
     "metadata": {},
     "output_type": "execute_result"
    }
   ],
   "source": [
    "data_train.Sex.value_counts() # male, female - Nominal data"
   ]
  },
  {
   "cell_type": "code",
   "execution_count": 17,
   "id": "2d8d209c",
   "metadata": {
    "execution": {
     "iopub.execute_input": "2022-11-04T08:38:12.975948Z",
     "iopub.status.busy": "2022-11-04T08:38:12.975555Z",
     "iopub.status.idle": "2022-11-04T08:38:12.983430Z",
     "shell.execute_reply": "2022-11-04T08:38:12.982658Z"
    },
    "papermill": {
     "duration": 0.050374,
     "end_time": "2022-11-04T08:38:12.985500",
     "exception": false,
     "start_time": "2022-11-04T08:38:12.935126",
     "status": "completed"
    },
    "tags": []
   },
   "outputs": [
    {
     "data": {
      "text/plain": [
       "S    644\n",
       "C    168\n",
       "Q     77\n",
       "Name: Embarked, dtype: int64"
      ]
     },
     "execution_count": 17,
     "metadata": {},
     "output_type": "execute_result"
    }
   ],
   "source": [
    "data_train.Embarked.value_counts()"
   ]
  },
  {
   "cell_type": "code",
   "execution_count": 18,
   "id": "d4d0f194",
   "metadata": {
    "execution": {
     "iopub.execute_input": "2022-11-04T08:38:13.082222Z",
     "iopub.status.busy": "2022-11-04T08:38:13.080902Z",
     "iopub.status.idle": "2022-11-04T08:38:13.113180Z",
     "shell.execute_reply": "2022-11-04T08:38:13.111888Z"
    },
    "papermill": {
     "duration": 0.086648,
     "end_time": "2022-11-04T08:38:13.116220",
     "exception": false,
     "start_time": "2022-11-04T08:38:13.029572",
     "status": "completed"
    },
    "tags": []
   },
   "outputs": [],
   "source": [
    "des = data_train.describe()"
   ]
  },
  {
   "cell_type": "markdown",
   "id": "6f11524d",
   "metadata": {
    "papermill": {
     "duration": 0.041215,
     "end_time": "2022-11-04T08:38:13.201971",
     "exception": false,
     "start_time": "2022-11-04T08:38:13.160756",
     "status": "completed"
    },
    "tags": []
   },
   "source": [
    "dropping the Irrelavent Features on training dataset"
   ]
  },
  {
   "cell_type": "code",
   "execution_count": 19,
   "id": "a871bc71",
   "metadata": {
    "execution": {
     "iopub.execute_input": "2022-11-04T08:38:13.282925Z",
     "iopub.status.busy": "2022-11-04T08:38:13.282306Z",
     "iopub.status.idle": "2022-11-04T08:38:13.288010Z",
     "shell.execute_reply": "2022-11-04T08:38:13.287122Z"
    },
    "papermill": {
     "duration": 0.048873,
     "end_time": "2022-11-04T08:38:13.290203",
     "exception": false,
     "start_time": "2022-11-04T08:38:13.241330",
     "status": "completed"
    },
    "tags": []
   },
   "outputs": [],
   "source": [
    "data_train_mod = data_train.drop('Name', axis = 1)"
   ]
  },
  {
   "cell_type": "code",
   "execution_count": 20,
   "id": "ddecfe96",
   "metadata": {
    "execution": {
     "iopub.execute_input": "2022-11-04T08:38:13.370313Z",
     "iopub.status.busy": "2022-11-04T08:38:13.369625Z",
     "iopub.status.idle": "2022-11-04T08:38:13.375232Z",
     "shell.execute_reply": "2022-11-04T08:38:13.374167Z"
    },
    "papermill": {
     "duration": 0.047816,
     "end_time": "2022-11-04T08:38:13.377451",
     "exception": false,
     "start_time": "2022-11-04T08:38:13.329635",
     "status": "completed"
    },
    "tags": []
   },
   "outputs": [],
   "source": [
    "data_train_mod = data_train_mod.drop('Ticket', axis = 1)"
   ]
  },
  {
   "cell_type": "code",
   "execution_count": 21,
   "id": "5d0b9ea1",
   "metadata": {
    "execution": {
     "iopub.execute_input": "2022-11-04T08:38:13.458352Z",
     "iopub.status.busy": "2022-11-04T08:38:13.457662Z",
     "iopub.status.idle": "2022-11-04T08:38:13.463437Z",
     "shell.execute_reply": "2022-11-04T08:38:13.462277Z"
    },
    "papermill": {
     "duration": 0.048979,
     "end_time": "2022-11-04T08:38:13.466002",
     "exception": false,
     "start_time": "2022-11-04T08:38:13.417023",
     "status": "completed"
    },
    "tags": []
   },
   "outputs": [],
   "source": [
    "data_train_mod = data_train_mod.drop('Cabin', axis = 1)"
   ]
  },
  {
   "cell_type": "markdown",
   "id": "8d4862d2",
   "metadata": {
    "papermill": {
     "duration": 0.041511,
     "end_time": "2022-11-04T08:38:13.546932",
     "exception": false,
     "start_time": "2022-11-04T08:38:13.505421",
     "status": "completed"
    },
    "tags": []
   },
   "source": [
    "dropping the Irrelavent Features on test dataset"
   ]
  },
  {
   "cell_type": "code",
   "execution_count": 22,
   "id": "4f868b96",
   "metadata": {
    "execution": {
     "iopub.execute_input": "2022-11-04T08:38:13.630162Z",
     "iopub.status.busy": "2022-11-04T08:38:13.629447Z",
     "iopub.status.idle": "2022-11-04T08:38:13.634921Z",
     "shell.execute_reply": "2022-11-04T08:38:13.634130Z"
    },
    "papermill": {
     "duration": 0.049956,
     "end_time": "2022-11-04T08:38:13.637916",
     "exception": false,
     "start_time": "2022-11-04T08:38:13.587960",
     "status": "completed"
    },
    "tags": []
   },
   "outputs": [],
   "source": [
    "data_test_mod = data_test.drop('Name', axis = 1)"
   ]
  },
  {
   "cell_type": "code",
   "execution_count": 23,
   "id": "2311a6f9",
   "metadata": {
    "execution": {
     "iopub.execute_input": "2022-11-04T08:38:13.718624Z",
     "iopub.status.busy": "2022-11-04T08:38:13.718188Z",
     "iopub.status.idle": "2022-11-04T08:38:13.723510Z",
     "shell.execute_reply": "2022-11-04T08:38:13.722660Z"
    },
    "papermill": {
     "duration": 0.048064,
     "end_time": "2022-11-04T08:38:13.725586",
     "exception": false,
     "start_time": "2022-11-04T08:38:13.677522",
     "status": "completed"
    },
    "tags": []
   },
   "outputs": [],
   "source": [
    "data_test_mod = data_test_mod.drop('Ticket', axis = 1)"
   ]
  },
  {
   "cell_type": "code",
   "execution_count": 24,
   "id": "ed1a5518",
   "metadata": {
    "execution": {
     "iopub.execute_input": "2022-11-04T08:38:13.806105Z",
     "iopub.status.busy": "2022-11-04T08:38:13.805384Z",
     "iopub.status.idle": "2022-11-04T08:38:13.810825Z",
     "shell.execute_reply": "2022-11-04T08:38:13.809945Z"
    },
    "papermill": {
     "duration": 0.048333,
     "end_time": "2022-11-04T08:38:13.813095",
     "exception": false,
     "start_time": "2022-11-04T08:38:13.764762",
     "status": "completed"
    },
    "tags": []
   },
   "outputs": [],
   "source": [
    "data_test_mod = data_test_mod.drop('Cabin', axis = 1)"
   ]
  },
  {
   "cell_type": "markdown",
   "id": "a1829943",
   "metadata": {
    "papermill": {
     "duration": 0.038183,
     "end_time": "2022-11-04T08:38:13.889803",
     "exception": false,
     "start_time": "2022-11-04T08:38:13.851620",
     "status": "completed"
    },
    "tags": []
   },
   "source": [
    "EDA - Exploratory Data Analysis - Feature Wise<br>\n",
    "1 - Survived - Categorical Feature <br>\n",
    "So Mean, Median is not required<br>\n",
    "1st moment of business decision"
   ]
  },
  {
   "cell_type": "code",
   "execution_count": 25,
   "id": "08147035",
   "metadata": {
    "execution": {
     "iopub.execute_input": "2022-11-04T08:38:13.970734Z",
     "iopub.status.busy": "2022-11-04T08:38:13.970009Z",
     "iopub.status.idle": "2022-11-04T08:38:13.977725Z",
     "shell.execute_reply": "2022-11-04T08:38:13.976643Z"
    },
    "papermill": {
     "duration": 0.050118,
     "end_time": "2022-11-04T08:38:13.979863",
     "exception": false,
     "start_time": "2022-11-04T08:38:13.929745",
     "status": "completed"
    },
    "tags": []
   },
   "outputs": [
    {
     "data": {
      "text/plain": [
       "0    0\n",
       "Name: Survived, dtype: int64"
      ]
     },
     "execution_count": 25,
     "metadata": {},
     "output_type": "execute_result"
    }
   ],
   "source": [
    "data_train_mod['Survived'].mode()"
   ]
  },
  {
   "cell_type": "markdown",
   "id": "da32cff3",
   "metadata": {
    "papermill": {
     "duration": 0.038643,
     "end_time": "2022-11-04T08:38:14.057447",
     "exception": false,
     "start_time": "2022-11-04T08:38:14.018804",
     "status": "completed"
    },
    "tags": []
   },
   "source": [
    "2 - Pclass - Categorical Feature"
   ]
  },
  {
   "cell_type": "code",
   "execution_count": 26,
   "id": "e1542d21",
   "metadata": {
    "execution": {
     "iopub.execute_input": "2022-11-04T08:38:14.136967Z",
     "iopub.status.busy": "2022-11-04T08:38:14.136265Z",
     "iopub.status.idle": "2022-11-04T08:38:14.143605Z",
     "shell.execute_reply": "2022-11-04T08:38:14.142741Z"
    },
    "papermill": {
     "duration": 0.049609,
     "end_time": "2022-11-04T08:38:14.145782",
     "exception": false,
     "start_time": "2022-11-04T08:38:14.096173",
     "status": "completed"
    },
    "tags": []
   },
   "outputs": [
    {
     "data": {
      "text/plain": [
       "0    3\n",
       "Name: Pclass, dtype: int64"
      ]
     },
     "execution_count": 26,
     "metadata": {},
     "output_type": "execute_result"
    }
   ],
   "source": [
    "data_train_mod['Pclass'].mode()"
   ]
  },
  {
   "cell_type": "code",
   "execution_count": 27,
   "id": "29eb4674",
   "metadata": {
    "execution": {
     "iopub.execute_input": "2022-11-04T08:38:14.226276Z",
     "iopub.status.busy": "2022-11-04T08:38:14.225590Z",
     "iopub.status.idle": "2022-11-04T08:38:14.232207Z",
     "shell.execute_reply": "2022-11-04T08:38:14.231041Z"
    },
    "papermill": {
     "duration": 0.049592,
     "end_time": "2022-11-04T08:38:14.234733",
     "exception": false,
     "start_time": "2022-11-04T08:38:14.185141",
     "status": "completed"
    },
    "tags": []
   },
   "outputs": [
    {
     "data": {
      "text/plain": [
       "1"
      ]
     },
     "execution_count": 27,
     "metadata": {},
     "output_type": "execute_result"
    }
   ],
   "source": [
    "data_train_mod['Pclass'].min()"
   ]
  },
  {
   "cell_type": "code",
   "execution_count": 28,
   "id": "b029a129",
   "metadata": {
    "execution": {
     "iopub.execute_input": "2022-11-04T08:38:14.315370Z",
     "iopub.status.busy": "2022-11-04T08:38:14.314948Z",
     "iopub.status.idle": "2022-11-04T08:38:14.321716Z",
     "shell.execute_reply": "2022-11-04T08:38:14.320919Z"
    },
    "papermill": {
     "duration": 0.049874,
     "end_time": "2022-11-04T08:38:14.324163",
     "exception": false,
     "start_time": "2022-11-04T08:38:14.274289",
     "status": "completed"
    },
    "tags": []
   },
   "outputs": [
    {
     "data": {
      "text/plain": [
       "3"
      ]
     },
     "execution_count": 28,
     "metadata": {},
     "output_type": "execute_result"
    }
   ],
   "source": [
    "data_train_mod['Pclass'].max()"
   ]
  },
  {
   "cell_type": "code",
   "execution_count": 29,
   "id": "3e4839a4",
   "metadata": {
    "execution": {
     "iopub.execute_input": "2022-11-04T08:38:14.405351Z",
     "iopub.status.busy": "2022-11-04T08:38:14.404937Z",
     "iopub.status.idle": "2022-11-04T08:38:14.411932Z",
     "shell.execute_reply": "2022-11-04T08:38:14.411189Z"
    },
    "papermill": {
     "duration": 0.05003,
     "end_time": "2022-11-04T08:38:14.413941",
     "exception": false,
     "start_time": "2022-11-04T08:38:14.363911",
     "status": "completed"
    },
    "tags": []
   },
   "outputs": [
    {
     "data": {
      "text/plain": [
       "2"
      ]
     },
     "execution_count": 29,
     "metadata": {},
     "output_type": "execute_result"
    }
   ],
   "source": [
    "data_train_mod['Pclass'].max() - data_train_mod['Pclass'].min()"
   ]
  },
  {
   "cell_type": "markdown",
   "id": "20966623",
   "metadata": {
    "papermill": {
     "duration": 0.038967,
     "end_time": "2022-11-04T08:38:14.492781",
     "exception": false,
     "start_time": "2022-11-04T08:38:14.453814",
     "status": "completed"
    },
    "tags": []
   },
   "source": [
    "3 - Sex - Categorical Feature"
   ]
  },
  {
   "cell_type": "code",
   "execution_count": 30,
   "id": "7dca7f4f",
   "metadata": {
    "execution": {
     "iopub.execute_input": "2022-11-04T08:38:14.575711Z",
     "iopub.status.busy": "2022-11-04T08:38:14.574118Z",
     "iopub.status.idle": "2022-11-04T08:38:14.583375Z",
     "shell.execute_reply": "2022-11-04T08:38:14.582240Z"
    },
    "papermill": {
     "duration": 0.052815,
     "end_time": "2022-11-04T08:38:14.585886",
     "exception": false,
     "start_time": "2022-11-04T08:38:14.533071",
     "status": "completed"
    },
    "tags": []
   },
   "outputs": [
    {
     "data": {
      "text/plain": [
       "0    male\n",
       "Name: Sex, dtype: object"
      ]
     },
     "execution_count": 30,
     "metadata": {},
     "output_type": "execute_result"
    }
   ],
   "source": [
    "data_train_mod['Sex'].mode()  # need to convert it into Numerical in Data preprocessing step"
   ]
  },
  {
   "cell_type": "markdown",
   "id": "a23e5e90",
   "metadata": {
    "papermill": {
     "duration": 0.038882,
     "end_time": "2022-11-04T08:38:14.663910",
     "exception": false,
     "start_time": "2022-11-04T08:38:14.625028",
     "status": "completed"
    },
    "tags": []
   },
   "source": [
    "4 - Age - Numerical Feature"
   ]
  },
  {
   "cell_type": "code",
   "execution_count": 31,
   "id": "a7f70f4b",
   "metadata": {
    "execution": {
     "iopub.execute_input": "2022-11-04T08:38:14.743880Z",
     "iopub.status.busy": "2022-11-04T08:38:14.743457Z",
     "iopub.status.idle": "2022-11-04T08:38:14.750326Z",
     "shell.execute_reply": "2022-11-04T08:38:14.749550Z"
    },
    "papermill": {
     "duration": 0.04966,
     "end_time": "2022-11-04T08:38:14.752804",
     "exception": false,
     "start_time": "2022-11-04T08:38:14.703144",
     "status": "completed"
    },
    "tags": []
   },
   "outputs": [
    {
     "data": {
      "text/plain": [
       "29.69911764705882"
      ]
     },
     "execution_count": 31,
     "metadata": {},
     "output_type": "execute_result"
    }
   ],
   "source": [
    "data_train_mod['Age'].mean()"
   ]
  },
  {
   "cell_type": "code",
   "execution_count": 32,
   "id": "78aeaf1c",
   "metadata": {
    "execution": {
     "iopub.execute_input": "2022-11-04T08:38:14.835966Z",
     "iopub.status.busy": "2022-11-04T08:38:14.834955Z",
     "iopub.status.idle": "2022-11-04T08:38:14.842697Z",
     "shell.execute_reply": "2022-11-04T08:38:14.841546Z"
    },
    "papermill": {
     "duration": 0.052072,
     "end_time": "2022-11-04T08:38:14.845184",
     "exception": false,
     "start_time": "2022-11-04T08:38:14.793112",
     "status": "completed"
    },
    "tags": []
   },
   "outputs": [
    {
     "data": {
      "text/plain": [
       "28.0"
      ]
     },
     "execution_count": 32,
     "metadata": {},
     "output_type": "execute_result"
    }
   ],
   "source": [
    "data_train_mod['Age'].median()"
   ]
  },
  {
   "cell_type": "code",
   "execution_count": 33,
   "id": "5205c84f",
   "metadata": {
    "execution": {
     "iopub.execute_input": "2022-11-04T08:38:14.928586Z",
     "iopub.status.busy": "2022-11-04T08:38:14.927803Z",
     "iopub.status.idle": "2022-11-04T08:38:14.938101Z",
     "shell.execute_reply": "2022-11-04T08:38:14.936975Z"
    },
    "papermill": {
     "duration": 0.054524,
     "end_time": "2022-11-04T08:38:14.940462",
     "exception": false,
     "start_time": "2022-11-04T08:38:14.885938",
     "status": "completed"
    },
    "tags": []
   },
   "outputs": [
    {
     "data": {
      "text/plain": [
       "0    24.0\n",
       "Name: Age, dtype: float64"
      ]
     },
     "execution_count": 33,
     "metadata": {},
     "output_type": "execute_result"
    }
   ],
   "source": [
    "data_train_mod['Age'].mode()"
   ]
  },
  {
   "cell_type": "code",
   "execution_count": 34,
   "id": "6ddea231",
   "metadata": {
    "execution": {
     "iopub.execute_input": "2022-11-04T08:38:15.023683Z",
     "iopub.status.busy": "2022-11-04T08:38:15.023025Z",
     "iopub.status.idle": "2022-11-04T08:38:15.030349Z",
     "shell.execute_reply": "2022-11-04T08:38:15.029368Z"
    },
    "papermill": {
     "duration": 0.051732,
     "end_time": "2022-11-04T08:38:15.032947",
     "exception": false,
     "start_time": "2022-11-04T08:38:14.981215",
     "status": "completed"
    },
    "tags": []
   },
   "outputs": [
    {
     "data": {
      "text/plain": [
       "211.0191247463081"
      ]
     },
     "execution_count": 34,
     "metadata": {},
     "output_type": "execute_result"
    }
   ],
   "source": [
    "data_train_mod['Age'].var()"
   ]
  },
  {
   "cell_type": "code",
   "execution_count": 35,
   "id": "137bd03d",
   "metadata": {
    "execution": {
     "iopub.execute_input": "2022-11-04T08:38:15.115170Z",
     "iopub.status.busy": "2022-11-04T08:38:15.114076Z",
     "iopub.status.idle": "2022-11-04T08:38:15.122617Z",
     "shell.execute_reply": "2022-11-04T08:38:15.121568Z"
    },
    "papermill": {
     "duration": 0.051712,
     "end_time": "2022-11-04T08:38:15.124806",
     "exception": false,
     "start_time": "2022-11-04T08:38:15.073094",
     "status": "completed"
    },
    "tags": []
   },
   "outputs": [
    {
     "data": {
      "text/plain": [
       "14.526497332334044"
      ]
     },
     "execution_count": 35,
     "metadata": {},
     "output_type": "execute_result"
    }
   ],
   "source": [
    "data_train_mod['Age'].std()"
   ]
  },
  {
   "cell_type": "code",
   "execution_count": 36,
   "id": "2e1b5d16",
   "metadata": {
    "execution": {
     "iopub.execute_input": "2022-11-04T08:38:15.206637Z",
     "iopub.status.busy": "2022-11-04T08:38:15.205926Z",
     "iopub.status.idle": "2022-11-04T08:38:15.213120Z",
     "shell.execute_reply": "2022-11-04T08:38:15.212217Z"
    },
    "papermill": {
     "duration": 0.050344,
     "end_time": "2022-11-04T08:38:15.215300",
     "exception": false,
     "start_time": "2022-11-04T08:38:15.164956",
     "status": "completed"
    },
    "tags": []
   },
   "outputs": [
    {
     "data": {
      "text/plain": [
       "0.42"
      ]
     },
     "execution_count": 36,
     "metadata": {},
     "output_type": "execute_result"
    }
   ],
   "source": [
    "data_train_mod['Age'].min()"
   ]
  },
  {
   "cell_type": "code",
   "execution_count": 37,
   "id": "3cf1f0a2",
   "metadata": {
    "execution": {
     "iopub.execute_input": "2022-11-04T08:38:15.298857Z",
     "iopub.status.busy": "2022-11-04T08:38:15.298166Z",
     "iopub.status.idle": "2022-11-04T08:38:15.305648Z",
     "shell.execute_reply": "2022-11-04T08:38:15.304560Z"
    },
    "papermill": {
     "duration": 0.052589,
     "end_time": "2022-11-04T08:38:15.308021",
     "exception": false,
     "start_time": "2022-11-04T08:38:15.255432",
     "status": "completed"
    },
    "tags": []
   },
   "outputs": [
    {
     "data": {
      "text/plain": [
       "80.0"
      ]
     },
     "execution_count": 37,
     "metadata": {},
     "output_type": "execute_result"
    }
   ],
   "source": [
    "data_train_mod['Age'].max()"
   ]
  },
  {
   "cell_type": "code",
   "execution_count": 38,
   "id": "ccacd61c",
   "metadata": {
    "execution": {
     "iopub.execute_input": "2022-11-04T08:38:15.392327Z",
     "iopub.status.busy": "2022-11-04T08:38:15.391695Z",
     "iopub.status.idle": "2022-11-04T08:38:15.399317Z",
     "shell.execute_reply": "2022-11-04T08:38:15.398230Z"
    },
    "papermill": {
     "duration": 0.051458,
     "end_time": "2022-11-04T08:38:15.401450",
     "exception": false,
     "start_time": "2022-11-04T08:38:15.349992",
     "status": "completed"
    },
    "tags": []
   },
   "outputs": [
    {
     "data": {
      "text/plain": [
       "79.58"
      ]
     },
     "execution_count": 38,
     "metadata": {},
     "output_type": "execute_result"
    }
   ],
   "source": [
    "data_train_mod['Age'].max() - data_train_mod['Age'].min()"
   ]
  },
  {
   "cell_type": "code",
   "execution_count": 39,
   "id": "5ab6eb60",
   "metadata": {
    "execution": {
     "iopub.execute_input": "2022-11-04T08:38:15.486070Z",
     "iopub.status.busy": "2022-11-04T08:38:15.485415Z",
     "iopub.status.idle": "2022-11-04T08:38:15.493309Z",
     "shell.execute_reply": "2022-11-04T08:38:15.491839Z"
    },
    "papermill": {
     "duration": 0.053205,
     "end_time": "2022-11-04T08:38:15.495582",
     "exception": false,
     "start_time": "2022-11-04T08:38:15.442377",
     "status": "completed"
    },
    "tags": []
   },
   "outputs": [
    {
     "data": {
      "text/plain": [
       "0.38910778230082704"
      ]
     },
     "execution_count": 39,
     "metadata": {},
     "output_type": "execute_result"
    }
   ],
   "source": [
    "data_train_mod['Age'].skew()"
   ]
  },
  {
   "cell_type": "code",
   "execution_count": 40,
   "id": "dfd0319b",
   "metadata": {
    "execution": {
     "iopub.execute_input": "2022-11-04T08:38:15.579754Z",
     "iopub.status.busy": "2022-11-04T08:38:15.579103Z",
     "iopub.status.idle": "2022-11-04T08:38:15.587889Z",
     "shell.execute_reply": "2022-11-04T08:38:15.586371Z"
    },
    "papermill": {
     "duration": 0.05425,
     "end_time": "2022-11-04T08:38:15.590443",
     "exception": false,
     "start_time": "2022-11-04T08:38:15.536193",
     "status": "completed"
    },
    "tags": []
   },
   "outputs": [
    {
     "data": {
      "text/plain": [
       "0.17827415364210353"
      ]
     },
     "execution_count": 40,
     "metadata": {},
     "output_type": "execute_result"
    }
   ],
   "source": [
    "data_train_mod['Age'].kurt()"
   ]
  },
  {
   "cell_type": "code",
   "execution_count": 41,
   "id": "f42644ee",
   "metadata": {
    "execution": {
     "iopub.execute_input": "2022-11-04T08:38:15.674106Z",
     "iopub.status.busy": "2022-11-04T08:38:15.673727Z",
     "iopub.status.idle": "2022-11-04T08:38:15.919731Z",
     "shell.execute_reply": "2022-11-04T08:38:15.918569Z"
    },
    "papermill": {
     "duration": 0.290912,
     "end_time": "2022-11-04T08:38:15.922100",
     "exception": false,
     "start_time": "2022-11-04T08:38:15.631188",
     "status": "completed"
    },
    "tags": []
   },
   "outputs": [
    {
     "data": {
      "text/plain": [
       "(array([ 54.,  46., 177., 169., 118.,  70.,  45.,  24.,   9.,   2.]),\n",
       " array([ 0.42 ,  8.378, 16.336, 24.294, 32.252, 40.21 , 48.168, 56.126,\n",
       "        64.084, 72.042, 80.   ]),\n",
       " <BarContainer object of 10 artists>)"
      ]
     },
     "execution_count": 41,
     "metadata": {},
     "output_type": "execute_result"
    },
    {
     "data": {
      "image/png": "[encoded data removed]",
      "text/plain": [
       "<Figure size 640x480 with 1 Axes>"
      ]
     },
     "metadata": {},
     "output_type": "display_data"
    }
   ],
   "source": [
    "plt.hist(data_train_mod['Age'])"
   ]
  },
  {
   "cell_type": "code",
   "execution_count": 42,
   "id": "cd0dbf65",
   "metadata": {
    "execution": {
     "iopub.execute_input": "2022-11-04T08:38:16.006770Z",
     "iopub.status.busy": "2022-11-04T08:38:16.006108Z",
     "iopub.status.idle": "2022-11-04T08:38:17.950030Z",
     "shell.execute_reply": "2022-11-04T08:38:17.948725Z"
    },
    "papermill": {
     "duration": 1.989281,
     "end_time": "2022-11-04T08:38:17.952790",
     "exception": false,
     "start_time": "2022-11-04T08:38:15.963509",
     "status": "completed"
    },
    "tags": []
   },
   "outputs": [
    {
     "data": {
      "text/plain": [
       "<BarContainer object of 891 artists>"
      ]
     },
     "execution_count": 42,
     "metadata": {},
     "output_type": "execute_result"
    },
    {
     "data": {
      "image/png": "[encoded data removed]",
      "text/plain": [
       "<Figure size 640x480 with 1 Axes>"
      ]
     },
     "metadata": {},
     "output_type": "display_data"
    }
   ],
   "source": [
    "plt.bar(height = data_train_mod['Age'], x = np.arange(1,892,1))"
   ]
  },
  {
   "cell_type": "code",
   "execution_count": 43,
   "id": "752dc5de",
   "metadata": {
    "execution": {
     "iopub.execute_input": "2022-11-04T08:38:18.039599Z",
     "iopub.status.busy": "2022-11-04T08:38:18.039151Z",
     "iopub.status.idle": "2022-11-04T08:38:19.181048Z",
     "shell.execute_reply": "2022-11-04T08:38:19.179851Z"
    },
    "papermill": {
     "duration": 1.187392,
     "end_time": "2022-11-04T08:38:19.183463",
     "exception": false,
     "start_time": "2022-11-04T08:38:17.996071",
     "status": "completed"
    },
    "tags": []
   },
   "outputs": [
    {
     "data": {
      "text/plain": [
       "((array([-3.16416595e+00, -2.89636677e+00, -2.74675222e+00, -2.64114608e+00,\n",
       "         -2.55870259e+00, -2.49067391e+00, -2.43252738e+00, -2.38160005e+00,\n",
       "         -2.33618969e+00, -2.29513992e+00, -2.25762808e+00, -2.22304736e+00,\n",
       "         -2.19093694e+00, -2.16093830e+00, -2.13276686e+00, -2.10619283e+00,\n",
       "         -2.08102787e+00, -2.05711563e+00, -2.03432484e+00, -2.01254418e+00,\n",
       "         -1.99167841e+00, -1.97164537e+00, -1.95237369e+00, -1.93380097e+00,\n",
       "         -1.91587229e+00, -1.89853909e+00, -1.88175821e+00, -1.86549107e+00,\n",
       "         -1.84970311e+00, -1.83436318e+00, -1.81944313e+00, -1.80491744e+00,\n",
       "         -1.79076290e+00, -1.77695830e+00, -1.76348425e+00, -1.75032296e+00,\n",
       "         -1.73745806e+00, -1.72487445e+00, -1.71255819e+00, -1.70049636e+00,\n",
       "         -1.68867698e+00, -1.67708890e+00, -1.66572174e+00, -1.65456583e+00,\n",
       "         -1.64361212e+00, -1.63285214e+00, -1.62227795e+00, -1.61188210e+00,\n",
       "         -1.60165759e+00, -1.59159783e+00, -1.58169661e+00, -1.57194806e+00,\n",
       "         -1.56234666e+00, -1.55288715e+00, -1.54356460e+00, -1.53437430e+00,\n",
       "         -1.52531180e+00, -1.51637287e+00, -1.50755349e+00, -1.49884983e+00,\n",
       "         -1.49025825e+00, -1.48177530e+00, -1.47339765e+00, -1.46512215e+00,\n",
       "         -1.45694579e+00, -1.44886569e+00, -1.44087909e+00, -1.43298336e+00,\n",
       "         -1.42517596e+00, -1.41745449e+00, -1.40981661e+00, -1.40226010e+00,\n",
       "         -1.39478282e+00, -1.38738272e+00, -1.38005783e+00, -1.37280624e+00,\n",
       "         -1.36562613e+00, -1.35851574e+00, -1.35147338e+00, -1.34449742e+00,\n",
       "         -1.33758628e+00, -1.33073844e+00, -1.32395244e+00, -1.31722687e+00,\n",
       "         -1.31056036e+00, -1.30395159e+00, -1.29739929e+00, -1.29090221e+00,\n",
       "         -1.28445918e+00, -1.27806903e+00, -1.27173065e+00, -1.26544295e+00,\n",
       "         -1.25920489e+00, -1.25301544e+00, -1.24687363e+00, -1.24077850e+00,\n",
       "         -1.23472912e+00, -1.22872458e+00, -1.22276403e+00, -1.21684660e+00,\n",
       "         -1.21097148e+00, -1.20513786e+00, -1.19934497e+00, -1.19359205e+00,\n",
       "         -1.18787837e+00, -1.18220320e+00, -1.17656585e+00, -1.17096565e+00,\n",
       "         -1.16540194e+00, -1.15987407e+00, -1.15438141e+00, -1.14892337e+00,\n",
       "         -1.14349933e+00, -1.13810873e+00, -1.13275101e+00, -1.12742560e+00,\n",
       "         -1.12213197e+00, -1.11686961e+00, -1.11163799e+00, -1.10643663e+00,\n",
       "         -1.10126502e+00, -1.09612271e+00, -1.09100921e+00, -1.08592409e+00,\n",
       "         -1.08086689e+00, -1.07583719e+00, -1.07083455e+00, -1.06585857e+00,\n",
       "         -1.06090885e+00, -1.05598498e+00, -1.05108658e+00, -1.04621327e+00,\n",
       "         -1.04136468e+00, -1.03654045e+00, -1.03174023e+00, -1.02696366e+00,\n",
       "         -1.02221041e+00, -1.01748014e+00, -1.01277253e+00, -1.00808726e+00,\n",
       "         -1.00342401e+00, -9.98782481e-01, -9.94162371e-01, -9.89563385e-01,\n",
       "         -9.84985234e-01, -9.80427636e-01, -9.75890312e-01, -9.71372991e-01,\n",
       "         -9.66875406e-01, -9.62397294e-01, -9.57938398e-01, -9.53498468e-01,\n",
       "         -9.49077254e-01, -9.44674515e-01, -9.40290012e-01, -9.35923511e-01,\n",
       "         -9.31574782e-01, -9.27243599e-01, -9.22929741e-01, -9.18632990e-01,\n",
       "         -9.14353133e-01, -9.10089959e-01, -9.05843261e-01, -9.01612837e-01,\n",
       "         -8.97398488e-01, -8.93200018e-01, -8.89017233e-01, -8.84849944e-01,\n",
       "         -8.80697966e-01, -8.76561115e-01, -8.72439211e-01, -8.68332076e-01,\n",
       "         -8.64239537e-01, -8.60161422e-01, -8.56097563e-01, -8.52047793e-01,\n",
       "         -8.48011949e-01, -8.43989871e-01, -8.39981400e-01, -8.35986380e-01,\n",
       "         -8.32004658e-01, -8.28036084e-01, -8.24080508e-01, -8.20137785e-01,\n",
       "         -8.16207769e-01, -8.12290320e-01, -8.08385297e-01, -8.04492562e-01,\n",
       "         -8.00611980e-01, -7.96743417e-01, -7.92886742e-01, -7.89041824e-01,\n",
       "         -7.85208535e-01, -7.81386750e-01, -7.77576344e-01, -7.73777194e-01,\n",
       "         -7.69989180e-01, -7.66212182e-01, -7.62446084e-01, -7.58690769e-01,\n",
       "         -7.54946122e-01, -7.51212033e-01, -7.47488388e-01, -7.43775079e-01,\n",
       "         -7.40071997e-01, -7.36379036e-01, -7.32696091e-01, -7.29023057e-01,\n",
       "         -7.25359833e-01, -7.21706316e-01, -7.18062408e-01, -7.14428009e-01,\n",
       "         -7.10803023e-01, -7.07187353e-01, -7.03580904e-01, -6.99983584e-01,\n",
       "         -6.96395299e-01, -6.92815959e-01, -6.89245472e-01, -6.85683751e-01,\n",
       "         -6.82130707e-01, -6.78586254e-01, -6.75050305e-01, -6.71522777e-01,\n",
       "         -6.68003585e-01, -6.64492646e-01, -6.60989880e-01, -6.57495204e-01,\n",
       "         -6.54008541e-01, -6.50529809e-01, -6.47058933e-01, -6.43595834e-01,\n",
       "         -6.40140437e-01, -6.36692665e-01, -6.33252446e-01, -6.29819705e-01,\n",
       "         -6.26394370e-01, -6.22976369e-01, -6.19565630e-01, -6.16162083e-01,\n",
       "         -6.12765660e-01, -6.09376290e-01, -6.05993906e-01, -6.02618441e-01,\n",
       "         -5.99249828e-01, -5.95888002e-01, -5.92532897e-01, -5.89184448e-01,\n",
       "         -5.85842593e-01, -5.82507267e-01, -5.79178409e-01, -5.75855957e-01,\n",
       "         -5.72539849e-01, -5.69230025e-01, -5.65926425e-01, -5.62628991e-01,\n",
       "         -5.59337662e-01, -5.56052382e-01, -5.52773092e-01, -5.49499736e-01,\n",
       "         -5.46232257e-01, -5.42970600e-01, -5.39714708e-01, -5.36464529e-01,\n",
       "         -5.33220006e-01, -5.29981087e-01, -5.26747718e-01, -5.23519846e-01,\n",
       "         -5.20297421e-01, -5.17080388e-01, -5.13868699e-01, -5.10662301e-01,\n",
       "         -5.07461145e-01, -5.04265181e-01, -5.01074359e-01, -4.97888630e-01,\n",
       "         -4.94707946e-01, -4.91532260e-01, -4.88361523e-01, -4.85195688e-01,\n",
       "         -4.82034708e-01, -4.78878538e-01, -4.75727130e-01, -4.72580440e-01,\n",
       "         -4.69438423e-01, -4.66301033e-01, -4.63168227e-01, -4.60039959e-01,\n",
       "         -4.56916187e-01, -4.53796868e-01, -4.50681957e-01, -4.47571414e-01,\n",
       "         -4.44465194e-01, -4.41363258e-01, -4.38265562e-01, -4.35172066e-01,\n",
       "         -4.32082729e-01, -4.28997511e-01, -4.25916370e-01, -4.22839267e-01,\n",
       "         -4.19766163e-01, -4.16697019e-01, -4.13631794e-01, -4.10570451e-01,\n",
       "         -4.07512950e-01, -4.04459255e-01, -4.01409326e-01, -3.98363127e-01,\n",
       "         -3.95320620e-01, -3.92281768e-01, -3.89246534e-01, -3.86214882e-01,\n",
       "         -3.83186776e-01, -3.80162179e-01, -3.77141055e-01, -3.74123371e-01,\n",
       "         -3.71109089e-01, -3.68098175e-01, -3.65090595e-01, -3.62086314e-01,\n",
       "         -3.59085297e-01, -3.56087510e-01, -3.53092920e-01, -3.50101494e-01,\n",
       "         -3.47113197e-01, -3.44127996e-01, -3.41145859e-01, -3.38166753e-01,\n",
       "         -3.35190645e-01, -3.32217503e-01, -3.29247294e-01, -3.26279988e-01,\n",
       "         -3.23315551e-01, -3.20353953e-01, -3.17395163e-01, -3.14439148e-01,\n",
       "         -3.11485878e-01, -3.08535323e-01, -3.05587451e-01, -3.02642232e-01,\n",
       "         -2.99699637e-01, -2.96759634e-01, -2.93822194e-01, -2.90887286e-01,\n",
       "         -2.87954883e-01, -2.85024953e-01, -2.82097468e-01, -2.79172399e-01,\n",
       "         -2.76249717e-01, -2.73329392e-01, -2.70411397e-01, -2.67495702e-01,\n",
       "         -2.64582279e-01, -2.61671101e-01, -2.58762138e-01, -2.55855364e-01,\n",
       "         -2.52950750e-01, -2.50048268e-01, -2.47147891e-01, -2.44249592e-01,\n",
       "         -2.41353343e-01, -2.38459117e-01, -2.35566887e-01, -2.32676627e-01,\n",
       "         -2.29788309e-01, -2.26901906e-01, -2.24017393e-01, -2.21134743e-01,\n",
       "         -2.18253928e-01, -2.15374924e-01, -2.12497705e-01, -2.09622243e-01,\n",
       "         -2.06748513e-01, -2.03876490e-01, -2.01006147e-01, -1.98137460e-01,\n",
       "         -1.95270402e-01, -1.92404948e-01, -1.89541074e-01, -1.86678753e-01,\n",
       "         -1.83817960e-01, -1.80958672e-01, -1.78100862e-01, -1.75244505e-01,\n",
       "         -1.72389578e-01, -1.69536055e-01, -1.66683912e-01, -1.63833125e-01,\n",
       "         -1.60983668e-01, -1.58135518e-01, -1.55288649e-01, -1.52443039e-01,\n",
       "         -1.49598663e-01, -1.46755497e-01, -1.43913516e-01, -1.41072697e-01,\n",
       "         -1.38233017e-01, -1.35394450e-01, -1.32556974e-01, -1.29720565e-01,\n",
       "         -1.26885199e-01, -1.24050853e-01, -1.21217504e-01, -1.18385126e-01,\n",
       "         -1.15553699e-01, -1.12723197e-01, -1.09893598e-01, -1.07064879e-01,\n",
       "         -1.04237016e-01, -1.01409987e-01, -9.85837679e-02, -9.57583359e-02,\n",
       "         -9.29336682e-02, -9.01097418e-02, -8.72865338e-02, -8.44640214e-02,\n",
       "         -8.16421817e-02, -7.88209919e-02, -7.60004293e-02, -7.31804713e-02,\n",
       "         -7.03610950e-02, -6.75422780e-02, -6.47239975e-02, -6.19062310e-02,\n",
       "         -5.90889559e-02, -5.62721498e-02, -5.34557901e-02, -5.06398543e-02,\n",
       "         -4.78243200e-02, -4.50091648e-02, -4.21943662e-02, -3.93799019e-02,\n",
       "         -3.65657495e-02, -3.37518867e-02, -3.09382910e-02, -2.81249403e-02,\n",
       "         -2.53118122e-02, -2.24988843e-02, -1.96861345e-02, -1.68735404e-02,\n",
       "         -1.40610798e-02, -1.12487304e-02, -8.43646994e-03, -5.62427623e-03,\n",
       "         -2.81212699e-03,  0.00000000e+00,  2.81212699e-03,  5.62427623e-03,\n",
       "          8.43646994e-03,  1.12487304e-02,  1.40610798e-02,  1.68735404e-02,\n",
       "          1.96861345e-02,  2.24988843e-02,  2.53118122e-02,  2.81249403e-02,\n",
       "          3.09382910e-02,  3.37518867e-02,  3.65657495e-02,  3.93799019e-02,\n",
       "          4.21943662e-02,  4.50091648e-02,  4.78243200e-02,  5.06398543e-02,\n",
       "          5.34557901e-02,  5.62721498e-02,  5.90889559e-02,  6.19062310e-02,\n",
       "          6.47239975e-02,  6.75422780e-02,  7.03610950e-02,  7.31804713e-02,\n",
       "          7.60004293e-02,  7.88209919e-02,  8.16421817e-02,  8.44640214e-02,\n",
       "          8.72865338e-02,  9.01097418e-02,  9.29336682e-02,  9.57583359e-02,\n",
       "          9.85837679e-02,  1.01409987e-01,  1.04237016e-01,  1.07064879e-01,\n",
       "          1.09893598e-01,  1.12723197e-01,  1.15553699e-01,  1.18385126e-01,\n",
       "          1.21217504e-01,  1.24050853e-01,  1.26885199e-01,  1.29720565e-01,\n",
       "          1.32556974e-01,  1.35394450e-01,  1.38233017e-01,  1.41072697e-01,\n",
       "          1.43913516e-01,  1.46755497e-01,  1.49598663e-01,  1.52443039e-01,\n",
       "          1.55288649e-01,  1.58135518e-01,  1.60983668e-01,  1.63833125e-01,\n",
       "          1.66683912e-01,  1.69536055e-01,  1.72389578e-01,  1.75244505e-01,\n",
       "          1.78100862e-01,  1.80958672e-01,  1.83817960e-01,  1.86678753e-01,\n",
       "          1.89541074e-01,  1.92404948e-01,  1.95270402e-01,  1.98137460e-01,\n",
       "          2.01006147e-01,  2.03876490e-01,  2.06748513e-01,  2.09622243e-01,\n",
       "          2.12497705e-01,  2.15374924e-01,  2.18253928e-01,  2.21134743e-01,\n",
       "          2.24017393e-01,  2.26901906e-01,  2.29788309e-01,  2.32676627e-01,\n",
       "          2.35566887e-01,  2.38459117e-01,  2.41353343e-01,  2.44249592e-01,\n",
       "          2.47147891e-01,  2.50048268e-01,  2.52950750e-01,  2.55855364e-01,\n",
       "          2.58762138e-01,  2.61671101e-01,  2.64582279e-01,  2.67495702e-01,\n",
       "          2.70411397e-01,  2.73329392e-01,  2.76249717e-01,  2.79172399e-01,\n",
       "          2.82097468e-01,  2.85024953e-01,  2.87954883e-01,  2.90887286e-01,\n",
       "          2.93822194e-01,  2.96759634e-01,  2.99699637e-01,  3.02642232e-01,\n",
       "          3.05587451e-01,  3.08535323e-01,  3.11485878e-01,  3.14439148e-01,\n",
       "          3.17395163e-01,  3.20353953e-01,  3.23315551e-01,  3.26279988e-01,\n",
       "          3.29247294e-01,  3.32217503e-01,  3.35190645e-01,  3.38166753e-01,\n",
       "          3.41145859e-01,  3.44127996e-01,  3.47113197e-01,  3.50101494e-01,\n",
       "          3.53092920e-01,  3.56087510e-01,  3.59085297e-01,  3.62086314e-01,\n",
       "          3.65090595e-01,  3.68098175e-01,  3.71109089e-01,  3.74123371e-01,\n",
       "          3.77141055e-01,  3.80162179e-01,  3.83186776e-01,  3.86214882e-01,\n",
       "          3.89246534e-01,  3.92281768e-01,  3.95320620e-01,  3.98363127e-01,\n",
       "          4.01409326e-01,  4.04459255e-01,  4.07512950e-01,  4.10570451e-01,\n",
       "          4.13631794e-01,  4.16697019e-01,  4.19766163e-01,  4.22839267e-01,\n",
       "          4.25916370e-01,  4.28997511e-01,  4.32082729e-01,  4.35172066e-01,\n",
       "          4.38265562e-01,  4.41363258e-01,  4.44465194e-01,  4.47571414e-01,\n",
       "          4.50681957e-01,  4.53796868e-01,  4.56916187e-01,  4.60039959e-01,\n",
       "          4.63168227e-01,  4.66301033e-01,  4.69438423e-01,  4.72580440e-01,\n",
       "          4.75727130e-01,  4.78878538e-01,  4.82034708e-01,  4.85195688e-01,\n",
       "          4.88361523e-01,  4.91532260e-01,  4.94707946e-01,  4.97888630e-01,\n",
       "          5.01074359e-01,  5.04265181e-01,  5.07461145e-01,  5.10662301e-01,\n",
       "          5.13868699e-01,  5.17080388e-01,  5.20297421e-01,  5.23519846e-01,\n",
       "          5.26747718e-01,  5.29981087e-01,  5.33220006e-01,  5.36464529e-01,\n",
       "          5.39714708e-01,  5.42970600e-01,  5.46232257e-01,  5.49499736e-01,\n",
       "          5.52773092e-01,  5.56052382e-01,  5.59337662e-01,  5.62628991e-01,\n",
       "          5.65926425e-01,  5.69230025e-01,  5.72539849e-01,  5.75855957e-01,\n",
       "          5.79178409e-01,  5.82507267e-01,  5.85842593e-01,  5.89184448e-01,\n",
       "          5.92532897e-01,  5.95888002e-01,  5.99249828e-01,  6.02618441e-01,\n",
       "          6.05993906e-01,  6.09376290e-01,  6.12765660e-01,  6.16162083e-01,\n",
       "          6.19565630e-01,  6.22976369e-01,  6.26394370e-01,  6.29819705e-01,\n",
       "          6.33252446e-01,  6.36692665e-01,  6.40140437e-01,  6.43595834e-01,\n",
       "          6.47058933e-01,  6.50529809e-01,  6.54008541e-01,  6.57495204e-01,\n",
       "          6.60989880e-01,  6.64492646e-01,  6.68003585e-01,  6.71522777e-01,\n",
       "          6.75050305e-01,  6.78586254e-01,  6.82130707e-01,  6.85683751e-01,\n",
       "          6.89245472e-01,  6.92815959e-01,  6.96395299e-01,  6.99983584e-01,\n",
       "          7.03580904e-01,  7.07187353e-01,  7.10803023e-01,  7.14428009e-01,\n",
       "          7.18062408e-01,  7.21706316e-01,  7.25359833e-01,  7.29023057e-01,\n",
       "          7.32696091e-01,  7.36379036e-01,  7.40071997e-01,  7.43775079e-01,\n",
       "          7.47488388e-01,  7.51212033e-01,  7.54946122e-01,  7.58690769e-01,\n",
       "          7.62446084e-01,  7.66212182e-01,  7.69989180e-01,  7.73777194e-01,\n",
       "          7.77576344e-01,  7.81386750e-01,  7.85208535e-01,  7.89041824e-01,\n",
       "          7.92886742e-01,  7.96743417e-01,  8.00611980e-01,  8.04492562e-01,\n",
       "          8.08385297e-01,  8.12290320e-01,  8.16207769e-01,  8.20137785e-01,\n",
       "          8.24080508e-01,  8.28036084e-01,  8.32004658e-01,  8.35986380e-01,\n",
       "          8.39981400e-01,  8.43989871e-01,  8.48011949e-01,  8.52047793e-01,\n",
       "          8.56097563e-01,  8.60161422e-01,  8.64239537e-01,  8.68332076e-01,\n",
       "          8.72439211e-01,  8.76561115e-01,  8.80697966e-01,  8.84849944e-01,\n",
       "          8.89017233e-01,  8.93200018e-01,  8.97398488e-01,  9.01612837e-01,\n",
       "          9.05843261e-01,  9.10089959e-01,  9.14353133e-01,  9.18632990e-01,\n",
       "          9.22929741e-01,  9.27243599e-01,  9.31574782e-01,  9.35923511e-01,\n",
       "          9.40290012e-01,  9.44674515e-01,  9.49077254e-01,  9.53498468e-01,\n",
       "          9.57938398e-01,  9.62397294e-01,  9.66875406e-01,  9.71372991e-01,\n",
       "          9.75890312e-01,  9.80427636e-01,  9.84985234e-01,  9.89563385e-01,\n",
       "          9.94162371e-01,  9.98782481e-01,  1.00342401e+00,  1.00808726e+00,\n",
       "          1.01277253e+00,  1.01748014e+00,  1.02221041e+00,  1.02696366e+00,\n",
       "          1.03174023e+00,  1.03654045e+00,  1.04136468e+00,  1.04621327e+00,\n",
       "          1.05108658e+00,  1.05598498e+00,  1.06090885e+00,  1.06585857e+00,\n",
       "          1.07083455e+00,  1.07583719e+00,  1.08086689e+00,  1.08592409e+00,\n",
       "          1.09100921e+00,  1.09612271e+00,  1.10126502e+00,  1.10643663e+00,\n",
       "          1.11163799e+00,  1.11686961e+00,  1.12213197e+00,  1.12742560e+00,\n",
       "          1.13275101e+00,  1.13810873e+00,  1.14349933e+00,  1.14892337e+00,\n",
       "          1.15438141e+00,  1.15987407e+00,  1.16540194e+00,  1.17096565e+00,\n",
       "          1.17656585e+00,  1.18220320e+00,  1.18787837e+00,  1.19359205e+00,\n",
       "          1.19934497e+00,  1.20513786e+00,  1.21097148e+00,  1.21684660e+00,\n",
       "          1.22276403e+00,  1.22872458e+00,  1.23472912e+00,  1.24077850e+00,\n",
       "          1.24687363e+00,  1.25301544e+00,  1.25920489e+00,  1.26544295e+00,\n",
       "          1.27173065e+00,  1.27806903e+00,  1.28445918e+00,  1.29090221e+00,\n",
       "          1.29739929e+00,  1.30395159e+00,  1.31056036e+00,  1.31722687e+00,\n",
       "          1.32395244e+00,  1.33073844e+00,  1.33758628e+00,  1.34449742e+00,\n",
       "          1.35147338e+00,  1.35851574e+00,  1.36562613e+00,  1.37280624e+00,\n",
       "          1.38005783e+00,  1.38738272e+00,  1.39478282e+00,  1.40226010e+00,\n",
       "          1.40981661e+00,  1.41745449e+00,  1.42517596e+00,  1.43298336e+00,\n",
       "          1.44087909e+00,  1.44886569e+00,  1.45694579e+00,  1.46512215e+00,\n",
       "          1.47339765e+00,  1.48177530e+00,  1.49025825e+00,  1.49884983e+00,\n",
       "          1.50755349e+00,  1.51637287e+00,  1.52531180e+00,  1.53437430e+00,\n",
       "          1.54356460e+00,  1.55288715e+00,  1.56234666e+00,  1.57194806e+00,\n",
       "          1.58169661e+00,  1.59159783e+00,  1.60165759e+00,  1.61188210e+00,\n",
       "          1.62227795e+00,  1.63285214e+00,  1.64361212e+00,  1.65456583e+00,\n",
       "          1.66572174e+00,  1.67708890e+00,  1.68867698e+00,  1.70049636e+00,\n",
       "          1.71255819e+00,  1.72487445e+00,  1.73745806e+00,  1.75032296e+00,\n",
       "          1.76348425e+00,  1.77695830e+00,  1.79076290e+00,  1.80491744e+00,\n",
       "          1.81944313e+00,  1.83436318e+00,  1.84970311e+00,  1.86549107e+00,\n",
       "          1.88175821e+00,  1.89853909e+00,  1.91587229e+00,  1.93380097e+00,\n",
       "          1.95237369e+00,  1.97164537e+00,  1.99167841e+00,  2.01254418e+00,\n",
       "          2.03432484e+00,  2.05711563e+00,  2.08102787e+00,  2.10619283e+00,\n",
       "          2.13276686e+00,  2.16093830e+00,  2.19093694e+00,  2.22304736e+00,\n",
       "          2.25762808e+00,  2.29513992e+00,  2.33618969e+00,  2.38160005e+00,\n",
       "          2.43252738e+00,  2.49067391e+00,  2.55870259e+00,  2.64114608e+00,\n",
       "          2.74675222e+00,  2.89636677e+00,  3.16416595e+00]),\n",
       "  array([ 0.42,  0.67,  0.75,  0.75,  0.83,  0.83,  0.92,  1.  ,  1.  ,\n",
       "          1.  ,  1.  ,  1.  ,  1.  ,  1.  ,  2.  ,  2.  ,  2.  ,  2.  ,\n",
       "          2.  ,  2.  ,  2.  ,  2.  ,  2.  ,  2.  ,  3.  ,  3.  ,  3.  ,\n",
       "          3.  ,  3.  ,  3.  ,  4.  ,  4.  ,  4.  ,  4.  ,  4.  ,  4.  ,\n",
       "          4.  ,  4.  ,  4.  ,  4.  ,  5.  ,  5.  ,  5.  ,  5.  ,  6.  ,\n",
       "          6.  ,  6.  ,  7.  ,  7.  ,  7.  ,  8.  ,  8.  ,  8.  ,  8.  ,\n",
       "          9.  ,  9.  ,  9.  ,  9.  ,  9.  ,  9.  ,  9.  ,  9.  , 10.  ,\n",
       "         10.  , 11.  , 11.  , 11.  , 11.  , 12.  , 13.  , 13.  , 14.  ,\n",
       "         14.  , 14.  , 14.  , 14.  , 14.  , 14.5 , 15.  , 15.  , 15.  ,\n",
       "         15.  , 15.  , 16.  , 16.  , 16.  , 16.  , 16.  , 16.  , 16.  ,\n",
       "         16.  , 16.  , 16.  , 16.  , 16.  , 16.  , 16.  , 16.  , 16.  ,\n",
       "         16.  , 17.  , 17.  , 17.  , 17.  , 17.  , 17.  , 17.  , 17.  ,\n",
       "         17.  , 17.  , 17.  , 17.  , 17.  , 18.  , 18.  , 18.  , 18.  ,\n",
       "         18.  , 18.  , 18.  , 18.  , 18.  , 18.  , 18.  , 18.  , 18.  ,\n",
       "         18.  , 18.  , 18.  , 18.  , 18.  , 18.  , 18.  , 18.  , 18.  ,\n",
       "         18.  , 18.  , 18.  , 18.  , 19.  , 19.  , 19.  , 19.  , 19.  ,\n",
       "         19.  , 19.  , 19.  , 19.  , 19.  , 19.  , 19.  , 19.  , 19.  ,\n",
       "         19.  , 19.  , 19.  , 19.  , 19.  , 19.  , 19.  , 19.  , 19.  ,\n",
       "         19.  , 19.  , 20.  , 20.  , 20.  , 20.  , 20.  , 20.  , 20.  ,\n",
       "         20.  , 20.  , 20.  , 20.  , 20.  , 20.  , 20.  , 20.  , 20.5 ,\n",
       "         21.  , 21.  , 21.  , 21.  , 21.  , 21.  , 21.  , 21.  , 21.  ,\n",
       "         21.  , 21.  , 21.  , 21.  , 21.  , 21.  , 21.  , 21.  , 21.  ,\n",
       "         21.  , 21.  , 21.  , 21.  , 21.  , 21.  , 22.  , 22.  , 22.  ,\n",
       "         22.  , 22.  , 22.  , 22.  , 22.  , 22.  , 22.  , 22.  , 22.  ,\n",
       "         22.  , 22.  , 22.  , 22.  , 22.  , 22.  , 22.  , 22.  , 22.  ,\n",
       "         22.  , 22.  , 22.  , 22.  , 22.  , 22.  , 23.  , 23.  , 23.  ,\n",
       "         23.  , 23.  , 23.  , 23.  , 23.  , 23.  , 23.  , 23.  , 23.  ,\n",
       "         23.  , 23.  , 23.  , 23.5 , 24.  , 24.  , 24.  , 24.  , 24.  ,\n",
       "         24.  , 24.  , 24.  , 24.  , 24.  , 24.  , 24.  , 24.  , 24.  ,\n",
       "         24.  , 24.  , 24.  , 24.  , 24.  , 24.  , 24.  , 24.  , 24.  ,\n",
       "         24.  , 24.  , 24.  , 24.  , 24.  , 24.  , 24.  , 24.5 , 25.  ,\n",
       "         25.  , 25.  , 25.  , 25.  , 25.  , 25.  , 25.  , 25.  , 25.  ,\n",
       "         25.  , 25.  , 25.  , 25.  , 25.  , 25.  , 25.  , 25.  , 25.  ,\n",
       "         25.  , 25.  , 25.  , 25.  , 26.  , 26.  , 26.  , 26.  , 26.  ,\n",
       "         26.  , 26.  , 26.  , 26.  , 26.  , 26.  , 26.  , 26.  , 26.  ,\n",
       "         26.  , 26.  , 26.  , 26.  , 27.  , 27.  , 27.  , 27.  , 27.  ,\n",
       "         27.  , 27.  , 27.  , 27.  , 27.  , 27.  , 27.  , 27.  , 27.  ,\n",
       "         27.  , 27.  , 27.  , 27.  , 28.  , 28.  , 28.  , 28.  , 28.  ,\n",
       "         28.  , 28.  , 28.  , 28.  , 28.  , 28.  , 28.  , 28.  , 28.  ,\n",
       "         28.  , 28.  , 28.  , 28.  , 28.  , 28.  , 28.  , 28.  , 28.  ,\n",
       "         28.  , 28.  , 28.5 , 28.5 , 29.  , 29.  , 29.  , 29.  , 29.  ,\n",
       "         29.  , 29.  , 29.  , 29.  , 29.  , 29.  , 29.  , 29.  , 29.  ,\n",
       "         29.  , 29.  , 29.  , 29.  , 29.  , 29.  , 30.  , 30.  , 30.  ,\n",
       "         30.  , 30.  , 30.  , 30.  , 30.  , 30.  , 30.  , 30.  , 30.  ,\n",
       "         30.  , 30.  , 30.  , 30.  , 30.  , 30.  , 30.  , 30.  , 30.  ,\n",
       "         30.  , 30.  , 30.  , 30.  , 30.5 , 30.5 , 31.  , 31.  , 31.  ,\n",
       "         31.  , 31.  , 31.  , 31.  , 31.  , 31.  , 31.  , 31.  , 31.  ,\n",
       "         31.  , 31.  , 31.  , 31.  , 31.  , 32.  , 32.  , 32.  , 32.  ,\n",
       "         32.  , 32.  , 32.  , 32.  , 32.  , 32.  , 32.  , 32.  , 32.  ,\n",
       "         32.  , 32.  , 32.  , 32.  , 32.  , 32.5 , 32.5 , 33.  , 33.  ,\n",
       "         33.  , 33.  , 33.  , 33.  , 33.  , 33.  , 33.  , 33.  , 33.  ,\n",
       "         33.  , 33.  , 33.  , 33.  , 34.  , 34.  , 34.  , 34.  , 34.  ,\n",
       "         34.  , 34.  , 34.  , 34.  , 34.  , 34.  , 34.  , 34.  , 34.  ,\n",
       "         34.  , 34.5 , 35.  , 35.  , 35.  , 35.  , 35.  , 35.  , 35.  ,\n",
       "         35.  , 35.  , 35.  , 35.  , 35.  , 35.  , 35.  , 35.  , 35.  ,\n",
       "         35.  , 35.  , 36.  , 36.  , 36.  , 36.  , 36.  , 36.  , 36.  ,\n",
       "         36.  , 36.  , 36.  , 36.  , 36.  , 36.  , 36.  , 36.  , 36.  ,\n",
       "         36.  , 36.  , 36.  , 36.  , 36.  , 36.  , 36.5 , 37.  , 37.  ,\n",
       "         37.  , 37.  , 37.  , 37.  , 38.  , 38.  , 38.  , 38.  , 38.  ,\n",
       "         38.  , 38.  , 38.  , 38.  , 38.  , 38.  , 39.  , 39.  , 39.  ,\n",
       "         39.  , 39.  , 39.  , 39.  , 39.  , 39.  , 39.  , 39.  , 39.  ,\n",
       "         39.  , 39.  , 40.  , 40.  , 40.  , 40.  , 40.  , 40.  , 40.  ,\n",
       "         40.  , 40.  , 40.  , 40.  , 40.  , 40.  , 40.5 , 40.5 , 41.  ,\n",
       "         41.  , 41.  , 41.  , 41.  , 41.  , 42.  , 42.  , 42.  , 42.  ,\n",
       "         42.  , 42.  , 42.  , 42.  , 42.  , 42.  , 42.  , 42.  , 42.  ,\n",
       "         43.  , 43.  , 43.  , 43.  , 43.  , 44.  , 44.  , 44.  , 44.  ,\n",
       "         44.  , 44.  , 44.  , 44.  , 44.  , 45.  , 45.  , 45.  , 45.  ,\n",
       "         45.  , 45.  , 45.  , 45.  , 45.  , 45.  , 45.  , 45.  , 45.5 ,\n",
       "         45.5 , 46.  , 46.  , 46.  , 47.  , 47.  , 47.  , 47.  , 47.  ,\n",
       "         47.  , 47.  , 47.  , 47.  , 48.  , 48.  , 48.  , 48.  , 48.  ,\n",
       "         48.  , 48.  , 48.  , 48.  , 49.  , 49.  , 49.  , 49.  , 49.  ,\n",
       "         49.  , 50.  , 50.  , 50.  , 50.  , 50.  , 50.  , 50.  , 50.  ,\n",
       "         50.  , 50.  , 51.  , 51.  , 51.  , 51.  , 51.  , 51.  , 51.  ,\n",
       "         52.  , 52.  , 52.  , 52.  , 52.  , 52.  , 53.  , 54.  , 54.  ,\n",
       "         54.  , 54.  , 54.  , 54.  , 54.  , 54.  , 55.  , 55.  , 55.5 ,\n",
       "         56.  , 56.  , 56.  , 56.  , 57.  , 57.  , 58.  , 58.  , 58.  ,\n",
       "         58.  , 58.  , 59.  , 59.  , 60.  , 60.  , 60.  , 60.  , 61.  ,\n",
       "         61.  , 61.  , 62.  , 62.  , 62.  , 62.  , 63.  , 63.  , 64.  ,\n",
       "         64.  , 65.  , 65.  , 65.  , 66.  , 70.  , 70.  , 70.5 , 71.  ,\n",
       "         71.  , 74.  , 80.  ,   nan,   nan,   nan,   nan,   nan,   nan,\n",
       "           nan,   nan,   nan,   nan,   nan,   nan,   nan,   nan,   nan,\n",
       "           nan,   nan,   nan,   nan,   nan,   nan,   nan,   nan,   nan,\n",
       "           nan,   nan,   nan,   nan,   nan,   nan,   nan,   nan,   nan,\n",
       "           nan,   nan,   nan,   nan,   nan,   nan,   nan,   nan,   nan,\n",
       "           nan,   nan,   nan,   nan,   nan,   nan,   nan,   nan,   nan,\n",
       "           nan,   nan,   nan,   nan,   nan,   nan,   nan,   nan,   nan,\n",
       "           nan,   nan,   nan,   nan,   nan,   nan,   nan,   nan,   nan,\n",
       "           nan,   nan,   nan,   nan,   nan,   nan,   nan,   nan,   nan,\n",
       "           nan,   nan,   nan,   nan,   nan,   nan,   nan,   nan,   nan,\n",
       "           nan,   nan,   nan,   nan,   nan,   nan,   nan,   nan,   nan,\n",
       "           nan,   nan,   nan,   nan,   nan,   nan,   nan,   nan,   nan,\n",
       "           nan,   nan,   nan,   nan,   nan,   nan,   nan,   nan,   nan,\n",
       "           nan,   nan,   nan,   nan,   nan,   nan,   nan,   nan,   nan,\n",
       "           nan,   nan,   nan,   nan,   nan,   nan,   nan,   nan,   nan,\n",
       "           nan,   nan,   nan,   nan,   nan,   nan,   nan,   nan,   nan,\n",
       "           nan,   nan,   nan,   nan,   nan,   nan,   nan,   nan,   nan,\n",
       "           nan,   nan,   nan,   nan,   nan,   nan,   nan,   nan,   nan,\n",
       "           nan,   nan,   nan,   nan,   nan,   nan,   nan,   nan,   nan,\n",
       "           nan,   nan,   nan,   nan,   nan,   nan,   nan,   nan,   nan])),\n",
       " (nan, nan, nan))"
      ]
     },
     "execution_count": 43,
     "metadata": {},
     "output_type": "execute_result"
    },
    {
     "data": {
      "image/png": "[encoded data removed]",
      "text/plain": [
       "<Figure size 640x480 with 1 Axes>"
      ]
     },
     "metadata": {},
     "output_type": "display_data"
    }
   ],
   "source": [
    "import scipy.stats as stats\n",
    "import pylab\n",
    "stats.probplot(data_train_mod['Age'], dist ='norm', plot =pylab)"
   ]
  },
  {
   "cell_type": "markdown",
   "id": "310bd506",
   "metadata": {
    "papermill": {
     "duration": 0.044329,
     "end_time": "2022-11-04T08:38:19.271147",
     "exception": false,
     "start_time": "2022-11-04T08:38:19.226818",
     "status": "completed"
    },
    "tags": []
   },
   "source": [
    "5 -SibSp - Numerical - Discrete Variable"
   ]
  },
  {
   "cell_type": "code",
   "execution_count": 44,
   "id": "6096e65c",
   "metadata": {
    "execution": {
     "iopub.execute_input": "2022-11-04T08:38:19.359155Z",
     "iopub.status.busy": "2022-11-04T08:38:19.358719Z",
     "iopub.status.idle": "2022-11-04T08:38:19.367853Z",
     "shell.execute_reply": "2022-11-04T08:38:19.366588Z"
    },
    "papermill": {
     "duration": 0.055362,
     "end_time": "2022-11-04T08:38:19.370039",
     "exception": false,
     "start_time": "2022-11-04T08:38:19.314677",
     "status": "completed"
    },
    "tags": []
   },
   "outputs": [
    {
     "data": {
      "text/plain": [
       "0    0\n",
       "Name: SibSp, dtype: int64"
      ]
     },
     "execution_count": 44,
     "metadata": {},
     "output_type": "execute_result"
    }
   ],
   "source": [
    "data_train_mod['SibSp'].mode()"
   ]
  },
  {
   "cell_type": "code",
   "execution_count": 45,
   "id": "4c7243a3",
   "metadata": {
    "execution": {
     "iopub.execute_input": "2022-11-04T08:38:19.457531Z",
     "iopub.status.busy": "2022-11-04T08:38:19.456397Z",
     "iopub.status.idle": "2022-11-04T08:38:19.463981Z",
     "shell.execute_reply": "2022-11-04T08:38:19.463104Z"
    },
    "papermill": {
     "duration": 0.053681,
     "end_time": "2022-11-04T08:38:19.466330",
     "exception": false,
     "start_time": "2022-11-04T08:38:19.412649",
     "status": "completed"
    },
    "tags": []
   },
   "outputs": [
    {
     "data": {
      "text/plain": [
       "0"
      ]
     },
     "execution_count": 45,
     "metadata": {},
     "output_type": "execute_result"
    }
   ],
   "source": [
    "data_train_mod['SibSp'].min()"
   ]
  },
  {
   "cell_type": "code",
   "execution_count": 46,
   "id": "dcd2a9b6",
   "metadata": {
    "execution": {
     "iopub.execute_input": "2022-11-04T08:38:19.555672Z",
     "iopub.status.busy": "2022-11-04T08:38:19.555207Z",
     "iopub.status.idle": "2022-11-04T08:38:19.562664Z",
     "shell.execute_reply": "2022-11-04T08:38:19.561557Z"
    },
    "papermill": {
     "duration": 0.055318,
     "end_time": "2022-11-04T08:38:19.565031",
     "exception": false,
     "start_time": "2022-11-04T08:38:19.509713",
     "status": "completed"
    },
    "tags": []
   },
   "outputs": [
    {
     "data": {
      "text/plain": [
       "8"
      ]
     },
     "execution_count": 46,
     "metadata": {},
     "output_type": "execute_result"
    }
   ],
   "source": [
    "data_train_mod['SibSp'].max()"
   ]
  },
  {
   "cell_type": "code",
   "execution_count": 47,
   "id": "fb0bfa5e",
   "metadata": {
    "execution": {
     "iopub.execute_input": "2022-11-04T08:38:19.654472Z",
     "iopub.status.busy": "2022-11-04T08:38:19.654022Z",
     "iopub.status.idle": "2022-11-04T08:38:19.661923Z",
     "shell.execute_reply": "2022-11-04T08:38:19.660748Z"
    },
    "papermill": {
     "duration": 0.055156,
     "end_time": "2022-11-04T08:38:19.665084",
     "exception": false,
     "start_time": "2022-11-04T08:38:19.609928",
     "status": "completed"
    },
    "tags": []
   },
   "outputs": [
    {
     "data": {
      "text/plain": [
       "8"
      ]
     },
     "execution_count": 47,
     "metadata": {},
     "output_type": "execute_result"
    }
   ],
   "source": [
    "data_train_mod['SibSp'].max() - data_train_mod['SibSp'].min()"
   ]
  },
  {
   "cell_type": "code",
   "execution_count": 48,
   "id": "7c281276",
   "metadata": {
    "execution": {
     "iopub.execute_input": "2022-11-04T08:38:19.757322Z",
     "iopub.status.busy": "2022-11-04T08:38:19.756901Z",
     "iopub.status.idle": "2022-11-04T08:38:21.596169Z",
     "shell.execute_reply": "2022-11-04T08:38:21.594947Z"
    },
    "papermill": {
     "duration": 1.890412,
     "end_time": "2022-11-04T08:38:21.599479",
     "exception": false,
     "start_time": "2022-11-04T08:38:19.709067",
     "status": "completed"
    },
    "tags": []
   },
   "outputs": [
    {
     "data": {
      "text/plain": [
       "<BarContainer object of 891 artists>"
      ]
     },
     "execution_count": 48,
     "metadata": {},
     "output_type": "execute_result"
    },
    {
     "data": {
      "image/png": "[encoded data removed]",
      "text/plain": [
       "<Figure size 640x480 with 1 Axes>"
      ]
     },
     "metadata": {},
     "output_type": "display_data"
    }
   ],
   "source": [
    "plt.bar(height = data_train_mod['SibSp'], x = np.arange(1,892,1))"
   ]
  },
  {
   "cell_type": "markdown",
   "id": "e461dae2",
   "metadata": {
    "papermill": {
     "duration": 0.045252,
     "end_time": "2022-11-04T08:38:21.691530",
     "exception": false,
     "start_time": "2022-11-04T08:38:21.646278",
     "status": "completed"
    },
    "tags": []
   },
   "source": [
    "6 -SibSp - Numerical - Discrete Variable"
   ]
  },
  {
   "cell_type": "code",
   "execution_count": 49,
   "id": "a508906b",
   "metadata": {
    "execution": {
     "iopub.execute_input": "2022-11-04T08:38:21.783095Z",
     "iopub.status.busy": "2022-11-04T08:38:21.782694Z",
     "iopub.status.idle": "2022-11-04T08:38:21.792666Z",
     "shell.execute_reply": "2022-11-04T08:38:21.790884Z"
    },
    "papermill": {
     "duration": 0.060107,
     "end_time": "2022-11-04T08:38:21.795306",
     "exception": false,
     "start_time": "2022-11-04T08:38:21.735199",
     "status": "completed"
    },
    "tags": []
   },
   "outputs": [
    {
     "data": {
      "text/plain": [
       "0    0\n",
       "Name: Parch, dtype: int64"
      ]
     },
     "execution_count": 49,
     "metadata": {},
     "output_type": "execute_result"
    }
   ],
   "source": [
    "data_train_mod['Parch'].mode()"
   ]
  },
  {
   "cell_type": "code",
   "execution_count": 50,
   "id": "c08a5f08",
   "metadata": {
    "execution": {
     "iopub.execute_input": "2022-11-04T08:38:21.968751Z",
     "iopub.status.busy": "2022-11-04T08:38:21.967686Z",
     "iopub.status.idle": "2022-11-04T08:38:21.976407Z",
     "shell.execute_reply": "2022-11-04T08:38:21.975003Z"
    },
    "papermill": {
     "duration": 0.055728,
     "end_time": "2022-11-04T08:38:21.979074",
     "exception": false,
     "start_time": "2022-11-04T08:38:21.923346",
     "status": "completed"
    },
    "tags": []
   },
   "outputs": [
    {
     "data": {
      "text/plain": [
       "0"
      ]
     },
     "execution_count": 50,
     "metadata": {},
     "output_type": "execute_result"
    }
   ],
   "source": [
    "data_train_mod['Parch'].min()"
   ]
  },
  {
   "cell_type": "code",
   "execution_count": 51,
   "id": "56e955ac",
   "metadata": {
    "execution": {
     "iopub.execute_input": "2022-11-04T08:38:22.073463Z",
     "iopub.status.busy": "2022-11-04T08:38:22.073065Z",
     "iopub.status.idle": "2022-11-04T08:38:22.081216Z",
     "shell.execute_reply": "2022-11-04T08:38:22.079990Z"
    },
    "papermill": {
     "duration": 0.05718,
     "end_time": "2022-11-04T08:38:22.083622",
     "exception": false,
     "start_time": "2022-11-04T08:38:22.026442",
     "status": "completed"
    },
    "tags": []
   },
   "outputs": [
    {
     "data": {
      "text/plain": [
       "6"
      ]
     },
     "execution_count": 51,
     "metadata": {},
     "output_type": "execute_result"
    }
   ],
   "source": [
    "data_train_mod['Parch'].max()"
   ]
  },
  {
   "cell_type": "code",
   "execution_count": 52,
   "id": "a2d12557",
   "metadata": {
    "execution": {
     "iopub.execute_input": "2022-11-04T08:38:22.177937Z",
     "iopub.status.busy": "2022-11-04T08:38:22.177182Z",
     "iopub.status.idle": "2022-11-04T08:38:22.185105Z",
     "shell.execute_reply": "2022-11-04T08:38:22.184018Z"
    },
    "papermill": {
     "duration": 0.058309,
     "end_time": "2022-11-04T08:38:22.187777",
     "exception": false,
     "start_time": "2022-11-04T08:38:22.129468",
     "status": "completed"
    },
    "tags": []
   },
   "outputs": [
    {
     "data": {
      "text/plain": [
       "6"
      ]
     },
     "execution_count": 52,
     "metadata": {},
     "output_type": "execute_result"
    }
   ],
   "source": [
    "data_train_mod['Parch'].max() - data_train_mod['Parch'].min()"
   ]
  },
  {
   "cell_type": "code",
   "execution_count": 53,
   "id": "71541f7e",
   "metadata": {
    "execution": {
     "iopub.execute_input": "2022-11-04T08:38:22.281153Z",
     "iopub.status.busy": "2022-11-04T08:38:22.280371Z",
     "iopub.status.idle": "2022-11-04T08:38:24.308664Z",
     "shell.execute_reply": "2022-11-04T08:38:24.307168Z"
    },
    "papermill": {
     "duration": 2.077785,
     "end_time": "2022-11-04T08:38:24.311261",
     "exception": false,
     "start_time": "2022-11-04T08:38:22.233476",
     "status": "completed"
    },
    "tags": []
   },
   "outputs": [
    {
     "data": {
      "text/plain": [
       "<BarContainer object of 891 artists>"
      ]
     },
     "execution_count": 53,
     "metadata": {},
     "output_type": "execute_result"
    },
    {
     "data": {
      "image/png": "[encoded data removed]",
      "text/plain": [
       "<Figure size 640x480 with 1 Axes>"
      ]
     },
     "metadata": {},
     "output_type": "display_data"
    }
   ],
   "source": [
    "plt.bar(height = data_train_mod['Parch'], x = np.arange(1,892,1))"
   ]
  },
  {
   "cell_type": "markdown",
   "id": "954daa0b",
   "metadata": {
    "papermill": {
     "duration": 0.045967,
     "end_time": "2022-11-04T08:38:24.405660",
     "exception": false,
     "start_time": "2022-11-04T08:38:24.359693",
     "status": "completed"
    },
    "tags": []
   },
   "source": [
    "7 - Fare - Numerical Continuos Variable"
   ]
  },
  {
   "cell_type": "code",
   "execution_count": 54,
   "id": "7663605b",
   "metadata": {
    "execution": {
     "iopub.execute_input": "2022-11-04T08:38:24.502989Z",
     "iopub.status.busy": "2022-11-04T08:38:24.502583Z",
     "iopub.status.idle": "2022-11-04T08:38:24.510345Z",
     "shell.execute_reply": "2022-11-04T08:38:24.509252Z"
    },
    "papermill": {
     "duration": 0.05991,
     "end_time": "2022-11-04T08:38:24.512893",
     "exception": false,
     "start_time": "2022-11-04T08:38:24.452983",
     "status": "completed"
    },
    "tags": []
   },
   "outputs": [
    {
     "data": {
      "text/plain": [
       "32.2042079685746"
      ]
     },
     "execution_count": 54,
     "metadata": {},
     "output_type": "execute_result"
    }
   ],
   "source": [
    "data_train_mod['Fare'].mean()"
   ]
  },
  {
   "cell_type": "code",
   "execution_count": 55,
   "id": "bee4f7b6",
   "metadata": {
    "execution": {
     "iopub.execute_input": "2022-11-04T08:38:24.610675Z",
     "iopub.status.busy": "2022-11-04T08:38:24.610273Z",
     "iopub.status.idle": "2022-11-04T08:38:24.617871Z",
     "shell.execute_reply": "2022-11-04T08:38:24.616734Z"
    },
    "papermill": {
     "duration": 0.060287,
     "end_time": "2022-11-04T08:38:24.620343",
     "exception": false,
     "start_time": "2022-11-04T08:38:24.560056",
     "status": "completed"
    },
    "tags": []
   },
   "outputs": [
    {
     "data": {
      "text/plain": [
       "14.4542"
      ]
     },
     "execution_count": 55,
     "metadata": {},
     "output_type": "execute_result"
    }
   ],
   "source": [
    "data_train_mod['Fare'].median()"
   ]
  },
  {
   "cell_type": "code",
   "execution_count": 56,
   "id": "0ec058ab",
   "metadata": {
    "execution": {
     "iopub.execute_input": "2022-11-04T08:38:24.718451Z",
     "iopub.status.busy": "2022-11-04T08:38:24.717765Z",
     "iopub.status.idle": "2022-11-04T08:38:24.726029Z",
     "shell.execute_reply": "2022-11-04T08:38:24.724688Z"
    },
    "papermill": {
     "duration": 0.058992,
     "end_time": "2022-11-04T08:38:24.728623",
     "exception": false,
     "start_time": "2022-11-04T08:38:24.669631",
     "status": "completed"
    },
    "tags": []
   },
   "outputs": [
    {
     "data": {
      "text/plain": [
       "0    8.05\n",
       "Name: Fare, dtype: float64"
      ]
     },
     "execution_count": 56,
     "metadata": {},
     "output_type": "execute_result"
    }
   ],
   "source": [
    "data_train_mod['Fare'].mode()"
   ]
  },
  {
   "cell_type": "code",
   "execution_count": 57,
   "id": "9d91ad59",
   "metadata": {
    "execution": {
     "iopub.execute_input": "2022-11-04T08:38:24.822726Z",
     "iopub.status.busy": "2022-11-04T08:38:24.822063Z",
     "iopub.status.idle": "2022-11-04T08:38:24.830335Z",
     "shell.execute_reply": "2022-11-04T08:38:24.829095Z"
    },
    "papermill": {
     "duration": 0.057736,
     "end_time": "2022-11-04T08:38:24.832608",
     "exception": false,
     "start_time": "2022-11-04T08:38:24.774872",
     "status": "completed"
    },
    "tags": []
   },
   "outputs": [
    {
     "data": {
      "text/plain": [
       "2469.436845743117"
      ]
     },
     "execution_count": 57,
     "metadata": {},
     "output_type": "execute_result"
    }
   ],
   "source": [
    "data_train_mod['Fare'].var()"
   ]
  },
  {
   "cell_type": "code",
   "execution_count": 58,
   "id": "402d16a9",
   "metadata": {
    "execution": {
     "iopub.execute_input": "2022-11-04T08:38:24.924033Z",
     "iopub.status.busy": "2022-11-04T08:38:24.923500Z",
     "iopub.status.idle": "2022-11-04T08:38:24.931479Z",
     "shell.execute_reply": "2022-11-04T08:38:24.930396Z"
    },
    "papermill": {
     "duration": 0.056328,
     "end_time": "2022-11-04T08:38:24.933843",
     "exception": false,
     "start_time": "2022-11-04T08:38:24.877515",
     "status": "completed"
    },
    "tags": []
   },
   "outputs": [
    {
     "data": {
      "text/plain": [
       "49.693428597180905"
      ]
     },
     "execution_count": 58,
     "metadata": {},
     "output_type": "execute_result"
    }
   ],
   "source": [
    "data_train_mod['Fare'].std()"
   ]
  },
  {
   "cell_type": "code",
   "execution_count": 59,
   "id": "c06b02a3",
   "metadata": {
    "execution": {
     "iopub.execute_input": "2022-11-04T08:38:25.025977Z",
     "iopub.status.busy": "2022-11-04T08:38:25.025562Z",
     "iopub.status.idle": "2022-11-04T08:38:25.033124Z",
     "shell.execute_reply": "2022-11-04T08:38:25.031969Z"
    },
    "papermill": {
     "duration": 0.055985,
     "end_time": "2022-11-04T08:38:25.035282",
     "exception": false,
     "start_time": "2022-11-04T08:38:24.979297",
     "status": "completed"
    },
    "tags": []
   },
   "outputs": [
    {
     "data": {
      "text/plain": [
       "0.0"
      ]
     },
     "execution_count": 59,
     "metadata": {},
     "output_type": "execute_result"
    }
   ],
   "source": [
    "data_train_mod['Fare'].min()"
   ]
  },
  {
   "cell_type": "code",
   "execution_count": 60,
   "id": "6490e6ce",
   "metadata": {
    "execution": {
     "iopub.execute_input": "2022-11-04T08:38:25.127345Z",
     "iopub.status.busy": "2022-11-04T08:38:25.126893Z",
     "iopub.status.idle": "2022-11-04T08:38:25.133863Z",
     "shell.execute_reply": "2022-11-04T08:38:25.132986Z"
    },
    "papermill": {
     "duration": 0.056001,
     "end_time": "2022-11-04T08:38:25.135874",
     "exception": false,
     "start_time": "2022-11-04T08:38:25.079873",
     "status": "completed"
    },
    "tags": []
   },
   "outputs": [
    {
     "data": {
      "text/plain": [
       "512.3292"
      ]
     },
     "execution_count": 60,
     "metadata": {},
     "output_type": "execute_result"
    }
   ],
   "source": [
    "data_train_mod['Fare'].max()"
   ]
  },
  {
   "cell_type": "code",
   "execution_count": 61,
   "id": "a8956021",
   "metadata": {
    "execution": {
     "iopub.execute_input": "2022-11-04T08:38:25.228605Z",
     "iopub.status.busy": "2022-11-04T08:38:25.227780Z",
     "iopub.status.idle": "2022-11-04T08:38:25.236105Z",
     "shell.execute_reply": "2022-11-04T08:38:25.234843Z"
    },
    "papermill": {
     "duration": 0.056823,
     "end_time": "2022-11-04T08:38:25.238505",
     "exception": false,
     "start_time": "2022-11-04T08:38:25.181682",
     "status": "completed"
    },
    "tags": []
   },
   "outputs": [
    {
     "data": {
      "text/plain": [
       "512.3292"
      ]
     },
     "execution_count": 61,
     "metadata": {},
     "output_type": "execute_result"
    }
   ],
   "source": [
    "data_train_mod['Fare'].max() - data_train_mod['Fare'].min()"
   ]
  },
  {
   "cell_type": "code",
   "execution_count": 62,
   "id": "d294585d",
   "metadata": {
    "execution": {
     "iopub.execute_input": "2022-11-04T08:38:25.337166Z",
     "iopub.status.busy": "2022-11-04T08:38:25.336397Z",
     "iopub.status.idle": "2022-11-04T08:38:25.345701Z",
     "shell.execute_reply": "2022-11-04T08:38:25.344329Z"
    },
    "papermill": {
     "duration": 0.061355,
     "end_time": "2022-11-04T08:38:25.348134",
     "exception": false,
     "start_time": "2022-11-04T08:38:25.286779",
     "status": "completed"
    },
    "tags": []
   },
   "outputs": [
    {
     "data": {
      "text/plain": [
       "4.787316519674893"
      ]
     },
     "execution_count": 62,
     "metadata": {},
     "output_type": "execute_result"
    }
   ],
   "source": [
    "data_train_mod['Fare'].skew()"
   ]
  },
  {
   "cell_type": "code",
   "execution_count": 63,
   "id": "6611768f",
   "metadata": {
    "execution": {
     "iopub.execute_input": "2022-11-04T08:38:25.446230Z",
     "iopub.status.busy": "2022-11-04T08:38:25.445437Z",
     "iopub.status.idle": "2022-11-04T08:38:25.453998Z",
     "shell.execute_reply": "2022-11-04T08:38:25.452660Z"
    },
    "papermill": {
     "duration": 0.059363,
     "end_time": "2022-11-04T08:38:25.456542",
     "exception": false,
     "start_time": "2022-11-04T08:38:25.397179",
     "status": "completed"
    },
    "tags": []
   },
   "outputs": [
    {
     "data": {
      "text/plain": [
       "33.39814088089868"
      ]
     },
     "execution_count": 63,
     "metadata": {},
     "output_type": "execute_result"
    }
   ],
   "source": [
    "data_train_mod['Fare'].kurt()"
   ]
  },
  {
   "cell_type": "code",
   "execution_count": 64,
   "id": "05668917",
   "metadata": {
    "execution": {
     "iopub.execute_input": "2022-11-04T08:38:25.553581Z",
     "iopub.status.busy": "2022-11-04T08:38:25.553164Z",
     "iopub.status.idle": "2022-11-04T08:38:25.792125Z",
     "shell.execute_reply": "2022-11-04T08:38:25.790941Z"
    },
    "papermill": {
     "duration": 0.292427,
     "end_time": "2022-11-04T08:38:25.794634",
     "exception": false,
     "start_time": "2022-11-04T08:38:25.502207",
     "status": "completed"
    },
    "tags": []
   },
   "outputs": [
    {
     "data": {
      "text/plain": [
       "(array([732., 106.,  31.,   2.,  11.,   6.,   0.,   0.,   0.,   3.]),\n",
       " array([  0.     ,  51.23292, 102.46584, 153.69876, 204.93168, 256.1646 ,\n",
       "        307.39752, 358.63044, 409.86336, 461.09628, 512.3292 ]),\n",
       " <BarContainer object of 10 artists>)"
      ]
     },
     "execution_count": 64,
     "metadata": {},
     "output_type": "execute_result"
    },
    {
     "data": {
      "image/png": "[encoded data removed]",
      "text/plain": [
       "<Figure size 640x480 with 1 Axes>"
      ]
     },
     "metadata": {},
     "output_type": "display_data"
    }
   ],
   "source": [
    "plt.hist(data_train_mod['Fare'])"
   ]
  },
  {
   "cell_type": "code",
   "execution_count": 65,
   "id": "aa4c2173",
   "metadata": {
    "execution": {
     "iopub.execute_input": "2022-11-04T08:38:25.895672Z",
     "iopub.status.busy": "2022-11-04T08:38:25.894547Z",
     "iopub.status.idle": "2022-11-04T08:38:27.764198Z",
     "shell.execute_reply": "2022-11-04T08:38:27.762974Z"
    },
    "papermill": {
     "duration": 1.922231,
     "end_time": "2022-11-04T08:38:27.766912",
     "exception": false,
     "start_time": "2022-11-04T08:38:25.844681",
     "status": "completed"
    },
    "tags": []
   },
   "outputs": [
    {
     "data": {
      "text/plain": [
       "<BarContainer object of 891 artists>"
      ]
     },
     "execution_count": 65,
     "metadata": {},
     "output_type": "execute_result"
    },
    {
     "data": {
      "image/png": "[encoded data removed]",
      "text/plain": [
       "<Figure size 640x480 with 1 Axes>"
      ]
     },
     "metadata": {},
     "output_type": "display_data"
    }
   ],
   "source": [
    "plt.bar(height = data_train_mod['Fare'], x = np.arange(1,892,1))"
   ]
  },
  {
   "cell_type": "code",
   "execution_count": 66,
   "id": "6712079d",
   "metadata": {
    "execution": {
     "iopub.execute_input": "2022-11-04T08:38:27.868900Z",
     "iopub.status.busy": "2022-11-04T08:38:27.868471Z",
     "iopub.status.idle": "2022-11-04T08:38:28.132386Z",
     "shell.execute_reply": "2022-11-04T08:38:28.130841Z"
    },
    "papermill": {
     "duration": 0.317843,
     "end_time": "2022-11-04T08:38:28.135190",
     "exception": false,
     "start_time": "2022-11-04T08:38:27.817347",
     "status": "completed"
    },
    "tags": []
   },
   "outputs": [
    {
     "data": {
      "text/plain": [
       "((array([-3.16416595e+00, -2.89636677e+00, -2.74675222e+00, -2.64114608e+00,\n",
       "         -2.55870259e+00, -2.49067391e+00, -2.43252738e+00, -2.38160005e+00,\n",
       "         -2.33618969e+00, -2.29513992e+00, -2.25762808e+00, -2.22304736e+00,\n",
       "         -2.19093694e+00, -2.16093830e+00, -2.13276686e+00, -2.10619283e+00,\n",
       "         -2.08102787e+00, -2.05711563e+00, -2.03432484e+00, -2.01254418e+00,\n",
       "         -1.99167841e+00, -1.97164537e+00, -1.95237369e+00, -1.93380097e+00,\n",
       "         -1.91587229e+00, -1.89853909e+00, -1.88175821e+00, -1.86549107e+00,\n",
       "         -1.84970311e+00, -1.83436318e+00, -1.81944313e+00, -1.80491744e+00,\n",
       "         -1.79076290e+00, -1.77695830e+00, -1.76348425e+00, -1.75032296e+00,\n",
       "         -1.73745806e+00, -1.72487445e+00, -1.71255819e+00, -1.70049636e+00,\n",
       "         -1.68867698e+00, -1.67708890e+00, -1.66572174e+00, -1.65456583e+00,\n",
       "         -1.64361212e+00, -1.63285214e+00, -1.62227795e+00, -1.61188210e+00,\n",
       "         -1.60165759e+00, -1.59159783e+00, -1.58169661e+00, -1.57194806e+00,\n",
       "         -1.56234666e+00, -1.55288715e+00, -1.54356460e+00, -1.53437430e+00,\n",
       "         -1.52531180e+00, -1.51637287e+00, -1.50755349e+00, -1.49884983e+00,\n",
       "         -1.49025825e+00, -1.48177530e+00, -1.47339765e+00, -1.46512215e+00,\n",
       "         -1.45694579e+00, -1.44886569e+00, -1.44087909e+00, -1.43298336e+00,\n",
       "         -1.42517596e+00, -1.41745449e+00, -1.40981661e+00, -1.40226010e+00,\n",
       "         -1.39478282e+00, -1.38738272e+00, -1.38005783e+00, -1.37280624e+00,\n",
       "         -1.36562613e+00, -1.35851574e+00, -1.35147338e+00, -1.34449742e+00,\n",
       "         -1.33758628e+00, -1.33073844e+00, -1.32395244e+00, -1.31722687e+00,\n",
       "         -1.31056036e+00, -1.30395159e+00, -1.29739929e+00, -1.29090221e+00,\n",
       "         -1.28445918e+00, -1.27806903e+00, -1.27173065e+00, -1.26544295e+00,\n",
       "         -1.25920489e+00, -1.25301544e+00, -1.24687363e+00, -1.24077850e+00,\n",
       "         -1.23472912e+00, -1.22872458e+00, -1.22276403e+00, -1.21684660e+00,\n",
       "         -1.21097148e+00, -1.20513786e+00, -1.19934497e+00, -1.19359205e+00,\n",
       "         -1.18787837e+00, -1.18220320e+00, -1.17656585e+00, -1.17096565e+00,\n",
       "         -1.16540194e+00, -1.15987407e+00, -1.15438141e+00, -1.14892337e+00,\n",
       "         -1.14349933e+00, -1.13810873e+00, -1.13275101e+00, -1.12742560e+00,\n",
       "         -1.12213197e+00, -1.11686961e+00, -1.11163799e+00, -1.10643663e+00,\n",
       "         -1.10126502e+00, -1.09612271e+00, -1.09100921e+00, -1.08592409e+00,\n",
       "         -1.08086689e+00, -1.07583719e+00, -1.07083455e+00, -1.06585857e+00,\n",
       "         -1.06090885e+00, -1.05598498e+00, -1.05108658e+00, -1.04621327e+00,\n",
       "         -1.04136468e+00, -1.03654045e+00, -1.03174023e+00, -1.02696366e+00,\n",
       "         -1.02221041e+00, -1.01748014e+00, -1.01277253e+00, -1.00808726e+00,\n",
       "         -1.00342401e+00, -9.98782481e-01, -9.94162371e-01, -9.89563385e-01,\n",
       "         -9.84985234e-01, -9.80427636e-01, -9.75890312e-01, -9.71372991e-01,\n",
       "         -9.66875406e-01, -9.62397294e-01, -9.57938398e-01, -9.53498468e-01,\n",
       "         -9.49077254e-01, -9.44674515e-01, -9.40290012e-01, -9.35923511e-01,\n",
       "         -9.31574782e-01, -9.27243599e-01, -9.22929741e-01, -9.18632990e-01,\n",
       "         -9.14353133e-01, -9.10089959e-01, -9.05843261e-01, -9.01612837e-01,\n",
       "         -8.97398488e-01, -8.93200018e-01, -8.89017233e-01, -8.84849944e-01,\n",
       "         -8.80697966e-01, -8.76561115e-01, -8.72439211e-01, -8.68332076e-01,\n",
       "         -8.64239537e-01, -8.60161422e-01, -8.56097563e-01, -8.52047793e-01,\n",
       "         -8.48011949e-01, -8.43989871e-01, -8.39981400e-01, -8.35986380e-01,\n",
       "         -8.32004658e-01, -8.28036084e-01, -8.24080508e-01, -8.20137785e-01,\n",
       "         -8.16207769e-01, -8.12290320e-01, -8.08385297e-01, -8.04492562e-01,\n",
       "         -8.00611980e-01, -7.96743417e-01, -7.92886742e-01, -7.89041824e-01,\n",
       "         -7.85208535e-01, -7.81386750e-01, -7.77576344e-01, -7.73777194e-01,\n",
       "         -7.69989180e-01, -7.66212182e-01, -7.62446084e-01, -7.58690769e-01,\n",
       "         -7.54946122e-01, -7.51212033e-01, -7.47488388e-01, -7.43775079e-01,\n",
       "         -7.40071997e-01, -7.36379036e-01, -7.32696091e-01, -7.29023057e-01,\n",
       "         -7.25359833e-01, -7.21706316e-01, -7.18062408e-01, -7.14428009e-01,\n",
       "         -7.10803023e-01, -7.07187353e-01, -7.03580904e-01, -6.99983584e-01,\n",
       "         -6.96395299e-01, -6.92815959e-01, -6.89245472e-01, -6.85683751e-01,\n",
       "         -6.82130707e-01, -6.78586254e-01, -6.75050305e-01, -6.71522777e-01,\n",
       "         -6.68003585e-01, -6.64492646e-01, -6.60989880e-01, -6.57495204e-01,\n",
       "         -6.54008541e-01, -6.50529809e-01, -6.47058933e-01, -6.43595834e-01,\n",
       "         -6.40140437e-01, -6.36692665e-01, -6.33252446e-01, -6.29819705e-01,\n",
       "         -6.26394370e-01, -6.22976369e-01, -6.19565630e-01, -6.16162083e-01,\n",
       "         -6.12765660e-01, -6.09376290e-01, -6.05993906e-01, -6.02618441e-01,\n",
       "         -5.99249828e-01, -5.95888002e-01, -5.92532897e-01, -5.89184448e-01,\n",
       "         -5.85842593e-01, -5.82507267e-01, -5.79178409e-01, -5.75855957e-01,\n",
       "         -5.72539849e-01, -5.69230025e-01, -5.65926425e-01, -5.62628991e-01,\n",
       "         -5.59337662e-01, -5.56052382e-01, -5.52773092e-01, -5.49499736e-01,\n",
       "         -5.46232257e-01, -5.42970600e-01, -5.39714708e-01, -5.36464529e-01,\n",
       "         -5.33220006e-01, -5.29981087e-01, -5.26747718e-01, -5.23519846e-01,\n",
       "         -5.20297421e-01, -5.17080388e-01, -5.13868699e-01, -5.10662301e-01,\n",
       "         -5.07461145e-01, -5.04265181e-01, -5.01074359e-01, -4.97888630e-01,\n",
       "         -4.94707946e-01, -4.91532260e-01, -4.88361523e-01, -4.85195688e-01,\n",
       "         -4.82034708e-01, -4.78878538e-01, -4.75727130e-01, -4.72580440e-01,\n",
       "         -4.69438423e-01, -4.66301033e-01, -4.63168227e-01, -4.60039959e-01,\n",
       "         -4.56916187e-01, -4.53796868e-01, -4.50681957e-01, -4.47571414e-01,\n",
       "         -4.44465194e-01, -4.41363258e-01, -4.38265562e-01, -4.35172066e-01,\n",
       "         -4.32082729e-01, -4.28997511e-01, -4.25916370e-01, -4.22839267e-01,\n",
       "         -4.19766163e-01, -4.16697019e-01, -4.13631794e-01, -4.10570451e-01,\n",
       "         -4.07512950e-01, -4.04459255e-01, -4.01409326e-01, -3.98363127e-01,\n",
       "         -3.95320620e-01, -3.92281768e-01, -3.89246534e-01, -3.86214882e-01,\n",
       "         -3.83186776e-01, -3.80162179e-01, -3.77141055e-01, -3.74123371e-01,\n",
       "         -3.71109089e-01, -3.68098175e-01, -3.65090595e-01, -3.62086314e-01,\n",
       "         -3.59085297e-01, -3.56087510e-01, -3.53092920e-01, -3.50101494e-01,\n",
       "         -3.47113197e-01, -3.44127996e-01, -3.41145859e-01, -3.38166753e-01,\n",
       "         -3.35190645e-01, -3.32217503e-01, -3.29247294e-01, -3.26279988e-01,\n",
       "         -3.23315551e-01, -3.20353953e-01, -3.17395163e-01, -3.14439148e-01,\n",
       "         -3.11485878e-01, -3.08535323e-01, -3.05587451e-01, -3.02642232e-01,\n",
       "         -2.99699637e-01, -2.96759634e-01, -2.93822194e-01, -2.90887286e-01,\n",
       "         -2.87954883e-01, -2.85024953e-01, -2.82097468e-01, -2.79172399e-01,\n",
       "         -2.76249717e-01, -2.73329392e-01, -2.70411397e-01, -2.67495702e-01,\n",
       "         -2.64582279e-01, -2.61671101e-01, -2.58762138e-01, -2.55855364e-01,\n",
       "         -2.52950750e-01, -2.50048268e-01, -2.47147891e-01, -2.44249592e-01,\n",
       "         -2.41353343e-01, -2.38459117e-01, -2.35566887e-01, -2.32676627e-01,\n",
       "         -2.29788309e-01, -2.26901906e-01, -2.24017393e-01, -2.21134743e-01,\n",
       "         -2.18253928e-01, -2.15374924e-01, -2.12497705e-01, -2.09622243e-01,\n",
       "         -2.06748513e-01, -2.03876490e-01, -2.01006147e-01, -1.98137460e-01,\n",
       "         -1.95270402e-01, -1.92404948e-01, -1.89541074e-01, -1.86678753e-01,\n",
       "         -1.83817960e-01, -1.80958672e-01, -1.78100862e-01, -1.75244505e-01,\n",
       "         -1.72389578e-01, -1.69536055e-01, -1.66683912e-01, -1.63833125e-01,\n",
       "         -1.60983668e-01, -1.58135518e-01, -1.55288649e-01, -1.52443039e-01,\n",
       "         -1.49598663e-01, -1.46755497e-01, -1.43913516e-01, -1.41072697e-01,\n",
       "         -1.38233017e-01, -1.35394450e-01, -1.32556974e-01, -1.29720565e-01,\n",
       "         -1.26885199e-01, -1.24050853e-01, -1.21217504e-01, -1.18385126e-01,\n",
       "         -1.15553699e-01, -1.12723197e-01, -1.09893598e-01, -1.07064879e-01,\n",
       "         -1.04237016e-01, -1.01409987e-01, -9.85837679e-02, -9.57583359e-02,\n",
       "         -9.29336682e-02, -9.01097418e-02, -8.72865338e-02, -8.44640214e-02,\n",
       "         -8.16421817e-02, -7.88209919e-02, -7.60004293e-02, -7.31804713e-02,\n",
       "         -7.03610950e-02, -6.75422780e-02, -6.47239975e-02, -6.19062310e-02,\n",
       "         -5.90889559e-02, -5.62721498e-02, -5.34557901e-02, -5.06398543e-02,\n",
       "         -4.78243200e-02, -4.50091648e-02, -4.21943662e-02, -3.93799019e-02,\n",
       "         -3.65657495e-02, -3.37518867e-02, -3.09382910e-02, -2.81249403e-02,\n",
       "         -2.53118122e-02, -2.24988843e-02, -1.96861345e-02, -1.68735404e-02,\n",
       "         -1.40610798e-02, -1.12487304e-02, -8.43646994e-03, -5.62427623e-03,\n",
       "         -2.81212699e-03,  0.00000000e+00,  2.81212699e-03,  5.62427623e-03,\n",
       "          8.43646994e-03,  1.12487304e-02,  1.40610798e-02,  1.68735404e-02,\n",
       "          1.96861345e-02,  2.24988843e-02,  2.53118122e-02,  2.81249403e-02,\n",
       "          3.09382910e-02,  3.37518867e-02,  3.65657495e-02,  3.93799019e-02,\n",
       "          4.21943662e-02,  4.50091648e-02,  4.78243200e-02,  5.06398543e-02,\n",
       "          5.34557901e-02,  5.62721498e-02,  5.90889559e-02,  6.19062310e-02,\n",
       "          6.47239975e-02,  6.75422780e-02,  7.03610950e-02,  7.31804713e-02,\n",
       "          7.60004293e-02,  7.88209919e-02,  8.16421817e-02,  8.44640214e-02,\n",
       "          8.72865338e-02,  9.01097418e-02,  9.29336682e-02,  9.57583359e-02,\n",
       "          9.85837679e-02,  1.01409987e-01,  1.04237016e-01,  1.07064879e-01,\n",
       "          1.09893598e-01,  1.12723197e-01,  1.15553699e-01,  1.18385126e-01,\n",
       "          1.21217504e-01,  1.24050853e-01,  1.26885199e-01,  1.29720565e-01,\n",
       "          1.32556974e-01,  1.35394450e-01,  1.38233017e-01,  1.41072697e-01,\n",
       "          1.43913516e-01,  1.46755497e-01,  1.49598663e-01,  1.52443039e-01,\n",
       "          1.55288649e-01,  1.58135518e-01,  1.60983668e-01,  1.63833125e-01,\n",
       "          1.66683912e-01,  1.69536055e-01,  1.72389578e-01,  1.75244505e-01,\n",
       "          1.78100862e-01,  1.80958672e-01,  1.83817960e-01,  1.86678753e-01,\n",
       "          1.89541074e-01,  1.92404948e-01,  1.95270402e-01,  1.98137460e-01,\n",
       "          2.01006147e-01,  2.03876490e-01,  2.06748513e-01,  2.09622243e-01,\n",
       "          2.12497705e-01,  2.15374924e-01,  2.18253928e-01,  2.21134743e-01,\n",
       "          2.24017393e-01,  2.26901906e-01,  2.29788309e-01,  2.32676627e-01,\n",
       "          2.35566887e-01,  2.38459117e-01,  2.41353343e-01,  2.44249592e-01,\n",
       "          2.47147891e-01,  2.50048268e-01,  2.52950750e-01,  2.55855364e-01,\n",
       "          2.58762138e-01,  2.61671101e-01,  2.64582279e-01,  2.67495702e-01,\n",
       "          2.70411397e-01,  2.73329392e-01,  2.76249717e-01,  2.79172399e-01,\n",
       "          2.82097468e-01,  2.85024953e-01,  2.87954883e-01,  2.90887286e-01,\n",
       "          2.93822194e-01,  2.96759634e-01,  2.99699637e-01,  3.02642232e-01,\n",
       "          3.05587451e-01,  3.08535323e-01,  3.11485878e-01,  3.14439148e-01,\n",
       "          3.17395163e-01,  3.20353953e-01,  3.23315551e-01,  3.26279988e-01,\n",
       "          3.29247294e-01,  3.32217503e-01,  3.35190645e-01,  3.38166753e-01,\n",
       "          3.41145859e-01,  3.44127996e-01,  3.47113197e-01,  3.50101494e-01,\n",
       "          3.53092920e-01,  3.56087510e-01,  3.59085297e-01,  3.62086314e-01,\n",
       "          3.65090595e-01,  3.68098175e-01,  3.71109089e-01,  3.74123371e-01,\n",
       "          3.77141055e-01,  3.80162179e-01,  3.83186776e-01,  3.86214882e-01,\n",
       "          3.89246534e-01,  3.92281768e-01,  3.95320620e-01,  3.98363127e-01,\n",
       "          4.01409326e-01,  4.04459255e-01,  4.07512950e-01,  4.10570451e-01,\n",
       "          4.13631794e-01,  4.16697019e-01,  4.19766163e-01,  4.22839267e-01,\n",
       "          4.25916370e-01,  4.28997511e-01,  4.32082729e-01,  4.35172066e-01,\n",
       "          4.38265562e-01,  4.41363258e-01,  4.44465194e-01,  4.47571414e-01,\n",
       "          4.50681957e-01,  4.53796868e-01,  4.56916187e-01,  4.60039959e-01,\n",
       "          4.63168227e-01,  4.66301033e-01,  4.69438423e-01,  4.72580440e-01,\n",
       "          4.75727130e-01,  4.78878538e-01,  4.82034708e-01,  4.85195688e-01,\n",
       "          4.88361523e-01,  4.91532260e-01,  4.94707946e-01,  4.97888630e-01,\n",
       "          5.01074359e-01,  5.04265181e-01,  5.07461145e-01,  5.10662301e-01,\n",
       "          5.13868699e-01,  5.17080388e-01,  5.20297421e-01,  5.23519846e-01,\n",
       "          5.26747718e-01,  5.29981087e-01,  5.33220006e-01,  5.36464529e-01,\n",
       "          5.39714708e-01,  5.42970600e-01,  5.46232257e-01,  5.49499736e-01,\n",
       "          5.52773092e-01,  5.56052382e-01,  5.59337662e-01,  5.62628991e-01,\n",
       "          5.65926425e-01,  5.69230025e-01,  5.72539849e-01,  5.75855957e-01,\n",
       "          5.79178409e-01,  5.82507267e-01,  5.85842593e-01,  5.89184448e-01,\n",
       "          5.92532897e-01,  5.95888002e-01,  5.99249828e-01,  6.02618441e-01,\n",
       "          6.05993906e-01,  6.09376290e-01,  6.12765660e-01,  6.16162083e-01,\n",
       "          6.19565630e-01,  6.22976369e-01,  6.26394370e-01,  6.29819705e-01,\n",
       "          6.33252446e-01,  6.36692665e-01,  6.40140437e-01,  6.43595834e-01,\n",
       "          6.47058933e-01,  6.50529809e-01,  6.54008541e-01,  6.57495204e-01,\n",
       "          6.60989880e-01,  6.64492646e-01,  6.68003585e-01,  6.71522777e-01,\n",
       "          6.75050305e-01,  6.78586254e-01,  6.82130707e-01,  6.85683751e-01,\n",
       "          6.89245472e-01,  6.92815959e-01,  6.96395299e-01,  6.99983584e-01,\n",
       "          7.03580904e-01,  7.07187353e-01,  7.10803023e-01,  7.14428009e-01,\n",
       "          7.18062408e-01,  7.21706316e-01,  7.25359833e-01,  7.29023057e-01,\n",
       "          7.32696091e-01,  7.36379036e-01,  7.40071997e-01,  7.43775079e-01,\n",
       "          7.47488388e-01,  7.51212033e-01,  7.54946122e-01,  7.58690769e-01,\n",
       "          7.62446084e-01,  7.66212182e-01,  7.69989180e-01,  7.73777194e-01,\n",
       "          7.77576344e-01,  7.81386750e-01,  7.85208535e-01,  7.89041824e-01,\n",
       "          7.92886742e-01,  7.96743417e-01,  8.00611980e-01,  8.04492562e-01,\n",
       "          8.08385297e-01,  8.12290320e-01,  8.16207769e-01,  8.20137785e-01,\n",
       "          8.24080508e-01,  8.28036084e-01,  8.32004658e-01,  8.35986380e-01,\n",
       "          8.39981400e-01,  8.43989871e-01,  8.48011949e-01,  8.52047793e-01,\n",
       "          8.56097563e-01,  8.60161422e-01,  8.64239537e-01,  8.68332076e-01,\n",
       "          8.72439211e-01,  8.76561115e-01,  8.80697966e-01,  8.84849944e-01,\n",
       "          8.89017233e-01,  8.93200018e-01,  8.97398488e-01,  9.01612837e-01,\n",
       "          9.05843261e-01,  9.10089959e-01,  9.14353133e-01,  9.18632990e-01,\n",
       "          9.22929741e-01,  9.27243599e-01,  9.31574782e-01,  9.35923511e-01,\n",
       "          9.40290012e-01,  9.44674515e-01,  9.49077254e-01,  9.53498468e-01,\n",
       "          9.57938398e-01,  9.62397294e-01,  9.66875406e-01,  9.71372991e-01,\n",
       "          9.75890312e-01,  9.80427636e-01,  9.84985234e-01,  9.89563385e-01,\n",
       "          9.94162371e-01,  9.98782481e-01,  1.00342401e+00,  1.00808726e+00,\n",
       "          1.01277253e+00,  1.01748014e+00,  1.02221041e+00,  1.02696366e+00,\n",
       "          1.03174023e+00,  1.03654045e+00,  1.04136468e+00,  1.04621327e+00,\n",
       "          1.05108658e+00,  1.05598498e+00,  1.06090885e+00,  1.06585857e+00,\n",
       "          1.07083455e+00,  1.07583719e+00,  1.08086689e+00,  1.08592409e+00,\n",
       "          1.09100921e+00,  1.09612271e+00,  1.10126502e+00,  1.10643663e+00,\n",
       "          1.11163799e+00,  1.11686961e+00,  1.12213197e+00,  1.12742560e+00,\n",
       "          1.13275101e+00,  1.13810873e+00,  1.14349933e+00,  1.14892337e+00,\n",
       "          1.15438141e+00,  1.15987407e+00,  1.16540194e+00,  1.17096565e+00,\n",
       "          1.17656585e+00,  1.18220320e+00,  1.18787837e+00,  1.19359205e+00,\n",
       "          1.19934497e+00,  1.20513786e+00,  1.21097148e+00,  1.21684660e+00,\n",
       "          1.22276403e+00,  1.22872458e+00,  1.23472912e+00,  1.24077850e+00,\n",
       "          1.24687363e+00,  1.25301544e+00,  1.25920489e+00,  1.26544295e+00,\n",
       "          1.27173065e+00,  1.27806903e+00,  1.28445918e+00,  1.29090221e+00,\n",
       "          1.29739929e+00,  1.30395159e+00,  1.31056036e+00,  1.31722687e+00,\n",
       "          1.32395244e+00,  1.33073844e+00,  1.33758628e+00,  1.34449742e+00,\n",
       "          1.35147338e+00,  1.35851574e+00,  1.36562613e+00,  1.37280624e+00,\n",
       "          1.38005783e+00,  1.38738272e+00,  1.39478282e+00,  1.40226010e+00,\n",
       "          1.40981661e+00,  1.41745449e+00,  1.42517596e+00,  1.43298336e+00,\n",
       "          1.44087909e+00,  1.44886569e+00,  1.45694579e+00,  1.46512215e+00,\n",
       "          1.47339765e+00,  1.48177530e+00,  1.49025825e+00,  1.49884983e+00,\n",
       "          1.50755349e+00,  1.51637287e+00,  1.52531180e+00,  1.53437430e+00,\n",
       "          1.54356460e+00,  1.55288715e+00,  1.56234666e+00,  1.57194806e+00,\n",
       "          1.58169661e+00,  1.59159783e+00,  1.60165759e+00,  1.61188210e+00,\n",
       "          1.62227795e+00,  1.63285214e+00,  1.64361212e+00,  1.65456583e+00,\n",
       "          1.66572174e+00,  1.67708890e+00,  1.68867698e+00,  1.70049636e+00,\n",
       "          1.71255819e+00,  1.72487445e+00,  1.73745806e+00,  1.75032296e+00,\n",
       "          1.76348425e+00,  1.77695830e+00,  1.79076290e+00,  1.80491744e+00,\n",
       "          1.81944313e+00,  1.83436318e+00,  1.84970311e+00,  1.86549107e+00,\n",
       "          1.88175821e+00,  1.89853909e+00,  1.91587229e+00,  1.93380097e+00,\n",
       "          1.95237369e+00,  1.97164537e+00,  1.99167841e+00,  2.01254418e+00,\n",
       "          2.03432484e+00,  2.05711563e+00,  2.08102787e+00,  2.10619283e+00,\n",
       "          2.13276686e+00,  2.16093830e+00,  2.19093694e+00,  2.22304736e+00,\n",
       "          2.25762808e+00,  2.29513992e+00,  2.33618969e+00,  2.38160005e+00,\n",
       "          2.43252738e+00,  2.49067391e+00,  2.55870259e+00,  2.64114608e+00,\n",
       "          2.74675222e+00,  2.89636677e+00,  3.16416595e+00]),\n",
       "  array([  0.    ,   0.    ,   0.    ,   0.    ,   0.    ,   0.    ,\n",
       "           0.    ,   0.    ,   0.    ,   0.    ,   0.    ,   0.    ,\n",
       "           0.    ,   0.    ,   0.    ,   4.0125,   5.    ,   6.2375,\n",
       "           6.4375,   6.45  ,   6.4958,   6.4958,   6.75  ,   6.75  ,\n",
       "           6.8583,   6.95  ,   6.975 ,   6.975 ,   7.0458,   7.05  ,\n",
       "           7.05  ,   7.05  ,   7.05  ,   7.05  ,   7.05  ,   7.05  ,\n",
       "           7.0542,   7.0542,   7.125 ,   7.125 ,   7.125 ,   7.125 ,\n",
       "           7.1417,   7.225 ,   7.225 ,   7.225 ,   7.225 ,   7.225 ,\n",
       "           7.225 ,   7.225 ,   7.225 ,   7.225 ,   7.225 ,   7.225 ,\n",
       "           7.225 ,   7.2292,   7.2292,   7.2292,   7.2292,   7.2292,\n",
       "           7.2292,   7.2292,   7.2292,   7.2292,   7.2292,   7.2292,\n",
       "           7.2292,   7.2292,   7.2292,   7.2292,   7.25  ,   7.25  ,\n",
       "           7.25  ,   7.25  ,   7.25  ,   7.25  ,   7.25  ,   7.25  ,\n",
       "           7.25  ,   7.25  ,   7.25  ,   7.25  ,   7.25  ,   7.3125,\n",
       "           7.4958,   7.4958,   7.4958,   7.5208,   7.55  ,   7.55  ,\n",
       "           7.55  ,   7.55  ,   7.6292,   7.65  ,   7.65  ,   7.65  ,\n",
       "           7.65  ,   7.725 ,   7.7292,   7.7333,   7.7333,   7.7333,\n",
       "           7.7333,   7.7375,   7.7375,   7.7417,   7.75  ,   7.75  ,\n",
       "           7.75  ,   7.75  ,   7.75  ,   7.75  ,   7.75  ,   7.75  ,\n",
       "           7.75  ,   7.75  ,   7.75  ,   7.75  ,   7.75  ,   7.75  ,\n",
       "           7.75  ,   7.75  ,   7.75  ,   7.75  ,   7.75  ,   7.75  ,\n",
       "           7.75  ,   7.75  ,   7.75  ,   7.75  ,   7.75  ,   7.75  ,\n",
       "           7.75  ,   7.75  ,   7.75  ,   7.75  ,   7.75  ,   7.75  ,\n",
       "           7.75  ,   7.75  ,   7.775 ,   7.775 ,   7.775 ,   7.775 ,\n",
       "           7.775 ,   7.775 ,   7.775 ,   7.775 ,   7.775 ,   7.775 ,\n",
       "           7.775 ,   7.775 ,   7.775 ,   7.775 ,   7.775 ,   7.775 ,\n",
       "           7.7875,   7.7958,   7.7958,   7.7958,   7.7958,   7.7958,\n",
       "           7.7958,   7.8   ,   7.8292,   7.8292,   7.8542,   7.8542,\n",
       "           7.8542,   7.8542,   7.8542,   7.8542,   7.8542,   7.8542,\n",
       "           7.8542,   7.8542,   7.8542,   7.8542,   7.8542,   7.875 ,\n",
       "           7.8792,   7.8792,   7.8792,   7.8792,   7.8875,   7.8958,\n",
       "           7.8958,   7.8958,   7.8958,   7.8958,   7.8958,   7.8958,\n",
       "           7.8958,   7.8958,   7.8958,   7.8958,   7.8958,   7.8958,\n",
       "           7.8958,   7.8958,   7.8958,   7.8958,   7.8958,   7.8958,\n",
       "           7.8958,   7.8958,   7.8958,   7.8958,   7.8958,   7.8958,\n",
       "           7.8958,   7.8958,   7.8958,   7.8958,   7.8958,   7.8958,\n",
       "           7.8958,   7.8958,   7.8958,   7.8958,   7.8958,   7.8958,\n",
       "           7.8958,   7.925 ,   7.925 ,   7.925 ,   7.925 ,   7.925 ,\n",
       "           7.925 ,   7.925 ,   7.925 ,   7.925 ,   7.925 ,   7.925 ,\n",
       "           7.925 ,   7.925 ,   7.925 ,   7.925 ,   7.925 ,   7.925 ,\n",
       "           7.925 ,   8.0292,   8.05  ,   8.05  ,   8.05  ,   8.05  ,\n",
       "           8.05  ,   8.05  ,   8.05  ,   8.05  ,   8.05  ,   8.05  ,\n",
       "           8.05  ,   8.05  ,   8.05  ,   8.05  ,   8.05  ,   8.05  ,\n",
       "           8.05  ,   8.05  ,   8.05  ,   8.05  ,   8.05  ,   8.05  ,\n",
       "           8.05  ,   8.05  ,   8.05  ,   8.05  ,   8.05  ,   8.05  ,\n",
       "           8.05  ,   8.05  ,   8.05  ,   8.05  ,   8.05  ,   8.05  ,\n",
       "           8.05  ,   8.05  ,   8.05  ,   8.05  ,   8.05  ,   8.05  ,\n",
       "           8.05  ,   8.05  ,   8.05  ,   8.1125,   8.1375,   8.1583,\n",
       "           8.3   ,   8.3625,   8.4042,   8.4333,   8.4583,   8.5167,\n",
       "           8.6542,   8.6625,   8.6625,   8.6625,   8.6625,   8.6625,\n",
       "           8.6625,   8.6625,   8.6625,   8.6625,   8.6625,   8.6625,\n",
       "           8.6625,   8.6625,   8.6833,   8.7125,   8.85  ,   9.    ,\n",
       "           9.    ,   9.2167,   9.225 ,   9.225 ,   9.35  ,   9.35  ,\n",
       "           9.475 ,   9.4833,   9.5   ,   9.5   ,   9.5   ,   9.5   ,\n",
       "           9.5   ,   9.5   ,   9.5   ,   9.5   ,   9.5   ,   9.5875,\n",
       "           9.5875,   9.825 ,   9.825 ,   9.8375,   9.8417,   9.8458,\n",
       "          10.1708,  10.4625,  10.4625,  10.5   ,  10.5   ,  10.5   ,\n",
       "          10.5   ,  10.5   ,  10.5   ,  10.5   ,  10.5   ,  10.5   ,\n",
       "          10.5   ,  10.5   ,  10.5   ,  10.5   ,  10.5   ,  10.5   ,\n",
       "          10.5   ,  10.5   ,  10.5   ,  10.5   ,  10.5   ,  10.5   ,\n",
       "          10.5   ,  10.5   ,  10.5   ,  10.5167,  11.1333,  11.1333,\n",
       "          11.1333,  11.2417,  11.2417,  11.5   ,  11.5   ,  11.5   ,\n",
       "          11.5   ,  12.    ,  12.275 ,  12.2875,  12.35  ,  12.35  ,\n",
       "          12.35  ,  12.475 ,  12.475 ,  12.475 ,  12.475 ,  12.525 ,\n",
       "          12.65  ,  12.875 ,  13.    ,  13.    ,  13.    ,  13.    ,\n",
       "          13.    ,  13.    ,  13.    ,  13.    ,  13.    ,  13.    ,\n",
       "          13.    ,  13.    ,  13.    ,  13.    ,  13.    ,  13.    ,\n",
       "          13.    ,  13.    ,  13.    ,  13.    ,  13.    ,  13.    ,\n",
       "          13.    ,  13.    ,  13.    ,  13.    ,  13.    ,  13.    ,\n",
       "          13.    ,  13.    ,  13.    ,  13.    ,  13.    ,  13.    ,\n",
       "          13.    ,  13.    ,  13.    ,  13.    ,  13.    ,  13.    ,\n",
       "          13.    ,  13.    ,  13.4167,  13.5   ,  13.5   ,  13.5   ,\n",
       "          13.5   ,  13.7917,  13.8583,  13.8625,  14.    ,  14.1083,\n",
       "          14.4   ,  14.4   ,  14.4542,  14.4542,  14.4542,  14.4542,\n",
       "          14.4542,  14.4542,  14.4542,  14.4583,  14.4583,  14.4583,\n",
       "          14.5   ,  14.5   ,  14.5   ,  14.5   ,  14.5   ,  14.5   ,\n",
       "          14.5   ,  15.    ,  15.0458,  15.05  ,  15.1   ,  15.2458,\n",
       "          15.2458,  15.2458,  15.2458,  15.2458,  15.5   ,  15.5   ,\n",
       "          15.5   ,  15.5   ,  15.5   ,  15.5   ,  15.5   ,  15.5   ,\n",
       "          15.55  ,  15.7417,  15.7417,  15.75  ,  15.85  ,  15.85  ,\n",
       "          15.85  ,  15.85  ,  15.9   ,  15.9   ,  16.    ,  16.1   ,\n",
       "          16.1   ,  16.1   ,  16.1   ,  16.1   ,  16.1   ,  16.1   ,\n",
       "          16.1   ,  16.1   ,  16.7   ,  16.7   ,  17.4   ,  17.8   ,\n",
       "          17.8   ,  18.    ,  18.    ,  18.    ,  18.75  ,  18.75  ,\n",
       "          18.75  ,  18.7875,  18.7875,  19.2583,  19.2583,  19.2583,\n",
       "          19.2583,  19.5   ,  19.5   ,  19.9667,  19.9667,  20.2125,\n",
       "          20.2125,  20.25  ,  20.25  ,  20.525 ,  20.525 ,  20.525 ,\n",
       "          20.575 ,  20.575 ,  21.    ,  21.    ,  21.    ,  21.    ,\n",
       "          21.    ,  21.    ,  21.075 ,  21.075 ,  21.075 ,  21.075 ,\n",
       "          21.6792,  22.025 ,  22.3583,  22.3583,  22.525 ,  23.    ,\n",
       "          23.    ,  23.    ,  23.    ,  23.25  ,  23.25  ,  23.45  ,\n",
       "          23.45  ,  24.    ,  24.    ,  24.15  ,  24.15  ,  24.15  ,\n",
       "          24.15  ,  24.15  ,  24.15  ,  24.15  ,  24.15  ,  25.4667,\n",
       "          25.4667,  25.4667,  25.4667,  25.5875,  25.925 ,  25.9292,\n",
       "          25.9292,  26.    ,  26.    ,  26.    ,  26.    ,  26.    ,\n",
       "          26.    ,  26.    ,  26.    ,  26.    ,  26.    ,  26.    ,\n",
       "          26.    ,  26.    ,  26.    ,  26.    ,  26.    ,  26.    ,\n",
       "          26.    ,  26.    ,  26.    ,  26.    ,  26.    ,  26.    ,\n",
       "          26.    ,  26.    ,  26.    ,  26.    ,  26.    ,  26.    ,\n",
       "          26.    ,  26.    ,  26.25  ,  26.25  ,  26.25  ,  26.25  ,\n",
       "          26.25  ,  26.25  ,  26.2833,  26.2875,  26.2875,  26.2875,\n",
       "          26.3875,  26.55  ,  26.55  ,  26.55  ,  26.55  ,  26.55  ,\n",
       "          26.55  ,  26.55  ,  26.55  ,  26.55  ,  26.55  ,  26.55  ,\n",
       "          26.55  ,  26.55  ,  26.55  ,  26.55  ,  27.    ,  27.    ,\n",
       "          27.7208,  27.7208,  27.7208,  27.7208,  27.7208,  27.75  ,\n",
       "          27.75  ,  27.75  ,  27.75  ,  27.9   ,  27.9   ,  27.9   ,\n",
       "          27.9   ,  27.9   ,  27.9   ,  28.5   ,  28.7125,  29.    ,\n",
       "          29.    ,  29.125 ,  29.125 ,  29.125 ,  29.125 ,  29.125 ,\n",
       "          29.7   ,  29.7   ,  29.7   ,  30.    ,  30.    ,  30.    ,\n",
       "          30.    ,  30.    ,  30.    ,  30.0708,  30.0708,  30.5   ,\n",
       "          30.5   ,  30.5   ,  30.5   ,  30.5   ,  30.6958,  30.6958,\n",
       "          31.    ,  31.    ,  31.    ,  31.275 ,  31.275 ,  31.275 ,\n",
       "          31.275 ,  31.275 ,  31.275 ,  31.275 ,  31.3875,  31.3875,\n",
       "          31.3875,  31.3875,  32.3208,  32.5   ,  33.    ,  33.    ,\n",
       "          33.    ,  33.5   ,  34.0208,  34.375 ,  34.375 ,  34.375 ,\n",
       "          34.375 ,  34.6542,  35.    ,  35.5   ,  35.5   ,  35.5   ,\n",
       "          35.5   ,  36.75  ,  36.75  ,  37.0042,  37.0042,  38.5   ,\n",
       "          39.    ,  39.    ,  39.    ,  39.    ,  39.4   ,  39.6   ,\n",
       "          39.6   ,  39.6875,  39.6875,  39.6875,  39.6875,  39.6875,\n",
       "          39.6875,  40.125 ,  41.5792,  41.5792,  41.5792,  42.4   ,\n",
       "          46.9   ,  46.9   ,  46.9   ,  46.9   ,  46.9   ,  46.9   ,\n",
       "          47.1   ,  49.5   ,  49.5042,  49.5042,  50.    ,  50.4958,\n",
       "          51.4792,  51.8625,  51.8625,  52.    ,  52.    ,  52.    ,\n",
       "          52.    ,  52.    ,  52.    ,  52.    ,  52.5542,  52.5542,\n",
       "          52.5542,  53.1   ,  53.1   ,  53.1   ,  53.1   ,  53.1   ,\n",
       "          55.    ,  55.    ,  55.4417,  55.9   ,  55.9   ,  56.4958,\n",
       "          56.4958,  56.4958,  56.4958,  56.4958,  56.4958,  56.4958,\n",
       "          56.9292,  56.9292,  57.    ,  57.    ,  57.9792,  57.9792,\n",
       "          59.4   ,  61.175 ,  61.3792,  61.9792,  63.3583,  65.    ,\n",
       "          65.    ,  66.6   ,  66.6   ,  69.3   ,  69.3   ,  69.55  ,\n",
       "          69.55  ,  69.55  ,  69.55  ,  69.55  ,  69.55  ,  69.55  ,\n",
       "          71.    ,  71.    ,  71.2833,  73.5   ,  73.5   ,  73.5   ,\n",
       "          73.5   ,  73.5   ,  75.25  ,  76.2917,  76.7292,  76.7292,\n",
       "          76.7292,  77.2875,  77.2875,  77.9583,  77.9583,  77.9583,\n",
       "          78.2667,  78.2667,  78.85  ,  78.85  ,  79.2   ,  79.2   ,\n",
       "          79.2   ,  79.2   ,  79.65  ,  79.65  ,  79.65  ,  80.    ,\n",
       "          80.    ,  81.8583,  82.1708,  82.1708,  83.1583,  83.1583,\n",
       "          83.1583,  83.475 ,  83.475 ,  86.5   ,  86.5   ,  86.5   ,\n",
       "          89.1042,  89.1042,  90.    ,  90.    ,  90.    ,  90.    ,\n",
       "          91.0792,  91.0792,  93.5   ,  93.5   , 106.425 , 106.425 ,\n",
       "         108.9   , 108.9   , 110.8833, 110.8833, 110.8833, 110.8833,\n",
       "         113.275 , 113.275 , 113.275 , 120.    , 120.    , 120.    ,\n",
       "         120.    , 133.65  , 133.65  , 134.5   , 134.5   , 135.6333,\n",
       "         135.6333, 135.6333, 146.5208, 146.5208, 151.55  , 151.55  ,\n",
       "         151.55  , 151.55  , 153.4625, 153.4625, 153.4625, 164.8667,\n",
       "         164.8667, 211.3375, 211.3375, 211.3375, 211.5   , 221.7792,\n",
       "         227.525 , 227.525 , 227.525 , 227.525 , 247.5208, 247.5208,\n",
       "         262.375 , 262.375 , 263.    , 263.    , 263.    , 263.    ,\n",
       "         512.3292, 512.3292, 512.3292])),\n",
       " (35.89119936161449, 32.204207968574636, 0.7204363989046635))"
      ]
     },
     "execution_count": 66,
     "metadata": {},
     "output_type": "execute_result"
    },
    {
     "data": {
      "image/png": "[encoded data removed]",
      "text/plain": [
       "<Figure size 640x480 with 1 Axes>"
      ]
     },
     "metadata": {},
     "output_type": "display_data"
    }
   ],
   "source": [
    "stats.probplot(data_train_mod['Fare'], dist ='norm', plot =pylab)"
   ]
  },
  {
   "cell_type": "markdown",
   "id": "39f21860",
   "metadata": {
    "papermill": {
     "duration": 0.048611,
     "end_time": "2022-11-04T08:38:28.233677",
     "exception": false,
     "start_time": "2022-11-04T08:38:28.185066",
     "status": "completed"
    },
    "tags": []
   },
   "source": [
    "Data Preprocessing Step<br>\n",
    "1) Missing values <br>\n",
    "Two Columns have Missing values"
   ]
  },
  {
   "cell_type": "code",
   "execution_count": 67,
   "id": "ecfad1a1",
   "metadata": {
    "execution": {
     "iopub.execute_input": "2022-11-04T08:38:28.332385Z",
     "iopub.status.busy": "2022-11-04T08:38:28.331307Z",
     "iopub.status.idle": "2022-11-04T08:38:28.340835Z",
     "shell.execute_reply": "2022-11-04T08:38:28.339777Z"
    },
    "papermill": {
     "duration": 0.062396,
     "end_time": "2022-11-04T08:38:28.343738",
     "exception": false,
     "start_time": "2022-11-04T08:38:28.281342",
     "status": "completed"
    },
    "tags": []
   },
   "outputs": [
    {
     "data": {
      "text/plain": [
       "Survived         0\n",
       "PassengerId      0\n",
       "Pclass           0\n",
       "Sex              0\n",
       "Age            177\n",
       "SibSp            0\n",
       "Parch            0\n",
       "Fare             0\n",
       "Embarked         2\n",
       "dtype: int64"
      ]
     },
     "execution_count": 67,
     "metadata": {},
     "output_type": "execute_result"
    }
   ],
   "source": [
    "data_train_mod.isna().sum() # Age has 177 missing values & Embarked has 2 missing values"
   ]
  },
  {
   "cell_type": "markdown",
   "id": "4093c28b",
   "metadata": {
    "papermill": {
     "duration": 0.051431,
     "end_time": "2022-11-04T08:38:28.447285",
     "exception": false,
     "start_time": "2022-11-04T08:38:28.395854",
     "status": "completed"
    },
    "tags": []
   },
   "source": [
    "Treating missing values in age column"
   ]
  },
  {
   "cell_type": "code",
   "execution_count": 68,
   "id": "391fa42b",
   "metadata": {
    "execution": {
     "iopub.execute_input": "2022-11-04T08:38:28.552219Z",
     "iopub.status.busy": "2022-11-04T08:38:28.551824Z",
     "iopub.status.idle": "2022-11-04T08:38:28.557545Z",
     "shell.execute_reply": "2022-11-04T08:38:28.556710Z"
    },
    "papermill": {
     "duration": 0.060665,
     "end_time": "2022-11-04T08:38:28.559683",
     "exception": false,
     "start_time": "2022-11-04T08:38:28.499018",
     "status": "completed"
    },
    "tags": []
   },
   "outputs": [],
   "source": [
    "df = data_train_mod[data_train_mod['Age'].isnull()]"
   ]
  },
  {
   "cell_type": "code",
   "execution_count": 69,
   "id": "09c069fd",
   "metadata": {
    "execution": {
     "iopub.execute_input": "2022-11-04T08:38:28.662328Z",
     "iopub.status.busy": "2022-11-04T08:38:28.661690Z",
     "iopub.status.idle": "2022-11-04T08:38:28.669512Z",
     "shell.execute_reply": "2022-11-04T08:38:28.668581Z"
    },
    "papermill": {
     "duration": 0.061266,
     "end_time": "2022-11-04T08:38:28.672007",
     "exception": false,
     "start_time": "2022-11-04T08:38:28.610741",
     "status": "completed"
    },
    "tags": []
   },
   "outputs": [
    {
     "data": {
      "text/plain": [
       "0    125\n",
       "1     52\n",
       "Name: Survived, dtype: int64"
      ]
     },
     "execution_count": 69,
     "metadata": {},
     "output_type": "execute_result"
    }
   ],
   "source": [
    "df.Survived.value_counts() # 122 not survived and 52 survived in the missing values data w.r.to Age"
   ]
  },
  {
   "cell_type": "code",
   "execution_count": 70,
   "id": "b2801560",
   "metadata": {
    "execution": {
     "iopub.execute_input": "2022-11-04T08:38:28.776800Z",
     "iopub.status.busy": "2022-11-04T08:38:28.776132Z",
     "iopub.status.idle": "2022-11-04T08:38:28.784034Z",
     "shell.execute_reply": "2022-11-04T08:38:28.783111Z"
    },
    "papermill": {
     "duration": 0.064265,
     "end_time": "2022-11-04T08:38:28.786566",
     "exception": false,
     "start_time": "2022-11-04T08:38:28.722301",
     "status": "completed"
    },
    "tags": []
   },
   "outputs": [
    {
     "data": {
      "text/plain": [
       "3    136\n",
       "1     30\n",
       "2     11\n",
       "Name: Pclass, dtype: int64"
      ]
     },
     "execution_count": 70,
     "metadata": {},
     "output_type": "execute_result"
    }
   ],
   "source": [
    "df.Pclass.value_counts()  # 136 3rd class and 30 - 1st class and 11 - 2nd class in the missing values w.r.to Age"
   ]
  },
  {
   "cell_type": "code",
   "execution_count": 71,
   "id": "e74bad99",
   "metadata": {
    "execution": {
     "iopub.execute_input": "2022-11-04T08:38:28.884747Z",
     "iopub.status.busy": "2022-11-04T08:38:28.884061Z",
     "iopub.status.idle": "2022-11-04T08:38:28.894014Z",
     "shell.execute_reply": "2022-11-04T08:38:28.892562Z"
    },
    "papermill": {
     "duration": 0.06344,
     "end_time": "2022-11-04T08:38:28.896944",
     "exception": false,
     "start_time": "2022-11-04T08:38:28.833504",
     "status": "completed"
    },
    "tags": []
   },
   "outputs": [
    {
     "data": {
      "text/plain": [
       "male      124\n",
       "female     53\n",
       "Name: Sex, dtype: int64"
      ]
     },
     "execution_count": 71,
     "metadata": {},
     "output_type": "execute_result"
    }
   ],
   "source": [
    "df.Sex.value_counts() # 124 male and 53 female in missing values w.r.to Age"
   ]
  },
  {
   "cell_type": "code",
   "execution_count": 72,
   "id": "3fcd851e",
   "metadata": {
    "execution": {
     "iopub.execute_input": "2022-11-04T08:38:28.996273Z",
     "iopub.status.busy": "2022-11-04T08:38:28.995872Z",
     "iopub.status.idle": "2022-11-04T08:38:29.007240Z",
     "shell.execute_reply": "2022-11-04T08:38:29.006152Z"
    },
    "papermill": {
     "duration": 0.064926,
     "end_time": "2022-11-04T08:38:29.010027",
     "exception": false,
     "start_time": "2022-11-04T08:38:28.945101",
     "status": "completed"
    },
    "tags": []
   },
   "outputs": [
    {
     "data": {
      "text/plain": [
       "S    90\n",
       "Q    49\n",
       "C    38\n",
       "Name: Embarked, dtype: int64"
      ]
     },
     "execution_count": 72,
     "metadata": {},
     "output_type": "execute_result"
    }
   ],
   "source": [
    "df.Embarked.value_counts() # S - 90, Q - 49, C - 38 in missing values data w.rto Age"
   ]
  },
  {
   "cell_type": "markdown",
   "id": "4e38ec12",
   "metadata": {
    "papermill": {
     "duration": 0.05175,
     "end_time": "2022-11-04T08:38:29.113220",
     "exception": false,
     "start_time": "2022-11-04T08:38:29.061470",
     "status": "completed"
    },
    "tags": []
   },
   "source": [
    "the data which is missing is mostly in 3rd class, male, not - survived and from S - Class only<br>\n",
    "By filling the mean of Age  which are male, 3rdclass,not-survived and From S - Class we can get the approx right data"
   ]
  },
  {
   "cell_type": "code",
   "execution_count": 73,
   "id": "79f40384",
   "metadata": {
    "execution": {
     "iopub.execute_input": "2022-11-04T08:38:29.215702Z",
     "iopub.status.busy": "2022-11-04T08:38:29.215072Z",
     "iopub.status.idle": "2022-11-04T08:38:29.221771Z",
     "shell.execute_reply": "2022-11-04T08:38:29.220382Z"
    },
    "papermill": {
     "duration": 0.060077,
     "end_time": "2022-11-04T08:38:29.224521",
     "exception": false,
     "start_time": "2022-11-04T08:38:29.164444",
     "status": "completed"
    },
    "tags": []
   },
   "outputs": [],
   "source": [
    "df1 = data_train_mod[data_train_mod['Pclass'] == 3]"
   ]
  },
  {
   "cell_type": "code",
   "execution_count": 74,
   "id": "0b80d51a",
   "metadata": {
    "execution": {
     "iopub.execute_input": "2022-11-04T08:38:29.329969Z",
     "iopub.status.busy": "2022-11-04T08:38:29.328280Z",
     "iopub.status.idle": "2022-11-04T08:38:29.335907Z",
     "shell.execute_reply": "2022-11-04T08:38:29.334634Z"
    },
    "papermill": {
     "duration": 0.061661,
     "end_time": "2022-11-04T08:38:29.338265",
     "exception": false,
     "start_time": "2022-11-04T08:38:29.276604",
     "status": "completed"
    },
    "tags": []
   },
   "outputs": [],
   "source": [
    "df1 = df1[df1['Survived'] == 0]"
   ]
  },
  {
   "cell_type": "code",
   "execution_count": 75,
   "id": "bfd73045",
   "metadata": {
    "execution": {
     "iopub.execute_input": "2022-11-04T08:38:29.438885Z",
     "iopub.status.busy": "2022-11-04T08:38:29.438286Z",
     "iopub.status.idle": "2022-11-04T08:38:29.445226Z",
     "shell.execute_reply": "2022-11-04T08:38:29.443965Z"
    },
    "papermill": {
     "duration": 0.059975,
     "end_time": "2022-11-04T08:38:29.447674",
     "exception": false,
     "start_time": "2022-11-04T08:38:29.387699",
     "status": "completed"
    },
    "tags": []
   },
   "outputs": [],
   "source": [
    "df1 = df1[df1['Sex'] == 'male']"
   ]
  },
  {
   "cell_type": "code",
   "execution_count": 76,
   "id": "4ae4d8a1",
   "metadata": {
    "execution": {
     "iopub.execute_input": "2022-11-04T08:38:29.552068Z",
     "iopub.status.busy": "2022-11-04T08:38:29.551647Z",
     "iopub.status.idle": "2022-11-04T08:38:29.560117Z",
     "shell.execute_reply": "2022-11-04T08:38:29.558925Z"
    },
    "papermill": {
     "duration": 0.064326,
     "end_time": "2022-11-04T08:38:29.562647",
     "exception": false,
     "start_time": "2022-11-04T08:38:29.498321",
     "status": "completed"
    },
    "tags": []
   },
   "outputs": [],
   "source": [
    "df1 = df1[df1['Embarked'] == 'S']"
   ]
  },
  {
   "cell_type": "markdown",
   "id": "be94b2c6",
   "metadata": {
    "papermill": {
     "duration": 0.048284,
     "end_time": "2022-11-04T08:38:29.660221",
     "exception": false,
     "start_time": "2022-11-04T08:38:29.611937",
     "status": "completed"
    },
    "tags": []
   },
   "source": [
    "Filling the mean of Age  which are male and 3rdclass and not-survived "
   ]
  },
  {
   "cell_type": "code",
   "execution_count": 77,
   "id": "322a4bdd",
   "metadata": {
    "execution": {
     "iopub.execute_input": "2022-11-04T08:38:29.760083Z",
     "iopub.status.busy": "2022-11-04T08:38:29.759697Z",
     "iopub.status.idle": "2022-11-04T08:38:29.766759Z",
     "shell.execute_reply": "2022-11-04T08:38:29.765077Z"
    },
    "papermill": {
     "duration": 0.060227,
     "end_time": "2022-11-04T08:38:29.769610",
     "exception": false,
     "start_time": "2022-11-04T08:38:29.709383",
     "status": "completed"
    },
    "tags": []
   },
   "outputs": [],
   "source": [
    "data_train_mod['Age'] = data_train_mod['Age'].fillna(df1['Age'].mean()) # For train dataset"
   ]
  },
  {
   "cell_type": "markdown",
   "id": "9ab5eeb6",
   "metadata": {
    "papermill": {
     "duration": 0.049086,
     "end_time": "2022-11-04T08:38:29.868954",
     "exception": false,
     "start_time": "2022-11-04T08:38:29.819868",
     "status": "completed"
    },
    "tags": []
   },
   "source": [
    "Treating missing values of Embarked Column<br>\n",
    "Since there are only 2 missing vales we can simply use mode of that column"
   ]
  },
  {
   "cell_type": "code",
   "execution_count": 78,
   "id": "1b801ea6",
   "metadata": {
    "execution": {
     "iopub.execute_input": "2022-11-04T08:38:29.974092Z",
     "iopub.status.busy": "2022-11-04T08:38:29.973578Z",
     "iopub.status.idle": "2022-11-04T08:38:29.981966Z",
     "shell.execute_reply": "2022-11-04T08:38:29.980616Z"
    },
    "papermill": {
     "duration": 0.065366,
     "end_time": "2022-11-04T08:38:29.984608",
     "exception": false,
     "start_time": "2022-11-04T08:38:29.919242",
     "status": "completed"
    },
    "tags": []
   },
   "outputs": [],
   "source": [
    "data_train_mod['Embarked'] = data_train_mod['Embarked'].fillna(data_train_mod['Embarked'].mode()[0]) "
   ]
  },
  {
   "cell_type": "markdown",
   "id": "62bc3ec1",
   "metadata": {
    "papermill": {
     "duration": 0.048261,
     "end_time": "2022-11-04T08:38:30.084456",
     "exception": false,
     "start_time": "2022-11-04T08:38:30.036195",
     "status": "completed"
    },
    "tags": []
   },
   "source": [
    "2) Checking for Duplicate values"
   ]
  },
  {
   "cell_type": "code",
   "execution_count": 79,
   "id": "2ea248e1",
   "metadata": {
    "execution": {
     "iopub.execute_input": "2022-11-04T08:38:30.186339Z",
     "iopub.status.busy": "2022-11-04T08:38:30.185872Z",
     "iopub.status.idle": "2022-11-04T08:38:30.197128Z",
     "shell.execute_reply": "2022-11-04T08:38:30.195952Z"
    },
    "papermill": {
     "duration": 0.066206,
     "end_time": "2022-11-04T08:38:30.199603",
     "exception": false,
     "start_time": "2022-11-04T08:38:30.133397",
     "status": "completed"
    },
    "tags": []
   },
   "outputs": [
    {
     "data": {
      "text/plain": [
       "0"
      ]
     },
     "execution_count": 79,
     "metadata": {},
     "output_type": "execute_result"
    }
   ],
   "source": [
    "sum(data_train_mod.duplicated()) # 0 Duplicate rows are present"
   ]
  },
  {
   "cell_type": "markdown",
   "id": "08b1ea52",
   "metadata": {
    "papermill": {
     "duration": 0.049039,
     "end_time": "2022-11-04T08:38:30.297254",
     "exception": false,
     "start_time": "2022-11-04T08:38:30.248215",
     "status": "completed"
    },
    "tags": []
   },
   "source": [
    "Checking for Outliers"
   ]
  },
  {
   "cell_type": "code",
   "execution_count": 80,
   "id": "831e5bad",
   "metadata": {
    "execution": {
     "iopub.execute_input": "2022-11-04T08:38:30.395787Z",
     "iopub.status.busy": "2022-11-04T08:38:30.395380Z",
     "iopub.status.idle": "2022-11-04T08:38:30.405352Z",
     "shell.execute_reply": "2022-11-04T08:38:30.404129Z"
    },
    "papermill": {
     "duration": 0.062201,
     "end_time": "2022-11-04T08:38:30.407801",
     "exception": false,
     "start_time": "2022-11-04T08:38:30.345600",
     "status": "completed"
    },
    "tags": []
   },
   "outputs": [],
   "source": [
    "def detect_outliers(df,col):\n",
    "        # 1st quartile (25%)\n",
    "        Q1 = np.percentile(df[col], 25)\n",
    "        # 3rd quartile (75%)\n",
    "        Q3 = np.percentile(df[col],75)\n",
    "        # Interquartile range (IQR)\n",
    "        IQR = Q3 - Q1\n",
    "        upper_limit = Q3 + 1.5*IQR\n",
    "        lower_limit = Q1 - 1.5*IQR\n",
    "        outliers = np.where(df[col] > upper_limit, True, np.where(df[col] < lower_limit, True, False))\n",
    "        return sum(outliers)\n",
    "        \n",
    "    \n",
    "def outlier_treatment(df,col):\n",
    "        # 1st quartile (25%)\n",
    "        Q1 = np.percentile(df[col], 25)\n",
    "        # 3rd quartile (75%)\n",
    "        Q3 = np.percentile(df[col],75)\n",
    "        # Interquartile range (IQR)\n",
    "        IQR = Q3 - Q1\n",
    "        upper_limit = Q3 + 1.5*IQR\n",
    "        lower_limit = Q1 - 1.5*IQR\n",
    "        df[col] = np.where(df[col] > upper_limit, upper_limit, np.where(df[col] < lower_limit, lower_limit, df[col]))\n",
    "        return df[col]"
   ]
  },
  {
   "cell_type": "code",
   "execution_count": 81,
   "id": "5623d492",
   "metadata": {
    "execution": {
     "iopub.execute_input": "2022-11-04T08:38:30.507959Z",
     "iopub.status.busy": "2022-11-04T08:38:30.507544Z",
     "iopub.status.idle": "2022-11-04T08:38:30.520627Z",
     "shell.execute_reply": "2022-11-04T08:38:30.519199Z"
    },
    "papermill": {
     "duration": 0.067504,
     "end_time": "2022-11-04T08:38:30.523458",
     "exception": false,
     "start_time": "2022-11-04T08:38:30.455954",
     "status": "completed"
    },
    "tags": []
   },
   "outputs": [
    {
     "data": {
      "text/plain": [
       "66"
      ]
     },
     "execution_count": 81,
     "metadata": {},
     "output_type": "execute_result"
    }
   ],
   "source": [
    "detect_outliers(data_train_mod, 'Age') # 66 outliers are present"
   ]
  },
  {
   "cell_type": "code",
   "execution_count": 82,
   "id": "5482e2a7",
   "metadata": {
    "execution": {
     "iopub.execute_input": "2022-11-04T08:38:30.630894Z",
     "iopub.status.busy": "2022-11-04T08:38:30.630466Z",
     "iopub.status.idle": "2022-11-04T08:38:30.642518Z",
     "shell.execute_reply": "2022-11-04T08:38:30.641291Z"
    },
    "papermill": {
     "duration": 0.071874,
     "end_time": "2022-11-04T08:38:30.644715",
     "exception": false,
     "start_time": "2022-11-04T08:38:30.572841",
     "status": "completed"
    },
    "tags": []
   },
   "outputs": [
    {
     "data": {
      "text/plain": [
       "0      22.000000\n",
       "1      38.000000\n",
       "2      26.000000\n",
       "3      35.000000\n",
       "4      35.000000\n",
       "         ...    \n",
       "886    27.000000\n",
       "887    19.000000\n",
       "888    27.168478\n",
       "889    26.000000\n",
       "890    32.000000\n",
       "Name: Age, Length: 891, dtype: float64"
      ]
     },
     "execution_count": 82,
     "metadata": {},
     "output_type": "execute_result"
    }
   ],
   "source": [
    "outlier_treatment(data_train_mod, 'Age')"
   ]
  },
  {
   "cell_type": "code",
   "execution_count": 83,
   "id": "e8589c9b",
   "metadata": {
    "execution": {
     "iopub.execute_input": "2022-11-04T08:38:30.756670Z",
     "iopub.status.busy": "2022-11-04T08:38:30.756221Z",
     "iopub.status.idle": "2022-11-04T08:38:30.767626Z",
     "shell.execute_reply": "2022-11-04T08:38:30.766558Z"
    },
    "papermill": {
     "duration": 0.069959,
     "end_time": "2022-11-04T08:38:30.769977",
     "exception": false,
     "start_time": "2022-11-04T08:38:30.700018",
     "status": "completed"
    },
    "tags": []
   },
   "outputs": [
    {
     "data": {
      "text/plain": [
       "116"
      ]
     },
     "execution_count": 83,
     "metadata": {},
     "output_type": "execute_result"
    }
   ],
   "source": [
    "detect_outliers(data_train_mod, 'Fare') # 116 outliers are present"
   ]
  },
  {
   "cell_type": "code",
   "execution_count": 84,
   "id": "306f3c8e",
   "metadata": {
    "execution": {
     "iopub.execute_input": "2022-11-04T08:38:30.868228Z",
     "iopub.status.busy": "2022-11-04T08:38:30.867816Z",
     "iopub.status.idle": "2022-11-04T08:38:30.879280Z",
     "shell.execute_reply": "2022-11-04T08:38:30.877682Z"
    },
    "papermill": {
     "duration": 0.063576,
     "end_time": "2022-11-04T08:38:30.882173",
     "exception": false,
     "start_time": "2022-11-04T08:38:30.818597",
     "status": "completed"
    },
    "tags": []
   },
   "outputs": [
    {
     "data": {
      "text/plain": [
       "0       7.2500\n",
       "1      65.6344\n",
       "2       7.9250\n",
       "3      53.1000\n",
       "4       8.0500\n",
       "        ...   \n",
       "886    13.0000\n",
       "887    30.0000\n",
       "888    23.4500\n",
       "889    30.0000\n",
       "890     7.7500\n",
       "Name: Fare, Length: 891, dtype: float64"
      ]
     },
     "execution_count": 84,
     "metadata": {},
     "output_type": "execute_result"
    }
   ],
   "source": [
    "outlier_treatment(data_train_mod, 'Fare')"
   ]
  },
  {
   "cell_type": "code",
   "execution_count": 85,
   "id": "43adcca4",
   "metadata": {
    "execution": {
     "iopub.execute_input": "2022-11-04T08:38:30.979828Z",
     "iopub.status.busy": "2022-11-04T08:38:30.979377Z",
     "iopub.status.idle": "2022-11-04T08:38:31.007629Z",
     "shell.execute_reply": "2022-11-04T08:38:31.006363Z"
    },
    "papermill": {
     "duration": 0.079725,
     "end_time": "2022-11-04T08:38:31.010304",
     "exception": false,
     "start_time": "2022-11-04T08:38:30.930579",
     "status": "completed"
    },
    "tags": []
   },
   "outputs": [],
   "source": [
    "des = data_train_mod.describe() # Checking the descriptive Analysis after Treating Outliers"
   ]
  },
  {
   "cell_type": "markdown",
   "id": "ee80e09d",
   "metadata": {
    "papermill": {
     "duration": 0.047261,
     "end_time": "2022-11-04T08:38:31.108246",
     "exception": false,
     "start_time": "2022-11-04T08:38:31.060985",
     "status": "completed"
    },
    "tags": []
   },
   "source": [
    "3) Converting Non - Numerical Features to Numerical<br>\n",
    "The Non - Numerical Features are :"
   ]
  },
  {
   "cell_type": "code",
   "execution_count": 86,
   "id": "253adcff",
   "metadata": {
    "execution": {
     "iopub.execute_input": "2022-11-04T08:38:31.205851Z",
     "iopub.status.busy": "2022-11-04T08:38:31.205417Z",
     "iopub.status.idle": "2022-11-04T08:38:31.215530Z",
     "shell.execute_reply": "2022-11-04T08:38:31.214257Z"
    },
    "papermill": {
     "duration": 0.062241,
     "end_time": "2022-11-04T08:38:31.218407",
     "exception": false,
     "start_time": "2022-11-04T08:38:31.156166",
     "status": "completed"
    },
    "tags": []
   },
   "outputs": [],
   "source": [
    "                                    # 1) Sex - Nominal\n",
    "                                    # 2) Embarked - Nominal\n",
    "# Converting Sex column Using oneHot encoding\n",
    "data_train_mod = pd.get_dummies(data_train_mod, columns = ['Sex'])"
   ]
  },
  {
   "cell_type": "markdown",
   "id": "f6c39ff6",
   "metadata": {
    "papermill": {
     "duration": 0.05009,
     "end_time": "2022-11-04T08:38:31.320783",
     "exception": false,
     "start_time": "2022-11-04T08:38:31.270693",
     "status": "completed"
    },
    "tags": []
   },
   "source": [
    "Embarked Column"
   ]
  },
  {
   "cell_type": "code",
   "execution_count": 87,
   "id": "2c51f39b",
   "metadata": {
    "execution": {
     "iopub.execute_input": "2022-11-04T08:38:31.422567Z",
     "iopub.status.busy": "2022-11-04T08:38:31.422111Z",
     "iopub.status.idle": "2022-11-04T08:38:31.693929Z",
     "shell.execute_reply": "2022-11-04T08:38:31.692269Z"
    },
    "papermill": {
     "duration": 0.326777,
     "end_time": "2022-11-04T08:38:31.696594",
     "exception": false,
     "start_time": "2022-11-04T08:38:31.369817",
     "status": "completed"
    },
    "tags": []
   },
   "outputs": [
    {
     "data": {
      "text/plain": [
       "((array([-3.16416595e+00, -2.89636677e+00, -2.74675222e+00, -2.64114608e+00,\n",
       "         -2.55870259e+00, -2.49067391e+00, -2.43252738e+00, -2.38160005e+00,\n",
       "         -2.33618969e+00, -2.29513992e+00, -2.25762808e+00, -2.22304736e+00,\n",
       "         -2.19093694e+00, -2.16093830e+00, -2.13276686e+00, -2.10619283e+00,\n",
       "         -2.08102787e+00, -2.05711563e+00, -2.03432484e+00, -2.01254418e+00,\n",
       "         -1.99167841e+00, -1.97164537e+00, -1.95237369e+00, -1.93380097e+00,\n",
       "         -1.91587229e+00, -1.89853909e+00, -1.88175821e+00, -1.86549107e+00,\n",
       "         -1.84970311e+00, -1.83436318e+00, -1.81944313e+00, -1.80491744e+00,\n",
       "         -1.79076290e+00, -1.77695830e+00, -1.76348425e+00, -1.75032296e+00,\n",
       "         -1.73745806e+00, -1.72487445e+00, -1.71255819e+00, -1.70049636e+00,\n",
       "         -1.68867698e+00, -1.67708890e+00, -1.66572174e+00, -1.65456583e+00,\n",
       "         -1.64361212e+00, -1.63285214e+00, -1.62227795e+00, -1.61188210e+00,\n",
       "         -1.60165759e+00, -1.59159783e+00, -1.58169661e+00, -1.57194806e+00,\n",
       "         -1.56234666e+00, -1.55288715e+00, -1.54356460e+00, -1.53437430e+00,\n",
       "         -1.52531180e+00, -1.51637287e+00, -1.50755349e+00, -1.49884983e+00,\n",
       "         -1.49025825e+00, -1.48177530e+00, -1.47339765e+00, -1.46512215e+00,\n",
       "         -1.45694579e+00, -1.44886569e+00, -1.44087909e+00, -1.43298336e+00,\n",
       "         -1.42517596e+00, -1.41745449e+00, -1.40981661e+00, -1.40226010e+00,\n",
       "         -1.39478282e+00, -1.38738272e+00, -1.38005783e+00, -1.37280624e+00,\n",
       "         -1.36562613e+00, -1.35851574e+00, -1.35147338e+00, -1.34449742e+00,\n",
       "         -1.33758628e+00, -1.33073844e+00, -1.32395244e+00, -1.31722687e+00,\n",
       "         -1.31056036e+00, -1.30395159e+00, -1.29739929e+00, -1.29090221e+00,\n",
       "         -1.28445918e+00, -1.27806903e+00, -1.27173065e+00, -1.26544295e+00,\n",
       "         -1.25920489e+00, -1.25301544e+00, -1.24687363e+00, -1.24077850e+00,\n",
       "         -1.23472912e+00, -1.22872458e+00, -1.22276403e+00, -1.21684660e+00,\n",
       "         -1.21097148e+00, -1.20513786e+00, -1.19934497e+00, -1.19359205e+00,\n",
       "         -1.18787837e+00, -1.18220320e+00, -1.17656585e+00, -1.17096565e+00,\n",
       "         -1.16540194e+00, -1.15987407e+00, -1.15438141e+00, -1.14892337e+00,\n",
       "         -1.14349933e+00, -1.13810873e+00, -1.13275101e+00, -1.12742560e+00,\n",
       "         -1.12213197e+00, -1.11686961e+00, -1.11163799e+00, -1.10643663e+00,\n",
       "         -1.10126502e+00, -1.09612271e+00, -1.09100921e+00, -1.08592409e+00,\n",
       "         -1.08086689e+00, -1.07583719e+00, -1.07083455e+00, -1.06585857e+00,\n",
       "         -1.06090885e+00, -1.05598498e+00, -1.05108658e+00, -1.04621327e+00,\n",
       "         -1.04136468e+00, -1.03654045e+00, -1.03174023e+00, -1.02696366e+00,\n",
       "         -1.02221041e+00, -1.01748014e+00, -1.01277253e+00, -1.00808726e+00,\n",
       "         -1.00342401e+00, -9.98782481e-01, -9.94162371e-01, -9.89563385e-01,\n",
       "         -9.84985234e-01, -9.80427636e-01, -9.75890312e-01, -9.71372991e-01,\n",
       "         -9.66875406e-01, -9.62397294e-01, -9.57938398e-01, -9.53498468e-01,\n",
       "         -9.49077254e-01, -9.44674515e-01, -9.40290012e-01, -9.35923511e-01,\n",
       "         -9.31574782e-01, -9.27243599e-01, -9.22929741e-01, -9.18632990e-01,\n",
       "         -9.14353133e-01, -9.10089959e-01, -9.05843261e-01, -9.01612837e-01,\n",
       "         -8.97398488e-01, -8.93200018e-01, -8.89017233e-01, -8.84849944e-01,\n",
       "         -8.80697966e-01, -8.76561115e-01, -8.72439211e-01, -8.68332076e-01,\n",
       "         -8.64239537e-01, -8.60161422e-01, -8.56097563e-01, -8.52047793e-01,\n",
       "         -8.48011949e-01, -8.43989871e-01, -8.39981400e-01, -8.35986380e-01,\n",
       "         -8.32004658e-01, -8.28036084e-01, -8.24080508e-01, -8.20137785e-01,\n",
       "         -8.16207769e-01, -8.12290320e-01, -8.08385297e-01, -8.04492562e-01,\n",
       "         -8.00611980e-01, -7.96743417e-01, -7.92886742e-01, -7.89041824e-01,\n",
       "         -7.85208535e-01, -7.81386750e-01, -7.77576344e-01, -7.73777194e-01,\n",
       "         -7.69989180e-01, -7.66212182e-01, -7.62446084e-01, -7.58690769e-01,\n",
       "         -7.54946122e-01, -7.51212033e-01, -7.47488388e-01, -7.43775079e-01,\n",
       "         -7.40071997e-01, -7.36379036e-01, -7.32696091e-01, -7.29023057e-01,\n",
       "         -7.25359833e-01, -7.21706316e-01, -7.18062408e-01, -7.14428009e-01,\n",
       "         -7.10803023e-01, -7.07187353e-01, -7.03580904e-01, -6.99983584e-01,\n",
       "         -6.96395299e-01, -6.92815959e-01, -6.89245472e-01, -6.85683751e-01,\n",
       "         -6.82130707e-01, -6.78586254e-01, -6.75050305e-01, -6.71522777e-01,\n",
       "         -6.68003585e-01, -6.64492646e-01, -6.60989880e-01, -6.57495204e-01,\n",
       "         -6.54008541e-01, -6.50529809e-01, -6.47058933e-01, -6.43595834e-01,\n",
       "         -6.40140437e-01, -6.36692665e-01, -6.33252446e-01, -6.29819705e-01,\n",
       "         -6.26394370e-01, -6.22976369e-01, -6.19565630e-01, -6.16162083e-01,\n",
       "         -6.12765660e-01, -6.09376290e-01, -6.05993906e-01, -6.02618441e-01,\n",
       "         -5.99249828e-01, -5.95888002e-01, -5.92532897e-01, -5.89184448e-01,\n",
       "         -5.85842593e-01, -5.82507267e-01, -5.79178409e-01, -5.75855957e-01,\n",
       "         -5.72539849e-01, -5.69230025e-01, -5.65926425e-01, -5.62628991e-01,\n",
       "         -5.59337662e-01, -5.56052382e-01, -5.52773092e-01, -5.49499736e-01,\n",
       "         -5.46232257e-01, -5.42970600e-01, -5.39714708e-01, -5.36464529e-01,\n",
       "         -5.33220006e-01, -5.29981087e-01, -5.26747718e-01, -5.23519846e-01,\n",
       "         -5.20297421e-01, -5.17080388e-01, -5.13868699e-01, -5.10662301e-01,\n",
       "         -5.07461145e-01, -5.04265181e-01, -5.01074359e-01, -4.97888630e-01,\n",
       "         -4.94707946e-01, -4.91532260e-01, -4.88361523e-01, -4.85195688e-01,\n",
       "         -4.82034708e-01, -4.78878538e-01, -4.75727130e-01, -4.72580440e-01,\n",
       "         -4.69438423e-01, -4.66301033e-01, -4.63168227e-01, -4.60039959e-01,\n",
       "         -4.56916187e-01, -4.53796868e-01, -4.50681957e-01, -4.47571414e-01,\n",
       "         -4.44465194e-01, -4.41363258e-01, -4.38265562e-01, -4.35172066e-01,\n",
       "         -4.32082729e-01, -4.28997511e-01, -4.25916370e-01, -4.22839267e-01,\n",
       "         -4.19766163e-01, -4.16697019e-01, -4.13631794e-01, -4.10570451e-01,\n",
       "         -4.07512950e-01, -4.04459255e-01, -4.01409326e-01, -3.98363127e-01,\n",
       "         -3.95320620e-01, -3.92281768e-01, -3.89246534e-01, -3.86214882e-01,\n",
       "         -3.83186776e-01, -3.80162179e-01, -3.77141055e-01, -3.74123371e-01,\n",
       "         -3.71109089e-01, -3.68098175e-01, -3.65090595e-01, -3.62086314e-01,\n",
       "         -3.59085297e-01, -3.56087510e-01, -3.53092920e-01, -3.50101494e-01,\n",
       "         -3.47113197e-01, -3.44127996e-01, -3.41145859e-01, -3.38166753e-01,\n",
       "         -3.35190645e-01, -3.32217503e-01, -3.29247294e-01, -3.26279988e-01,\n",
       "         -3.23315551e-01, -3.20353953e-01, -3.17395163e-01, -3.14439148e-01,\n",
       "         -3.11485878e-01, -3.08535323e-01, -3.05587451e-01, -3.02642232e-01,\n",
       "         -2.99699637e-01, -2.96759634e-01, -2.93822194e-01, -2.90887286e-01,\n",
       "         -2.87954883e-01, -2.85024953e-01, -2.82097468e-01, -2.79172399e-01,\n",
       "         -2.76249717e-01, -2.73329392e-01, -2.70411397e-01, -2.67495702e-01,\n",
       "         -2.64582279e-01, -2.61671101e-01, -2.58762138e-01, -2.55855364e-01,\n",
       "         -2.52950750e-01, -2.50048268e-01, -2.47147891e-01, -2.44249592e-01,\n",
       "         -2.41353343e-01, -2.38459117e-01, -2.35566887e-01, -2.32676627e-01,\n",
       "         -2.29788309e-01, -2.26901906e-01, -2.24017393e-01, -2.21134743e-01,\n",
       "         -2.18253928e-01, -2.15374924e-01, -2.12497705e-01, -2.09622243e-01,\n",
       "         -2.06748513e-01, -2.03876490e-01, -2.01006147e-01, -1.98137460e-01,\n",
       "         -1.95270402e-01, -1.92404948e-01, -1.89541074e-01, -1.86678753e-01,\n",
       "         -1.83817960e-01, -1.80958672e-01, -1.78100862e-01, -1.75244505e-01,\n",
       "         -1.72389578e-01, -1.69536055e-01, -1.66683912e-01, -1.63833125e-01,\n",
       "         -1.60983668e-01, -1.58135518e-01, -1.55288649e-01, -1.52443039e-01,\n",
       "         -1.49598663e-01, -1.46755497e-01, -1.43913516e-01, -1.41072697e-01,\n",
       "         -1.38233017e-01, -1.35394450e-01, -1.32556974e-01, -1.29720565e-01,\n",
       "         -1.26885199e-01, -1.24050853e-01, -1.21217504e-01, -1.18385126e-01,\n",
       "         -1.15553699e-01, -1.12723197e-01, -1.09893598e-01, -1.07064879e-01,\n",
       "         -1.04237016e-01, -1.01409987e-01, -9.85837679e-02, -9.57583359e-02,\n",
       "         -9.29336682e-02, -9.01097418e-02, -8.72865338e-02, -8.44640214e-02,\n",
       "         -8.16421817e-02, -7.88209919e-02, -7.60004293e-02, -7.31804713e-02,\n",
       "         -7.03610950e-02, -6.75422780e-02, -6.47239975e-02, -6.19062310e-02,\n",
       "         -5.90889559e-02, -5.62721498e-02, -5.34557901e-02, -5.06398543e-02,\n",
       "         -4.78243200e-02, -4.50091648e-02, -4.21943662e-02, -3.93799019e-02,\n",
       "         -3.65657495e-02, -3.37518867e-02, -3.09382910e-02, -2.81249403e-02,\n",
       "         -2.53118122e-02, -2.24988843e-02, -1.96861345e-02, -1.68735404e-02,\n",
       "         -1.40610798e-02, -1.12487304e-02, -8.43646994e-03, -5.62427623e-03,\n",
       "         -2.81212699e-03,  0.00000000e+00,  2.81212699e-03,  5.62427623e-03,\n",
       "          8.43646994e-03,  1.12487304e-02,  1.40610798e-02,  1.68735404e-02,\n",
       "          1.96861345e-02,  2.24988843e-02,  2.53118122e-02,  2.81249403e-02,\n",
       "          3.09382910e-02,  3.37518867e-02,  3.65657495e-02,  3.93799019e-02,\n",
       "          4.21943662e-02,  4.50091648e-02,  4.78243200e-02,  5.06398543e-02,\n",
       "          5.34557901e-02,  5.62721498e-02,  5.90889559e-02,  6.19062310e-02,\n",
       "          6.47239975e-02,  6.75422780e-02,  7.03610950e-02,  7.31804713e-02,\n",
       "          7.60004293e-02,  7.88209919e-02,  8.16421817e-02,  8.44640214e-02,\n",
       "          8.72865338e-02,  9.01097418e-02,  9.29336682e-02,  9.57583359e-02,\n",
       "          9.85837679e-02,  1.01409987e-01,  1.04237016e-01,  1.07064879e-01,\n",
       "          1.09893598e-01,  1.12723197e-01,  1.15553699e-01,  1.18385126e-01,\n",
       "          1.21217504e-01,  1.24050853e-01,  1.26885199e-01,  1.29720565e-01,\n",
       "          1.32556974e-01,  1.35394450e-01,  1.38233017e-01,  1.41072697e-01,\n",
       "          1.43913516e-01,  1.46755497e-01,  1.49598663e-01,  1.52443039e-01,\n",
       "          1.55288649e-01,  1.58135518e-01,  1.60983668e-01,  1.63833125e-01,\n",
       "          1.66683912e-01,  1.69536055e-01,  1.72389578e-01,  1.75244505e-01,\n",
       "          1.78100862e-01,  1.80958672e-01,  1.83817960e-01,  1.86678753e-01,\n",
       "          1.89541074e-01,  1.92404948e-01,  1.95270402e-01,  1.98137460e-01,\n",
       "          2.01006147e-01,  2.03876490e-01,  2.06748513e-01,  2.09622243e-01,\n",
       "          2.12497705e-01,  2.15374924e-01,  2.18253928e-01,  2.21134743e-01,\n",
       "          2.24017393e-01,  2.26901906e-01,  2.29788309e-01,  2.32676627e-01,\n",
       "          2.35566887e-01,  2.38459117e-01,  2.41353343e-01,  2.44249592e-01,\n",
       "          2.47147891e-01,  2.50048268e-01,  2.52950750e-01,  2.55855364e-01,\n",
       "          2.58762138e-01,  2.61671101e-01,  2.64582279e-01,  2.67495702e-01,\n",
       "          2.70411397e-01,  2.73329392e-01,  2.76249717e-01,  2.79172399e-01,\n",
       "          2.82097468e-01,  2.85024953e-01,  2.87954883e-01,  2.90887286e-01,\n",
       "          2.93822194e-01,  2.96759634e-01,  2.99699637e-01,  3.02642232e-01,\n",
       "          3.05587451e-01,  3.08535323e-01,  3.11485878e-01,  3.14439148e-01,\n",
       "          3.17395163e-01,  3.20353953e-01,  3.23315551e-01,  3.26279988e-01,\n",
       "          3.29247294e-01,  3.32217503e-01,  3.35190645e-01,  3.38166753e-01,\n",
       "          3.41145859e-01,  3.44127996e-01,  3.47113197e-01,  3.50101494e-01,\n",
       "          3.53092920e-01,  3.56087510e-01,  3.59085297e-01,  3.62086314e-01,\n",
       "          3.65090595e-01,  3.68098175e-01,  3.71109089e-01,  3.74123371e-01,\n",
       "          3.77141055e-01,  3.80162179e-01,  3.83186776e-01,  3.86214882e-01,\n",
       "          3.89246534e-01,  3.92281768e-01,  3.95320620e-01,  3.98363127e-01,\n",
       "          4.01409326e-01,  4.04459255e-01,  4.07512950e-01,  4.10570451e-01,\n",
       "          4.13631794e-01,  4.16697019e-01,  4.19766163e-01,  4.22839267e-01,\n",
       "          4.25916370e-01,  4.28997511e-01,  4.32082729e-01,  4.35172066e-01,\n",
       "          4.38265562e-01,  4.41363258e-01,  4.44465194e-01,  4.47571414e-01,\n",
       "          4.50681957e-01,  4.53796868e-01,  4.56916187e-01,  4.60039959e-01,\n",
       "          4.63168227e-01,  4.66301033e-01,  4.69438423e-01,  4.72580440e-01,\n",
       "          4.75727130e-01,  4.78878538e-01,  4.82034708e-01,  4.85195688e-01,\n",
       "          4.88361523e-01,  4.91532260e-01,  4.94707946e-01,  4.97888630e-01,\n",
       "          5.01074359e-01,  5.04265181e-01,  5.07461145e-01,  5.10662301e-01,\n",
       "          5.13868699e-01,  5.17080388e-01,  5.20297421e-01,  5.23519846e-01,\n",
       "          5.26747718e-01,  5.29981087e-01,  5.33220006e-01,  5.36464529e-01,\n",
       "          5.39714708e-01,  5.42970600e-01,  5.46232257e-01,  5.49499736e-01,\n",
       "          5.52773092e-01,  5.56052382e-01,  5.59337662e-01,  5.62628991e-01,\n",
       "          5.65926425e-01,  5.69230025e-01,  5.72539849e-01,  5.75855957e-01,\n",
       "          5.79178409e-01,  5.82507267e-01,  5.85842593e-01,  5.89184448e-01,\n",
       "          5.92532897e-01,  5.95888002e-01,  5.99249828e-01,  6.02618441e-01,\n",
       "          6.05993906e-01,  6.09376290e-01,  6.12765660e-01,  6.16162083e-01,\n",
       "          6.19565630e-01,  6.22976369e-01,  6.26394370e-01,  6.29819705e-01,\n",
       "          6.33252446e-01,  6.36692665e-01,  6.40140437e-01,  6.43595834e-01,\n",
       "          6.47058933e-01,  6.50529809e-01,  6.54008541e-01,  6.57495204e-01,\n",
       "          6.60989880e-01,  6.64492646e-01,  6.68003585e-01,  6.71522777e-01,\n",
       "          6.75050305e-01,  6.78586254e-01,  6.82130707e-01,  6.85683751e-01,\n",
       "          6.89245472e-01,  6.92815959e-01,  6.96395299e-01,  6.99983584e-01,\n",
       "          7.03580904e-01,  7.07187353e-01,  7.10803023e-01,  7.14428009e-01,\n",
       "          7.18062408e-01,  7.21706316e-01,  7.25359833e-01,  7.29023057e-01,\n",
       "          7.32696091e-01,  7.36379036e-01,  7.40071997e-01,  7.43775079e-01,\n",
       "          7.47488388e-01,  7.51212033e-01,  7.54946122e-01,  7.58690769e-01,\n",
       "          7.62446084e-01,  7.66212182e-01,  7.69989180e-01,  7.73777194e-01,\n",
       "          7.77576344e-01,  7.81386750e-01,  7.85208535e-01,  7.89041824e-01,\n",
       "          7.92886742e-01,  7.96743417e-01,  8.00611980e-01,  8.04492562e-01,\n",
       "          8.08385297e-01,  8.12290320e-01,  8.16207769e-01,  8.20137785e-01,\n",
       "          8.24080508e-01,  8.28036084e-01,  8.32004658e-01,  8.35986380e-01,\n",
       "          8.39981400e-01,  8.43989871e-01,  8.48011949e-01,  8.52047793e-01,\n",
       "          8.56097563e-01,  8.60161422e-01,  8.64239537e-01,  8.68332076e-01,\n",
       "          8.72439211e-01,  8.76561115e-01,  8.80697966e-01,  8.84849944e-01,\n",
       "          8.89017233e-01,  8.93200018e-01,  8.97398488e-01,  9.01612837e-01,\n",
       "          9.05843261e-01,  9.10089959e-01,  9.14353133e-01,  9.18632990e-01,\n",
       "          9.22929741e-01,  9.27243599e-01,  9.31574782e-01,  9.35923511e-01,\n",
       "          9.40290012e-01,  9.44674515e-01,  9.49077254e-01,  9.53498468e-01,\n",
       "          9.57938398e-01,  9.62397294e-01,  9.66875406e-01,  9.71372991e-01,\n",
       "          9.75890312e-01,  9.80427636e-01,  9.84985234e-01,  9.89563385e-01,\n",
       "          9.94162371e-01,  9.98782481e-01,  1.00342401e+00,  1.00808726e+00,\n",
       "          1.01277253e+00,  1.01748014e+00,  1.02221041e+00,  1.02696366e+00,\n",
       "          1.03174023e+00,  1.03654045e+00,  1.04136468e+00,  1.04621327e+00,\n",
       "          1.05108658e+00,  1.05598498e+00,  1.06090885e+00,  1.06585857e+00,\n",
       "          1.07083455e+00,  1.07583719e+00,  1.08086689e+00,  1.08592409e+00,\n",
       "          1.09100921e+00,  1.09612271e+00,  1.10126502e+00,  1.10643663e+00,\n",
       "          1.11163799e+00,  1.11686961e+00,  1.12213197e+00,  1.12742560e+00,\n",
       "          1.13275101e+00,  1.13810873e+00,  1.14349933e+00,  1.14892337e+00,\n",
       "          1.15438141e+00,  1.15987407e+00,  1.16540194e+00,  1.17096565e+00,\n",
       "          1.17656585e+00,  1.18220320e+00,  1.18787837e+00,  1.19359205e+00,\n",
       "          1.19934497e+00,  1.20513786e+00,  1.21097148e+00,  1.21684660e+00,\n",
       "          1.22276403e+00,  1.22872458e+00,  1.23472912e+00,  1.24077850e+00,\n",
       "          1.24687363e+00,  1.25301544e+00,  1.25920489e+00,  1.26544295e+00,\n",
       "          1.27173065e+00,  1.27806903e+00,  1.28445918e+00,  1.29090221e+00,\n",
       "          1.29739929e+00,  1.30395159e+00,  1.31056036e+00,  1.31722687e+00,\n",
       "          1.32395244e+00,  1.33073844e+00,  1.33758628e+00,  1.34449742e+00,\n",
       "          1.35147338e+00,  1.35851574e+00,  1.36562613e+00,  1.37280624e+00,\n",
       "          1.38005783e+00,  1.38738272e+00,  1.39478282e+00,  1.40226010e+00,\n",
       "          1.40981661e+00,  1.41745449e+00,  1.42517596e+00,  1.43298336e+00,\n",
       "          1.44087909e+00,  1.44886569e+00,  1.45694579e+00,  1.46512215e+00,\n",
       "          1.47339765e+00,  1.48177530e+00,  1.49025825e+00,  1.49884983e+00,\n",
       "          1.50755349e+00,  1.51637287e+00,  1.52531180e+00,  1.53437430e+00,\n",
       "          1.54356460e+00,  1.55288715e+00,  1.56234666e+00,  1.57194806e+00,\n",
       "          1.58169661e+00,  1.59159783e+00,  1.60165759e+00,  1.61188210e+00,\n",
       "          1.62227795e+00,  1.63285214e+00,  1.64361212e+00,  1.65456583e+00,\n",
       "          1.66572174e+00,  1.67708890e+00,  1.68867698e+00,  1.70049636e+00,\n",
       "          1.71255819e+00,  1.72487445e+00,  1.73745806e+00,  1.75032296e+00,\n",
       "          1.76348425e+00,  1.77695830e+00,  1.79076290e+00,  1.80491744e+00,\n",
       "          1.81944313e+00,  1.83436318e+00,  1.84970311e+00,  1.86549107e+00,\n",
       "          1.88175821e+00,  1.89853909e+00,  1.91587229e+00,  1.93380097e+00,\n",
       "          1.95237369e+00,  1.97164537e+00,  1.99167841e+00,  2.01254418e+00,\n",
       "          2.03432484e+00,  2.05711563e+00,  2.08102787e+00,  2.10619283e+00,\n",
       "          2.13276686e+00,  2.16093830e+00,  2.19093694e+00,  2.22304736e+00,\n",
       "          2.25762808e+00,  2.29513992e+00,  2.33618969e+00,  2.38160005e+00,\n",
       "          2.43252738e+00,  2.49067391e+00,  2.55870259e+00,  2.64114608e+00,\n",
       "          2.74675222e+00,  2.89636677e+00,  3.16416595e+00]),\n",
       "  array([ 2.5       ,  2.5       ,  2.5       ,  2.5       ,  2.5       ,\n",
       "          2.5       ,  2.5       ,  2.5       ,  2.5       ,  2.5       ,\n",
       "          2.5       ,  2.5       ,  2.5       ,  2.5       ,  2.5       ,\n",
       "          2.5       ,  2.5       ,  2.5       ,  2.5       ,  2.5       ,\n",
       "          2.5       ,  2.5       ,  2.5       ,  2.5       ,  3.        ,\n",
       "          3.        ,  3.        ,  3.        ,  3.        ,  3.        ,\n",
       "          4.        ,  4.        ,  4.        ,  4.        ,  4.        ,\n",
       "          4.        ,  4.        ,  4.        ,  4.        ,  4.        ,\n",
       "          5.        ,  5.        ,  5.        ,  5.        ,  6.        ,\n",
       "          6.        ,  6.        ,  7.        ,  7.        ,  7.        ,\n",
       "          8.        ,  8.        ,  8.        ,  8.        ,  9.        ,\n",
       "          9.        ,  9.        ,  9.        ,  9.        ,  9.        ,\n",
       "          9.        ,  9.        , 10.        , 10.        , 11.        ,\n",
       "         11.        , 11.        , 11.        , 12.        , 13.        ,\n",
       "         13.        , 14.        , 14.        , 14.        , 14.        ,\n",
       "         14.        , 14.        , 14.5       , 15.        , 15.        ,\n",
       "         15.        , 15.        , 15.        , 16.        , 16.        ,\n",
       "         16.        , 16.        , 16.        , 16.        , 16.        ,\n",
       "         16.        , 16.        , 16.        , 16.        , 16.        ,\n",
       "         16.        , 16.        , 16.        , 16.        , 16.        ,\n",
       "         17.        , 17.        , 17.        , 17.        , 17.        ,\n",
       "         17.        , 17.        , 17.        , 17.        , 17.        ,\n",
       "         17.        , 17.        , 17.        , 18.        , 18.        ,\n",
       "         18.        , 18.        , 18.        , 18.        , 18.        ,\n",
       "         18.        , 18.        , 18.        , 18.        , 18.        ,\n",
       "         18.        , 18.        , 18.        , 18.        , 18.        ,\n",
       "         18.        , 18.        , 18.        , 18.        , 18.        ,\n",
       "         18.        , 18.        , 18.        , 18.        , 19.        ,\n",
       "         19.        , 19.        , 19.        , 19.        , 19.        ,\n",
       "         19.        , 19.        , 19.        , 19.        , 19.        ,\n",
       "         19.        , 19.        , 19.        , 19.        , 19.        ,\n",
       "         19.        , 19.        , 19.        , 19.        , 19.        ,\n",
       "         19.        , 19.        , 19.        , 19.        , 20.        ,\n",
       "         20.        , 20.        , 20.        , 20.        , 20.        ,\n",
       "         20.        , 20.        , 20.        , 20.        , 20.        ,\n",
       "         20.        , 20.        , 20.        , 20.        , 20.5       ,\n",
       "         21.        , 21.        , 21.        , 21.        , 21.        ,\n",
       "         21.        , 21.        , 21.        , 21.        , 21.        ,\n",
       "         21.        , 21.        , 21.        , 21.        , 21.        ,\n",
       "         21.        , 21.        , 21.        , 21.        , 21.        ,\n",
       "         21.        , 21.        , 21.        , 21.        , 22.        ,\n",
       "         22.        , 22.        , 22.        , 22.        , 22.        ,\n",
       "         22.        , 22.        , 22.        , 22.        , 22.        ,\n",
       "         22.        , 22.        , 22.        , 22.        , 22.        ,\n",
       "         22.        , 22.        , 22.        , 22.        , 22.        ,\n",
       "         22.        , 22.        , 22.        , 22.        , 22.        ,\n",
       "         22.        , 23.        , 23.        , 23.        , 23.        ,\n",
       "         23.        , 23.        , 23.        , 23.        , 23.        ,\n",
       "         23.        , 23.        , 23.        , 23.        , 23.        ,\n",
       "         23.        , 23.5       , 24.        , 24.        , 24.        ,\n",
       "         24.        , 24.        , 24.        , 24.        , 24.        ,\n",
       "         24.        , 24.        , 24.        , 24.        , 24.        ,\n",
       "         24.        , 24.        , 24.        , 24.        , 24.        ,\n",
       "         24.        , 24.        , 24.        , 24.        , 24.        ,\n",
       "         24.        , 24.        , 24.        , 24.        , 24.        ,\n",
       "         24.        , 24.        , 24.5       , 25.        , 25.        ,\n",
       "         25.        , 25.        , 25.        , 25.        , 25.        ,\n",
       "         25.        , 25.        , 25.        , 25.        , 25.        ,\n",
       "         25.        , 25.        , 25.        , 25.        , 25.        ,\n",
       "         25.        , 25.        , 25.        , 25.        , 25.        ,\n",
       "         25.        , 26.        , 26.        , 26.        , 26.        ,\n",
       "         26.        , 26.        , 26.        , 26.        , 26.        ,\n",
       "         26.        , 26.        , 26.        , 26.        , 26.        ,\n",
       "         26.        , 26.        , 26.        , 26.        , 27.        ,\n",
       "         27.        , 27.        , 27.        , 27.        , 27.        ,\n",
       "         27.        , 27.        , 27.        , 27.        , 27.        ,\n",
       "         27.        , 27.        , 27.        , 27.        , 27.        ,\n",
       "         27.        , 27.        , 27.16847826, 27.16847826, 27.16847826,\n",
       "         27.16847826, 27.16847826, 27.16847826, 27.16847826, 27.16847826,\n",
       "         27.16847826, 27.16847826, 27.16847826, 27.16847826, 27.16847826,\n",
       "         27.16847826, 27.16847826, 27.16847826, 27.16847826, 27.16847826,\n",
       "         27.16847826, 27.16847826, 27.16847826, 27.16847826, 27.16847826,\n",
       "         27.16847826, 27.16847826, 27.16847826, 27.16847826, 27.16847826,\n",
       "         27.16847826, 27.16847826, 27.16847826, 27.16847826, 27.16847826,\n",
       "         27.16847826, 27.16847826, 27.16847826, 27.16847826, 27.16847826,\n",
       "         27.16847826, 27.16847826, 27.16847826, 27.16847826, 27.16847826,\n",
       "         27.16847826, 27.16847826, 27.16847826, 27.16847826, 27.16847826,\n",
       "         27.16847826, 27.16847826, 27.16847826, 27.16847826, 27.16847826,\n",
       "         27.16847826, 27.16847826, 27.16847826, 27.16847826, 27.16847826,\n",
       "         27.16847826, 27.16847826, 27.16847826, 27.16847826, 27.16847826,\n",
       "         27.16847826, 27.16847826, 27.16847826, 27.16847826, 27.16847826,\n",
       "         27.16847826, 27.16847826, 27.16847826, 27.16847826, 27.16847826,\n",
       "         27.16847826, 27.16847826, 27.16847826, 27.16847826, 27.16847826,\n",
       "         27.16847826, 27.16847826, 27.16847826, 27.16847826, 27.16847826,\n",
       "         27.16847826, 27.16847826, 27.16847826, 27.16847826, 27.16847826,\n",
       "         27.16847826, 27.16847826, 27.16847826, 27.16847826, 27.16847826,\n",
       "         27.16847826, 27.16847826, 27.16847826, 27.16847826, 27.16847826,\n",
       "         27.16847826, 27.16847826, 27.16847826, 27.16847826, 27.16847826,\n",
       "         27.16847826, 27.16847826, 27.16847826, 27.16847826, 27.16847826,\n",
       "         27.16847826, 27.16847826, 27.16847826, 27.16847826, 27.16847826,\n",
       "         27.16847826, 27.16847826, 27.16847826, 27.16847826, 27.16847826,\n",
       "         27.16847826, 27.16847826, 27.16847826, 27.16847826, 27.16847826,\n",
       "         27.16847826, 27.16847826, 27.16847826, 27.16847826, 27.16847826,\n",
       "         27.16847826, 27.16847826, 27.16847826, 27.16847826, 27.16847826,\n",
       "         27.16847826, 27.16847826, 27.16847826, 27.16847826, 27.16847826,\n",
       "         27.16847826, 27.16847826, 27.16847826, 27.16847826, 27.16847826,\n",
       "         27.16847826, 27.16847826, 27.16847826, 27.16847826, 27.16847826,\n",
       "         27.16847826, 27.16847826, 27.16847826, 27.16847826, 27.16847826,\n",
       "         27.16847826, 27.16847826, 27.16847826, 27.16847826, 27.16847826,\n",
       "         27.16847826, 27.16847826, 27.16847826, 27.16847826, 27.16847826,\n",
       "         27.16847826, 27.16847826, 27.16847826, 27.16847826, 27.16847826,\n",
       "         27.16847826, 27.16847826, 27.16847826, 27.16847826, 27.16847826,\n",
       "         27.16847826, 27.16847826, 27.16847826, 27.16847826, 28.        ,\n",
       "         28.        , 28.        , 28.        , 28.        , 28.        ,\n",
       "         28.        , 28.        , 28.        , 28.        , 28.        ,\n",
       "         28.        , 28.        , 28.        , 28.        , 28.        ,\n",
       "         28.        , 28.        , 28.        , 28.        , 28.        ,\n",
       "         28.        , 28.        , 28.        , 28.        , 28.5       ,\n",
       "         28.5       , 29.        , 29.        , 29.        , 29.        ,\n",
       "         29.        , 29.        , 29.        , 29.        , 29.        ,\n",
       "         29.        , 29.        , 29.        , 29.        , 29.        ,\n",
       "         29.        , 29.        , 29.        , 29.        , 29.        ,\n",
       "         29.        , 30.        , 30.        , 30.        , 30.        ,\n",
       "         30.        , 30.        , 30.        , 30.        , 30.        ,\n",
       "         30.        , 30.        , 30.        , 30.        , 30.        ,\n",
       "         30.        , 30.        , 30.        , 30.        , 30.        ,\n",
       "         30.        , 30.        , 30.        , 30.        , 30.        ,\n",
       "         30.        , 30.5       , 30.5       , 31.        , 31.        ,\n",
       "         31.        , 31.        , 31.        , 31.        , 31.        ,\n",
       "         31.        , 31.        , 31.        , 31.        , 31.        ,\n",
       "         31.        , 31.        , 31.        , 31.        , 31.        ,\n",
       "         32.        , 32.        , 32.        , 32.        , 32.        ,\n",
       "         32.        , 32.        , 32.        , 32.        , 32.        ,\n",
       "         32.        , 32.        , 32.        , 32.        , 32.        ,\n",
       "         32.        , 32.        , 32.        , 32.5       , 32.5       ,\n",
       "         33.        , 33.        , 33.        , 33.        , 33.        ,\n",
       "         33.        , 33.        , 33.        , 33.        , 33.        ,\n",
       "         33.        , 33.        , 33.        , 33.        , 33.        ,\n",
       "         34.        , 34.        , 34.        , 34.        , 34.        ,\n",
       "         34.        , 34.        , 34.        , 34.        , 34.        ,\n",
       "         34.        , 34.        , 34.        , 34.        , 34.        ,\n",
       "         34.5       , 35.        , 35.        , 35.        , 35.        ,\n",
       "         35.        , 35.        , 35.        , 35.        , 35.        ,\n",
       "         35.        , 35.        , 35.        , 35.        , 35.        ,\n",
       "         35.        , 35.        , 35.        , 35.        , 36.        ,\n",
       "         36.        , 36.        , 36.        , 36.        , 36.        ,\n",
       "         36.        , 36.        , 36.        , 36.        , 36.        ,\n",
       "         36.        , 36.        , 36.        , 36.        , 36.        ,\n",
       "         36.        , 36.        , 36.        , 36.        , 36.        ,\n",
       "         36.        , 36.5       , 37.        , 37.        , 37.        ,\n",
       "         37.        , 37.        , 37.        , 38.        , 38.        ,\n",
       "         38.        , 38.        , 38.        , 38.        , 38.        ,\n",
       "         38.        , 38.        , 38.        , 38.        , 39.        ,\n",
       "         39.        , 39.        , 39.        , 39.        , 39.        ,\n",
       "         39.        , 39.        , 39.        , 39.        , 39.        ,\n",
       "         39.        , 39.        , 39.        , 40.        , 40.        ,\n",
       "         40.        , 40.        , 40.        , 40.        , 40.        ,\n",
       "         40.        , 40.        , 40.        , 40.        , 40.        ,\n",
       "         40.        , 40.5       , 40.5       , 41.        , 41.        ,\n",
       "         41.        , 41.        , 41.        , 41.        , 42.        ,\n",
       "         42.        , 42.        , 42.        , 42.        , 42.        ,\n",
       "         42.        , 42.        , 42.        , 42.        , 42.        ,\n",
       "         42.        , 42.        , 43.        , 43.        , 43.        ,\n",
       "         43.        , 43.        , 44.        , 44.        , 44.        ,\n",
       "         44.        , 44.        , 44.        , 44.        , 44.        ,\n",
       "         44.        , 45.        , 45.        , 45.        , 45.        ,\n",
       "         45.        , 45.        , 45.        , 45.        , 45.        ,\n",
       "         45.        , 45.        , 45.        , 45.5       , 45.5       ,\n",
       "         46.        , 46.        , 46.        , 47.        , 47.        ,\n",
       "         47.        , 47.        , 47.        , 47.        , 47.        ,\n",
       "         47.        , 47.        , 48.        , 48.        , 48.        ,\n",
       "         48.        , 48.        , 48.        , 48.        , 48.        ,\n",
       "         48.        , 49.        , 49.        , 49.        , 49.        ,\n",
       "         49.        , 49.        , 50.        , 50.        , 50.        ,\n",
       "         50.        , 50.        , 50.        , 50.        , 50.        ,\n",
       "         50.        , 50.        , 51.        , 51.        , 51.        ,\n",
       "         51.        , 51.        , 51.        , 51.        , 52.        ,\n",
       "         52.        , 52.        , 52.        , 52.        , 52.        ,\n",
       "         53.        , 54.        , 54.        , 54.        , 54.        ,\n",
       "         54.        , 54.        , 54.        , 54.        , 54.5       ,\n",
       "         54.5       , 54.5       , 54.5       , 54.5       , 54.5       ,\n",
       "         54.5       , 54.5       , 54.5       , 54.5       , 54.5       ,\n",
       "         54.5       , 54.5       , 54.5       , 54.5       , 54.5       ,\n",
       "         54.5       , 54.5       , 54.5       , 54.5       , 54.5       ,\n",
       "         54.5       , 54.5       , 54.5       , 54.5       , 54.5       ,\n",
       "         54.5       , 54.5       , 54.5       , 54.5       , 54.5       ,\n",
       "         54.5       , 54.5       , 54.5       , 54.5       , 54.5       ,\n",
       "         54.5       , 54.5       , 54.5       , 54.5       , 54.5       ,\n",
       "         54.5       ])),\n",
       " (11.852361167432209, 28.87409725272044, 0.9778096533988667))"
      ]
     },
     "execution_count": 87,
     "metadata": {},
     "output_type": "execute_result"
    },
    {
     "data": {
      "image/png": "[encoded data removed]",
      "text/plain": [
       "<Figure size 640x480 with 1 Axes>"
      ]
     },
     "metadata": {},
     "output_type": "display_data"
    }
   ],
   "source": [
    "data_train_mod = pd.get_dummies(data_train_mod, columns = ['Embarked'])\n",
    "  \n",
    "# 4) Checking whether the data is normally distributed or not for Continuos Variables\n",
    "stats.probplot(data_train_mod['Age'], dist ='norm', plot =pylab) # data is mostly Normally distributed"
   ]
  },
  {
   "cell_type": "code",
   "execution_count": 88,
   "id": "2a515352",
   "metadata": {
    "execution": {
     "iopub.execute_input": "2022-11-04T08:38:31.860592Z",
     "iopub.status.busy": "2022-11-04T08:38:31.860141Z",
     "iopub.status.idle": "2022-11-04T08:38:32.110350Z",
     "shell.execute_reply": "2022-11-04T08:38:32.109527Z"
    },
    "papermill": {
     "duration": 0.364856,
     "end_time": "2022-11-04T08:38:32.112617",
     "exception": false,
     "start_time": "2022-11-04T08:38:31.747761",
     "status": "completed"
    },
    "tags": []
   },
   "outputs": [
    {
     "data": {
      "text/plain": [
       "((array([-3.16416595e+00, -2.89636677e+00, -2.74675222e+00, -2.64114608e+00,\n",
       "         -2.55870259e+00, -2.49067391e+00, -2.43252738e+00, -2.38160005e+00,\n",
       "         -2.33618969e+00, -2.29513992e+00, -2.25762808e+00, -2.22304736e+00,\n",
       "         -2.19093694e+00, -2.16093830e+00, -2.13276686e+00, -2.10619283e+00,\n",
       "         -2.08102787e+00, -2.05711563e+00, -2.03432484e+00, -2.01254418e+00,\n",
       "         -1.99167841e+00, -1.97164537e+00, -1.95237369e+00, -1.93380097e+00,\n",
       "         -1.91587229e+00, -1.89853909e+00, -1.88175821e+00, -1.86549107e+00,\n",
       "         -1.84970311e+00, -1.83436318e+00, -1.81944313e+00, -1.80491744e+00,\n",
       "         -1.79076290e+00, -1.77695830e+00, -1.76348425e+00, -1.75032296e+00,\n",
       "         -1.73745806e+00, -1.72487445e+00, -1.71255819e+00, -1.70049636e+00,\n",
       "         -1.68867698e+00, -1.67708890e+00, -1.66572174e+00, -1.65456583e+00,\n",
       "         -1.64361212e+00, -1.63285214e+00, -1.62227795e+00, -1.61188210e+00,\n",
       "         -1.60165759e+00, -1.59159783e+00, -1.58169661e+00, -1.57194806e+00,\n",
       "         -1.56234666e+00, -1.55288715e+00, -1.54356460e+00, -1.53437430e+00,\n",
       "         -1.52531180e+00, -1.51637287e+00, -1.50755349e+00, -1.49884983e+00,\n",
       "         -1.49025825e+00, -1.48177530e+00, -1.47339765e+00, -1.46512215e+00,\n",
       "         -1.45694579e+00, -1.44886569e+00, -1.44087909e+00, -1.43298336e+00,\n",
       "         -1.42517596e+00, -1.41745449e+00, -1.40981661e+00, -1.40226010e+00,\n",
       "         -1.39478282e+00, -1.38738272e+00, -1.38005783e+00, -1.37280624e+00,\n",
       "         -1.36562613e+00, -1.35851574e+00, -1.35147338e+00, -1.34449742e+00,\n",
       "         -1.33758628e+00, -1.33073844e+00, -1.32395244e+00, -1.31722687e+00,\n",
       "         -1.31056036e+00, -1.30395159e+00, -1.29739929e+00, -1.29090221e+00,\n",
       "         -1.28445918e+00, -1.27806903e+00, -1.27173065e+00, -1.26544295e+00,\n",
       "         -1.25920489e+00, -1.25301544e+00, -1.24687363e+00, -1.24077850e+00,\n",
       "         -1.23472912e+00, -1.22872458e+00, -1.22276403e+00, -1.21684660e+00,\n",
       "         -1.21097148e+00, -1.20513786e+00, -1.19934497e+00, -1.19359205e+00,\n",
       "         -1.18787837e+00, -1.18220320e+00, -1.17656585e+00, -1.17096565e+00,\n",
       "         -1.16540194e+00, -1.15987407e+00, -1.15438141e+00, -1.14892337e+00,\n",
       "         -1.14349933e+00, -1.13810873e+00, -1.13275101e+00, -1.12742560e+00,\n",
       "         -1.12213197e+00, -1.11686961e+00, -1.11163799e+00, -1.10643663e+00,\n",
       "         -1.10126502e+00, -1.09612271e+00, -1.09100921e+00, -1.08592409e+00,\n",
       "         -1.08086689e+00, -1.07583719e+00, -1.07083455e+00, -1.06585857e+00,\n",
       "         -1.06090885e+00, -1.05598498e+00, -1.05108658e+00, -1.04621327e+00,\n",
       "         -1.04136468e+00, -1.03654045e+00, -1.03174023e+00, -1.02696366e+00,\n",
       "         -1.02221041e+00, -1.01748014e+00, -1.01277253e+00, -1.00808726e+00,\n",
       "         -1.00342401e+00, -9.98782481e-01, -9.94162371e-01, -9.89563385e-01,\n",
       "         -9.84985234e-01, -9.80427636e-01, -9.75890312e-01, -9.71372991e-01,\n",
       "         -9.66875406e-01, -9.62397294e-01, -9.57938398e-01, -9.53498468e-01,\n",
       "         -9.49077254e-01, -9.44674515e-01, -9.40290012e-01, -9.35923511e-01,\n",
       "         -9.31574782e-01, -9.27243599e-01, -9.22929741e-01, -9.18632990e-01,\n",
       "         -9.14353133e-01, -9.10089959e-01, -9.05843261e-01, -9.01612837e-01,\n",
       "         -8.97398488e-01, -8.93200018e-01, -8.89017233e-01, -8.84849944e-01,\n",
       "         -8.80697966e-01, -8.76561115e-01, -8.72439211e-01, -8.68332076e-01,\n",
       "         -8.64239537e-01, -8.60161422e-01, -8.56097563e-01, -8.52047793e-01,\n",
       "         -8.48011949e-01, -8.43989871e-01, -8.39981400e-01, -8.35986380e-01,\n",
       "         -8.32004658e-01, -8.28036084e-01, -8.24080508e-01, -8.20137785e-01,\n",
       "         -8.16207769e-01, -8.12290320e-01, -8.08385297e-01, -8.04492562e-01,\n",
       "         -8.00611980e-01, -7.96743417e-01, -7.92886742e-01, -7.89041824e-01,\n",
       "         -7.85208535e-01, -7.81386750e-01, -7.77576344e-01, -7.73777194e-01,\n",
       "         -7.69989180e-01, -7.66212182e-01, -7.62446084e-01, -7.58690769e-01,\n",
       "         -7.54946122e-01, -7.51212033e-01, -7.47488388e-01, -7.43775079e-01,\n",
       "         -7.40071997e-01, -7.36379036e-01, -7.32696091e-01, -7.29023057e-01,\n",
       "         -7.25359833e-01, -7.21706316e-01, -7.18062408e-01, -7.14428009e-01,\n",
       "         -7.10803023e-01, -7.07187353e-01, -7.03580904e-01, -6.99983584e-01,\n",
       "         -6.96395299e-01, -6.92815959e-01, -6.89245472e-01, -6.85683751e-01,\n",
       "         -6.82130707e-01, -6.78586254e-01, -6.75050305e-01, -6.71522777e-01,\n",
       "         -6.68003585e-01, -6.64492646e-01, -6.60989880e-01, -6.57495204e-01,\n",
       "         -6.54008541e-01, -6.50529809e-01, -6.47058933e-01, -6.43595834e-01,\n",
       "         -6.40140437e-01, -6.36692665e-01, -6.33252446e-01, -6.29819705e-01,\n",
       "         -6.26394370e-01, -6.22976369e-01, -6.19565630e-01, -6.16162083e-01,\n",
       "         -6.12765660e-01, -6.09376290e-01, -6.05993906e-01, -6.02618441e-01,\n",
       "         -5.99249828e-01, -5.95888002e-01, -5.92532897e-01, -5.89184448e-01,\n",
       "         -5.85842593e-01, -5.82507267e-01, -5.79178409e-01, -5.75855957e-01,\n",
       "         -5.72539849e-01, -5.69230025e-01, -5.65926425e-01, -5.62628991e-01,\n",
       "         -5.59337662e-01, -5.56052382e-01, -5.52773092e-01, -5.49499736e-01,\n",
       "         -5.46232257e-01, -5.42970600e-01, -5.39714708e-01, -5.36464529e-01,\n",
       "         -5.33220006e-01, -5.29981087e-01, -5.26747718e-01, -5.23519846e-01,\n",
       "         -5.20297421e-01, -5.17080388e-01, -5.13868699e-01, -5.10662301e-01,\n",
       "         -5.07461145e-01, -5.04265181e-01, -5.01074359e-01, -4.97888630e-01,\n",
       "         -4.94707946e-01, -4.91532260e-01, -4.88361523e-01, -4.85195688e-01,\n",
       "         -4.82034708e-01, -4.78878538e-01, -4.75727130e-01, -4.72580440e-01,\n",
       "         -4.69438423e-01, -4.66301033e-01, -4.63168227e-01, -4.60039959e-01,\n",
       "         -4.56916187e-01, -4.53796868e-01, -4.50681957e-01, -4.47571414e-01,\n",
       "         -4.44465194e-01, -4.41363258e-01, -4.38265562e-01, -4.35172066e-01,\n",
       "         -4.32082729e-01, -4.28997511e-01, -4.25916370e-01, -4.22839267e-01,\n",
       "         -4.19766163e-01, -4.16697019e-01, -4.13631794e-01, -4.10570451e-01,\n",
       "         -4.07512950e-01, -4.04459255e-01, -4.01409326e-01, -3.98363127e-01,\n",
       "         -3.95320620e-01, -3.92281768e-01, -3.89246534e-01, -3.86214882e-01,\n",
       "         -3.83186776e-01, -3.80162179e-01, -3.77141055e-01, -3.74123371e-01,\n",
       "         -3.71109089e-01, -3.68098175e-01, -3.65090595e-01, -3.62086314e-01,\n",
       "         -3.59085297e-01, -3.56087510e-01, -3.53092920e-01, -3.50101494e-01,\n",
       "         -3.47113197e-01, -3.44127996e-01, -3.41145859e-01, -3.38166753e-01,\n",
       "         -3.35190645e-01, -3.32217503e-01, -3.29247294e-01, -3.26279988e-01,\n",
       "         -3.23315551e-01, -3.20353953e-01, -3.17395163e-01, -3.14439148e-01,\n",
       "         -3.11485878e-01, -3.08535323e-01, -3.05587451e-01, -3.02642232e-01,\n",
       "         -2.99699637e-01, -2.96759634e-01, -2.93822194e-01, -2.90887286e-01,\n",
       "         -2.87954883e-01, -2.85024953e-01, -2.82097468e-01, -2.79172399e-01,\n",
       "         -2.76249717e-01, -2.73329392e-01, -2.70411397e-01, -2.67495702e-01,\n",
       "         -2.64582279e-01, -2.61671101e-01, -2.58762138e-01, -2.55855364e-01,\n",
       "         -2.52950750e-01, -2.50048268e-01, -2.47147891e-01, -2.44249592e-01,\n",
       "         -2.41353343e-01, -2.38459117e-01, -2.35566887e-01, -2.32676627e-01,\n",
       "         -2.29788309e-01, -2.26901906e-01, -2.24017393e-01, -2.21134743e-01,\n",
       "         -2.18253928e-01, -2.15374924e-01, -2.12497705e-01, -2.09622243e-01,\n",
       "         -2.06748513e-01, -2.03876490e-01, -2.01006147e-01, -1.98137460e-01,\n",
       "         -1.95270402e-01, -1.92404948e-01, -1.89541074e-01, -1.86678753e-01,\n",
       "         -1.83817960e-01, -1.80958672e-01, -1.78100862e-01, -1.75244505e-01,\n",
       "         -1.72389578e-01, -1.69536055e-01, -1.66683912e-01, -1.63833125e-01,\n",
       "         -1.60983668e-01, -1.58135518e-01, -1.55288649e-01, -1.52443039e-01,\n",
       "         -1.49598663e-01, -1.46755497e-01, -1.43913516e-01, -1.41072697e-01,\n",
       "         -1.38233017e-01, -1.35394450e-01, -1.32556974e-01, -1.29720565e-01,\n",
       "         -1.26885199e-01, -1.24050853e-01, -1.21217504e-01, -1.18385126e-01,\n",
       "         -1.15553699e-01, -1.12723197e-01, -1.09893598e-01, -1.07064879e-01,\n",
       "         -1.04237016e-01, -1.01409987e-01, -9.85837679e-02, -9.57583359e-02,\n",
       "         -9.29336682e-02, -9.01097418e-02, -8.72865338e-02, -8.44640214e-02,\n",
       "         -8.16421817e-02, -7.88209919e-02, -7.60004293e-02, -7.31804713e-02,\n",
       "         -7.03610950e-02, -6.75422780e-02, -6.47239975e-02, -6.19062310e-02,\n",
       "         -5.90889559e-02, -5.62721498e-02, -5.34557901e-02, -5.06398543e-02,\n",
       "         -4.78243200e-02, -4.50091648e-02, -4.21943662e-02, -3.93799019e-02,\n",
       "         -3.65657495e-02, -3.37518867e-02, -3.09382910e-02, -2.81249403e-02,\n",
       "         -2.53118122e-02, -2.24988843e-02, -1.96861345e-02, -1.68735404e-02,\n",
       "         -1.40610798e-02, -1.12487304e-02, -8.43646994e-03, -5.62427623e-03,\n",
       "         -2.81212699e-03,  0.00000000e+00,  2.81212699e-03,  5.62427623e-03,\n",
       "          8.43646994e-03,  1.12487304e-02,  1.40610798e-02,  1.68735404e-02,\n",
       "          1.96861345e-02,  2.24988843e-02,  2.53118122e-02,  2.81249403e-02,\n",
       "          3.09382910e-02,  3.37518867e-02,  3.65657495e-02,  3.93799019e-02,\n",
       "          4.21943662e-02,  4.50091648e-02,  4.78243200e-02,  5.06398543e-02,\n",
       "          5.34557901e-02,  5.62721498e-02,  5.90889559e-02,  6.19062310e-02,\n",
       "          6.47239975e-02,  6.75422780e-02,  7.03610950e-02,  7.31804713e-02,\n",
       "          7.60004293e-02,  7.88209919e-02,  8.16421817e-02,  8.44640214e-02,\n",
       "          8.72865338e-02,  9.01097418e-02,  9.29336682e-02,  9.57583359e-02,\n",
       "          9.85837679e-02,  1.01409987e-01,  1.04237016e-01,  1.07064879e-01,\n",
       "          1.09893598e-01,  1.12723197e-01,  1.15553699e-01,  1.18385126e-01,\n",
       "          1.21217504e-01,  1.24050853e-01,  1.26885199e-01,  1.29720565e-01,\n",
       "          1.32556974e-01,  1.35394450e-01,  1.38233017e-01,  1.41072697e-01,\n",
       "          1.43913516e-01,  1.46755497e-01,  1.49598663e-01,  1.52443039e-01,\n",
       "          1.55288649e-01,  1.58135518e-01,  1.60983668e-01,  1.63833125e-01,\n",
       "          1.66683912e-01,  1.69536055e-01,  1.72389578e-01,  1.75244505e-01,\n",
       "          1.78100862e-01,  1.80958672e-01,  1.83817960e-01,  1.86678753e-01,\n",
       "          1.89541074e-01,  1.92404948e-01,  1.95270402e-01,  1.98137460e-01,\n",
       "          2.01006147e-01,  2.03876490e-01,  2.06748513e-01,  2.09622243e-01,\n",
       "          2.12497705e-01,  2.15374924e-01,  2.18253928e-01,  2.21134743e-01,\n",
       "          2.24017393e-01,  2.26901906e-01,  2.29788309e-01,  2.32676627e-01,\n",
       "          2.35566887e-01,  2.38459117e-01,  2.41353343e-01,  2.44249592e-01,\n",
       "          2.47147891e-01,  2.50048268e-01,  2.52950750e-01,  2.55855364e-01,\n",
       "          2.58762138e-01,  2.61671101e-01,  2.64582279e-01,  2.67495702e-01,\n",
       "          2.70411397e-01,  2.73329392e-01,  2.76249717e-01,  2.79172399e-01,\n",
       "          2.82097468e-01,  2.85024953e-01,  2.87954883e-01,  2.90887286e-01,\n",
       "          2.93822194e-01,  2.96759634e-01,  2.99699637e-01,  3.02642232e-01,\n",
       "          3.05587451e-01,  3.08535323e-01,  3.11485878e-01,  3.14439148e-01,\n",
       "          3.17395163e-01,  3.20353953e-01,  3.23315551e-01,  3.26279988e-01,\n",
       "          3.29247294e-01,  3.32217503e-01,  3.35190645e-01,  3.38166753e-01,\n",
       "          3.41145859e-01,  3.44127996e-01,  3.47113197e-01,  3.50101494e-01,\n",
       "          3.53092920e-01,  3.56087510e-01,  3.59085297e-01,  3.62086314e-01,\n",
       "          3.65090595e-01,  3.68098175e-01,  3.71109089e-01,  3.74123371e-01,\n",
       "          3.77141055e-01,  3.80162179e-01,  3.83186776e-01,  3.86214882e-01,\n",
       "          3.89246534e-01,  3.92281768e-01,  3.95320620e-01,  3.98363127e-01,\n",
       "          4.01409326e-01,  4.04459255e-01,  4.07512950e-01,  4.10570451e-01,\n",
       "          4.13631794e-01,  4.16697019e-01,  4.19766163e-01,  4.22839267e-01,\n",
       "          4.25916370e-01,  4.28997511e-01,  4.32082729e-01,  4.35172066e-01,\n",
       "          4.38265562e-01,  4.41363258e-01,  4.44465194e-01,  4.47571414e-01,\n",
       "          4.50681957e-01,  4.53796868e-01,  4.56916187e-01,  4.60039959e-01,\n",
       "          4.63168227e-01,  4.66301033e-01,  4.69438423e-01,  4.72580440e-01,\n",
       "          4.75727130e-01,  4.78878538e-01,  4.82034708e-01,  4.85195688e-01,\n",
       "          4.88361523e-01,  4.91532260e-01,  4.94707946e-01,  4.97888630e-01,\n",
       "          5.01074359e-01,  5.04265181e-01,  5.07461145e-01,  5.10662301e-01,\n",
       "          5.13868699e-01,  5.17080388e-01,  5.20297421e-01,  5.23519846e-01,\n",
       "          5.26747718e-01,  5.29981087e-01,  5.33220006e-01,  5.36464529e-01,\n",
       "          5.39714708e-01,  5.42970600e-01,  5.46232257e-01,  5.49499736e-01,\n",
       "          5.52773092e-01,  5.56052382e-01,  5.59337662e-01,  5.62628991e-01,\n",
       "          5.65926425e-01,  5.69230025e-01,  5.72539849e-01,  5.75855957e-01,\n",
       "          5.79178409e-01,  5.82507267e-01,  5.85842593e-01,  5.89184448e-01,\n",
       "          5.92532897e-01,  5.95888002e-01,  5.99249828e-01,  6.02618441e-01,\n",
       "          6.05993906e-01,  6.09376290e-01,  6.12765660e-01,  6.16162083e-01,\n",
       "          6.19565630e-01,  6.22976369e-01,  6.26394370e-01,  6.29819705e-01,\n",
       "          6.33252446e-01,  6.36692665e-01,  6.40140437e-01,  6.43595834e-01,\n",
       "          6.47058933e-01,  6.50529809e-01,  6.54008541e-01,  6.57495204e-01,\n",
       "          6.60989880e-01,  6.64492646e-01,  6.68003585e-01,  6.71522777e-01,\n",
       "          6.75050305e-01,  6.78586254e-01,  6.82130707e-01,  6.85683751e-01,\n",
       "          6.89245472e-01,  6.92815959e-01,  6.96395299e-01,  6.99983584e-01,\n",
       "          7.03580904e-01,  7.07187353e-01,  7.10803023e-01,  7.14428009e-01,\n",
       "          7.18062408e-01,  7.21706316e-01,  7.25359833e-01,  7.29023057e-01,\n",
       "          7.32696091e-01,  7.36379036e-01,  7.40071997e-01,  7.43775079e-01,\n",
       "          7.47488388e-01,  7.51212033e-01,  7.54946122e-01,  7.58690769e-01,\n",
       "          7.62446084e-01,  7.66212182e-01,  7.69989180e-01,  7.73777194e-01,\n",
       "          7.77576344e-01,  7.81386750e-01,  7.85208535e-01,  7.89041824e-01,\n",
       "          7.92886742e-01,  7.96743417e-01,  8.00611980e-01,  8.04492562e-01,\n",
       "          8.08385297e-01,  8.12290320e-01,  8.16207769e-01,  8.20137785e-01,\n",
       "          8.24080508e-01,  8.28036084e-01,  8.32004658e-01,  8.35986380e-01,\n",
       "          8.39981400e-01,  8.43989871e-01,  8.48011949e-01,  8.52047793e-01,\n",
       "          8.56097563e-01,  8.60161422e-01,  8.64239537e-01,  8.68332076e-01,\n",
       "          8.72439211e-01,  8.76561115e-01,  8.80697966e-01,  8.84849944e-01,\n",
       "          8.89017233e-01,  8.93200018e-01,  8.97398488e-01,  9.01612837e-01,\n",
       "          9.05843261e-01,  9.10089959e-01,  9.14353133e-01,  9.18632990e-01,\n",
       "          9.22929741e-01,  9.27243599e-01,  9.31574782e-01,  9.35923511e-01,\n",
       "          9.40290012e-01,  9.44674515e-01,  9.49077254e-01,  9.53498468e-01,\n",
       "          9.57938398e-01,  9.62397294e-01,  9.66875406e-01,  9.71372991e-01,\n",
       "          9.75890312e-01,  9.80427636e-01,  9.84985234e-01,  9.89563385e-01,\n",
       "          9.94162371e-01,  9.98782481e-01,  1.00342401e+00,  1.00808726e+00,\n",
       "          1.01277253e+00,  1.01748014e+00,  1.02221041e+00,  1.02696366e+00,\n",
       "          1.03174023e+00,  1.03654045e+00,  1.04136468e+00,  1.04621327e+00,\n",
       "          1.05108658e+00,  1.05598498e+00,  1.06090885e+00,  1.06585857e+00,\n",
       "          1.07083455e+00,  1.07583719e+00,  1.08086689e+00,  1.08592409e+00,\n",
       "          1.09100921e+00,  1.09612271e+00,  1.10126502e+00,  1.10643663e+00,\n",
       "          1.11163799e+00,  1.11686961e+00,  1.12213197e+00,  1.12742560e+00,\n",
       "          1.13275101e+00,  1.13810873e+00,  1.14349933e+00,  1.14892337e+00,\n",
       "          1.15438141e+00,  1.15987407e+00,  1.16540194e+00,  1.17096565e+00,\n",
       "          1.17656585e+00,  1.18220320e+00,  1.18787837e+00,  1.19359205e+00,\n",
       "          1.19934497e+00,  1.20513786e+00,  1.21097148e+00,  1.21684660e+00,\n",
       "          1.22276403e+00,  1.22872458e+00,  1.23472912e+00,  1.24077850e+00,\n",
       "          1.24687363e+00,  1.25301544e+00,  1.25920489e+00,  1.26544295e+00,\n",
       "          1.27173065e+00,  1.27806903e+00,  1.28445918e+00,  1.29090221e+00,\n",
       "          1.29739929e+00,  1.30395159e+00,  1.31056036e+00,  1.31722687e+00,\n",
       "          1.32395244e+00,  1.33073844e+00,  1.33758628e+00,  1.34449742e+00,\n",
       "          1.35147338e+00,  1.35851574e+00,  1.36562613e+00,  1.37280624e+00,\n",
       "          1.38005783e+00,  1.38738272e+00,  1.39478282e+00,  1.40226010e+00,\n",
       "          1.40981661e+00,  1.41745449e+00,  1.42517596e+00,  1.43298336e+00,\n",
       "          1.44087909e+00,  1.44886569e+00,  1.45694579e+00,  1.46512215e+00,\n",
       "          1.47339765e+00,  1.48177530e+00,  1.49025825e+00,  1.49884983e+00,\n",
       "          1.50755349e+00,  1.51637287e+00,  1.52531180e+00,  1.53437430e+00,\n",
       "          1.54356460e+00,  1.55288715e+00,  1.56234666e+00,  1.57194806e+00,\n",
       "          1.58169661e+00,  1.59159783e+00,  1.60165759e+00,  1.61188210e+00,\n",
       "          1.62227795e+00,  1.63285214e+00,  1.64361212e+00,  1.65456583e+00,\n",
       "          1.66572174e+00,  1.67708890e+00,  1.68867698e+00,  1.70049636e+00,\n",
       "          1.71255819e+00,  1.72487445e+00,  1.73745806e+00,  1.75032296e+00,\n",
       "          1.76348425e+00,  1.77695830e+00,  1.79076290e+00,  1.80491744e+00,\n",
       "          1.81944313e+00,  1.83436318e+00,  1.84970311e+00,  1.86549107e+00,\n",
       "          1.88175821e+00,  1.89853909e+00,  1.91587229e+00,  1.93380097e+00,\n",
       "          1.95237369e+00,  1.97164537e+00,  1.99167841e+00,  2.01254418e+00,\n",
       "          2.03432484e+00,  2.05711563e+00,  2.08102787e+00,  2.10619283e+00,\n",
       "          2.13276686e+00,  2.16093830e+00,  2.19093694e+00,  2.22304736e+00,\n",
       "          2.25762808e+00,  2.29513992e+00,  2.33618969e+00,  2.38160005e+00,\n",
       "          2.43252738e+00,  2.49067391e+00,  2.55870259e+00,  2.64114608e+00,\n",
       "          2.74675222e+00,  2.89636677e+00,  3.16416595e+00]),\n",
       "  array([ 0.    ,  0.    ,  0.    ,  0.    ,  0.    ,  0.    ,  0.    ,\n",
       "          0.    ,  0.    ,  0.    ,  0.    ,  0.    ,  0.    ,  0.    ,\n",
       "          0.    ,  4.0125,  5.    ,  6.2375,  6.4375,  6.45  ,  6.4958,\n",
       "          6.4958,  6.75  ,  6.75  ,  6.8583,  6.95  ,  6.975 ,  6.975 ,\n",
       "          7.0458,  7.05  ,  7.05  ,  7.05  ,  7.05  ,  7.05  ,  7.05  ,\n",
       "          7.05  ,  7.0542,  7.0542,  7.125 ,  7.125 ,  7.125 ,  7.125 ,\n",
       "          7.1417,  7.225 ,  7.225 ,  7.225 ,  7.225 ,  7.225 ,  7.225 ,\n",
       "          7.225 ,  7.225 ,  7.225 ,  7.225 ,  7.225 ,  7.225 ,  7.2292,\n",
       "          7.2292,  7.2292,  7.2292,  7.2292,  7.2292,  7.2292,  7.2292,\n",
       "          7.2292,  7.2292,  7.2292,  7.2292,  7.2292,  7.2292,  7.2292,\n",
       "          7.25  ,  7.25  ,  7.25  ,  7.25  ,  7.25  ,  7.25  ,  7.25  ,\n",
       "          7.25  ,  7.25  ,  7.25  ,  7.25  ,  7.25  ,  7.25  ,  7.3125,\n",
       "          7.4958,  7.4958,  7.4958,  7.5208,  7.55  ,  7.55  ,  7.55  ,\n",
       "          7.55  ,  7.6292,  7.65  ,  7.65  ,  7.65  ,  7.65  ,  7.725 ,\n",
       "          7.7292,  7.7333,  7.7333,  7.7333,  7.7333,  7.7375,  7.7375,\n",
       "          7.7417,  7.75  ,  7.75  ,  7.75  ,  7.75  ,  7.75  ,  7.75  ,\n",
       "          7.75  ,  7.75  ,  7.75  ,  7.75  ,  7.75  ,  7.75  ,  7.75  ,\n",
       "          7.75  ,  7.75  ,  7.75  ,  7.75  ,  7.75  ,  7.75  ,  7.75  ,\n",
       "          7.75  ,  7.75  ,  7.75  ,  7.75  ,  7.75  ,  7.75  ,  7.75  ,\n",
       "          7.75  ,  7.75  ,  7.75  ,  7.75  ,  7.75  ,  7.75  ,  7.75  ,\n",
       "          7.775 ,  7.775 ,  7.775 ,  7.775 ,  7.775 ,  7.775 ,  7.775 ,\n",
       "          7.775 ,  7.775 ,  7.775 ,  7.775 ,  7.775 ,  7.775 ,  7.775 ,\n",
       "          7.775 ,  7.775 ,  7.7875,  7.7958,  7.7958,  7.7958,  7.7958,\n",
       "          7.7958,  7.7958,  7.8   ,  7.8292,  7.8292,  7.8542,  7.8542,\n",
       "          7.8542,  7.8542,  7.8542,  7.8542,  7.8542,  7.8542,  7.8542,\n",
       "          7.8542,  7.8542,  7.8542,  7.8542,  7.875 ,  7.8792,  7.8792,\n",
       "          7.8792,  7.8792,  7.8875,  7.8958,  7.8958,  7.8958,  7.8958,\n",
       "          7.8958,  7.8958,  7.8958,  7.8958,  7.8958,  7.8958,  7.8958,\n",
       "          7.8958,  7.8958,  7.8958,  7.8958,  7.8958,  7.8958,  7.8958,\n",
       "          7.8958,  7.8958,  7.8958,  7.8958,  7.8958,  7.8958,  7.8958,\n",
       "          7.8958,  7.8958,  7.8958,  7.8958,  7.8958,  7.8958,  7.8958,\n",
       "          7.8958,  7.8958,  7.8958,  7.8958,  7.8958,  7.8958,  7.925 ,\n",
       "          7.925 ,  7.925 ,  7.925 ,  7.925 ,  7.925 ,  7.925 ,  7.925 ,\n",
       "          7.925 ,  7.925 ,  7.925 ,  7.925 ,  7.925 ,  7.925 ,  7.925 ,\n",
       "          7.925 ,  7.925 ,  7.925 ,  8.0292,  8.05  ,  8.05  ,  8.05  ,\n",
       "          8.05  ,  8.05  ,  8.05  ,  8.05  ,  8.05  ,  8.05  ,  8.05  ,\n",
       "          8.05  ,  8.05  ,  8.05  ,  8.05  ,  8.05  ,  8.05  ,  8.05  ,\n",
       "          8.05  ,  8.05  ,  8.05  ,  8.05  ,  8.05  ,  8.05  ,  8.05  ,\n",
       "          8.05  ,  8.05  ,  8.05  ,  8.05  ,  8.05  ,  8.05  ,  8.05  ,\n",
       "          8.05  ,  8.05  ,  8.05  ,  8.05  ,  8.05  ,  8.05  ,  8.05  ,\n",
       "          8.05  ,  8.05  ,  8.05  ,  8.05  ,  8.05  ,  8.1125,  8.1375,\n",
       "          8.1583,  8.3   ,  8.3625,  8.4042,  8.4333,  8.4583,  8.5167,\n",
       "          8.6542,  8.6625,  8.6625,  8.6625,  8.6625,  8.6625,  8.6625,\n",
       "          8.6625,  8.6625,  8.6625,  8.6625,  8.6625,  8.6625,  8.6625,\n",
       "          8.6833,  8.7125,  8.85  ,  9.    ,  9.    ,  9.2167,  9.225 ,\n",
       "          9.225 ,  9.35  ,  9.35  ,  9.475 ,  9.4833,  9.5   ,  9.5   ,\n",
       "          9.5   ,  9.5   ,  9.5   ,  9.5   ,  9.5   ,  9.5   ,  9.5   ,\n",
       "          9.5875,  9.5875,  9.825 ,  9.825 ,  9.8375,  9.8417,  9.8458,\n",
       "         10.1708, 10.4625, 10.4625, 10.5   , 10.5   , 10.5   , 10.5   ,\n",
       "         10.5   , 10.5   , 10.5   , 10.5   , 10.5   , 10.5   , 10.5   ,\n",
       "         10.5   , 10.5   , 10.5   , 10.5   , 10.5   , 10.5   , 10.5   ,\n",
       "         10.5   , 10.5   , 10.5   , 10.5   , 10.5   , 10.5   , 10.5167,\n",
       "         11.1333, 11.1333, 11.1333, 11.2417, 11.2417, 11.5   , 11.5   ,\n",
       "         11.5   , 11.5   , 12.    , 12.275 , 12.2875, 12.35  , 12.35  ,\n",
       "         12.35  , 12.475 , 12.475 , 12.475 , 12.475 , 12.525 , 12.65  ,\n",
       "         12.875 , 13.    , 13.    , 13.    , 13.    , 13.    , 13.    ,\n",
       "         13.    , 13.    , 13.    , 13.    , 13.    , 13.    , 13.    ,\n",
       "         13.    , 13.    , 13.    , 13.    , 13.    , 13.    , 13.    ,\n",
       "         13.    , 13.    , 13.    , 13.    , 13.    , 13.    , 13.    ,\n",
       "         13.    , 13.    , 13.    , 13.    , 13.    , 13.    , 13.    ,\n",
       "         13.    , 13.    , 13.    , 13.    , 13.    , 13.    , 13.    ,\n",
       "         13.    , 13.4167, 13.5   , 13.5   , 13.5   , 13.5   , 13.7917,\n",
       "         13.8583, 13.8625, 14.    , 14.1083, 14.4   , 14.4   , 14.4542,\n",
       "         14.4542, 14.4542, 14.4542, 14.4542, 14.4542, 14.4542, 14.4583,\n",
       "         14.4583, 14.4583, 14.5   , 14.5   , 14.5   , 14.5   , 14.5   ,\n",
       "         14.5   , 14.5   , 15.    , 15.0458, 15.05  , 15.1   , 15.2458,\n",
       "         15.2458, 15.2458, 15.2458, 15.2458, 15.5   , 15.5   , 15.5   ,\n",
       "         15.5   , 15.5   , 15.5   , 15.5   , 15.5   , 15.55  , 15.7417,\n",
       "         15.7417, 15.75  , 15.85  , 15.85  , 15.85  , 15.85  , 15.9   ,\n",
       "         15.9   , 16.    , 16.1   , 16.1   , 16.1   , 16.1   , 16.1   ,\n",
       "         16.1   , 16.1   , 16.1   , 16.1   , 16.7   , 16.7   , 17.4   ,\n",
       "         17.8   , 17.8   , 18.    , 18.    , 18.    , 18.75  , 18.75  ,\n",
       "         18.75  , 18.7875, 18.7875, 19.2583, 19.2583, 19.2583, 19.2583,\n",
       "         19.5   , 19.5   , 19.9667, 19.9667, 20.2125, 20.2125, 20.25  ,\n",
       "         20.25  , 20.525 , 20.525 , 20.525 , 20.575 , 20.575 , 21.    ,\n",
       "         21.    , 21.    , 21.    , 21.    , 21.    , 21.075 , 21.075 ,\n",
       "         21.075 , 21.075 , 21.6792, 22.025 , 22.3583, 22.3583, 22.525 ,\n",
       "         23.    , 23.    , 23.    , 23.    , 23.25  , 23.25  , 23.45  ,\n",
       "         23.45  , 24.    , 24.    , 24.15  , 24.15  , 24.15  , 24.15  ,\n",
       "         24.15  , 24.15  , 24.15  , 24.15  , 25.4667, 25.4667, 25.4667,\n",
       "         25.4667, 25.5875, 25.925 , 25.9292, 25.9292, 26.    , 26.    ,\n",
       "         26.    , 26.    , 26.    , 26.    , 26.    , 26.    , 26.    ,\n",
       "         26.    , 26.    , 26.    , 26.    , 26.    , 26.    , 26.    ,\n",
       "         26.    , 26.    , 26.    , 26.    , 26.    , 26.    , 26.    ,\n",
       "         26.    , 26.    , 26.    , 26.    , 26.    , 26.    , 26.    ,\n",
       "         26.    , 26.25  , 26.25  , 26.25  , 26.25  , 26.25  , 26.25  ,\n",
       "         26.2833, 26.2875, 26.2875, 26.2875, 26.3875, 26.55  , 26.55  ,\n",
       "         26.55  , 26.55  , 26.55  , 26.55  , 26.55  , 26.55  , 26.55  ,\n",
       "         26.55  , 26.55  , 26.55  , 26.55  , 26.55  , 26.55  , 27.    ,\n",
       "         27.    , 27.7208, 27.7208, 27.7208, 27.7208, 27.7208, 27.75  ,\n",
       "         27.75  , 27.75  , 27.75  , 27.9   , 27.9   , 27.9   , 27.9   ,\n",
       "         27.9   , 27.9   , 28.5   , 28.7125, 29.    , 29.    , 29.125 ,\n",
       "         29.125 , 29.125 , 29.125 , 29.125 , 29.7   , 29.7   , 29.7   ,\n",
       "         30.    , 30.    , 30.    , 30.    , 30.    , 30.    , 30.0708,\n",
       "         30.0708, 30.5   , 30.5   , 30.5   , 30.5   , 30.5   , 30.6958,\n",
       "         30.6958, 31.    , 31.    , 31.    , 31.275 , 31.275 , 31.275 ,\n",
       "         31.275 , 31.275 , 31.275 , 31.275 , 31.3875, 31.3875, 31.3875,\n",
       "         31.3875, 32.3208, 32.5   , 33.    , 33.    , 33.    , 33.5   ,\n",
       "         34.0208, 34.375 , 34.375 , 34.375 , 34.375 , 34.6542, 35.    ,\n",
       "         35.5   , 35.5   , 35.5   , 35.5   , 36.75  , 36.75  , 37.0042,\n",
       "         37.0042, 38.5   , 39.    , 39.    , 39.    , 39.    , 39.4   ,\n",
       "         39.6   , 39.6   , 39.6875, 39.6875, 39.6875, 39.6875, 39.6875,\n",
       "         39.6875, 40.125 , 41.5792, 41.5792, 41.5792, 42.4   , 46.9   ,\n",
       "         46.9   , 46.9   , 46.9   , 46.9   , 46.9   , 47.1   , 49.5   ,\n",
       "         49.5042, 49.5042, 50.    , 50.4958, 51.4792, 51.8625, 51.8625,\n",
       "         52.    , 52.    , 52.    , 52.    , 52.    , 52.    , 52.    ,\n",
       "         52.5542, 52.5542, 52.5542, 53.1   , 53.1   , 53.1   , 53.1   ,\n",
       "         53.1   , 55.    , 55.    , 55.4417, 55.9   , 55.9   , 56.4958,\n",
       "         56.4958, 56.4958, 56.4958, 56.4958, 56.4958, 56.4958, 56.9292,\n",
       "         56.9292, 57.    , 57.    , 57.9792, 57.9792, 59.4   , 61.175 ,\n",
       "         61.3792, 61.9792, 63.3583, 65.    , 65.    , 65.6344, 65.6344,\n",
       "         65.6344, 65.6344, 65.6344, 65.6344, 65.6344, 65.6344, 65.6344,\n",
       "         65.6344, 65.6344, 65.6344, 65.6344, 65.6344, 65.6344, 65.6344,\n",
       "         65.6344, 65.6344, 65.6344, 65.6344, 65.6344, 65.6344, 65.6344,\n",
       "         65.6344, 65.6344, 65.6344, 65.6344, 65.6344, 65.6344, 65.6344,\n",
       "         65.6344, 65.6344, 65.6344, 65.6344, 65.6344, 65.6344, 65.6344,\n",
       "         65.6344, 65.6344, 65.6344, 65.6344, 65.6344, 65.6344, 65.6344,\n",
       "         65.6344, 65.6344, 65.6344, 65.6344, 65.6344, 65.6344, 65.6344,\n",
       "         65.6344, 65.6344, 65.6344, 65.6344, 65.6344, 65.6344, 65.6344,\n",
       "         65.6344, 65.6344, 65.6344, 65.6344, 65.6344, 65.6344, 65.6344,\n",
       "         65.6344, 65.6344, 65.6344, 65.6344, 65.6344, 65.6344, 65.6344,\n",
       "         65.6344, 65.6344, 65.6344, 65.6344, 65.6344, 65.6344, 65.6344,\n",
       "         65.6344, 65.6344, 65.6344, 65.6344, 65.6344, 65.6344, 65.6344,\n",
       "         65.6344, 65.6344, 65.6344, 65.6344, 65.6344, 65.6344, 65.6344,\n",
       "         65.6344, 65.6344, 65.6344, 65.6344, 65.6344, 65.6344, 65.6344,\n",
       "         65.6344, 65.6344, 65.6344, 65.6344, 65.6344, 65.6344, 65.6344,\n",
       "         65.6344, 65.6344, 65.6344, 65.6344, 65.6344, 65.6344, 65.6344,\n",
       "         65.6344, 65.6344])),\n",
       " (18.23528141297075, 24.04681335578002, 0.8880853522698107))"
      ]
     },
     "execution_count": 88,
     "metadata": {},
     "output_type": "execute_result"
    },
    {
     "data": {
      "image/png": "[encoded data removed]",
      "text/plain": [
       "<Figure size 640x480 with 1 Axes>"
      ]
     },
     "metadata": {},
     "output_type": "display_data"
    }
   ],
   "source": [
    "stats.probplot(data_train_mod['Fare'], dist ='norm', plot =pylab)"
   ]
  },
  {
   "cell_type": "code",
   "execution_count": 89,
   "id": "96bea386",
   "metadata": {
    "execution": {
     "iopub.execute_input": "2022-11-04T08:38:32.216192Z",
     "iopub.status.busy": "2022-11-04T08:38:32.215237Z",
     "iopub.status.idle": "2022-11-04T08:38:32.467932Z",
     "shell.execute_reply": "2022-11-04T08:38:32.466583Z"
    },
    "papermill": {
     "duration": 0.30775,
     "end_time": "2022-11-04T08:38:32.470700",
     "exception": false,
     "start_time": "2022-11-04T08:38:32.162950",
     "status": "completed"
    },
    "tags": []
   },
   "outputs": [
    {
     "name": "stderr",
     "output_type": "stream",
     "text": [
      "C:\\Users\\PC\\anaconda3\\lib\\site-packages\\pandas\\core\\arraylike.py:397: RuntimeWarning: divide by zero encountered in log\n",
      "  result = getattr(ufunc, method)(*inputs, **kwargs)\n",
      "C:\\Users\\PC\\anaconda3\\lib\\site-packages\\numpy\\lib\\function_base.py:2536: RuntimeWarning: invalid value encountered in subtract\n",
      "  X -= avg[:, None]\n"
     ]
    },
    {
     "data": {
      "text/plain": [
       "((array([-3.16416595e+00, -2.89636677e+00, -2.74675222e+00, -2.64114608e+00,\n",
       "         -2.55870259e+00, -2.49067391e+00, -2.43252738e+00, -2.38160005e+00,\n",
       "         -2.33618969e+00, -2.29513992e+00, -2.25762808e+00, -2.22304736e+00,\n",
       "         -2.19093694e+00, -2.16093830e+00, -2.13276686e+00, -2.10619283e+00,\n",
       "         -2.08102787e+00, -2.05711563e+00, -2.03432484e+00, -2.01254418e+00,\n",
       "         -1.99167841e+00, -1.97164537e+00, -1.95237369e+00, -1.93380097e+00,\n",
       "         -1.91587229e+00, -1.89853909e+00, -1.88175821e+00, -1.86549107e+00,\n",
       "         -1.84970311e+00, -1.83436318e+00, -1.81944313e+00, -1.80491744e+00,\n",
       "         -1.79076290e+00, -1.77695830e+00, -1.76348425e+00, -1.75032296e+00,\n",
       "         -1.73745806e+00, -1.72487445e+00, -1.71255819e+00, -1.70049636e+00,\n",
       "         -1.68867698e+00, -1.67708890e+00, -1.66572174e+00, -1.65456583e+00,\n",
       "         -1.64361212e+00, -1.63285214e+00, -1.62227795e+00, -1.61188210e+00,\n",
       "         -1.60165759e+00, -1.59159783e+00, -1.58169661e+00, -1.57194806e+00,\n",
       "         -1.56234666e+00, -1.55288715e+00, -1.54356460e+00, -1.53437430e+00,\n",
       "         -1.52531180e+00, -1.51637287e+00, -1.50755349e+00, -1.49884983e+00,\n",
       "         -1.49025825e+00, -1.48177530e+00, -1.47339765e+00, -1.46512215e+00,\n",
       "         -1.45694579e+00, -1.44886569e+00, -1.44087909e+00, -1.43298336e+00,\n",
       "         -1.42517596e+00, -1.41745449e+00, -1.40981661e+00, -1.40226010e+00,\n",
       "         -1.39478282e+00, -1.38738272e+00, -1.38005783e+00, -1.37280624e+00,\n",
       "         -1.36562613e+00, -1.35851574e+00, -1.35147338e+00, -1.34449742e+00,\n",
       "         -1.33758628e+00, -1.33073844e+00, -1.32395244e+00, -1.31722687e+00,\n",
       "         -1.31056036e+00, -1.30395159e+00, -1.29739929e+00, -1.29090221e+00,\n",
       "         -1.28445918e+00, -1.27806903e+00, -1.27173065e+00, -1.26544295e+00,\n",
       "         -1.25920489e+00, -1.25301544e+00, -1.24687363e+00, -1.24077850e+00,\n",
       "         -1.23472912e+00, -1.22872458e+00, -1.22276403e+00, -1.21684660e+00,\n",
       "         -1.21097148e+00, -1.20513786e+00, -1.19934497e+00, -1.19359205e+00,\n",
       "         -1.18787837e+00, -1.18220320e+00, -1.17656585e+00, -1.17096565e+00,\n",
       "         -1.16540194e+00, -1.15987407e+00, -1.15438141e+00, -1.14892337e+00,\n",
       "         -1.14349933e+00, -1.13810873e+00, -1.13275101e+00, -1.12742560e+00,\n",
       "         -1.12213197e+00, -1.11686961e+00, -1.11163799e+00, -1.10643663e+00,\n",
       "         -1.10126502e+00, -1.09612271e+00, -1.09100921e+00, -1.08592409e+00,\n",
       "         -1.08086689e+00, -1.07583719e+00, -1.07083455e+00, -1.06585857e+00,\n",
       "         -1.06090885e+00, -1.05598498e+00, -1.05108658e+00, -1.04621327e+00,\n",
       "         -1.04136468e+00, -1.03654045e+00, -1.03174023e+00, -1.02696366e+00,\n",
       "         -1.02221041e+00, -1.01748014e+00, -1.01277253e+00, -1.00808726e+00,\n",
       "         -1.00342401e+00, -9.98782481e-01, -9.94162371e-01, -9.89563385e-01,\n",
       "         -9.84985234e-01, -9.80427636e-01, -9.75890312e-01, -9.71372991e-01,\n",
       "         -9.66875406e-01, -9.62397294e-01, -9.57938398e-01, -9.53498468e-01,\n",
       "         -9.49077254e-01, -9.44674515e-01, -9.40290012e-01, -9.35923511e-01,\n",
       "         -9.31574782e-01, -9.27243599e-01, -9.22929741e-01, -9.18632990e-01,\n",
       "         -9.14353133e-01, -9.10089959e-01, -9.05843261e-01, -9.01612837e-01,\n",
       "         -8.97398488e-01, -8.93200018e-01, -8.89017233e-01, -8.84849944e-01,\n",
       "         -8.80697966e-01, -8.76561115e-01, -8.72439211e-01, -8.68332076e-01,\n",
       "         -8.64239537e-01, -8.60161422e-01, -8.56097563e-01, -8.52047793e-01,\n",
       "         -8.48011949e-01, -8.43989871e-01, -8.39981400e-01, -8.35986380e-01,\n",
       "         -8.32004658e-01, -8.28036084e-01, -8.24080508e-01, -8.20137785e-01,\n",
       "         -8.16207769e-01, -8.12290320e-01, -8.08385297e-01, -8.04492562e-01,\n",
       "         -8.00611980e-01, -7.96743417e-01, -7.92886742e-01, -7.89041824e-01,\n",
       "         -7.85208535e-01, -7.81386750e-01, -7.77576344e-01, -7.73777194e-01,\n",
       "         -7.69989180e-01, -7.66212182e-01, -7.62446084e-01, -7.58690769e-01,\n",
       "         -7.54946122e-01, -7.51212033e-01, -7.47488388e-01, -7.43775079e-01,\n",
       "         -7.40071997e-01, -7.36379036e-01, -7.32696091e-01, -7.29023057e-01,\n",
       "         -7.25359833e-01, -7.21706316e-01, -7.18062408e-01, -7.14428009e-01,\n",
       "         -7.10803023e-01, -7.07187353e-01, -7.03580904e-01, -6.99983584e-01,\n",
       "         -6.96395299e-01, -6.92815959e-01, -6.89245472e-01, -6.85683751e-01,\n",
       "         -6.82130707e-01, -6.78586254e-01, -6.75050305e-01, -6.71522777e-01,\n",
       "         -6.68003585e-01, -6.64492646e-01, -6.60989880e-01, -6.57495204e-01,\n",
       "         -6.54008541e-01, -6.50529809e-01, -6.47058933e-01, -6.43595834e-01,\n",
       "         -6.40140437e-01, -6.36692665e-01, -6.33252446e-01, -6.29819705e-01,\n",
       "         -6.26394370e-01, -6.22976369e-01, -6.19565630e-01, -6.16162083e-01,\n",
       "         -6.12765660e-01, -6.09376290e-01, -6.05993906e-01, -6.02618441e-01,\n",
       "         -5.99249828e-01, -5.95888002e-01, -5.92532897e-01, -5.89184448e-01,\n",
       "         -5.85842593e-01, -5.82507267e-01, -5.79178409e-01, -5.75855957e-01,\n",
       "         -5.72539849e-01, -5.69230025e-01, -5.65926425e-01, -5.62628991e-01,\n",
       "         -5.59337662e-01, -5.56052382e-01, -5.52773092e-01, -5.49499736e-01,\n",
       "         -5.46232257e-01, -5.42970600e-01, -5.39714708e-01, -5.36464529e-01,\n",
       "         -5.33220006e-01, -5.29981087e-01, -5.26747718e-01, -5.23519846e-01,\n",
       "         -5.20297421e-01, -5.17080388e-01, -5.13868699e-01, -5.10662301e-01,\n",
       "         -5.07461145e-01, -5.04265181e-01, -5.01074359e-01, -4.97888630e-01,\n",
       "         -4.94707946e-01, -4.91532260e-01, -4.88361523e-01, -4.85195688e-01,\n",
       "         -4.82034708e-01, -4.78878538e-01, -4.75727130e-01, -4.72580440e-01,\n",
       "         -4.69438423e-01, -4.66301033e-01, -4.63168227e-01, -4.60039959e-01,\n",
       "         -4.56916187e-01, -4.53796868e-01, -4.50681957e-01, -4.47571414e-01,\n",
       "         -4.44465194e-01, -4.41363258e-01, -4.38265562e-01, -4.35172066e-01,\n",
       "         -4.32082729e-01, -4.28997511e-01, -4.25916370e-01, -4.22839267e-01,\n",
       "         -4.19766163e-01, -4.16697019e-01, -4.13631794e-01, -4.10570451e-01,\n",
       "         -4.07512950e-01, -4.04459255e-01, -4.01409326e-01, -3.98363127e-01,\n",
       "         -3.95320620e-01, -3.92281768e-01, -3.89246534e-01, -3.86214882e-01,\n",
       "         -3.83186776e-01, -3.80162179e-01, -3.77141055e-01, -3.74123371e-01,\n",
       "         -3.71109089e-01, -3.68098175e-01, -3.65090595e-01, -3.62086314e-01,\n",
       "         -3.59085297e-01, -3.56087510e-01, -3.53092920e-01, -3.50101494e-01,\n",
       "         -3.47113197e-01, -3.44127996e-01, -3.41145859e-01, -3.38166753e-01,\n",
       "         -3.35190645e-01, -3.32217503e-01, -3.29247294e-01, -3.26279988e-01,\n",
       "         -3.23315551e-01, -3.20353953e-01, -3.17395163e-01, -3.14439148e-01,\n",
       "         -3.11485878e-01, -3.08535323e-01, -3.05587451e-01, -3.02642232e-01,\n",
       "         -2.99699637e-01, -2.96759634e-01, -2.93822194e-01, -2.90887286e-01,\n",
       "         -2.87954883e-01, -2.85024953e-01, -2.82097468e-01, -2.79172399e-01,\n",
       "         -2.76249717e-01, -2.73329392e-01, -2.70411397e-01, -2.67495702e-01,\n",
       "         -2.64582279e-01, -2.61671101e-01, -2.58762138e-01, -2.55855364e-01,\n",
       "         -2.52950750e-01, -2.50048268e-01, -2.47147891e-01, -2.44249592e-01,\n",
       "         -2.41353343e-01, -2.38459117e-01, -2.35566887e-01, -2.32676627e-01,\n",
       "         -2.29788309e-01, -2.26901906e-01, -2.24017393e-01, -2.21134743e-01,\n",
       "         -2.18253928e-01, -2.15374924e-01, -2.12497705e-01, -2.09622243e-01,\n",
       "         -2.06748513e-01, -2.03876490e-01, -2.01006147e-01, -1.98137460e-01,\n",
       "         -1.95270402e-01, -1.92404948e-01, -1.89541074e-01, -1.86678753e-01,\n",
       "         -1.83817960e-01, -1.80958672e-01, -1.78100862e-01, -1.75244505e-01,\n",
       "         -1.72389578e-01, -1.69536055e-01, -1.66683912e-01, -1.63833125e-01,\n",
       "         -1.60983668e-01, -1.58135518e-01, -1.55288649e-01, -1.52443039e-01,\n",
       "         -1.49598663e-01, -1.46755497e-01, -1.43913516e-01, -1.41072697e-01,\n",
       "         -1.38233017e-01, -1.35394450e-01, -1.32556974e-01, -1.29720565e-01,\n",
       "         -1.26885199e-01, -1.24050853e-01, -1.21217504e-01, -1.18385126e-01,\n",
       "         -1.15553699e-01, -1.12723197e-01, -1.09893598e-01, -1.07064879e-01,\n",
       "         -1.04237016e-01, -1.01409987e-01, -9.85837679e-02, -9.57583359e-02,\n",
       "         -9.29336682e-02, -9.01097418e-02, -8.72865338e-02, -8.44640214e-02,\n",
       "         -8.16421817e-02, -7.88209919e-02, -7.60004293e-02, -7.31804713e-02,\n",
       "         -7.03610950e-02, -6.75422780e-02, -6.47239975e-02, -6.19062310e-02,\n",
       "         -5.90889559e-02, -5.62721498e-02, -5.34557901e-02, -5.06398543e-02,\n",
       "         -4.78243200e-02, -4.50091648e-02, -4.21943662e-02, -3.93799019e-02,\n",
       "         -3.65657495e-02, -3.37518867e-02, -3.09382910e-02, -2.81249403e-02,\n",
       "         -2.53118122e-02, -2.24988843e-02, -1.96861345e-02, -1.68735404e-02,\n",
       "         -1.40610798e-02, -1.12487304e-02, -8.43646994e-03, -5.62427623e-03,\n",
       "         -2.81212699e-03,  0.00000000e+00,  2.81212699e-03,  5.62427623e-03,\n",
       "          8.43646994e-03,  1.12487304e-02,  1.40610798e-02,  1.68735404e-02,\n",
       "          1.96861345e-02,  2.24988843e-02,  2.53118122e-02,  2.81249403e-02,\n",
       "          3.09382910e-02,  3.37518867e-02,  3.65657495e-02,  3.93799019e-02,\n",
       "          4.21943662e-02,  4.50091648e-02,  4.78243200e-02,  5.06398543e-02,\n",
       "          5.34557901e-02,  5.62721498e-02,  5.90889559e-02,  6.19062310e-02,\n",
       "          6.47239975e-02,  6.75422780e-02,  7.03610950e-02,  7.31804713e-02,\n",
       "          7.60004293e-02,  7.88209919e-02,  8.16421817e-02,  8.44640214e-02,\n",
       "          8.72865338e-02,  9.01097418e-02,  9.29336682e-02,  9.57583359e-02,\n",
       "          9.85837679e-02,  1.01409987e-01,  1.04237016e-01,  1.07064879e-01,\n",
       "          1.09893598e-01,  1.12723197e-01,  1.15553699e-01,  1.18385126e-01,\n",
       "          1.21217504e-01,  1.24050853e-01,  1.26885199e-01,  1.29720565e-01,\n",
       "          1.32556974e-01,  1.35394450e-01,  1.38233017e-01,  1.41072697e-01,\n",
       "          1.43913516e-01,  1.46755497e-01,  1.49598663e-01,  1.52443039e-01,\n",
       "          1.55288649e-01,  1.58135518e-01,  1.60983668e-01,  1.63833125e-01,\n",
       "          1.66683912e-01,  1.69536055e-01,  1.72389578e-01,  1.75244505e-01,\n",
       "          1.78100862e-01,  1.80958672e-01,  1.83817960e-01,  1.86678753e-01,\n",
       "          1.89541074e-01,  1.92404948e-01,  1.95270402e-01,  1.98137460e-01,\n",
       "          2.01006147e-01,  2.03876490e-01,  2.06748513e-01,  2.09622243e-01,\n",
       "          2.12497705e-01,  2.15374924e-01,  2.18253928e-01,  2.21134743e-01,\n",
       "          2.24017393e-01,  2.26901906e-01,  2.29788309e-01,  2.32676627e-01,\n",
       "          2.35566887e-01,  2.38459117e-01,  2.41353343e-01,  2.44249592e-01,\n",
       "          2.47147891e-01,  2.50048268e-01,  2.52950750e-01,  2.55855364e-01,\n",
       "          2.58762138e-01,  2.61671101e-01,  2.64582279e-01,  2.67495702e-01,\n",
       "          2.70411397e-01,  2.73329392e-01,  2.76249717e-01,  2.79172399e-01,\n",
       "          2.82097468e-01,  2.85024953e-01,  2.87954883e-01,  2.90887286e-01,\n",
       "          2.93822194e-01,  2.96759634e-01,  2.99699637e-01,  3.02642232e-01,\n",
       "          3.05587451e-01,  3.08535323e-01,  3.11485878e-01,  3.14439148e-01,\n",
       "          3.17395163e-01,  3.20353953e-01,  3.23315551e-01,  3.26279988e-01,\n",
       "          3.29247294e-01,  3.32217503e-01,  3.35190645e-01,  3.38166753e-01,\n",
       "          3.41145859e-01,  3.44127996e-01,  3.47113197e-01,  3.50101494e-01,\n",
       "          3.53092920e-01,  3.56087510e-01,  3.59085297e-01,  3.62086314e-01,\n",
       "          3.65090595e-01,  3.68098175e-01,  3.71109089e-01,  3.74123371e-01,\n",
       "          3.77141055e-01,  3.80162179e-01,  3.83186776e-01,  3.86214882e-01,\n",
       "          3.89246534e-01,  3.92281768e-01,  3.95320620e-01,  3.98363127e-01,\n",
       "          4.01409326e-01,  4.04459255e-01,  4.07512950e-01,  4.10570451e-01,\n",
       "          4.13631794e-01,  4.16697019e-01,  4.19766163e-01,  4.22839267e-01,\n",
       "          4.25916370e-01,  4.28997511e-01,  4.32082729e-01,  4.35172066e-01,\n",
       "          4.38265562e-01,  4.41363258e-01,  4.44465194e-01,  4.47571414e-01,\n",
       "          4.50681957e-01,  4.53796868e-01,  4.56916187e-01,  4.60039959e-01,\n",
       "          4.63168227e-01,  4.66301033e-01,  4.69438423e-01,  4.72580440e-01,\n",
       "          4.75727130e-01,  4.78878538e-01,  4.82034708e-01,  4.85195688e-01,\n",
       "          4.88361523e-01,  4.91532260e-01,  4.94707946e-01,  4.97888630e-01,\n",
       "          5.01074359e-01,  5.04265181e-01,  5.07461145e-01,  5.10662301e-01,\n",
       "          5.13868699e-01,  5.17080388e-01,  5.20297421e-01,  5.23519846e-01,\n",
       "          5.26747718e-01,  5.29981087e-01,  5.33220006e-01,  5.36464529e-01,\n",
       "          5.39714708e-01,  5.42970600e-01,  5.46232257e-01,  5.49499736e-01,\n",
       "          5.52773092e-01,  5.56052382e-01,  5.59337662e-01,  5.62628991e-01,\n",
       "          5.65926425e-01,  5.69230025e-01,  5.72539849e-01,  5.75855957e-01,\n",
       "          5.79178409e-01,  5.82507267e-01,  5.85842593e-01,  5.89184448e-01,\n",
       "          5.92532897e-01,  5.95888002e-01,  5.99249828e-01,  6.02618441e-01,\n",
       "          6.05993906e-01,  6.09376290e-01,  6.12765660e-01,  6.16162083e-01,\n",
       "          6.19565630e-01,  6.22976369e-01,  6.26394370e-01,  6.29819705e-01,\n",
       "          6.33252446e-01,  6.36692665e-01,  6.40140437e-01,  6.43595834e-01,\n",
       "          6.47058933e-01,  6.50529809e-01,  6.54008541e-01,  6.57495204e-01,\n",
       "          6.60989880e-01,  6.64492646e-01,  6.68003585e-01,  6.71522777e-01,\n",
       "          6.75050305e-01,  6.78586254e-01,  6.82130707e-01,  6.85683751e-01,\n",
       "          6.89245472e-01,  6.92815959e-01,  6.96395299e-01,  6.99983584e-01,\n",
       "          7.03580904e-01,  7.07187353e-01,  7.10803023e-01,  7.14428009e-01,\n",
       "          7.18062408e-01,  7.21706316e-01,  7.25359833e-01,  7.29023057e-01,\n",
       "          7.32696091e-01,  7.36379036e-01,  7.40071997e-01,  7.43775079e-01,\n",
       "          7.47488388e-01,  7.51212033e-01,  7.54946122e-01,  7.58690769e-01,\n",
       "          7.62446084e-01,  7.66212182e-01,  7.69989180e-01,  7.73777194e-01,\n",
       "          7.77576344e-01,  7.81386750e-01,  7.85208535e-01,  7.89041824e-01,\n",
       "          7.92886742e-01,  7.96743417e-01,  8.00611980e-01,  8.04492562e-01,\n",
       "          8.08385297e-01,  8.12290320e-01,  8.16207769e-01,  8.20137785e-01,\n",
       "          8.24080508e-01,  8.28036084e-01,  8.32004658e-01,  8.35986380e-01,\n",
       "          8.39981400e-01,  8.43989871e-01,  8.48011949e-01,  8.52047793e-01,\n",
       "          8.56097563e-01,  8.60161422e-01,  8.64239537e-01,  8.68332076e-01,\n",
       "          8.72439211e-01,  8.76561115e-01,  8.80697966e-01,  8.84849944e-01,\n",
       "          8.89017233e-01,  8.93200018e-01,  8.97398488e-01,  9.01612837e-01,\n",
       "          9.05843261e-01,  9.10089959e-01,  9.14353133e-01,  9.18632990e-01,\n",
       "          9.22929741e-01,  9.27243599e-01,  9.31574782e-01,  9.35923511e-01,\n",
       "          9.40290012e-01,  9.44674515e-01,  9.49077254e-01,  9.53498468e-01,\n",
       "          9.57938398e-01,  9.62397294e-01,  9.66875406e-01,  9.71372991e-01,\n",
       "          9.75890312e-01,  9.80427636e-01,  9.84985234e-01,  9.89563385e-01,\n",
       "          9.94162371e-01,  9.98782481e-01,  1.00342401e+00,  1.00808726e+00,\n",
       "          1.01277253e+00,  1.01748014e+00,  1.02221041e+00,  1.02696366e+00,\n",
       "          1.03174023e+00,  1.03654045e+00,  1.04136468e+00,  1.04621327e+00,\n",
       "          1.05108658e+00,  1.05598498e+00,  1.06090885e+00,  1.06585857e+00,\n",
       "          1.07083455e+00,  1.07583719e+00,  1.08086689e+00,  1.08592409e+00,\n",
       "          1.09100921e+00,  1.09612271e+00,  1.10126502e+00,  1.10643663e+00,\n",
       "          1.11163799e+00,  1.11686961e+00,  1.12213197e+00,  1.12742560e+00,\n",
       "          1.13275101e+00,  1.13810873e+00,  1.14349933e+00,  1.14892337e+00,\n",
       "          1.15438141e+00,  1.15987407e+00,  1.16540194e+00,  1.17096565e+00,\n",
       "          1.17656585e+00,  1.18220320e+00,  1.18787837e+00,  1.19359205e+00,\n",
       "          1.19934497e+00,  1.20513786e+00,  1.21097148e+00,  1.21684660e+00,\n",
       "          1.22276403e+00,  1.22872458e+00,  1.23472912e+00,  1.24077850e+00,\n",
       "          1.24687363e+00,  1.25301544e+00,  1.25920489e+00,  1.26544295e+00,\n",
       "          1.27173065e+00,  1.27806903e+00,  1.28445918e+00,  1.29090221e+00,\n",
       "          1.29739929e+00,  1.30395159e+00,  1.31056036e+00,  1.31722687e+00,\n",
       "          1.32395244e+00,  1.33073844e+00,  1.33758628e+00,  1.34449742e+00,\n",
       "          1.35147338e+00,  1.35851574e+00,  1.36562613e+00,  1.37280624e+00,\n",
       "          1.38005783e+00,  1.38738272e+00,  1.39478282e+00,  1.40226010e+00,\n",
       "          1.40981661e+00,  1.41745449e+00,  1.42517596e+00,  1.43298336e+00,\n",
       "          1.44087909e+00,  1.44886569e+00,  1.45694579e+00,  1.46512215e+00,\n",
       "          1.47339765e+00,  1.48177530e+00,  1.49025825e+00,  1.49884983e+00,\n",
       "          1.50755349e+00,  1.51637287e+00,  1.52531180e+00,  1.53437430e+00,\n",
       "          1.54356460e+00,  1.55288715e+00,  1.56234666e+00,  1.57194806e+00,\n",
       "          1.58169661e+00,  1.59159783e+00,  1.60165759e+00,  1.61188210e+00,\n",
       "          1.62227795e+00,  1.63285214e+00,  1.64361212e+00,  1.65456583e+00,\n",
       "          1.66572174e+00,  1.67708890e+00,  1.68867698e+00,  1.70049636e+00,\n",
       "          1.71255819e+00,  1.72487445e+00,  1.73745806e+00,  1.75032296e+00,\n",
       "          1.76348425e+00,  1.77695830e+00,  1.79076290e+00,  1.80491744e+00,\n",
       "          1.81944313e+00,  1.83436318e+00,  1.84970311e+00,  1.86549107e+00,\n",
       "          1.88175821e+00,  1.89853909e+00,  1.91587229e+00,  1.93380097e+00,\n",
       "          1.95237369e+00,  1.97164537e+00,  1.99167841e+00,  2.01254418e+00,\n",
       "          2.03432484e+00,  2.05711563e+00,  2.08102787e+00,  2.10619283e+00,\n",
       "          2.13276686e+00,  2.16093830e+00,  2.19093694e+00,  2.22304736e+00,\n",
       "          2.25762808e+00,  2.29513992e+00,  2.33618969e+00,  2.38160005e+00,\n",
       "          2.43252738e+00,  2.49067391e+00,  2.55870259e+00,  2.64114608e+00,\n",
       "          2.74675222e+00,  2.89636677e+00,  3.16416595e+00]),\n",
       "  array([      -inf,       -inf,       -inf,       -inf,       -inf,\n",
       "               -inf,       -inf,       -inf,       -inf,       -inf,\n",
       "               -inf,       -inf,       -inf,       -inf,       -inf,\n",
       "         1.38941449, 1.60943791, 1.83057946, 1.86214027, 1.86408013,\n",
       "         1.87115581, 1.87115581, 1.9095425 , 1.9095425 , 1.9254596 ,\n",
       "         1.93874166, 1.94233233, 1.94233233, 1.95243169, 1.95302762,\n",
       "         1.95302762, 1.95302762, 1.95302762, 1.95302762, 1.95302762,\n",
       "         1.95302762, 1.95362318, 1.95362318, 1.96360973, 1.96360973,\n",
       "         1.96360973, 1.96360973, 1.96595084, 1.97754723, 1.97754723,\n",
       "         1.97754723, 1.97754723, 1.97754723, 1.97754723, 1.97754723,\n",
       "         1.97754723, 1.97754723, 1.97754723, 1.97754723, 1.97754723,\n",
       "         1.97812838, 1.97812838, 1.97812838, 1.97812838, 1.97812838,\n",
       "         1.97812838, 1.97812838, 1.97812838, 1.97812838, 1.97812838,\n",
       "         1.97812838, 1.97812838, 1.97812838, 1.97812838, 1.97812838,\n",
       "         1.98100147, 1.98100147, 1.98100147, 1.98100147, 1.98100147,\n",
       "         1.98100147, 1.98100147, 1.98100147, 1.98100147, 1.98100147,\n",
       "         1.98100147, 1.98100147, 1.98100147, 1.98958521, 2.01434286,\n",
       "         2.01434286, 2.01434286, 2.01767252, 2.02154756, 2.02154756,\n",
       "         2.02154756, 2.02154756, 2.03198299, 2.03470565, 2.03470565,\n",
       "         2.03470565, 2.03470565, 2.04446182, 2.04500536, 2.04553568,\n",
       "         2.04553568, 2.04553568, 2.04553568, 2.04607864, 2.04607864,\n",
       "         2.0466213 , 2.04769284, 2.04769284, 2.04769284, 2.04769284,\n",
       "         2.04769284, 2.04769284, 2.04769284, 2.04769284, 2.04769284,\n",
       "         2.04769284, 2.04769284, 2.04769284, 2.04769284, 2.04769284,\n",
       "         2.04769284, 2.04769284, 2.04769284, 2.04769284, 2.04769284,\n",
       "         2.04769284, 2.04769284, 2.04769284, 2.04769284, 2.04769284,\n",
       "         2.04769284, 2.04769284, 2.04769284, 2.04769284, 2.04769284,\n",
       "         2.04769284, 2.04769284, 2.04769284, 2.04769284, 2.04769284,\n",
       "         2.05091346, 2.05091346, 2.05091346, 2.05091346, 2.05091346,\n",
       "         2.05091346, 2.05091346, 2.05091346, 2.05091346, 2.05091346,\n",
       "         2.05091346, 2.05091346, 2.05091346, 2.05091346, 2.05091346,\n",
       "         2.05091346, 2.05251988, 2.05358513, 2.05358513, 2.05358513,\n",
       "         2.05358513, 2.05358513, 2.05358513, 2.05412373, 2.05786033,\n",
       "         2.05786033, 2.06104842, 2.06104842, 2.06104842, 2.06104842,\n",
       "         2.06104842, 2.06104842, 2.06104842, 2.06104842, 2.06104842,\n",
       "         2.06104842, 2.06104842, 2.06104842, 2.06104842, 2.06369318,\n",
       "         2.06422638, 2.06422638, 2.06422638, 2.06422638, 2.06527923,\n",
       "         2.06633097, 2.06633097, 2.06633097, 2.06633097, 2.06633097,\n",
       "         2.06633097, 2.06633097, 2.06633097, 2.06633097, 2.06633097,\n",
       "         2.06633097, 2.06633097, 2.06633097, 2.06633097, 2.06633097,\n",
       "         2.06633097, 2.06633097, 2.06633097, 2.06633097, 2.06633097,\n",
       "         2.06633097, 2.06633097, 2.06633097, 2.06633097, 2.06633097,\n",
       "         2.06633097, 2.06633097, 2.06633097, 2.06633097, 2.06633097,\n",
       "         2.06633097, 2.06633097, 2.06633097, 2.06633097, 2.06633097,\n",
       "         2.06633097, 2.06633097, 2.06633097, 2.07002232, 2.07002232,\n",
       "         2.07002232, 2.07002232, 2.07002232, 2.07002232, 2.07002232,\n",
       "         2.07002232, 2.07002232, 2.07002232, 2.07002232, 2.07002232,\n",
       "         2.07002232, 2.07002232, 2.07002232, 2.07002232, 2.07002232,\n",
       "         2.07002232, 2.0830849 , 2.08567209, 2.08567209, 2.08567209,\n",
       "         2.08567209, 2.08567209, 2.08567209, 2.08567209, 2.08567209,\n",
       "         2.08567209, 2.08567209, 2.08567209, 2.08567209, 2.08567209,\n",
       "         2.08567209, 2.08567209, 2.08567209, 2.08567209, 2.08567209,\n",
       "         2.08567209, 2.08567209, 2.08567209, 2.08567209, 2.08567209,\n",
       "         2.08567209, 2.08567209, 2.08567209, 2.08567209, 2.08567209,\n",
       "         2.08567209, 2.08567209, 2.08567209, 2.08567209, 2.08567209,\n",
       "         2.08567209, 2.08567209, 2.08567209, 2.08567209, 2.08567209,\n",
       "         2.08567209, 2.08567209, 2.08567209, 2.08567209, 2.08567209,\n",
       "         2.09340608, 2.09648301, 2.09903581, 2.11625551, 2.12375743,\n",
       "         2.12873158, 2.13218815, 2.13514821, 2.14202894, 2.15804475,\n",
       "         2.15900336, 2.15900336, 2.15900336, 2.15900336, 2.15900336,\n",
       "         2.15900336, 2.15900336, 2.15900336, 2.15900336, 2.15900336,\n",
       "         2.15900336, 2.15900336, 2.15900336, 2.16140164, 2.16475878,\n",
       "         2.18041746, 2.19722458, 2.19722458, 2.22101706, 2.22191719,\n",
       "         2.22191719, 2.23537634, 2.23537634, 2.24865675, 2.24953236,\n",
       "         2.2512918 , 2.2512918 , 2.2512918 , 2.2512918 , 2.2512918 ,\n",
       "         2.2512918 , 2.2512918 , 2.2512918 , 2.2512918 , 2.26046017,\n",
       "         2.26046017, 2.28493016, 2.28493016, 2.28620161, 2.28662846,\n",
       "         2.28704497, 2.31952087, 2.34779744, 2.34779744, 2.35137526,\n",
       "         2.35137526, 2.35137526, 2.35137526, 2.35137526, 2.35137526,\n",
       "         2.35137526, 2.35137526, 2.35137526, 2.35137526, 2.35137526,\n",
       "         2.35137526, 2.35137526, 2.35137526, 2.35137526, 2.35137526,\n",
       "         2.35137526, 2.35137526, 2.35137526, 2.35137526, 2.35137526,\n",
       "         2.35137526, 2.35137526, 2.35137526, 2.35296447, 2.40994062,\n",
       "         2.40994062, 2.40994062, 2.41963008, 2.41963008, 2.44234704,\n",
       "         2.44234704, 2.44234704, 2.44234704, 2.48490665, 2.50756467,\n",
       "         2.50858249, 2.51365606, 2.51365606, 2.51365606, 2.52372664,\n",
       "         2.52372664, 2.52372664, 2.52372664, 2.52772665, 2.53765722,\n",
       "         2.55528745, 2.56494936, 2.56494936, 2.56494936, 2.56494936,\n",
       "         2.56494936, 2.56494936, 2.56494936, 2.56494936, 2.56494936,\n",
       "         2.56494936, 2.56494936, 2.56494936, 2.56494936, 2.56494936,\n",
       "         2.56494936, 2.56494936, 2.56494936, 2.56494936, 2.56494936,\n",
       "         2.56494936, 2.56494936, 2.56494936, 2.56494936, 2.56494936,\n",
       "         2.56494936, 2.56494936, 2.56494936, 2.56494936, 2.56494936,\n",
       "         2.56494936, 2.56494936, 2.56494936, 2.56494936, 2.56494936,\n",
       "         2.56494936, 2.56494936, 2.56494936, 2.56494936, 2.56494936,\n",
       "         2.56494936, 2.56494936, 2.56494936, 2.5965002 , 2.60268969,\n",
       "         2.60268969, 2.60268969, 2.60268969, 2.62406696, 2.62888433,\n",
       "         2.62918735, 2.63905733, 2.64676328, 2.66722821, 2.66722821,\n",
       "         2.67098503, 2.67098503, 2.67098503, 2.67098503, 2.67098503,\n",
       "         2.67098503, 2.67098503, 2.67126864, 2.67126864, 2.67126864,\n",
       "         2.67414865, 2.67414865, 2.67414865, 2.67414865, 2.67414865,\n",
       "         2.67414865, 2.67414865, 2.7080502 , 2.71109888, 2.71137799,\n",
       "         2.71469474, 2.72430406, 2.72430406, 2.72430406, 2.72430406,\n",
       "         2.72430406, 2.74084002, 2.74084002, 2.74084002, 2.74084002,\n",
       "         2.74084002, 2.74084002, 2.74084002, 2.74084002, 2.74406064,\n",
       "         2.75631324, 2.75631324, 2.75684037, 2.7631695 , 2.7631695 ,\n",
       "         2.7631695 , 2.7631695 , 2.76631911, 2.76631911, 2.77258872,\n",
       "         2.77881927, 2.77881927, 2.77881927, 2.77881927, 2.77881927,\n",
       "         2.77881927, 2.77881927, 2.77881927, 2.77881927, 2.81540872,\n",
       "         2.81540872, 2.85647021, 2.87919846, 2.87919846, 2.89037176,\n",
       "         2.89037176, 2.89037176, 2.93119375, 2.93119375, 2.93119375,\n",
       "         2.93319176, 2.93319176, 2.95794214, 2.95794214, 2.95794214,\n",
       "         2.95794214, 2.97041447, 2.97041447, 2.99406589, 2.99406589,\n",
       "         3.00630122, 3.00630122, 3.00815479, 3.00815479, 3.02164366,\n",
       "         3.02164366, 3.02164366, 3.02407675, 3.02407675, 3.04452244,\n",
       "         3.04452244, 3.04452244, 3.04452244, 3.04452244, 3.04452244,\n",
       "         3.0480875 , 3.0480875 , 3.0480875 , 3.0480875 , 3.07635328,\n",
       "         3.09217817, 3.10719762, 3.10719762, 3.1146258 , 3.13549422,\n",
       "         3.13549422, 3.13549422, 3.13549422, 3.14630513, 3.14630513,\n",
       "         3.15487049, 3.15487049, 3.17805383, 3.17805383, 3.18428438,\n",
       "         3.18428438, 3.18428438, 3.18428438, 3.18428438, 3.18428438,\n",
       "         3.18428438, 3.18428438, 3.23737172, 3.23737172, 3.23737172,\n",
       "         3.23737172, 3.24210395, 3.25520775, 3.25536975, 3.25536975,\n",
       "         3.25809654, 3.25809654, 3.25809654, 3.25809654, 3.25809654,\n",
       "         3.25809654, 3.25809654, 3.25809654, 3.25809654, 3.25809654,\n",
       "         3.25809654, 3.25809654, 3.25809654, 3.25809654, 3.25809654,\n",
       "         3.25809654, 3.25809654, 3.25809654, 3.25809654, 3.25809654,\n",
       "         3.25809654, 3.25809654, 3.25809654, 3.25809654, 3.25809654,\n",
       "         3.25809654, 3.25809654, 3.25809654, 3.25809654, 3.25809654,\n",
       "         3.25809654, 3.26766599, 3.26766599, 3.26766599, 3.26766599,\n",
       "         3.26766599, 3.26766599, 3.26893376, 3.26909354, 3.26909354,\n",
       "         3.26909354, 3.27289041, 3.27902975, 3.27902975, 3.27902975,\n",
       "         3.27902975, 3.27902975, 3.27902975, 3.27902975, 3.27902975,\n",
       "         3.27902975, 3.27902975, 3.27902975, 3.27902975, 3.27902975,\n",
       "         3.27902975, 3.27902975, 3.29583687, 3.29583687, 3.32218303,\n",
       "         3.32218303, 3.32218303, 3.32218303, 3.32218303, 3.32323584,\n",
       "         3.32323584, 3.32323584, 3.32323584, 3.32862669, 3.32862669,\n",
       "         3.32862669, 3.32862669, 3.32862669, 3.32862669, 3.34990409,\n",
       "         3.35733257, 3.36729583, 3.36729583, 3.37159691, 3.37159691,\n",
       "         3.37159691, 3.37159691, 3.37159691, 3.39114705, 3.39114705,\n",
       "         3.39114705, 3.40119738, 3.40119738, 3.40119738, 3.40119738,\n",
       "         3.40119738, 3.40119738, 3.4035546 , 3.4035546 , 3.41772668,\n",
       "         3.41772668, 3.41772668, 3.41772668, 3.41772668, 3.42412584,\n",
       "         3.42412584, 3.4339872 , 3.4339872 , 3.4339872 , 3.44281906,\n",
       "         3.44281906, 3.44281906, 3.44281906, 3.44281906, 3.44281906,\n",
       "         3.44281906, 3.44640972, 3.44640972, 3.44640972, 3.44640972,\n",
       "         3.47571099, 3.48124009, 3.49650756, 3.49650756, 3.49650756,\n",
       "         3.51154544, 3.5269721 , 3.53732956, 3.53732956, 3.53732956,\n",
       "         3.53732956, 3.54541893, 3.55534806, 3.5695327 , 3.5695327 ,\n",
       "         3.5695327 , 3.5695327 , 3.60413823, 3.60413823, 3.61103142,\n",
       "         3.61103142, 3.65065824, 3.66356165, 3.66356165, 3.66356165,\n",
       "         3.66356165, 3.67376582, 3.67882912, 3.67882912, 3.68103628,\n",
       "         3.68103628, 3.68103628, 3.68103628, 3.68103628, 3.68103628,\n",
       "         3.69199958, 3.72760004, 3.72760004, 3.72760004, 3.74714836,\n",
       "         3.84801768, 3.84801768, 3.84801768, 3.84801768, 3.84801768,\n",
       "         3.84801768, 3.852273  , 3.90197267, 3.90205751, 3.90205751,\n",
       "         3.91202301, 3.92189016, 3.94117784, 3.94859599, 3.94859599,\n",
       "         3.95124372, 3.95124372, 3.95124372, 3.95124372, 3.95124372,\n",
       "         3.95124372, 3.95124372, 3.96184502, 3.96184502, 3.96184502,\n",
       "         3.97217693, 3.97217693, 3.97217693, 3.97217693, 3.97217693,\n",
       "         4.00733319, 4.00733319, 4.01533202, 4.02356438, 4.02356438,\n",
       "         4.0341663 , 4.0341663 , 4.0341663 , 4.0341663 , 4.0341663 ,\n",
       "         4.0341663 , 4.0341663 , 4.04180839, 4.04180839, 4.04305127,\n",
       "         4.04305127, 4.06008433, 4.06008433, 4.08429423, 4.11373861,\n",
       "         4.11707102, 4.12679884, 4.14880592, 4.17438727, 4.17438727,\n",
       "         4.18409995, 4.18409995, 4.18409995, 4.18409995, 4.18409995,\n",
       "         4.18409995, 4.18409995, 4.18409995, 4.18409995, 4.18409995,\n",
       "         4.18409995, 4.18409995, 4.18409995, 4.18409995, 4.18409995,\n",
       "         4.18409995, 4.18409995, 4.18409995, 4.18409995, 4.18409995,\n",
       "         4.18409995, 4.18409995, 4.18409995, 4.18409995, 4.18409995,\n",
       "         4.18409995, 4.18409995, 4.18409995, 4.18409995, 4.18409995,\n",
       "         4.18409995, 4.18409995, 4.18409995, 4.18409995, 4.18409995,\n",
       "         4.18409995, 4.18409995, 4.18409995, 4.18409995, 4.18409995,\n",
       "         4.18409995, 4.18409995, 4.18409995, 4.18409995, 4.18409995,\n",
       "         4.18409995, 4.18409995, 4.18409995, 4.18409995, 4.18409995,\n",
       "         4.18409995, 4.18409995, 4.18409995, 4.18409995, 4.18409995,\n",
       "         4.18409995, 4.18409995, 4.18409995, 4.18409995, 4.18409995,\n",
       "         4.18409995, 4.18409995, 4.18409995, 4.18409995, 4.18409995,\n",
       "         4.18409995, 4.18409995, 4.18409995, 4.18409995, 4.18409995,\n",
       "         4.18409995, 4.18409995, 4.18409995, 4.18409995, 4.18409995,\n",
       "         4.18409995, 4.18409995, 4.18409995, 4.18409995, 4.18409995,\n",
       "         4.18409995, 4.18409995, 4.18409995, 4.18409995, 4.18409995,\n",
       "         4.18409995, 4.18409995, 4.18409995, 4.18409995, 4.18409995,\n",
       "         4.18409995, 4.18409995, 4.18409995, 4.18409995, 4.18409995,\n",
       "         4.18409995, 4.18409995, 4.18409995, 4.18409995, 4.18409995,\n",
       "         4.18409995, 4.18409995, 4.18409995, 4.18409995, 4.18409995,\n",
       "         4.18409995, 4.18409995, 4.18409995, 4.18409995, 4.18409995,\n",
       "         4.18409995, 4.18409995, 4.18409995, 4.18409995, 4.18409995,\n",
       "         4.18409995])),\n",
       " (nan, nan, nan))"
      ]
     },
     "execution_count": 89,
     "metadata": {},
     "output_type": "execute_result"
    },
    {
     "data": {
      "image/png": "[encoded data removed]",
      "text/plain": [
       "<Figure size 640x480 with 1 Axes>"
      ]
     },
     "metadata": {},
     "output_type": "display_data"
    }
   ],
   "source": [
    "stats.probplot(np.log(data_train_mod['Fare']), dist ='norm', plot =pylab)"
   ]
  },
  {
   "cell_type": "code",
   "execution_count": 90,
   "id": "1e851507",
   "metadata": {
    "execution": {
     "iopub.execute_input": "2022-11-04T08:38:32.576397Z",
     "iopub.status.busy": "2022-11-04T08:38:32.575979Z",
     "iopub.status.idle": "2022-11-04T08:38:33.065117Z",
     "shell.execute_reply": "2022-11-04T08:38:33.063908Z"
    },
    "papermill": {
     "duration": 0.544038,
     "end_time": "2022-11-04T08:38:33.067602",
     "exception": false,
     "start_time": "2022-11-04T08:38:32.523564",
     "status": "completed"
    },
    "tags": []
   },
   "outputs": [
    {
     "data": {
      "text/plain": [
       "((array([-3.16416595e+00, -2.89636677e+00, -2.74675222e+00, -2.64114608e+00,\n",
       "         -2.55870259e+00, -2.49067391e+00, -2.43252738e+00, -2.38160005e+00,\n",
       "         -2.33618969e+00, -2.29513992e+00, -2.25762808e+00, -2.22304736e+00,\n",
       "         -2.19093694e+00, -2.16093830e+00, -2.13276686e+00, -2.10619283e+00,\n",
       "         -2.08102787e+00, -2.05711563e+00, -2.03432484e+00, -2.01254418e+00,\n",
       "         -1.99167841e+00, -1.97164537e+00, -1.95237369e+00, -1.93380097e+00,\n",
       "         -1.91587229e+00, -1.89853909e+00, -1.88175821e+00, -1.86549107e+00,\n",
       "         -1.84970311e+00, -1.83436318e+00, -1.81944313e+00, -1.80491744e+00,\n",
       "         -1.79076290e+00, -1.77695830e+00, -1.76348425e+00, -1.75032296e+00,\n",
       "         -1.73745806e+00, -1.72487445e+00, -1.71255819e+00, -1.70049636e+00,\n",
       "         -1.68867698e+00, -1.67708890e+00, -1.66572174e+00, -1.65456583e+00,\n",
       "         -1.64361212e+00, -1.63285214e+00, -1.62227795e+00, -1.61188210e+00,\n",
       "         -1.60165759e+00, -1.59159783e+00, -1.58169661e+00, -1.57194806e+00,\n",
       "         -1.56234666e+00, -1.55288715e+00, -1.54356460e+00, -1.53437430e+00,\n",
       "         -1.52531180e+00, -1.51637287e+00, -1.50755349e+00, -1.49884983e+00,\n",
       "         -1.49025825e+00, -1.48177530e+00, -1.47339765e+00, -1.46512215e+00,\n",
       "         -1.45694579e+00, -1.44886569e+00, -1.44087909e+00, -1.43298336e+00,\n",
       "         -1.42517596e+00, -1.41745449e+00, -1.40981661e+00, -1.40226010e+00,\n",
       "         -1.39478282e+00, -1.38738272e+00, -1.38005783e+00, -1.37280624e+00,\n",
       "         -1.36562613e+00, -1.35851574e+00, -1.35147338e+00, -1.34449742e+00,\n",
       "         -1.33758628e+00, -1.33073844e+00, -1.32395244e+00, -1.31722687e+00,\n",
       "         -1.31056036e+00, -1.30395159e+00, -1.29739929e+00, -1.29090221e+00,\n",
       "         -1.28445918e+00, -1.27806903e+00, -1.27173065e+00, -1.26544295e+00,\n",
       "         -1.25920489e+00, -1.25301544e+00, -1.24687363e+00, -1.24077850e+00,\n",
       "         -1.23472912e+00, -1.22872458e+00, -1.22276403e+00, -1.21684660e+00,\n",
       "         -1.21097148e+00, -1.20513786e+00, -1.19934497e+00, -1.19359205e+00,\n",
       "         -1.18787837e+00, -1.18220320e+00, -1.17656585e+00, -1.17096565e+00,\n",
       "         -1.16540194e+00, -1.15987407e+00, -1.15438141e+00, -1.14892337e+00,\n",
       "         -1.14349933e+00, -1.13810873e+00, -1.13275101e+00, -1.12742560e+00,\n",
       "         -1.12213197e+00, -1.11686961e+00, -1.11163799e+00, -1.10643663e+00,\n",
       "         -1.10126502e+00, -1.09612271e+00, -1.09100921e+00, -1.08592409e+00,\n",
       "         -1.08086689e+00, -1.07583719e+00, -1.07083455e+00, -1.06585857e+00,\n",
       "         -1.06090885e+00, -1.05598498e+00, -1.05108658e+00, -1.04621327e+00,\n",
       "         -1.04136468e+00, -1.03654045e+00, -1.03174023e+00, -1.02696366e+00,\n",
       "         -1.02221041e+00, -1.01748014e+00, -1.01277253e+00, -1.00808726e+00,\n",
       "         -1.00342401e+00, -9.98782481e-01, -9.94162371e-01, -9.89563385e-01,\n",
       "         -9.84985234e-01, -9.80427636e-01, -9.75890312e-01, -9.71372991e-01,\n",
       "         -9.66875406e-01, -9.62397294e-01, -9.57938398e-01, -9.53498468e-01,\n",
       "         -9.49077254e-01, -9.44674515e-01, -9.40290012e-01, -9.35923511e-01,\n",
       "         -9.31574782e-01, -9.27243599e-01, -9.22929741e-01, -9.18632990e-01,\n",
       "         -9.14353133e-01, -9.10089959e-01, -9.05843261e-01, -9.01612837e-01,\n",
       "         -8.97398488e-01, -8.93200018e-01, -8.89017233e-01, -8.84849944e-01,\n",
       "         -8.80697966e-01, -8.76561115e-01, -8.72439211e-01, -8.68332076e-01,\n",
       "         -8.64239537e-01, -8.60161422e-01, -8.56097563e-01, -8.52047793e-01,\n",
       "         -8.48011949e-01, -8.43989871e-01, -8.39981400e-01, -8.35986380e-01,\n",
       "         -8.32004658e-01, -8.28036084e-01, -8.24080508e-01, -8.20137785e-01,\n",
       "         -8.16207769e-01, -8.12290320e-01, -8.08385297e-01, -8.04492562e-01,\n",
       "         -8.00611980e-01, -7.96743417e-01, -7.92886742e-01, -7.89041824e-01,\n",
       "         -7.85208535e-01, -7.81386750e-01, -7.77576344e-01, -7.73777194e-01,\n",
       "         -7.69989180e-01, -7.66212182e-01, -7.62446084e-01, -7.58690769e-01,\n",
       "         -7.54946122e-01, -7.51212033e-01, -7.47488388e-01, -7.43775079e-01,\n",
       "         -7.40071997e-01, -7.36379036e-01, -7.32696091e-01, -7.29023057e-01,\n",
       "         -7.25359833e-01, -7.21706316e-01, -7.18062408e-01, -7.14428009e-01,\n",
       "         -7.10803023e-01, -7.07187353e-01, -7.03580904e-01, -6.99983584e-01,\n",
       "         -6.96395299e-01, -6.92815959e-01, -6.89245472e-01, -6.85683751e-01,\n",
       "         -6.82130707e-01, -6.78586254e-01, -6.75050305e-01, -6.71522777e-01,\n",
       "         -6.68003585e-01, -6.64492646e-01, -6.60989880e-01, -6.57495204e-01,\n",
       "         -6.54008541e-01, -6.50529809e-01, -6.47058933e-01, -6.43595834e-01,\n",
       "         -6.40140437e-01, -6.36692665e-01, -6.33252446e-01, -6.29819705e-01,\n",
       "         -6.26394370e-01, -6.22976369e-01, -6.19565630e-01, -6.16162083e-01,\n",
       "         -6.12765660e-01, -6.09376290e-01, -6.05993906e-01, -6.02618441e-01,\n",
       "         -5.99249828e-01, -5.95888002e-01, -5.92532897e-01, -5.89184448e-01,\n",
       "         -5.85842593e-01, -5.82507267e-01, -5.79178409e-01, -5.75855957e-01,\n",
       "         -5.72539849e-01, -5.69230025e-01, -5.65926425e-01, -5.62628991e-01,\n",
       "         -5.59337662e-01, -5.56052382e-01, -5.52773092e-01, -5.49499736e-01,\n",
       "         -5.46232257e-01, -5.42970600e-01, -5.39714708e-01, -5.36464529e-01,\n",
       "         -5.33220006e-01, -5.29981087e-01, -5.26747718e-01, -5.23519846e-01,\n",
       "         -5.20297421e-01, -5.17080388e-01, -5.13868699e-01, -5.10662301e-01,\n",
       "         -5.07461145e-01, -5.04265181e-01, -5.01074359e-01, -4.97888630e-01,\n",
       "         -4.94707946e-01, -4.91532260e-01, -4.88361523e-01, -4.85195688e-01,\n",
       "         -4.82034708e-01, -4.78878538e-01, -4.75727130e-01, -4.72580440e-01,\n",
       "         -4.69438423e-01, -4.66301033e-01, -4.63168227e-01, -4.60039959e-01,\n",
       "         -4.56916187e-01, -4.53796868e-01, -4.50681957e-01, -4.47571414e-01,\n",
       "         -4.44465194e-01, -4.41363258e-01, -4.38265562e-01, -4.35172066e-01,\n",
       "         -4.32082729e-01, -4.28997511e-01, -4.25916370e-01, -4.22839267e-01,\n",
       "         -4.19766163e-01, -4.16697019e-01, -4.13631794e-01, -4.10570451e-01,\n",
       "         -4.07512950e-01, -4.04459255e-01, -4.01409326e-01, -3.98363127e-01,\n",
       "         -3.95320620e-01, -3.92281768e-01, -3.89246534e-01, -3.86214882e-01,\n",
       "         -3.83186776e-01, -3.80162179e-01, -3.77141055e-01, -3.74123371e-01,\n",
       "         -3.71109089e-01, -3.68098175e-01, -3.65090595e-01, -3.62086314e-01,\n",
       "         -3.59085297e-01, -3.56087510e-01, -3.53092920e-01, -3.50101494e-01,\n",
       "         -3.47113197e-01, -3.44127996e-01, -3.41145859e-01, -3.38166753e-01,\n",
       "         -3.35190645e-01, -3.32217503e-01, -3.29247294e-01, -3.26279988e-01,\n",
       "         -3.23315551e-01, -3.20353953e-01, -3.17395163e-01, -3.14439148e-01,\n",
       "         -3.11485878e-01, -3.08535323e-01, -3.05587451e-01, -3.02642232e-01,\n",
       "         -2.99699637e-01, -2.96759634e-01, -2.93822194e-01, -2.90887286e-01,\n",
       "         -2.87954883e-01, -2.85024953e-01, -2.82097468e-01, -2.79172399e-01,\n",
       "         -2.76249717e-01, -2.73329392e-01, -2.70411397e-01, -2.67495702e-01,\n",
       "         -2.64582279e-01, -2.61671101e-01, -2.58762138e-01, -2.55855364e-01,\n",
       "         -2.52950750e-01, -2.50048268e-01, -2.47147891e-01, -2.44249592e-01,\n",
       "         -2.41353343e-01, -2.38459117e-01, -2.35566887e-01, -2.32676627e-01,\n",
       "         -2.29788309e-01, -2.26901906e-01, -2.24017393e-01, -2.21134743e-01,\n",
       "         -2.18253928e-01, -2.15374924e-01, -2.12497705e-01, -2.09622243e-01,\n",
       "         -2.06748513e-01, -2.03876490e-01, -2.01006147e-01, -1.98137460e-01,\n",
       "         -1.95270402e-01, -1.92404948e-01, -1.89541074e-01, -1.86678753e-01,\n",
       "         -1.83817960e-01, -1.80958672e-01, -1.78100862e-01, -1.75244505e-01,\n",
       "         -1.72389578e-01, -1.69536055e-01, -1.66683912e-01, -1.63833125e-01,\n",
       "         -1.60983668e-01, -1.58135518e-01, -1.55288649e-01, -1.52443039e-01,\n",
       "         -1.49598663e-01, -1.46755497e-01, -1.43913516e-01, -1.41072697e-01,\n",
       "         -1.38233017e-01, -1.35394450e-01, -1.32556974e-01, -1.29720565e-01,\n",
       "         -1.26885199e-01, -1.24050853e-01, -1.21217504e-01, -1.18385126e-01,\n",
       "         -1.15553699e-01, -1.12723197e-01, -1.09893598e-01, -1.07064879e-01,\n",
       "         -1.04237016e-01, -1.01409987e-01, -9.85837679e-02, -9.57583359e-02,\n",
       "         -9.29336682e-02, -9.01097418e-02, -8.72865338e-02, -8.44640214e-02,\n",
       "         -8.16421817e-02, -7.88209919e-02, -7.60004293e-02, -7.31804713e-02,\n",
       "         -7.03610950e-02, -6.75422780e-02, -6.47239975e-02, -6.19062310e-02,\n",
       "         -5.90889559e-02, -5.62721498e-02, -5.34557901e-02, -5.06398543e-02,\n",
       "         -4.78243200e-02, -4.50091648e-02, -4.21943662e-02, -3.93799019e-02,\n",
       "         -3.65657495e-02, -3.37518867e-02, -3.09382910e-02, -2.81249403e-02,\n",
       "         -2.53118122e-02, -2.24988843e-02, -1.96861345e-02, -1.68735404e-02,\n",
       "         -1.40610798e-02, -1.12487304e-02, -8.43646994e-03, -5.62427623e-03,\n",
       "         -2.81212699e-03,  0.00000000e+00,  2.81212699e-03,  5.62427623e-03,\n",
       "          8.43646994e-03,  1.12487304e-02,  1.40610798e-02,  1.68735404e-02,\n",
       "          1.96861345e-02,  2.24988843e-02,  2.53118122e-02,  2.81249403e-02,\n",
       "          3.09382910e-02,  3.37518867e-02,  3.65657495e-02,  3.93799019e-02,\n",
       "          4.21943662e-02,  4.50091648e-02,  4.78243200e-02,  5.06398543e-02,\n",
       "          5.34557901e-02,  5.62721498e-02,  5.90889559e-02,  6.19062310e-02,\n",
       "          6.47239975e-02,  6.75422780e-02,  7.03610950e-02,  7.31804713e-02,\n",
       "          7.60004293e-02,  7.88209919e-02,  8.16421817e-02,  8.44640214e-02,\n",
       "          8.72865338e-02,  9.01097418e-02,  9.29336682e-02,  9.57583359e-02,\n",
       "          9.85837679e-02,  1.01409987e-01,  1.04237016e-01,  1.07064879e-01,\n",
       "          1.09893598e-01,  1.12723197e-01,  1.15553699e-01,  1.18385126e-01,\n",
       "          1.21217504e-01,  1.24050853e-01,  1.26885199e-01,  1.29720565e-01,\n",
       "          1.32556974e-01,  1.35394450e-01,  1.38233017e-01,  1.41072697e-01,\n",
       "          1.43913516e-01,  1.46755497e-01,  1.49598663e-01,  1.52443039e-01,\n",
       "          1.55288649e-01,  1.58135518e-01,  1.60983668e-01,  1.63833125e-01,\n",
       "          1.66683912e-01,  1.69536055e-01,  1.72389578e-01,  1.75244505e-01,\n",
       "          1.78100862e-01,  1.80958672e-01,  1.83817960e-01,  1.86678753e-01,\n",
       "          1.89541074e-01,  1.92404948e-01,  1.95270402e-01,  1.98137460e-01,\n",
       "          2.01006147e-01,  2.03876490e-01,  2.06748513e-01,  2.09622243e-01,\n",
       "          2.12497705e-01,  2.15374924e-01,  2.18253928e-01,  2.21134743e-01,\n",
       "          2.24017393e-01,  2.26901906e-01,  2.29788309e-01,  2.32676627e-01,\n",
       "          2.35566887e-01,  2.38459117e-01,  2.41353343e-01,  2.44249592e-01,\n",
       "          2.47147891e-01,  2.50048268e-01,  2.52950750e-01,  2.55855364e-01,\n",
       "          2.58762138e-01,  2.61671101e-01,  2.64582279e-01,  2.67495702e-01,\n",
       "          2.70411397e-01,  2.73329392e-01,  2.76249717e-01,  2.79172399e-01,\n",
       "          2.82097468e-01,  2.85024953e-01,  2.87954883e-01,  2.90887286e-01,\n",
       "          2.93822194e-01,  2.96759634e-01,  2.99699637e-01,  3.02642232e-01,\n",
       "          3.05587451e-01,  3.08535323e-01,  3.11485878e-01,  3.14439148e-01,\n",
       "          3.17395163e-01,  3.20353953e-01,  3.23315551e-01,  3.26279988e-01,\n",
       "          3.29247294e-01,  3.32217503e-01,  3.35190645e-01,  3.38166753e-01,\n",
       "          3.41145859e-01,  3.44127996e-01,  3.47113197e-01,  3.50101494e-01,\n",
       "          3.53092920e-01,  3.56087510e-01,  3.59085297e-01,  3.62086314e-01,\n",
       "          3.65090595e-01,  3.68098175e-01,  3.71109089e-01,  3.74123371e-01,\n",
       "          3.77141055e-01,  3.80162179e-01,  3.83186776e-01,  3.86214882e-01,\n",
       "          3.89246534e-01,  3.92281768e-01,  3.95320620e-01,  3.98363127e-01,\n",
       "          4.01409326e-01,  4.04459255e-01,  4.07512950e-01,  4.10570451e-01,\n",
       "          4.13631794e-01,  4.16697019e-01,  4.19766163e-01,  4.22839267e-01,\n",
       "          4.25916370e-01,  4.28997511e-01,  4.32082729e-01,  4.35172066e-01,\n",
       "          4.38265562e-01,  4.41363258e-01,  4.44465194e-01,  4.47571414e-01,\n",
       "          4.50681957e-01,  4.53796868e-01,  4.56916187e-01,  4.60039959e-01,\n",
       "          4.63168227e-01,  4.66301033e-01,  4.69438423e-01,  4.72580440e-01,\n",
       "          4.75727130e-01,  4.78878538e-01,  4.82034708e-01,  4.85195688e-01,\n",
       "          4.88361523e-01,  4.91532260e-01,  4.94707946e-01,  4.97888630e-01,\n",
       "          5.01074359e-01,  5.04265181e-01,  5.07461145e-01,  5.10662301e-01,\n",
       "          5.13868699e-01,  5.17080388e-01,  5.20297421e-01,  5.23519846e-01,\n",
       "          5.26747718e-01,  5.29981087e-01,  5.33220006e-01,  5.36464529e-01,\n",
       "          5.39714708e-01,  5.42970600e-01,  5.46232257e-01,  5.49499736e-01,\n",
       "          5.52773092e-01,  5.56052382e-01,  5.59337662e-01,  5.62628991e-01,\n",
       "          5.65926425e-01,  5.69230025e-01,  5.72539849e-01,  5.75855957e-01,\n",
       "          5.79178409e-01,  5.82507267e-01,  5.85842593e-01,  5.89184448e-01,\n",
       "          5.92532897e-01,  5.95888002e-01,  5.99249828e-01,  6.02618441e-01,\n",
       "          6.05993906e-01,  6.09376290e-01,  6.12765660e-01,  6.16162083e-01,\n",
       "          6.19565630e-01,  6.22976369e-01,  6.26394370e-01,  6.29819705e-01,\n",
       "          6.33252446e-01,  6.36692665e-01,  6.40140437e-01,  6.43595834e-01,\n",
       "          6.47058933e-01,  6.50529809e-01,  6.54008541e-01,  6.57495204e-01,\n",
       "          6.60989880e-01,  6.64492646e-01,  6.68003585e-01,  6.71522777e-01,\n",
       "          6.75050305e-01,  6.78586254e-01,  6.82130707e-01,  6.85683751e-01,\n",
       "          6.89245472e-01,  6.92815959e-01,  6.96395299e-01,  6.99983584e-01,\n",
       "          7.03580904e-01,  7.07187353e-01,  7.10803023e-01,  7.14428009e-01,\n",
       "          7.18062408e-01,  7.21706316e-01,  7.25359833e-01,  7.29023057e-01,\n",
       "          7.32696091e-01,  7.36379036e-01,  7.40071997e-01,  7.43775079e-01,\n",
       "          7.47488388e-01,  7.51212033e-01,  7.54946122e-01,  7.58690769e-01,\n",
       "          7.62446084e-01,  7.66212182e-01,  7.69989180e-01,  7.73777194e-01,\n",
       "          7.77576344e-01,  7.81386750e-01,  7.85208535e-01,  7.89041824e-01,\n",
       "          7.92886742e-01,  7.96743417e-01,  8.00611980e-01,  8.04492562e-01,\n",
       "          8.08385297e-01,  8.12290320e-01,  8.16207769e-01,  8.20137785e-01,\n",
       "          8.24080508e-01,  8.28036084e-01,  8.32004658e-01,  8.35986380e-01,\n",
       "          8.39981400e-01,  8.43989871e-01,  8.48011949e-01,  8.52047793e-01,\n",
       "          8.56097563e-01,  8.60161422e-01,  8.64239537e-01,  8.68332076e-01,\n",
       "          8.72439211e-01,  8.76561115e-01,  8.80697966e-01,  8.84849944e-01,\n",
       "          8.89017233e-01,  8.93200018e-01,  8.97398488e-01,  9.01612837e-01,\n",
       "          9.05843261e-01,  9.10089959e-01,  9.14353133e-01,  9.18632990e-01,\n",
       "          9.22929741e-01,  9.27243599e-01,  9.31574782e-01,  9.35923511e-01,\n",
       "          9.40290012e-01,  9.44674515e-01,  9.49077254e-01,  9.53498468e-01,\n",
       "          9.57938398e-01,  9.62397294e-01,  9.66875406e-01,  9.71372991e-01,\n",
       "          9.75890312e-01,  9.80427636e-01,  9.84985234e-01,  9.89563385e-01,\n",
       "          9.94162371e-01,  9.98782481e-01,  1.00342401e+00,  1.00808726e+00,\n",
       "          1.01277253e+00,  1.01748014e+00,  1.02221041e+00,  1.02696366e+00,\n",
       "          1.03174023e+00,  1.03654045e+00,  1.04136468e+00,  1.04621327e+00,\n",
       "          1.05108658e+00,  1.05598498e+00,  1.06090885e+00,  1.06585857e+00,\n",
       "          1.07083455e+00,  1.07583719e+00,  1.08086689e+00,  1.08592409e+00,\n",
       "          1.09100921e+00,  1.09612271e+00,  1.10126502e+00,  1.10643663e+00,\n",
       "          1.11163799e+00,  1.11686961e+00,  1.12213197e+00,  1.12742560e+00,\n",
       "          1.13275101e+00,  1.13810873e+00,  1.14349933e+00,  1.14892337e+00,\n",
       "          1.15438141e+00,  1.15987407e+00,  1.16540194e+00,  1.17096565e+00,\n",
       "          1.17656585e+00,  1.18220320e+00,  1.18787837e+00,  1.19359205e+00,\n",
       "          1.19934497e+00,  1.20513786e+00,  1.21097148e+00,  1.21684660e+00,\n",
       "          1.22276403e+00,  1.22872458e+00,  1.23472912e+00,  1.24077850e+00,\n",
       "          1.24687363e+00,  1.25301544e+00,  1.25920489e+00,  1.26544295e+00,\n",
       "          1.27173065e+00,  1.27806903e+00,  1.28445918e+00,  1.29090221e+00,\n",
       "          1.29739929e+00,  1.30395159e+00,  1.31056036e+00,  1.31722687e+00,\n",
       "          1.32395244e+00,  1.33073844e+00,  1.33758628e+00,  1.34449742e+00,\n",
       "          1.35147338e+00,  1.35851574e+00,  1.36562613e+00,  1.37280624e+00,\n",
       "          1.38005783e+00,  1.38738272e+00,  1.39478282e+00,  1.40226010e+00,\n",
       "          1.40981661e+00,  1.41745449e+00,  1.42517596e+00,  1.43298336e+00,\n",
       "          1.44087909e+00,  1.44886569e+00,  1.45694579e+00,  1.46512215e+00,\n",
       "          1.47339765e+00,  1.48177530e+00,  1.49025825e+00,  1.49884983e+00,\n",
       "          1.50755349e+00,  1.51637287e+00,  1.52531180e+00,  1.53437430e+00,\n",
       "          1.54356460e+00,  1.55288715e+00,  1.56234666e+00,  1.57194806e+00,\n",
       "          1.58169661e+00,  1.59159783e+00,  1.60165759e+00,  1.61188210e+00,\n",
       "          1.62227795e+00,  1.63285214e+00,  1.64361212e+00,  1.65456583e+00,\n",
       "          1.66572174e+00,  1.67708890e+00,  1.68867698e+00,  1.70049636e+00,\n",
       "          1.71255819e+00,  1.72487445e+00,  1.73745806e+00,  1.75032296e+00,\n",
       "          1.76348425e+00,  1.77695830e+00,  1.79076290e+00,  1.80491744e+00,\n",
       "          1.81944313e+00,  1.83436318e+00,  1.84970311e+00,  1.86549107e+00,\n",
       "          1.88175821e+00,  1.89853909e+00,  1.91587229e+00,  1.93380097e+00,\n",
       "          1.95237369e+00,  1.97164537e+00,  1.99167841e+00,  2.01254418e+00,\n",
       "          2.03432484e+00,  2.05711563e+00,  2.08102787e+00,  2.10619283e+00,\n",
       "          2.13276686e+00,  2.16093830e+00,  2.19093694e+00,  2.22304736e+00,\n",
       "          2.25762808e+00,  2.29513992e+00,  2.33618969e+00,  2.38160005e+00,\n",
       "          2.43252738e+00,  2.49067391e+00,  2.55870259e+00,  2.64114608e+00,\n",
       "          2.74675222e+00,  2.89636677e+00,  3.16416595e+00]),\n",
       "  array([1.00000000e+00, 1.00000000e+00, 1.00000000e+00, 1.00000000e+00,\n",
       "         1.00000000e+00, 1.00000000e+00, 1.00000000e+00, 1.00000000e+00,\n",
       "         1.00000000e+00, 1.00000000e+00, 1.00000000e+00, 1.00000000e+00,\n",
       "         1.00000000e+00, 1.00000000e+00, 1.00000000e+00, 5.52849102e+01,\n",
       "         1.48413159e+02, 5.11577966e+02, 6.24842739e+02, 6.32702293e+02,\n",
       "         6.62353897e+02, 6.62353897e+02, 8.54058763e+02, 8.54058763e+02,\n",
       "         9.51747720e+02, 1.04314973e+03, 1.06955719e+03, 1.06955719e+03,\n",
       "         1.14802689e+03, 1.15285874e+03, 1.15285874e+03, 1.15285874e+03,\n",
       "         1.15285874e+03, 1.15285874e+03, 1.15285874e+03, 1.15285874e+03,\n",
       "         1.15771093e+03, 1.15771093e+03, 1.24264817e+03, 1.24264817e+03,\n",
       "         1.24264817e+03, 1.24264817e+03, 1.26357464e+03, 1.37333862e+03,\n",
       "         1.37333862e+03, 1.37333862e+03, 1.37333862e+03, 1.37333862e+03,\n",
       "         1.37333862e+03, 1.37333862e+03, 1.37333862e+03, 1.37333862e+03,\n",
       "         1.37333862e+03, 1.37333862e+03, 1.37333862e+03, 1.37911877e+03,\n",
       "         1.37911877e+03, 1.37911877e+03, 1.37911877e+03, 1.37911877e+03,\n",
       "         1.37911877e+03, 1.37911877e+03, 1.37911877e+03, 1.37911877e+03,\n",
       "         1.37911877e+03, 1.37911877e+03, 1.37911877e+03, 1.37911877e+03,\n",
       "         1.37911877e+03, 1.37911877e+03, 1.40810485e+03, 1.40810485e+03,\n",
       "         1.40810485e+03, 1.40810485e+03, 1.40810485e+03, 1.40810485e+03,\n",
       "         1.40810485e+03, 1.40810485e+03, 1.40810485e+03, 1.40810485e+03,\n",
       "         1.40810485e+03, 1.40810485e+03, 1.40810485e+03, 1.49891981e+03,\n",
       "         1.80046456e+03, 1.80046456e+03, 1.80046456e+03, 1.84604354e+03,\n",
       "         1.90074273e+03, 1.90074273e+03, 1.90074273e+03, 1.90074273e+03,\n",
       "         2.05740344e+03, 2.10064559e+03, 2.10064559e+03, 2.10064559e+03,\n",
       "         2.10064559e+03, 2.26425259e+03, 2.27378245e+03, 2.28312409e+03,\n",
       "         2.28312409e+03, 2.28312409e+03, 2.28312409e+03, 2.29273338e+03,\n",
       "         2.29273338e+03, 2.30238311e+03, 2.32157241e+03, 2.32157241e+03,\n",
       "         2.32157241e+03, 2.32157241e+03, 2.32157241e+03, 2.32157241e+03,\n",
       "         2.32157241e+03, 2.32157241e+03, 2.32157241e+03, 2.32157241e+03,\n",
       "         2.32157241e+03, 2.32157241e+03, 2.32157241e+03, 2.32157241e+03,\n",
       "         2.32157241e+03, 2.32157241e+03, 2.32157241e+03, 2.32157241e+03,\n",
       "         2.32157241e+03, 2.32157241e+03, 2.32157241e+03, 2.32157241e+03,\n",
       "         2.32157241e+03, 2.32157241e+03, 2.32157241e+03, 2.32157241e+03,\n",
       "         2.32157241e+03, 2.32157241e+03, 2.32157241e+03, 2.32157241e+03,\n",
       "         2.32157241e+03, 2.32157241e+03, 2.32157241e+03, 2.32157241e+03,\n",
       "         2.38034330e+03, 2.38034330e+03, 2.38034330e+03, 2.38034330e+03,\n",
       "         2.38034330e+03, 2.38034330e+03, 2.38034330e+03, 2.38034330e+03,\n",
       "         2.38034330e+03, 2.38034330e+03, 2.38034330e+03, 2.38034330e+03,\n",
       "         2.38034330e+03, 2.38034330e+03, 2.38034330e+03, 2.38034330e+03,\n",
       "         2.41028433e+03, 2.43037295e+03, 2.43037295e+03, 2.43037295e+03,\n",
       "         2.43037295e+03, 2.43037295e+03, 2.43037295e+03, 2.44060198e+03,\n",
       "         2.51291823e+03, 2.51291823e+03, 2.57653306e+03, 2.57653306e+03,\n",
       "         2.57653306e+03, 2.57653306e+03, 2.57653306e+03, 2.57653306e+03,\n",
       "         2.57653306e+03, 2.57653306e+03, 2.57653306e+03, 2.57653306e+03,\n",
       "         2.57653306e+03, 2.57653306e+03, 2.57653306e+03, 2.63068619e+03,\n",
       "         2.64175831e+03, 2.64175831e+03, 2.64175831e+03, 2.64175831e+03,\n",
       "         2.66377615e+03, 2.68597750e+03, 2.68597750e+03, 2.68597750e+03,\n",
       "         2.68597750e+03, 2.68597750e+03, 2.68597750e+03, 2.68597750e+03,\n",
       "         2.68597750e+03, 2.68597750e+03, 2.68597750e+03, 2.68597750e+03,\n",
       "         2.68597750e+03, 2.68597750e+03, 2.68597750e+03, 2.68597750e+03,\n",
       "         2.68597750e+03, 2.68597750e+03, 2.68597750e+03, 2.68597750e+03,\n",
       "         2.68597750e+03, 2.68597750e+03, 2.68597750e+03, 2.68597750e+03,\n",
       "         2.68597750e+03, 2.68597750e+03, 2.68597750e+03, 2.68597750e+03,\n",
       "         2.68597750e+03, 2.68597750e+03, 2.68597750e+03, 2.68597750e+03,\n",
       "         2.68597750e+03, 2.68597750e+03, 2.68597750e+03, 2.68597750e+03,\n",
       "         2.68597750e+03, 2.68597750e+03, 2.68597750e+03, 2.76556436e+03,\n",
       "         2.76556436e+03, 2.76556436e+03, 2.76556436e+03, 2.76556436e+03,\n",
       "         2.76556436e+03, 2.76556436e+03, 2.76556436e+03, 2.76556436e+03,\n",
       "         2.76556436e+03, 2.76556436e+03, 2.76556436e+03, 2.76556436e+03,\n",
       "         2.76556436e+03, 2.76556436e+03, 2.76556436e+03, 2.76556436e+03,\n",
       "         2.76556436e+03, 3.06928526e+03, 3.13379497e+03, 3.13379497e+03,\n",
       "         3.13379497e+03, 3.13379497e+03, 3.13379497e+03, 3.13379497e+03,\n",
       "         3.13379497e+03, 3.13379497e+03, 3.13379497e+03, 3.13379497e+03,\n",
       "         3.13379497e+03, 3.13379497e+03, 3.13379497e+03, 3.13379497e+03,\n",
       "         3.13379497e+03, 3.13379497e+03, 3.13379497e+03, 3.13379497e+03,\n",
       "         3.13379497e+03, 3.13379497e+03, 3.13379497e+03, 3.13379497e+03,\n",
       "         3.13379497e+03, 3.13379497e+03, 3.13379497e+03, 3.13379497e+03,\n",
       "         3.13379497e+03, 3.13379497e+03, 3.13379497e+03, 3.13379497e+03,\n",
       "         3.13379497e+03, 3.13379497e+03, 3.13379497e+03, 3.13379497e+03,\n",
       "         3.13379497e+03, 3.13379497e+03, 3.13379497e+03, 3.13379497e+03,\n",
       "         3.13379497e+03, 3.13379497e+03, 3.13379497e+03, 3.13379497e+03,\n",
       "         3.13379497e+03, 3.33590738e+03, 3.42035628e+03, 3.49224474e+03,\n",
       "         4.02387239e+03, 4.28338987e+03, 4.46578371e+03, 4.59764732e+03,\n",
       "         4.71403732e+03, 4.99753465e+03, 5.73417978e+03, 5.78197154e+03,\n",
       "         5.78197154e+03, 5.78197154e+03, 5.78197154e+03, 5.78197154e+03,\n",
       "         5.78197154e+03, 5.78197154e+03, 5.78197154e+03, 5.78197154e+03,\n",
       "         5.78197154e+03, 5.78197154e+03, 5.78197154e+03, 5.78197154e+03,\n",
       "         5.90349602e+03, 6.07841956e+03, 6.97438897e+03, 8.10308393e+03,\n",
       "         8.10308393e+03, 1.00637989e+04, 1.01476761e+04, 1.01476761e+04,\n",
       "         1.14988234e+04, 1.14988234e+04, 1.30298740e+04, 1.31384720e+04,\n",
       "         1.33597268e+04, 1.33597268e+04, 1.33597268e+04, 1.33597268e+04,\n",
       "         1.33597268e+04, 1.33597268e+04, 1.33597268e+04, 1.33597268e+04,\n",
       "         1.33597268e+04, 1.45813705e+04, 1.45813705e+04, 1.84902714e+04,\n",
       "         1.84902714e+04, 1.87228503e+04, 1.88016517e+04, 1.88788967e+04,\n",
       "         2.61289716e+04, 3.49788895e+04, 3.49788895e+04, 3.63155027e+04,\n",
       "         3.63155027e+04, 3.63155027e+04, 3.63155027e+04, 3.63155027e+04,\n",
       "         3.63155027e+04, 3.63155027e+04, 3.63155027e+04, 3.63155027e+04,\n",
       "         3.63155027e+04, 3.63155027e+04, 3.63155027e+04, 3.63155027e+04,\n",
       "         3.63155027e+04, 3.63155027e+04, 3.63155027e+04, 3.63155027e+04,\n",
       "         3.63155027e+04, 3.63155027e+04, 3.63155027e+04, 3.63155027e+04,\n",
       "         3.63155027e+04, 3.63155027e+04, 3.63155027e+04, 3.69270639e+04,\n",
       "         6.84117587e+04, 6.84117587e+04, 6.84117587e+04, 7.62444572e+04,\n",
       "         7.62444572e+04, 9.87157710e+04, 9.87157710e+04, 9.87157710e+04,\n",
       "         9.87157710e+04, 1.62754791e+05, 2.14271675e+05, 2.16966881e+05,\n",
       "         2.30960043e+05, 2.30960043e+05, 2.30960043e+05, 2.61712015e+05,\n",
       "         2.61712015e+05, 2.61712015e+05, 2.61712015e+05, 2.75130277e+05,\n",
       "         3.11763448e+05, 3.90428448e+05, 4.42413392e+05, 4.42413392e+05,\n",
       "         4.42413392e+05, 4.42413392e+05, 4.42413392e+05, 4.42413392e+05,\n",
       "         4.42413392e+05, 4.42413392e+05, 4.42413392e+05, 4.42413392e+05,\n",
       "         4.42413392e+05, 4.42413392e+05, 4.42413392e+05, 4.42413392e+05,\n",
       "         4.42413392e+05, 4.42413392e+05, 4.42413392e+05, 4.42413392e+05,\n",
       "         4.42413392e+05, 4.42413392e+05, 4.42413392e+05, 4.42413392e+05,\n",
       "         4.42413392e+05, 4.42413392e+05, 4.42413392e+05, 4.42413392e+05,\n",
       "         4.42413392e+05, 4.42413392e+05, 4.42413392e+05, 4.42413392e+05,\n",
       "         4.42413392e+05, 4.42413392e+05, 4.42413392e+05, 4.42413392e+05,\n",
       "         4.42413392e+05, 4.42413392e+05, 4.42413392e+05, 4.42413392e+05,\n",
       "         4.42413392e+05, 4.42413392e+05, 4.42413392e+05, 4.42413392e+05,\n",
       "         6.71117827e+05, 7.29416370e+05, 7.29416370e+05, 7.29416370e+05,\n",
       "         7.29416370e+05, 9.76470677e+05, 1.04371811e+06, 1.04811094e+06,\n",
       "         1.20260428e+06, 1.34016058e+06, 1.79407477e+06, 1.79407477e+06,\n",
       "         1.89399706e+06, 1.89399706e+06, 1.89399706e+06, 1.89399706e+06,\n",
       "         1.89399706e+06, 1.89399706e+06, 1.89399706e+06, 1.90177839e+06,\n",
       "         1.90177839e+06, 1.90177839e+06, 1.98275926e+06, 1.98275926e+06,\n",
       "         1.98275926e+06, 1.98275926e+06, 1.98275926e+06, 1.98275926e+06,\n",
       "         1.98275926e+06, 3.26901737e+06, 3.42221993e+06, 3.43662348e+06,\n",
       "         3.61282293e+06, 4.17990886e+06, 4.17990886e+06, 4.17990886e+06,\n",
       "         4.17990886e+06, 4.17990886e+06, 5.38969848e+06, 5.38969848e+06,\n",
       "         5.38969848e+06, 5.38969848e+06, 5.38969848e+06, 5.38969848e+06,\n",
       "         5.38969848e+06, 5.38969848e+06, 5.66603423e+06, 6.86330732e+06,\n",
       "         6.86330732e+06, 6.92050983e+06, 7.64834620e+06, 7.64834620e+06,\n",
       "         7.64834620e+06, 7.64834620e+06, 8.04048530e+06, 8.04048530e+06,\n",
       "         8.88611052e+06, 9.82067092e+06, 9.82067092e+06, 9.82067092e+06,\n",
       "         9.82067092e+06, 9.82067092e+06, 9.82067092e+06, 9.82067092e+06,\n",
       "         9.82067092e+06, 9.82067092e+06, 1.78944291e+07, 1.78944291e+07,\n",
       "         3.60349551e+07, 5.37578360e+07, 5.37578360e+07, 6.56599691e+07,\n",
       "         6.56599691e+07, 6.56599691e+07, 1.39002156e+08, 1.39002156e+08,\n",
       "         1.39002156e+08, 1.44313706e+08, 1.44313706e+08, 2.31085886e+08,\n",
       "         2.31085886e+08, 2.31085886e+08, 2.31085886e+08, 2.94267566e+08,\n",
       "         2.94267566e+08, 4.69275231e+08, 4.69275231e+08, 6.00035873e+08,\n",
       "         6.00035873e+08, 6.22964442e+08, 6.22964442e+08, 8.20151798e+08,\n",
       "         8.20151798e+08, 8.20151798e+08, 8.62201879e+08, 8.62201879e+08,\n",
       "         1.31881573e+09, 1.31881573e+09, 1.31881573e+09, 1.31881573e+09,\n",
       "         1.31881573e+09, 1.31881573e+09, 1.42153058e+09, 1.42153058e+09,\n",
       "         1.42153058e+09, 1.42153058e+09, 2.60109930e+09, 3.67566535e+09,\n",
       "         5.12963324e+09, 5.12963324e+09, 6.06014764e+09, 9.74480345e+09,\n",
       "         9.74480345e+09, 9.74480345e+09, 9.74480345e+09, 1.25125753e+10,\n",
       "         1.25125753e+10, 1.52828940e+10, 1.52828940e+10, 2.64891221e+10,\n",
       "         2.64891221e+10, 3.07759692e+10, 3.07759692e+10, 3.07759692e+10,\n",
       "         3.07759692e+10, 3.07759692e+10, 3.07759692e+10, 3.07759692e+10,\n",
       "         3.07759692e+10, 1.14827863e+11, 1.14827863e+11, 1.14827863e+11,\n",
       "         1.14827863e+11, 1.29571670e+11, 1.81586870e+11, 1.82351139e+11,\n",
       "         1.82351139e+11, 1.95729609e+11, 1.95729609e+11, 1.95729609e+11,\n",
       "         1.95729609e+11, 1.95729609e+11, 1.95729609e+11, 1.95729609e+11,\n",
       "         1.95729609e+11, 1.95729609e+11, 1.95729609e+11, 1.95729609e+11,\n",
       "         1.95729609e+11, 1.95729609e+11, 1.95729609e+11, 1.95729609e+11,\n",
       "         1.95729609e+11, 1.95729609e+11, 1.95729609e+11, 1.95729609e+11,\n",
       "         1.95729609e+11, 1.95729609e+11, 1.95729609e+11, 1.95729609e+11,\n",
       "         1.95729609e+11, 1.95729609e+11, 1.95729609e+11, 1.95729609e+11,\n",
       "         1.95729609e+11, 1.95729609e+11, 1.95729609e+11, 1.95729609e+11,\n",
       "         2.51321793e+11, 2.51321793e+11, 2.51321793e+11, 2.51321793e+11,\n",
       "         2.51321793e+11, 2.51321793e+11, 2.59831713e+11, 2.60925301e+11,\n",
       "         2.60925301e+11, 2.60925301e+11, 2.88367054e+11, 3.39248936e+11,\n",
       "         3.39248936e+11, 3.39248936e+11, 3.39248936e+11, 3.39248936e+11,\n",
       "         3.39248936e+11, 3.39248936e+11, 3.39248936e+11, 3.39248936e+11,\n",
       "         3.39248936e+11, 3.39248936e+11, 3.39248936e+11, 3.39248936e+11,\n",
       "         3.39248936e+11, 3.39248936e+11, 5.32048241e+11, 5.32048241e+11,\n",
       "         1.09393237e+12, 1.09393237e+12, 1.09393237e+12, 1.09393237e+12,\n",
       "         1.09393237e+12, 1.12634613e+12, 1.12634613e+12, 1.12634613e+12,\n",
       "         1.12634613e+12, 1.30862751e+12, 1.30862751e+12, 1.30862751e+12,\n",
       "         1.30862751e+12, 1.30862751e+12, 1.30862751e+12, 2.38447478e+12,\n",
       "         2.94903761e+12, 3.93133430e+12, 3.93133430e+12, 4.45478538e+12,\n",
       "         4.45478538e+12, 4.45478538e+12, 4.45478538e+12, 4.45478538e+12,\n",
       "         7.91673508e+12, 7.91673508e+12, 7.91673508e+12, 1.06864746e+13,\n",
       "         1.06864746e+13, 1.06864746e+13, 1.06864746e+13, 1.06864746e+13,\n",
       "         1.06864746e+13, 1.14705042e+13, 1.14705042e+13, 1.76190180e+13,\n",
       "         1.76190180e+13, 1.76190180e+13, 1.76190180e+13, 1.76190180e+13,\n",
       "         2.14297230e+13, 2.14297230e+13, 2.90488497e+13, 2.90488497e+13,\n",
       "         2.90488497e+13, 3.82437017e+13, 3.82437017e+13, 3.82437017e+13,\n",
       "         3.82437017e+13, 3.82437017e+13, 3.82437017e+13, 3.82437017e+13,\n",
       "         4.27974655e+13, 4.27974655e+13, 4.27974655e+13, 4.27974655e+13,\n",
       "         1.08829113e+14, 1.30187912e+14, 2.14643580e+14, 2.14643580e+14,\n",
       "         2.14643580e+14, 3.53887436e+14, 5.95724841e+14, 8.48931826e+14,\n",
       "         8.48931826e+14, 8.48931826e+14, 8.48931826e+14, 1.12234877e+15,\n",
       "         1.58601345e+15, 2.61489411e+15, 2.61489411e+15, 2.61489411e+15,\n",
       "         2.61489411e+15, 9.12687726e+15, 9.12687726e+15, 1.17684663e+16,\n",
       "         1.17684663e+16, 5.25215523e+16, 8.65934004e+16, 8.65934004e+16,\n",
       "         8.65934004e+16, 8.65934004e+16, 1.29182173e+17, 1.57783463e+17,\n",
       "         1.57783463e+17, 1.72211540e+17, 1.72211540e+17, 1.72211540e+17,\n",
       "         1.72211540e+17, 1.72211540e+17, 1.72211540e+17, 2.66726451e+17,\n",
       "         1.14187121e+18, 1.14187121e+18, 1.14187121e+18, 2.59469331e+18,\n",
       "         2.33566849e+20, 2.33566849e+20, 2.33566849e+20, 2.33566849e+20,\n",
       "         2.33566849e+20, 2.33566849e+20, 2.85279193e+20, 3.14468286e+21,\n",
       "         3.15791831e+21, 3.15791831e+21, 5.18470553e+21, 8.51230741e+21,\n",
       "         2.27579161e+22, 3.33885507e+22, 3.33885507e+22, 3.83100800e+22,\n",
       "         3.83100800e+22, 3.83100800e+22, 3.83100800e+22, 3.83100800e+22,\n",
       "         3.83100800e+22, 3.83100800e+22, 6.66805327e+22, 6.66805327e+22,\n",
       "         6.66805327e+22, 1.15089841e+23, 1.15089841e+23, 1.15089841e+23,\n",
       "         1.15089841e+23, 1.15089841e+23, 7.69478527e+23, 7.69478527e+23,\n",
       "         1.19680771e+24, 1.89261178e+24, 1.89261178e+24, 3.43410991e+24,\n",
       "         3.43410991e+24, 3.43410991e+24, 3.43410991e+24, 3.43410991e+24,\n",
       "         3.43410991e+24, 3.43410991e+24, 5.29709082e+24, 5.29709082e+24,\n",
       "         5.68572000e+24, 5.68572000e+24, 1.51372375e+25, 1.51372375e+25,\n",
       "         6.26746944e+25, 3.69798317e+26, 4.53573699e+26, 8.26465164e+26,\n",
       "         3.28216245e+27, 1.69488924e+28, 1.69488924e+28, 3.19637513e+28,\n",
       "         3.19637513e+28, 3.19637513e+28, 3.19637513e+28, 3.19637513e+28,\n",
       "         3.19637513e+28, 3.19637513e+28, 3.19637513e+28, 3.19637513e+28,\n",
       "         3.19637513e+28, 3.19637513e+28, 3.19637513e+28, 3.19637513e+28,\n",
       "         3.19637513e+28, 3.19637513e+28, 3.19637513e+28, 3.19637513e+28,\n",
       "         3.19637513e+28, 3.19637513e+28, 3.19637513e+28, 3.19637513e+28,\n",
       "         3.19637513e+28, 3.19637513e+28, 3.19637513e+28, 3.19637513e+28,\n",
       "         3.19637513e+28, 3.19637513e+28, 3.19637513e+28, 3.19637513e+28,\n",
       "         3.19637513e+28, 3.19637513e+28, 3.19637513e+28, 3.19637513e+28,\n",
       "         3.19637513e+28, 3.19637513e+28, 3.19637513e+28, 3.19637513e+28,\n",
       "         3.19637513e+28, 3.19637513e+28, 3.19637513e+28, 3.19637513e+28,\n",
       "         3.19637513e+28, 3.19637513e+28, 3.19637513e+28, 3.19637513e+28,\n",
       "         3.19637513e+28, 3.19637513e+28, 3.19637513e+28, 3.19637513e+28,\n",
       "         3.19637513e+28, 3.19637513e+28, 3.19637513e+28, 3.19637513e+28,\n",
       "         3.19637513e+28, 3.19637513e+28, 3.19637513e+28, 3.19637513e+28,\n",
       "         3.19637513e+28, 3.19637513e+28, 3.19637513e+28, 3.19637513e+28,\n",
       "         3.19637513e+28, 3.19637513e+28, 3.19637513e+28, 3.19637513e+28,\n",
       "         3.19637513e+28, 3.19637513e+28, 3.19637513e+28, 3.19637513e+28,\n",
       "         3.19637513e+28, 3.19637513e+28, 3.19637513e+28, 3.19637513e+28,\n",
       "         3.19637513e+28, 3.19637513e+28, 3.19637513e+28, 3.19637513e+28,\n",
       "         3.19637513e+28, 3.19637513e+28, 3.19637513e+28, 3.19637513e+28,\n",
       "         3.19637513e+28, 3.19637513e+28, 3.19637513e+28, 3.19637513e+28,\n",
       "         3.19637513e+28, 3.19637513e+28, 3.19637513e+28, 3.19637513e+28,\n",
       "         3.19637513e+28, 3.19637513e+28, 3.19637513e+28, 3.19637513e+28,\n",
       "         3.19637513e+28, 3.19637513e+28, 3.19637513e+28, 3.19637513e+28,\n",
       "         3.19637513e+28, 3.19637513e+28, 3.19637513e+28, 3.19637513e+28,\n",
       "         3.19637513e+28, 3.19637513e+28, 3.19637513e+28, 3.19637513e+28,\n",
       "         3.19637513e+28, 3.19637513e+28, 3.19637513e+28, 3.19637513e+28,\n",
       "         3.19637513e+28, 3.19637513e+28, 3.19637513e+28, 3.19637513e+28,\n",
       "         3.19637513e+28, 3.19637513e+28, 3.19637513e+28])),\n",
       " (6.841433648266438e+27, 4.2051308294684167e+27, 0.6332898582986699))"
      ]
     },
     "execution_count": 90,
     "metadata": {},
     "output_type": "execute_result"
    },
    {
     "data": {
      "image/png": "[encoded data removed]",
      "text/plain": [
       "<Figure size 640x480 with 1 Axes>"
      ]
     },
     "metadata": {},
     "output_type": "display_data"
    }
   ],
   "source": [
    "stats.probplot(np.exp(data_train_mod['Fare']), dist ='norm', plot =pylab)"
   ]
  },
  {
   "cell_type": "code",
   "execution_count": 91,
   "id": "92c1648e",
   "metadata": {
    "execution": {
     "iopub.execute_input": "2022-11-04T08:38:33.176283Z",
     "iopub.status.busy": "2022-11-04T08:38:33.175165Z",
     "iopub.status.idle": "2022-11-04T08:38:33.427358Z",
     "shell.execute_reply": "2022-11-04T08:38:33.426092Z"
    },
    "papermill": {
     "duration": 0.308664,
     "end_time": "2022-11-04T08:38:33.430060",
     "exception": false,
     "start_time": "2022-11-04T08:38:33.121396",
     "status": "completed"
    },
    "tags": []
   },
   "outputs": [
    {
     "data": {
      "text/plain": [
       "((array([-3.16416595e+00, -2.89636677e+00, -2.74675222e+00, -2.64114608e+00,\n",
       "         -2.55870259e+00, -2.49067391e+00, -2.43252738e+00, -2.38160005e+00,\n",
       "         -2.33618969e+00, -2.29513992e+00, -2.25762808e+00, -2.22304736e+00,\n",
       "         -2.19093694e+00, -2.16093830e+00, -2.13276686e+00, -2.10619283e+00,\n",
       "         -2.08102787e+00, -2.05711563e+00, -2.03432484e+00, -2.01254418e+00,\n",
       "         -1.99167841e+00, -1.97164537e+00, -1.95237369e+00, -1.93380097e+00,\n",
       "         -1.91587229e+00, -1.89853909e+00, -1.88175821e+00, -1.86549107e+00,\n",
       "         -1.84970311e+00, -1.83436318e+00, -1.81944313e+00, -1.80491744e+00,\n",
       "         -1.79076290e+00, -1.77695830e+00, -1.76348425e+00, -1.75032296e+00,\n",
       "         -1.73745806e+00, -1.72487445e+00, -1.71255819e+00, -1.70049636e+00,\n",
       "         -1.68867698e+00, -1.67708890e+00, -1.66572174e+00, -1.65456583e+00,\n",
       "         -1.64361212e+00, -1.63285214e+00, -1.62227795e+00, -1.61188210e+00,\n",
       "         -1.60165759e+00, -1.59159783e+00, -1.58169661e+00, -1.57194806e+00,\n",
       "         -1.56234666e+00, -1.55288715e+00, -1.54356460e+00, -1.53437430e+00,\n",
       "         -1.52531180e+00, -1.51637287e+00, -1.50755349e+00, -1.49884983e+00,\n",
       "         -1.49025825e+00, -1.48177530e+00, -1.47339765e+00, -1.46512215e+00,\n",
       "         -1.45694579e+00, -1.44886569e+00, -1.44087909e+00, -1.43298336e+00,\n",
       "         -1.42517596e+00, -1.41745449e+00, -1.40981661e+00, -1.40226010e+00,\n",
       "         -1.39478282e+00, -1.38738272e+00, -1.38005783e+00, -1.37280624e+00,\n",
       "         -1.36562613e+00, -1.35851574e+00, -1.35147338e+00, -1.34449742e+00,\n",
       "         -1.33758628e+00, -1.33073844e+00, -1.32395244e+00, -1.31722687e+00,\n",
       "         -1.31056036e+00, -1.30395159e+00, -1.29739929e+00, -1.29090221e+00,\n",
       "         -1.28445918e+00, -1.27806903e+00, -1.27173065e+00, -1.26544295e+00,\n",
       "         -1.25920489e+00, -1.25301544e+00, -1.24687363e+00, -1.24077850e+00,\n",
       "         -1.23472912e+00, -1.22872458e+00, -1.22276403e+00, -1.21684660e+00,\n",
       "         -1.21097148e+00, -1.20513786e+00, -1.19934497e+00, -1.19359205e+00,\n",
       "         -1.18787837e+00, -1.18220320e+00, -1.17656585e+00, -1.17096565e+00,\n",
       "         -1.16540194e+00, -1.15987407e+00, -1.15438141e+00, -1.14892337e+00,\n",
       "         -1.14349933e+00, -1.13810873e+00, -1.13275101e+00, -1.12742560e+00,\n",
       "         -1.12213197e+00, -1.11686961e+00, -1.11163799e+00, -1.10643663e+00,\n",
       "         -1.10126502e+00, -1.09612271e+00, -1.09100921e+00, -1.08592409e+00,\n",
       "         -1.08086689e+00, -1.07583719e+00, -1.07083455e+00, -1.06585857e+00,\n",
       "         -1.06090885e+00, -1.05598498e+00, -1.05108658e+00, -1.04621327e+00,\n",
       "         -1.04136468e+00, -1.03654045e+00, -1.03174023e+00, -1.02696366e+00,\n",
       "         -1.02221041e+00, -1.01748014e+00, -1.01277253e+00, -1.00808726e+00,\n",
       "         -1.00342401e+00, -9.98782481e-01, -9.94162371e-01, -9.89563385e-01,\n",
       "         -9.84985234e-01, -9.80427636e-01, -9.75890312e-01, -9.71372991e-01,\n",
       "         -9.66875406e-01, -9.62397294e-01, -9.57938398e-01, -9.53498468e-01,\n",
       "         -9.49077254e-01, -9.44674515e-01, -9.40290012e-01, -9.35923511e-01,\n",
       "         -9.31574782e-01, -9.27243599e-01, -9.22929741e-01, -9.18632990e-01,\n",
       "         -9.14353133e-01, -9.10089959e-01, -9.05843261e-01, -9.01612837e-01,\n",
       "         -8.97398488e-01, -8.93200018e-01, -8.89017233e-01, -8.84849944e-01,\n",
       "         -8.80697966e-01, -8.76561115e-01, -8.72439211e-01, -8.68332076e-01,\n",
       "         -8.64239537e-01, -8.60161422e-01, -8.56097563e-01, -8.52047793e-01,\n",
       "         -8.48011949e-01, -8.43989871e-01, -8.39981400e-01, -8.35986380e-01,\n",
       "         -8.32004658e-01, -8.28036084e-01, -8.24080508e-01, -8.20137785e-01,\n",
       "         -8.16207769e-01, -8.12290320e-01, -8.08385297e-01, -8.04492562e-01,\n",
       "         -8.00611980e-01, -7.96743417e-01, -7.92886742e-01, -7.89041824e-01,\n",
       "         -7.85208535e-01, -7.81386750e-01, -7.77576344e-01, -7.73777194e-01,\n",
       "         -7.69989180e-01, -7.66212182e-01, -7.62446084e-01, -7.58690769e-01,\n",
       "         -7.54946122e-01, -7.51212033e-01, -7.47488388e-01, -7.43775079e-01,\n",
       "         -7.40071997e-01, -7.36379036e-01, -7.32696091e-01, -7.29023057e-01,\n",
       "         -7.25359833e-01, -7.21706316e-01, -7.18062408e-01, -7.14428009e-01,\n",
       "         -7.10803023e-01, -7.07187353e-01, -7.03580904e-01, -6.99983584e-01,\n",
       "         -6.96395299e-01, -6.92815959e-01, -6.89245472e-01, -6.85683751e-01,\n",
       "         -6.82130707e-01, -6.78586254e-01, -6.75050305e-01, -6.71522777e-01,\n",
       "         -6.68003585e-01, -6.64492646e-01, -6.60989880e-01, -6.57495204e-01,\n",
       "         -6.54008541e-01, -6.50529809e-01, -6.47058933e-01, -6.43595834e-01,\n",
       "         -6.40140437e-01, -6.36692665e-01, -6.33252446e-01, -6.29819705e-01,\n",
       "         -6.26394370e-01, -6.22976369e-01, -6.19565630e-01, -6.16162083e-01,\n",
       "         -6.12765660e-01, -6.09376290e-01, -6.05993906e-01, -6.02618441e-01,\n",
       "         -5.99249828e-01, -5.95888002e-01, -5.92532897e-01, -5.89184448e-01,\n",
       "         -5.85842593e-01, -5.82507267e-01, -5.79178409e-01, -5.75855957e-01,\n",
       "         -5.72539849e-01, -5.69230025e-01, -5.65926425e-01, -5.62628991e-01,\n",
       "         -5.59337662e-01, -5.56052382e-01, -5.52773092e-01, -5.49499736e-01,\n",
       "         -5.46232257e-01, -5.42970600e-01, -5.39714708e-01, -5.36464529e-01,\n",
       "         -5.33220006e-01, -5.29981087e-01, -5.26747718e-01, -5.23519846e-01,\n",
       "         -5.20297421e-01, -5.17080388e-01, -5.13868699e-01, -5.10662301e-01,\n",
       "         -5.07461145e-01, -5.04265181e-01, -5.01074359e-01, -4.97888630e-01,\n",
       "         -4.94707946e-01, -4.91532260e-01, -4.88361523e-01, -4.85195688e-01,\n",
       "         -4.82034708e-01, -4.78878538e-01, -4.75727130e-01, -4.72580440e-01,\n",
       "         -4.69438423e-01, -4.66301033e-01, -4.63168227e-01, -4.60039959e-01,\n",
       "         -4.56916187e-01, -4.53796868e-01, -4.50681957e-01, -4.47571414e-01,\n",
       "         -4.44465194e-01, -4.41363258e-01, -4.38265562e-01, -4.35172066e-01,\n",
       "         -4.32082729e-01, -4.28997511e-01, -4.25916370e-01, -4.22839267e-01,\n",
       "         -4.19766163e-01, -4.16697019e-01, -4.13631794e-01, -4.10570451e-01,\n",
       "         -4.07512950e-01, -4.04459255e-01, -4.01409326e-01, -3.98363127e-01,\n",
       "         -3.95320620e-01, -3.92281768e-01, -3.89246534e-01, -3.86214882e-01,\n",
       "         -3.83186776e-01, -3.80162179e-01, -3.77141055e-01, -3.74123371e-01,\n",
       "         -3.71109089e-01, -3.68098175e-01, -3.65090595e-01, -3.62086314e-01,\n",
       "         -3.59085297e-01, -3.56087510e-01, -3.53092920e-01, -3.50101494e-01,\n",
       "         -3.47113197e-01, -3.44127996e-01, -3.41145859e-01, -3.38166753e-01,\n",
       "         -3.35190645e-01, -3.32217503e-01, -3.29247294e-01, -3.26279988e-01,\n",
       "         -3.23315551e-01, -3.20353953e-01, -3.17395163e-01, -3.14439148e-01,\n",
       "         -3.11485878e-01, -3.08535323e-01, -3.05587451e-01, -3.02642232e-01,\n",
       "         -2.99699637e-01, -2.96759634e-01, -2.93822194e-01, -2.90887286e-01,\n",
       "         -2.87954883e-01, -2.85024953e-01, -2.82097468e-01, -2.79172399e-01,\n",
       "         -2.76249717e-01, -2.73329392e-01, -2.70411397e-01, -2.67495702e-01,\n",
       "         -2.64582279e-01, -2.61671101e-01, -2.58762138e-01, -2.55855364e-01,\n",
       "         -2.52950750e-01, -2.50048268e-01, -2.47147891e-01, -2.44249592e-01,\n",
       "         -2.41353343e-01, -2.38459117e-01, -2.35566887e-01, -2.32676627e-01,\n",
       "         -2.29788309e-01, -2.26901906e-01, -2.24017393e-01, -2.21134743e-01,\n",
       "         -2.18253928e-01, -2.15374924e-01, -2.12497705e-01, -2.09622243e-01,\n",
       "         -2.06748513e-01, -2.03876490e-01, -2.01006147e-01, -1.98137460e-01,\n",
       "         -1.95270402e-01, -1.92404948e-01, -1.89541074e-01, -1.86678753e-01,\n",
       "         -1.83817960e-01, -1.80958672e-01, -1.78100862e-01, -1.75244505e-01,\n",
       "         -1.72389578e-01, -1.69536055e-01, -1.66683912e-01, -1.63833125e-01,\n",
       "         -1.60983668e-01, -1.58135518e-01, -1.55288649e-01, -1.52443039e-01,\n",
       "         -1.49598663e-01, -1.46755497e-01, -1.43913516e-01, -1.41072697e-01,\n",
       "         -1.38233017e-01, -1.35394450e-01, -1.32556974e-01, -1.29720565e-01,\n",
       "         -1.26885199e-01, -1.24050853e-01, -1.21217504e-01, -1.18385126e-01,\n",
       "         -1.15553699e-01, -1.12723197e-01, -1.09893598e-01, -1.07064879e-01,\n",
       "         -1.04237016e-01, -1.01409987e-01, -9.85837679e-02, -9.57583359e-02,\n",
       "         -9.29336682e-02, -9.01097418e-02, -8.72865338e-02, -8.44640214e-02,\n",
       "         -8.16421817e-02, -7.88209919e-02, -7.60004293e-02, -7.31804713e-02,\n",
       "         -7.03610950e-02, -6.75422780e-02, -6.47239975e-02, -6.19062310e-02,\n",
       "         -5.90889559e-02, -5.62721498e-02, -5.34557901e-02, -5.06398543e-02,\n",
       "         -4.78243200e-02, -4.50091648e-02, -4.21943662e-02, -3.93799019e-02,\n",
       "         -3.65657495e-02, -3.37518867e-02, -3.09382910e-02, -2.81249403e-02,\n",
       "         -2.53118122e-02, -2.24988843e-02, -1.96861345e-02, -1.68735404e-02,\n",
       "         -1.40610798e-02, -1.12487304e-02, -8.43646994e-03, -5.62427623e-03,\n",
       "         -2.81212699e-03,  0.00000000e+00,  2.81212699e-03,  5.62427623e-03,\n",
       "          8.43646994e-03,  1.12487304e-02,  1.40610798e-02,  1.68735404e-02,\n",
       "          1.96861345e-02,  2.24988843e-02,  2.53118122e-02,  2.81249403e-02,\n",
       "          3.09382910e-02,  3.37518867e-02,  3.65657495e-02,  3.93799019e-02,\n",
       "          4.21943662e-02,  4.50091648e-02,  4.78243200e-02,  5.06398543e-02,\n",
       "          5.34557901e-02,  5.62721498e-02,  5.90889559e-02,  6.19062310e-02,\n",
       "          6.47239975e-02,  6.75422780e-02,  7.03610950e-02,  7.31804713e-02,\n",
       "          7.60004293e-02,  7.88209919e-02,  8.16421817e-02,  8.44640214e-02,\n",
       "          8.72865338e-02,  9.01097418e-02,  9.29336682e-02,  9.57583359e-02,\n",
       "          9.85837679e-02,  1.01409987e-01,  1.04237016e-01,  1.07064879e-01,\n",
       "          1.09893598e-01,  1.12723197e-01,  1.15553699e-01,  1.18385126e-01,\n",
       "          1.21217504e-01,  1.24050853e-01,  1.26885199e-01,  1.29720565e-01,\n",
       "          1.32556974e-01,  1.35394450e-01,  1.38233017e-01,  1.41072697e-01,\n",
       "          1.43913516e-01,  1.46755497e-01,  1.49598663e-01,  1.52443039e-01,\n",
       "          1.55288649e-01,  1.58135518e-01,  1.60983668e-01,  1.63833125e-01,\n",
       "          1.66683912e-01,  1.69536055e-01,  1.72389578e-01,  1.75244505e-01,\n",
       "          1.78100862e-01,  1.80958672e-01,  1.83817960e-01,  1.86678753e-01,\n",
       "          1.89541074e-01,  1.92404948e-01,  1.95270402e-01,  1.98137460e-01,\n",
       "          2.01006147e-01,  2.03876490e-01,  2.06748513e-01,  2.09622243e-01,\n",
       "          2.12497705e-01,  2.15374924e-01,  2.18253928e-01,  2.21134743e-01,\n",
       "          2.24017393e-01,  2.26901906e-01,  2.29788309e-01,  2.32676627e-01,\n",
       "          2.35566887e-01,  2.38459117e-01,  2.41353343e-01,  2.44249592e-01,\n",
       "          2.47147891e-01,  2.50048268e-01,  2.52950750e-01,  2.55855364e-01,\n",
       "          2.58762138e-01,  2.61671101e-01,  2.64582279e-01,  2.67495702e-01,\n",
       "          2.70411397e-01,  2.73329392e-01,  2.76249717e-01,  2.79172399e-01,\n",
       "          2.82097468e-01,  2.85024953e-01,  2.87954883e-01,  2.90887286e-01,\n",
       "          2.93822194e-01,  2.96759634e-01,  2.99699637e-01,  3.02642232e-01,\n",
       "          3.05587451e-01,  3.08535323e-01,  3.11485878e-01,  3.14439148e-01,\n",
       "          3.17395163e-01,  3.20353953e-01,  3.23315551e-01,  3.26279988e-01,\n",
       "          3.29247294e-01,  3.32217503e-01,  3.35190645e-01,  3.38166753e-01,\n",
       "          3.41145859e-01,  3.44127996e-01,  3.47113197e-01,  3.50101494e-01,\n",
       "          3.53092920e-01,  3.56087510e-01,  3.59085297e-01,  3.62086314e-01,\n",
       "          3.65090595e-01,  3.68098175e-01,  3.71109089e-01,  3.74123371e-01,\n",
       "          3.77141055e-01,  3.80162179e-01,  3.83186776e-01,  3.86214882e-01,\n",
       "          3.89246534e-01,  3.92281768e-01,  3.95320620e-01,  3.98363127e-01,\n",
       "          4.01409326e-01,  4.04459255e-01,  4.07512950e-01,  4.10570451e-01,\n",
       "          4.13631794e-01,  4.16697019e-01,  4.19766163e-01,  4.22839267e-01,\n",
       "          4.25916370e-01,  4.28997511e-01,  4.32082729e-01,  4.35172066e-01,\n",
       "          4.38265562e-01,  4.41363258e-01,  4.44465194e-01,  4.47571414e-01,\n",
       "          4.50681957e-01,  4.53796868e-01,  4.56916187e-01,  4.60039959e-01,\n",
       "          4.63168227e-01,  4.66301033e-01,  4.69438423e-01,  4.72580440e-01,\n",
       "          4.75727130e-01,  4.78878538e-01,  4.82034708e-01,  4.85195688e-01,\n",
       "          4.88361523e-01,  4.91532260e-01,  4.94707946e-01,  4.97888630e-01,\n",
       "          5.01074359e-01,  5.04265181e-01,  5.07461145e-01,  5.10662301e-01,\n",
       "          5.13868699e-01,  5.17080388e-01,  5.20297421e-01,  5.23519846e-01,\n",
       "          5.26747718e-01,  5.29981087e-01,  5.33220006e-01,  5.36464529e-01,\n",
       "          5.39714708e-01,  5.42970600e-01,  5.46232257e-01,  5.49499736e-01,\n",
       "          5.52773092e-01,  5.56052382e-01,  5.59337662e-01,  5.62628991e-01,\n",
       "          5.65926425e-01,  5.69230025e-01,  5.72539849e-01,  5.75855957e-01,\n",
       "          5.79178409e-01,  5.82507267e-01,  5.85842593e-01,  5.89184448e-01,\n",
       "          5.92532897e-01,  5.95888002e-01,  5.99249828e-01,  6.02618441e-01,\n",
       "          6.05993906e-01,  6.09376290e-01,  6.12765660e-01,  6.16162083e-01,\n",
       "          6.19565630e-01,  6.22976369e-01,  6.26394370e-01,  6.29819705e-01,\n",
       "          6.33252446e-01,  6.36692665e-01,  6.40140437e-01,  6.43595834e-01,\n",
       "          6.47058933e-01,  6.50529809e-01,  6.54008541e-01,  6.57495204e-01,\n",
       "          6.60989880e-01,  6.64492646e-01,  6.68003585e-01,  6.71522777e-01,\n",
       "          6.75050305e-01,  6.78586254e-01,  6.82130707e-01,  6.85683751e-01,\n",
       "          6.89245472e-01,  6.92815959e-01,  6.96395299e-01,  6.99983584e-01,\n",
       "          7.03580904e-01,  7.07187353e-01,  7.10803023e-01,  7.14428009e-01,\n",
       "          7.18062408e-01,  7.21706316e-01,  7.25359833e-01,  7.29023057e-01,\n",
       "          7.32696091e-01,  7.36379036e-01,  7.40071997e-01,  7.43775079e-01,\n",
       "          7.47488388e-01,  7.51212033e-01,  7.54946122e-01,  7.58690769e-01,\n",
       "          7.62446084e-01,  7.66212182e-01,  7.69989180e-01,  7.73777194e-01,\n",
       "          7.77576344e-01,  7.81386750e-01,  7.85208535e-01,  7.89041824e-01,\n",
       "          7.92886742e-01,  7.96743417e-01,  8.00611980e-01,  8.04492562e-01,\n",
       "          8.08385297e-01,  8.12290320e-01,  8.16207769e-01,  8.20137785e-01,\n",
       "          8.24080508e-01,  8.28036084e-01,  8.32004658e-01,  8.35986380e-01,\n",
       "          8.39981400e-01,  8.43989871e-01,  8.48011949e-01,  8.52047793e-01,\n",
       "          8.56097563e-01,  8.60161422e-01,  8.64239537e-01,  8.68332076e-01,\n",
       "          8.72439211e-01,  8.76561115e-01,  8.80697966e-01,  8.84849944e-01,\n",
       "          8.89017233e-01,  8.93200018e-01,  8.97398488e-01,  9.01612837e-01,\n",
       "          9.05843261e-01,  9.10089959e-01,  9.14353133e-01,  9.18632990e-01,\n",
       "          9.22929741e-01,  9.27243599e-01,  9.31574782e-01,  9.35923511e-01,\n",
       "          9.40290012e-01,  9.44674515e-01,  9.49077254e-01,  9.53498468e-01,\n",
       "          9.57938398e-01,  9.62397294e-01,  9.66875406e-01,  9.71372991e-01,\n",
       "          9.75890312e-01,  9.80427636e-01,  9.84985234e-01,  9.89563385e-01,\n",
       "          9.94162371e-01,  9.98782481e-01,  1.00342401e+00,  1.00808726e+00,\n",
       "          1.01277253e+00,  1.01748014e+00,  1.02221041e+00,  1.02696366e+00,\n",
       "          1.03174023e+00,  1.03654045e+00,  1.04136468e+00,  1.04621327e+00,\n",
       "          1.05108658e+00,  1.05598498e+00,  1.06090885e+00,  1.06585857e+00,\n",
       "          1.07083455e+00,  1.07583719e+00,  1.08086689e+00,  1.08592409e+00,\n",
       "          1.09100921e+00,  1.09612271e+00,  1.10126502e+00,  1.10643663e+00,\n",
       "          1.11163799e+00,  1.11686961e+00,  1.12213197e+00,  1.12742560e+00,\n",
       "          1.13275101e+00,  1.13810873e+00,  1.14349933e+00,  1.14892337e+00,\n",
       "          1.15438141e+00,  1.15987407e+00,  1.16540194e+00,  1.17096565e+00,\n",
       "          1.17656585e+00,  1.18220320e+00,  1.18787837e+00,  1.19359205e+00,\n",
       "          1.19934497e+00,  1.20513786e+00,  1.21097148e+00,  1.21684660e+00,\n",
       "          1.22276403e+00,  1.22872458e+00,  1.23472912e+00,  1.24077850e+00,\n",
       "          1.24687363e+00,  1.25301544e+00,  1.25920489e+00,  1.26544295e+00,\n",
       "          1.27173065e+00,  1.27806903e+00,  1.28445918e+00,  1.29090221e+00,\n",
       "          1.29739929e+00,  1.30395159e+00,  1.31056036e+00,  1.31722687e+00,\n",
       "          1.32395244e+00,  1.33073844e+00,  1.33758628e+00,  1.34449742e+00,\n",
       "          1.35147338e+00,  1.35851574e+00,  1.36562613e+00,  1.37280624e+00,\n",
       "          1.38005783e+00,  1.38738272e+00,  1.39478282e+00,  1.40226010e+00,\n",
       "          1.40981661e+00,  1.41745449e+00,  1.42517596e+00,  1.43298336e+00,\n",
       "          1.44087909e+00,  1.44886569e+00,  1.45694579e+00,  1.46512215e+00,\n",
       "          1.47339765e+00,  1.48177530e+00,  1.49025825e+00,  1.49884983e+00,\n",
       "          1.50755349e+00,  1.51637287e+00,  1.52531180e+00,  1.53437430e+00,\n",
       "          1.54356460e+00,  1.55288715e+00,  1.56234666e+00,  1.57194806e+00,\n",
       "          1.58169661e+00,  1.59159783e+00,  1.60165759e+00,  1.61188210e+00,\n",
       "          1.62227795e+00,  1.63285214e+00,  1.64361212e+00,  1.65456583e+00,\n",
       "          1.66572174e+00,  1.67708890e+00,  1.68867698e+00,  1.70049636e+00,\n",
       "          1.71255819e+00,  1.72487445e+00,  1.73745806e+00,  1.75032296e+00,\n",
       "          1.76348425e+00,  1.77695830e+00,  1.79076290e+00,  1.80491744e+00,\n",
       "          1.81944313e+00,  1.83436318e+00,  1.84970311e+00,  1.86549107e+00,\n",
       "          1.88175821e+00,  1.89853909e+00,  1.91587229e+00,  1.93380097e+00,\n",
       "          1.95237369e+00,  1.97164537e+00,  1.99167841e+00,  2.01254418e+00,\n",
       "          2.03432484e+00,  2.05711563e+00,  2.08102787e+00,  2.10619283e+00,\n",
       "          2.13276686e+00,  2.16093830e+00,  2.19093694e+00,  2.22304736e+00,\n",
       "          2.25762808e+00,  2.29513992e+00,  2.33618969e+00,  2.38160005e+00,\n",
       "          2.43252738e+00,  2.49067391e+00,  2.55870259e+00,  2.64114608e+00,\n",
       "          2.74675222e+00,  2.89636677e+00,  3.16416595e+00]),\n",
       "  array([0.        , 0.        , 0.        , 0.        , 0.        ,\n",
       "         0.        , 0.        , 0.        , 0.        , 0.        ,\n",
       "         0.        , 0.        , 0.        , 0.        , 0.        ,\n",
       "         2.00312256, 2.23606798, 2.49749875, 2.53722289, 2.53968502,\n",
       "         2.54868594, 2.54868594, 2.59807621, 2.59807621, 2.61883562,\n",
       "         2.63628527, 2.64102253, 2.64102253, 2.65439259, 2.65518361,\n",
       "         2.65518361, 2.65518361, 2.65518361, 2.65518361, 2.65518361,\n",
       "         2.65518361, 2.6559744 , 2.6559744 , 2.66926956, 2.66926956,\n",
       "         2.66926956, 2.66926956, 2.67239593, 2.68793601, 2.68793601,\n",
       "         2.68793601, 2.68793601, 2.68793601, 2.68793601, 2.68793601,\n",
       "         2.68793601, 2.68793601, 2.68793601, 2.68793601, 2.68793601,\n",
       "         2.68871717, 2.68871717, 2.68871717, 2.68871717, 2.68871717,\n",
       "         2.68871717, 2.68871717, 2.68871717, 2.68871717, 2.68871717,\n",
       "         2.68871717, 2.68871717, 2.68871717, 2.68871717, 2.68871717,\n",
       "         2.6925824 , 2.6925824 , 2.6925824 , 2.6925824 , 2.6925824 ,\n",
       "         2.6925824 , 2.6925824 , 2.6925824 , 2.6925824 , 2.6925824 ,\n",
       "         2.6925824 , 2.6925824 , 2.6925824 , 2.70416346, 2.73784587,\n",
       "         2.73784587, 2.73784587, 2.7424077 , 2.74772633, 2.74772633,\n",
       "         2.74772633, 2.74772633, 2.76210065, 2.76586334, 2.76586334,\n",
       "         2.76586334, 2.76586334, 2.77938842, 2.78014388, 2.78088116,\n",
       "         2.78088116, 2.78088116, 2.78088116, 2.78163621, 2.78163621,\n",
       "         2.78239106, 2.78388218, 2.78388218, 2.78388218, 2.78388218,\n",
       "         2.78388218, 2.78388218, 2.78388218, 2.78388218, 2.78388218,\n",
       "         2.78388218, 2.78388218, 2.78388218, 2.78388218, 2.78388218,\n",
       "         2.78388218, 2.78388218, 2.78388218, 2.78388218, 2.78388218,\n",
       "         2.78388218, 2.78388218, 2.78388218, 2.78388218, 2.78388218,\n",
       "         2.78388218, 2.78388218, 2.78388218, 2.78388218, 2.78388218,\n",
       "         2.78388218, 2.78388218, 2.78388218, 2.78388218, 2.78388218,\n",
       "         2.7883687 , 2.7883687 , 2.7883687 , 2.7883687 , 2.7883687 ,\n",
       "         2.7883687 , 2.7883687 , 2.7883687 , 2.7883687 , 2.7883687 ,\n",
       "         2.7883687 , 2.7883687 , 2.7883687 , 2.7883687 , 2.7883687 ,\n",
       "         2.7883687 , 2.79060925, 2.79209599, 2.79209599, 2.79209599,\n",
       "         2.79209599, 2.79209599, 2.79209599, 2.79284801, 2.79807076,\n",
       "         2.79807076, 2.80253457, 2.80253457, 2.80253457, 2.80253457,\n",
       "         2.80253457, 2.80253457, 2.80253457, 2.80253457, 2.80253457,\n",
       "         2.80253457, 2.80253457, 2.80253457, 2.80253457, 2.80624304,\n",
       "         2.80699127, 2.80699127, 2.80699127, 2.80699127, 2.80846933,\n",
       "         2.80994662, 2.80994662, 2.80994662, 2.80994662, 2.80994662,\n",
       "         2.80994662, 2.80994662, 2.80994662, 2.80994662, 2.80994662,\n",
       "         2.80994662, 2.80994662, 2.80994662, 2.80994662, 2.80994662,\n",
       "         2.80994662, 2.80994662, 2.80994662, 2.80994662, 2.80994662,\n",
       "         2.80994662, 2.80994662, 2.80994662, 2.80994662, 2.80994662,\n",
       "         2.80994662, 2.80994662, 2.80994662, 2.80994662, 2.80994662,\n",
       "         2.80994662, 2.80994662, 2.80994662, 2.80994662, 2.80994662,\n",
       "         2.80994662, 2.80994662, 2.80994662, 2.81513765, 2.81513765,\n",
       "         2.81513765, 2.81513765, 2.81513765, 2.81513765, 2.81513765,\n",
       "         2.81513765, 2.81513765, 2.81513765, 2.81513765, 2.81513765,\n",
       "         2.81513765, 2.81513765, 2.81513765, 2.81513765, 2.81513765,\n",
       "         2.81513765, 2.8335843 , 2.83725219, 2.83725219, 2.83725219,\n",
       "         2.83725219, 2.83725219, 2.83725219, 2.83725219, 2.83725219,\n",
       "         2.83725219, 2.83725219, 2.83725219, 2.83725219, 2.83725219,\n",
       "         2.83725219, 2.83725219, 2.83725219, 2.83725219, 2.83725219,\n",
       "         2.83725219, 2.83725219, 2.83725219, 2.83725219, 2.83725219,\n",
       "         2.83725219, 2.83725219, 2.83725219, 2.83725219, 2.83725219,\n",
       "         2.83725219, 2.83725219, 2.83725219, 2.83725219, 2.83725219,\n",
       "         2.83725219, 2.83725219, 2.83725219, 2.83725219, 2.83725219,\n",
       "         2.83725219, 2.83725219, 2.83725219, 2.83725219, 2.83725219,\n",
       "         2.84824507, 2.85263037, 2.8562738 , 2.88097206, 2.89179875,\n",
       "         2.89899983, 2.90401446, 2.90831566, 2.91833857, 2.94180217,\n",
       "         2.94321253, 2.94321253, 2.94321253, 2.94321253, 2.94321253,\n",
       "         2.94321253, 2.94321253, 2.94321253, 2.94321253, 2.94321253,\n",
       "         2.94321253, 2.94321253, 2.94321253, 2.94674397, 2.95169443,\n",
       "         2.97489496, 3.        , 3.        , 3.03590184, 3.03726851,\n",
       "         3.03726851, 3.05777697, 3.05777697, 3.07814879, 3.07949671,\n",
       "         3.082207  , 3.082207  , 3.082207  , 3.082207  , 3.082207  ,\n",
       "         3.082207  , 3.082207  , 3.082207  , 3.082207  , 3.09636884,\n",
       "         3.09636884, 3.1344856 , 3.1344856 , 3.13647892, 3.13714839,\n",
       "         3.13780178, 3.18916917, 3.2345788 , 3.2345788 , 3.24037035,\n",
       "         3.24037035, 3.24037035, 3.24037035, 3.24037035, 3.24037035,\n",
       "         3.24037035, 3.24037035, 3.24037035, 3.24037035, 3.24037035,\n",
       "         3.24037035, 3.24037035, 3.24037035, 3.24037035, 3.24037035,\n",
       "         3.24037035, 3.24037035, 3.24037035, 3.24037035, 3.24037035,\n",
       "         3.24037035, 3.24037035, 3.24037035, 3.24294619, 3.33666001,\n",
       "         3.33666001, 3.33666001, 3.35286445, 3.35286445, 3.39116499,\n",
       "         3.39116499, 3.39116499, 3.39116499, 3.46410162, 3.50356961,\n",
       "         3.50535305, 3.51425668, 3.51425668, 3.51425668, 3.5319966 ,\n",
       "         3.5319966 , 3.5319966 , 3.5319966 , 3.53906767, 3.55668385,\n",
       "         3.58817502, 3.60555128, 3.60555128, 3.60555128, 3.60555128,\n",
       "         3.60555128, 3.60555128, 3.60555128, 3.60555128, 3.60555128,\n",
       "         3.60555128, 3.60555128, 3.60555128, 3.60555128, 3.60555128,\n",
       "         3.60555128, 3.60555128, 3.60555128, 3.60555128, 3.60555128,\n",
       "         3.60555128, 3.60555128, 3.60555128, 3.60555128, 3.60555128,\n",
       "         3.60555128, 3.60555128, 3.60555128, 3.60555128, 3.60555128,\n",
       "         3.60555128, 3.60555128, 3.60555128, 3.60555128, 3.60555128,\n",
       "         3.60555128, 3.60555128, 3.60555128, 3.60555128, 3.60555128,\n",
       "         3.60555128, 3.60555128, 3.60555128, 3.66288138, 3.67423461,\n",
       "         3.67423461, 3.67423461, 3.67423461, 3.71371781, 3.72267377,\n",
       "         3.72323784, 3.74165739, 3.7561017 , 3.79473319, 3.79473319,\n",
       "         3.80186796, 3.80186796, 3.80186796, 3.80186796, 3.80186796,\n",
       "         3.80186796, 3.80186796, 3.80240713, 3.80240713, 3.80240713,\n",
       "         3.80788655, 3.80788655, 3.80788655, 3.80788655, 3.80788655,\n",
       "         3.80788655, 3.80788655, 3.87298335, 3.87889159, 3.87943295,\n",
       "         3.88587185, 3.90458705, 3.90458705, 3.90458705, 3.90458705,\n",
       "         3.90458705, 3.93700394, 3.93700394, 3.93700394, 3.93700394,\n",
       "         3.93700394, 3.93700394, 3.93700394, 3.93700394, 3.94334883,\n",
       "         3.96758113, 3.96758113, 3.96862697, 3.98120585, 3.98120585,\n",
       "         3.98120585, 3.98120585, 3.98748041, 3.98748041, 4.        ,\n",
       "         4.01248053, 4.01248053, 4.01248053, 4.01248053, 4.01248053,\n",
       "         4.01248053, 4.01248053, 4.01248053, 4.01248053, 4.08656335,\n",
       "         4.08656335, 4.17133072, 4.21900462, 4.21900462, 4.24264069,\n",
       "         4.24264069, 4.24264069, 4.33012702, 4.33012702, 4.33012702,\n",
       "         4.33445498, 4.33445498, 4.38842796, 4.38842796, 4.38842796,\n",
       "         4.38842796, 4.41588043, 4.41588043, 4.46841135, 4.46841135,\n",
       "         4.4958314 , 4.4958314 , 4.5       , 4.5       , 4.53045252,\n",
       "         4.53045252, 4.53045252, 4.53596737, 4.53596737, 4.58257569,\n",
       "         4.58257569, 4.58257569, 4.58257569, 4.58257569, 4.58257569,\n",
       "         4.59075157, 4.59075157, 4.59075157, 4.59075157, 4.65609278,\n",
       "         4.69308001, 4.72845641, 4.72845641, 4.74605099, 4.79583152,\n",
       "         4.79583152, 4.79583152, 4.79583152, 4.82182538, 4.82182538,\n",
       "         4.84252001, 4.84252001, 4.89897949, 4.89897949, 4.91426495,\n",
       "         4.91426495, 4.91426495, 4.91426495, 4.91426495, 4.91426495,\n",
       "         4.91426495, 4.91426495, 5.0464542 , 5.0464542 , 5.0464542 ,\n",
       "         5.0464542 , 5.05840884, 5.09165985, 5.09207227, 5.09207227,\n",
       "         5.09901951, 5.09901951, 5.09901951, 5.09901951, 5.09901951,\n",
       "         5.09901951, 5.09901951, 5.09901951, 5.09901951, 5.09901951,\n",
       "         5.09901951, 5.09901951, 5.09901951, 5.09901951, 5.09901951,\n",
       "         5.09901951, 5.09901951, 5.09901951, 5.09901951, 5.09901951,\n",
       "         5.09901951, 5.09901951, 5.09901951, 5.09901951, 5.09901951,\n",
       "         5.09901951, 5.09901951, 5.09901951, 5.09901951, 5.09901951,\n",
       "         5.09901951, 5.12347538, 5.12347538, 5.12347538, 5.12347538,\n",
       "         5.12347538, 5.12347538, 5.1267241 , 5.1271337 , 5.1271337 ,\n",
       "         5.1271337 , 5.13687648, 5.15266921, 5.15266921, 5.15266921,\n",
       "         5.15266921, 5.15266921, 5.15266921, 5.15266921, 5.15266921,\n",
       "         5.15266921, 5.15266921, 5.15266921, 5.15266921, 5.15266921,\n",
       "         5.15266921, 5.15266921, 5.19615242, 5.19615242, 5.26505461,\n",
       "         5.26505461, 5.26505461, 5.26505461, 5.26505461, 5.26782688,\n",
       "         5.26782688, 5.26782688, 5.26782688, 5.28204506, 5.28204506,\n",
       "         5.28204506, 5.28204506, 5.28204506, 5.28204506, 5.33853913,\n",
       "         5.35840461, 5.38516481, 5.38516481, 5.39675829, 5.39675829,\n",
       "         5.39675829, 5.39675829, 5.39675829, 5.44977064, 5.44977064,\n",
       "         5.44977064, 5.47722558, 5.47722558, 5.47722558, 5.47722558,\n",
       "         5.47722558, 5.47722558, 5.48368489, 5.48368489, 5.52268051,\n",
       "         5.52268051, 5.52268051, 5.52268051, 5.52268051, 5.54037905,\n",
       "         5.54037905, 5.56776436, 5.56776436, 5.56776436, 5.59240556,\n",
       "         5.59240556, 5.59240556, 5.59240556, 5.59240556, 5.59240556,\n",
       "         5.59240556, 5.60245482, 5.60245482, 5.60245482, 5.60245482,\n",
       "         5.68513852, 5.70087713, 5.74456265, 5.74456265, 5.74456265,\n",
       "         5.78791845, 5.83273521, 5.8630197 , 5.8630197 , 5.8630197 ,\n",
       "         5.8630197 , 5.8867818 , 5.91607978, 5.95818764, 5.95818764,\n",
       "         5.95818764, 5.95818764, 6.06217783, 6.06217783, 6.08310776,\n",
       "         6.08310776, 6.20483682, 6.244998  , 6.244998  , 6.244998  ,\n",
       "         6.244998  , 6.27694193, 6.29285309, 6.29285309, 6.29980158,\n",
       "         6.29980158, 6.29980158, 6.29980158, 6.29980158, 6.29980158,\n",
       "         6.33442973, 6.44819355, 6.44819355, 6.44819355, 6.51152824,\n",
       "         6.84835747, 6.84835747, 6.84835747, 6.84835747, 6.84835747,\n",
       "         6.84835747, 6.86294397, 7.03562364, 7.03592211, 7.03592211,\n",
       "         7.07106781, 7.10603968, 7.1749007 , 7.20156233, 7.20156233,\n",
       "         7.21110255, 7.21110255, 7.21110255, 7.21110255, 7.21110255,\n",
       "         7.21110255, 7.21110255, 7.24942756, 7.24942756, 7.24942756,\n",
       "         7.28697468, 7.28697468, 7.28697468, 7.28697468, 7.28697468,\n",
       "         7.41619849, 7.41619849, 7.44591834, 7.47663026, 7.47663026,\n",
       "         7.5163688 , 7.5163688 , 7.5163688 , 7.5163688 , 7.5163688 ,\n",
       "         7.5163688 , 7.5163688 , 7.54514413, 7.54514413, 7.54983444,\n",
       "         7.54983444, 7.6144074 , 7.6144074 , 7.70713955, 7.82144488,\n",
       "         7.83448786, 7.87268696, 7.95979271, 8.06225775, 8.06225775,\n",
       "         8.10150603, 8.10150603, 8.10150603, 8.10150603, 8.10150603,\n",
       "         8.10150603, 8.10150603, 8.10150603, 8.10150603, 8.10150603,\n",
       "         8.10150603, 8.10150603, 8.10150603, 8.10150603, 8.10150603,\n",
       "         8.10150603, 8.10150603, 8.10150603, 8.10150603, 8.10150603,\n",
       "         8.10150603, 8.10150603, 8.10150603, 8.10150603, 8.10150603,\n",
       "         8.10150603, 8.10150603, 8.10150603, 8.10150603, 8.10150603,\n",
       "         8.10150603, 8.10150603, 8.10150603, 8.10150603, 8.10150603,\n",
       "         8.10150603, 8.10150603, 8.10150603, 8.10150603, 8.10150603,\n",
       "         8.10150603, 8.10150603, 8.10150603, 8.10150603, 8.10150603,\n",
       "         8.10150603, 8.10150603, 8.10150603, 8.10150603, 8.10150603,\n",
       "         8.10150603, 8.10150603, 8.10150603, 8.10150603, 8.10150603,\n",
       "         8.10150603, 8.10150603, 8.10150603, 8.10150603, 8.10150603,\n",
       "         8.10150603, 8.10150603, 8.10150603, 8.10150603, 8.10150603,\n",
       "         8.10150603, 8.10150603, 8.10150603, 8.10150603, 8.10150603,\n",
       "         8.10150603, 8.10150603, 8.10150603, 8.10150603, 8.10150603,\n",
       "         8.10150603, 8.10150603, 8.10150603, 8.10150603, 8.10150603,\n",
       "         8.10150603, 8.10150603, 8.10150603, 8.10150603, 8.10150603,\n",
       "         8.10150603, 8.10150603, 8.10150603, 8.10150603, 8.10150603,\n",
       "         8.10150603, 8.10150603, 8.10150603, 8.10150603, 8.10150603,\n",
       "         8.10150603, 8.10150603, 8.10150603, 8.10150603, 8.10150603,\n",
       "         8.10150603, 8.10150603, 8.10150603, 8.10150603, 8.10150603,\n",
       "         8.10150603, 8.10150603, 8.10150603, 8.10150603, 8.10150603,\n",
       "         8.10150603, 8.10150603, 8.10150603, 8.10150603, 8.10150603,\n",
       "         8.10150603])),\n",
       " (1.8592379386579263, 4.4852167462179375, 0.935020542157584))"
      ]
     },
     "execution_count": 91,
     "metadata": {},
     "output_type": "execute_result"
    },
    {
     "data": {
      "image/png": "[encoded data removed]",
      "text/plain": [
       "<Figure size 640x480 with 1 Axes>"
      ]
     },
     "metadata": {},
     "output_type": "display_data"
    }
   ],
   "source": [
    "stats.probplot(np.sqrt(data_train_mod['Fare']), dist ='norm', plot =pylab)"
   ]
  },
  {
   "cell_type": "code",
   "execution_count": 92,
   "id": "9c3af01c",
   "metadata": {
    "execution": {
     "iopub.execute_input": "2022-11-04T08:38:33.540599Z",
     "iopub.status.busy": "2022-11-04T08:38:33.540155Z",
     "iopub.status.idle": "2022-11-04T08:38:33.788390Z",
     "shell.execute_reply": "2022-11-04T08:38:33.787144Z"
    },
    "papermill": {
     "duration": 0.306297,
     "end_time": "2022-11-04T08:38:33.790657",
     "exception": false,
     "start_time": "2022-11-04T08:38:33.484360",
     "status": "completed"
    },
    "tags": []
   },
   "outputs": [
    {
     "name": "stderr",
     "output_type": "stream",
     "text": [
      "C:\\Users\\PC\\anaconda3\\lib\\site-packages\\pandas\\core\\arraylike.py:397: RuntimeWarning: divide by zero encountered in reciprocal\n",
      "  result = getattr(ufunc, method)(*inputs, **kwargs)\n"
     ]
    },
    {
     "data": {
      "text/plain": [
       "((array([-3.16416595e+00, -2.89636677e+00, -2.74675222e+00, -2.64114608e+00,\n",
       "         -2.55870259e+00, -2.49067391e+00, -2.43252738e+00, -2.38160005e+00,\n",
       "         -2.33618969e+00, -2.29513992e+00, -2.25762808e+00, -2.22304736e+00,\n",
       "         -2.19093694e+00, -2.16093830e+00, -2.13276686e+00, -2.10619283e+00,\n",
       "         -2.08102787e+00, -2.05711563e+00, -2.03432484e+00, -2.01254418e+00,\n",
       "         -1.99167841e+00, -1.97164537e+00, -1.95237369e+00, -1.93380097e+00,\n",
       "         -1.91587229e+00, -1.89853909e+00, -1.88175821e+00, -1.86549107e+00,\n",
       "         -1.84970311e+00, -1.83436318e+00, -1.81944313e+00, -1.80491744e+00,\n",
       "         -1.79076290e+00, -1.77695830e+00, -1.76348425e+00, -1.75032296e+00,\n",
       "         -1.73745806e+00, -1.72487445e+00, -1.71255819e+00, -1.70049636e+00,\n",
       "         -1.68867698e+00, -1.67708890e+00, -1.66572174e+00, -1.65456583e+00,\n",
       "         -1.64361212e+00, -1.63285214e+00, -1.62227795e+00, -1.61188210e+00,\n",
       "         -1.60165759e+00, -1.59159783e+00, -1.58169661e+00, -1.57194806e+00,\n",
       "         -1.56234666e+00, -1.55288715e+00, -1.54356460e+00, -1.53437430e+00,\n",
       "         -1.52531180e+00, -1.51637287e+00, -1.50755349e+00, -1.49884983e+00,\n",
       "         -1.49025825e+00, -1.48177530e+00, -1.47339765e+00, -1.46512215e+00,\n",
       "         -1.45694579e+00, -1.44886569e+00, -1.44087909e+00, -1.43298336e+00,\n",
       "         -1.42517596e+00, -1.41745449e+00, -1.40981661e+00, -1.40226010e+00,\n",
       "         -1.39478282e+00, -1.38738272e+00, -1.38005783e+00, -1.37280624e+00,\n",
       "         -1.36562613e+00, -1.35851574e+00, -1.35147338e+00, -1.34449742e+00,\n",
       "         -1.33758628e+00, -1.33073844e+00, -1.32395244e+00, -1.31722687e+00,\n",
       "         -1.31056036e+00, -1.30395159e+00, -1.29739929e+00, -1.29090221e+00,\n",
       "         -1.28445918e+00, -1.27806903e+00, -1.27173065e+00, -1.26544295e+00,\n",
       "         -1.25920489e+00, -1.25301544e+00, -1.24687363e+00, -1.24077850e+00,\n",
       "         -1.23472912e+00, -1.22872458e+00, -1.22276403e+00, -1.21684660e+00,\n",
       "         -1.21097148e+00, -1.20513786e+00, -1.19934497e+00, -1.19359205e+00,\n",
       "         -1.18787837e+00, -1.18220320e+00, -1.17656585e+00, -1.17096565e+00,\n",
       "         -1.16540194e+00, -1.15987407e+00, -1.15438141e+00, -1.14892337e+00,\n",
       "         -1.14349933e+00, -1.13810873e+00, -1.13275101e+00, -1.12742560e+00,\n",
       "         -1.12213197e+00, -1.11686961e+00, -1.11163799e+00, -1.10643663e+00,\n",
       "         -1.10126502e+00, -1.09612271e+00, -1.09100921e+00, -1.08592409e+00,\n",
       "         -1.08086689e+00, -1.07583719e+00, -1.07083455e+00, -1.06585857e+00,\n",
       "         -1.06090885e+00, -1.05598498e+00, -1.05108658e+00, -1.04621327e+00,\n",
       "         -1.04136468e+00, -1.03654045e+00, -1.03174023e+00, -1.02696366e+00,\n",
       "         -1.02221041e+00, -1.01748014e+00, -1.01277253e+00, -1.00808726e+00,\n",
       "         -1.00342401e+00, -9.98782481e-01, -9.94162371e-01, -9.89563385e-01,\n",
       "         -9.84985234e-01, -9.80427636e-01, -9.75890312e-01, -9.71372991e-01,\n",
       "         -9.66875406e-01, -9.62397294e-01, -9.57938398e-01, -9.53498468e-01,\n",
       "         -9.49077254e-01, -9.44674515e-01, -9.40290012e-01, -9.35923511e-01,\n",
       "         -9.31574782e-01, -9.27243599e-01, -9.22929741e-01, -9.18632990e-01,\n",
       "         -9.14353133e-01, -9.10089959e-01, -9.05843261e-01, -9.01612837e-01,\n",
       "         -8.97398488e-01, -8.93200018e-01, -8.89017233e-01, -8.84849944e-01,\n",
       "         -8.80697966e-01, -8.76561115e-01, -8.72439211e-01, -8.68332076e-01,\n",
       "         -8.64239537e-01, -8.60161422e-01, -8.56097563e-01, -8.52047793e-01,\n",
       "         -8.48011949e-01, -8.43989871e-01, -8.39981400e-01, -8.35986380e-01,\n",
       "         -8.32004658e-01, -8.28036084e-01, -8.24080508e-01, -8.20137785e-01,\n",
       "         -8.16207769e-01, -8.12290320e-01, -8.08385297e-01, -8.04492562e-01,\n",
       "         -8.00611980e-01, -7.96743417e-01, -7.92886742e-01, -7.89041824e-01,\n",
       "         -7.85208535e-01, -7.81386750e-01, -7.77576344e-01, -7.73777194e-01,\n",
       "         -7.69989180e-01, -7.66212182e-01, -7.62446084e-01, -7.58690769e-01,\n",
       "         -7.54946122e-01, -7.51212033e-01, -7.47488388e-01, -7.43775079e-01,\n",
       "         -7.40071997e-01, -7.36379036e-01, -7.32696091e-01, -7.29023057e-01,\n",
       "         -7.25359833e-01, -7.21706316e-01, -7.18062408e-01, -7.14428009e-01,\n",
       "         -7.10803023e-01, -7.07187353e-01, -7.03580904e-01, -6.99983584e-01,\n",
       "         -6.96395299e-01, -6.92815959e-01, -6.89245472e-01, -6.85683751e-01,\n",
       "         -6.82130707e-01, -6.78586254e-01, -6.75050305e-01, -6.71522777e-01,\n",
       "         -6.68003585e-01, -6.64492646e-01, -6.60989880e-01, -6.57495204e-01,\n",
       "         -6.54008541e-01, -6.50529809e-01, -6.47058933e-01, -6.43595834e-01,\n",
       "         -6.40140437e-01, -6.36692665e-01, -6.33252446e-01, -6.29819705e-01,\n",
       "         -6.26394370e-01, -6.22976369e-01, -6.19565630e-01, -6.16162083e-01,\n",
       "         -6.12765660e-01, -6.09376290e-01, -6.05993906e-01, -6.02618441e-01,\n",
       "         -5.99249828e-01, -5.95888002e-01, -5.92532897e-01, -5.89184448e-01,\n",
       "         -5.85842593e-01, -5.82507267e-01, -5.79178409e-01, -5.75855957e-01,\n",
       "         -5.72539849e-01, -5.69230025e-01, -5.65926425e-01, -5.62628991e-01,\n",
       "         -5.59337662e-01, -5.56052382e-01, -5.52773092e-01, -5.49499736e-01,\n",
       "         -5.46232257e-01, -5.42970600e-01, -5.39714708e-01, -5.36464529e-01,\n",
       "         -5.33220006e-01, -5.29981087e-01, -5.26747718e-01, -5.23519846e-01,\n",
       "         -5.20297421e-01, -5.17080388e-01, -5.13868699e-01, -5.10662301e-01,\n",
       "         -5.07461145e-01, -5.04265181e-01, -5.01074359e-01, -4.97888630e-01,\n",
       "         -4.94707946e-01, -4.91532260e-01, -4.88361523e-01, -4.85195688e-01,\n",
       "         -4.82034708e-01, -4.78878538e-01, -4.75727130e-01, -4.72580440e-01,\n",
       "         -4.69438423e-01, -4.66301033e-01, -4.63168227e-01, -4.60039959e-01,\n",
       "         -4.56916187e-01, -4.53796868e-01, -4.50681957e-01, -4.47571414e-01,\n",
       "         -4.44465194e-01, -4.41363258e-01, -4.38265562e-01, -4.35172066e-01,\n",
       "         -4.32082729e-01, -4.28997511e-01, -4.25916370e-01, -4.22839267e-01,\n",
       "         -4.19766163e-01, -4.16697019e-01, -4.13631794e-01, -4.10570451e-01,\n",
       "         -4.07512950e-01, -4.04459255e-01, -4.01409326e-01, -3.98363127e-01,\n",
       "         -3.95320620e-01, -3.92281768e-01, -3.89246534e-01, -3.86214882e-01,\n",
       "         -3.83186776e-01, -3.80162179e-01, -3.77141055e-01, -3.74123371e-01,\n",
       "         -3.71109089e-01, -3.68098175e-01, -3.65090595e-01, -3.62086314e-01,\n",
       "         -3.59085297e-01, -3.56087510e-01, -3.53092920e-01, -3.50101494e-01,\n",
       "         -3.47113197e-01, -3.44127996e-01, -3.41145859e-01, -3.38166753e-01,\n",
       "         -3.35190645e-01, -3.32217503e-01, -3.29247294e-01, -3.26279988e-01,\n",
       "         -3.23315551e-01, -3.20353953e-01, -3.17395163e-01, -3.14439148e-01,\n",
       "         -3.11485878e-01, -3.08535323e-01, -3.05587451e-01, -3.02642232e-01,\n",
       "         -2.99699637e-01, -2.96759634e-01, -2.93822194e-01, -2.90887286e-01,\n",
       "         -2.87954883e-01, -2.85024953e-01, -2.82097468e-01, -2.79172399e-01,\n",
       "         -2.76249717e-01, -2.73329392e-01, -2.70411397e-01, -2.67495702e-01,\n",
       "         -2.64582279e-01, -2.61671101e-01, -2.58762138e-01, -2.55855364e-01,\n",
       "         -2.52950750e-01, -2.50048268e-01, -2.47147891e-01, -2.44249592e-01,\n",
       "         -2.41353343e-01, -2.38459117e-01, -2.35566887e-01, -2.32676627e-01,\n",
       "         -2.29788309e-01, -2.26901906e-01, -2.24017393e-01, -2.21134743e-01,\n",
       "         -2.18253928e-01, -2.15374924e-01, -2.12497705e-01, -2.09622243e-01,\n",
       "         -2.06748513e-01, -2.03876490e-01, -2.01006147e-01, -1.98137460e-01,\n",
       "         -1.95270402e-01, -1.92404948e-01, -1.89541074e-01, -1.86678753e-01,\n",
       "         -1.83817960e-01, -1.80958672e-01, -1.78100862e-01, -1.75244505e-01,\n",
       "         -1.72389578e-01, -1.69536055e-01, -1.66683912e-01, -1.63833125e-01,\n",
       "         -1.60983668e-01, -1.58135518e-01, -1.55288649e-01, -1.52443039e-01,\n",
       "         -1.49598663e-01, -1.46755497e-01, -1.43913516e-01, -1.41072697e-01,\n",
       "         -1.38233017e-01, -1.35394450e-01, -1.32556974e-01, -1.29720565e-01,\n",
       "         -1.26885199e-01, -1.24050853e-01, -1.21217504e-01, -1.18385126e-01,\n",
       "         -1.15553699e-01, -1.12723197e-01, -1.09893598e-01, -1.07064879e-01,\n",
       "         -1.04237016e-01, -1.01409987e-01, -9.85837679e-02, -9.57583359e-02,\n",
       "         -9.29336682e-02, -9.01097418e-02, -8.72865338e-02, -8.44640214e-02,\n",
       "         -8.16421817e-02, -7.88209919e-02, -7.60004293e-02, -7.31804713e-02,\n",
       "         -7.03610950e-02, -6.75422780e-02, -6.47239975e-02, -6.19062310e-02,\n",
       "         -5.90889559e-02, -5.62721498e-02, -5.34557901e-02, -5.06398543e-02,\n",
       "         -4.78243200e-02, -4.50091648e-02, -4.21943662e-02, -3.93799019e-02,\n",
       "         -3.65657495e-02, -3.37518867e-02, -3.09382910e-02, -2.81249403e-02,\n",
       "         -2.53118122e-02, -2.24988843e-02, -1.96861345e-02, -1.68735404e-02,\n",
       "         -1.40610798e-02, -1.12487304e-02, -8.43646994e-03, -5.62427623e-03,\n",
       "         -2.81212699e-03,  0.00000000e+00,  2.81212699e-03,  5.62427623e-03,\n",
       "          8.43646994e-03,  1.12487304e-02,  1.40610798e-02,  1.68735404e-02,\n",
       "          1.96861345e-02,  2.24988843e-02,  2.53118122e-02,  2.81249403e-02,\n",
       "          3.09382910e-02,  3.37518867e-02,  3.65657495e-02,  3.93799019e-02,\n",
       "          4.21943662e-02,  4.50091648e-02,  4.78243200e-02,  5.06398543e-02,\n",
       "          5.34557901e-02,  5.62721498e-02,  5.90889559e-02,  6.19062310e-02,\n",
       "          6.47239975e-02,  6.75422780e-02,  7.03610950e-02,  7.31804713e-02,\n",
       "          7.60004293e-02,  7.88209919e-02,  8.16421817e-02,  8.44640214e-02,\n",
       "          8.72865338e-02,  9.01097418e-02,  9.29336682e-02,  9.57583359e-02,\n",
       "          9.85837679e-02,  1.01409987e-01,  1.04237016e-01,  1.07064879e-01,\n",
       "          1.09893598e-01,  1.12723197e-01,  1.15553699e-01,  1.18385126e-01,\n",
       "          1.21217504e-01,  1.24050853e-01,  1.26885199e-01,  1.29720565e-01,\n",
       "          1.32556974e-01,  1.35394450e-01,  1.38233017e-01,  1.41072697e-01,\n",
       "          1.43913516e-01,  1.46755497e-01,  1.49598663e-01,  1.52443039e-01,\n",
       "          1.55288649e-01,  1.58135518e-01,  1.60983668e-01,  1.63833125e-01,\n",
       "          1.66683912e-01,  1.69536055e-01,  1.72389578e-01,  1.75244505e-01,\n",
       "          1.78100862e-01,  1.80958672e-01,  1.83817960e-01,  1.86678753e-01,\n",
       "          1.89541074e-01,  1.92404948e-01,  1.95270402e-01,  1.98137460e-01,\n",
       "          2.01006147e-01,  2.03876490e-01,  2.06748513e-01,  2.09622243e-01,\n",
       "          2.12497705e-01,  2.15374924e-01,  2.18253928e-01,  2.21134743e-01,\n",
       "          2.24017393e-01,  2.26901906e-01,  2.29788309e-01,  2.32676627e-01,\n",
       "          2.35566887e-01,  2.38459117e-01,  2.41353343e-01,  2.44249592e-01,\n",
       "          2.47147891e-01,  2.50048268e-01,  2.52950750e-01,  2.55855364e-01,\n",
       "          2.58762138e-01,  2.61671101e-01,  2.64582279e-01,  2.67495702e-01,\n",
       "          2.70411397e-01,  2.73329392e-01,  2.76249717e-01,  2.79172399e-01,\n",
       "          2.82097468e-01,  2.85024953e-01,  2.87954883e-01,  2.90887286e-01,\n",
       "          2.93822194e-01,  2.96759634e-01,  2.99699637e-01,  3.02642232e-01,\n",
       "          3.05587451e-01,  3.08535323e-01,  3.11485878e-01,  3.14439148e-01,\n",
       "          3.17395163e-01,  3.20353953e-01,  3.23315551e-01,  3.26279988e-01,\n",
       "          3.29247294e-01,  3.32217503e-01,  3.35190645e-01,  3.38166753e-01,\n",
       "          3.41145859e-01,  3.44127996e-01,  3.47113197e-01,  3.50101494e-01,\n",
       "          3.53092920e-01,  3.56087510e-01,  3.59085297e-01,  3.62086314e-01,\n",
       "          3.65090595e-01,  3.68098175e-01,  3.71109089e-01,  3.74123371e-01,\n",
       "          3.77141055e-01,  3.80162179e-01,  3.83186776e-01,  3.86214882e-01,\n",
       "          3.89246534e-01,  3.92281768e-01,  3.95320620e-01,  3.98363127e-01,\n",
       "          4.01409326e-01,  4.04459255e-01,  4.07512950e-01,  4.10570451e-01,\n",
       "          4.13631794e-01,  4.16697019e-01,  4.19766163e-01,  4.22839267e-01,\n",
       "          4.25916370e-01,  4.28997511e-01,  4.32082729e-01,  4.35172066e-01,\n",
       "          4.38265562e-01,  4.41363258e-01,  4.44465194e-01,  4.47571414e-01,\n",
       "          4.50681957e-01,  4.53796868e-01,  4.56916187e-01,  4.60039959e-01,\n",
       "          4.63168227e-01,  4.66301033e-01,  4.69438423e-01,  4.72580440e-01,\n",
       "          4.75727130e-01,  4.78878538e-01,  4.82034708e-01,  4.85195688e-01,\n",
       "          4.88361523e-01,  4.91532260e-01,  4.94707946e-01,  4.97888630e-01,\n",
       "          5.01074359e-01,  5.04265181e-01,  5.07461145e-01,  5.10662301e-01,\n",
       "          5.13868699e-01,  5.17080388e-01,  5.20297421e-01,  5.23519846e-01,\n",
       "          5.26747718e-01,  5.29981087e-01,  5.33220006e-01,  5.36464529e-01,\n",
       "          5.39714708e-01,  5.42970600e-01,  5.46232257e-01,  5.49499736e-01,\n",
       "          5.52773092e-01,  5.56052382e-01,  5.59337662e-01,  5.62628991e-01,\n",
       "          5.65926425e-01,  5.69230025e-01,  5.72539849e-01,  5.75855957e-01,\n",
       "          5.79178409e-01,  5.82507267e-01,  5.85842593e-01,  5.89184448e-01,\n",
       "          5.92532897e-01,  5.95888002e-01,  5.99249828e-01,  6.02618441e-01,\n",
       "          6.05993906e-01,  6.09376290e-01,  6.12765660e-01,  6.16162083e-01,\n",
       "          6.19565630e-01,  6.22976369e-01,  6.26394370e-01,  6.29819705e-01,\n",
       "          6.33252446e-01,  6.36692665e-01,  6.40140437e-01,  6.43595834e-01,\n",
       "          6.47058933e-01,  6.50529809e-01,  6.54008541e-01,  6.57495204e-01,\n",
       "          6.60989880e-01,  6.64492646e-01,  6.68003585e-01,  6.71522777e-01,\n",
       "          6.75050305e-01,  6.78586254e-01,  6.82130707e-01,  6.85683751e-01,\n",
       "          6.89245472e-01,  6.92815959e-01,  6.96395299e-01,  6.99983584e-01,\n",
       "          7.03580904e-01,  7.07187353e-01,  7.10803023e-01,  7.14428009e-01,\n",
       "          7.18062408e-01,  7.21706316e-01,  7.25359833e-01,  7.29023057e-01,\n",
       "          7.32696091e-01,  7.36379036e-01,  7.40071997e-01,  7.43775079e-01,\n",
       "          7.47488388e-01,  7.51212033e-01,  7.54946122e-01,  7.58690769e-01,\n",
       "          7.62446084e-01,  7.66212182e-01,  7.69989180e-01,  7.73777194e-01,\n",
       "          7.77576344e-01,  7.81386750e-01,  7.85208535e-01,  7.89041824e-01,\n",
       "          7.92886742e-01,  7.96743417e-01,  8.00611980e-01,  8.04492562e-01,\n",
       "          8.08385297e-01,  8.12290320e-01,  8.16207769e-01,  8.20137785e-01,\n",
       "          8.24080508e-01,  8.28036084e-01,  8.32004658e-01,  8.35986380e-01,\n",
       "          8.39981400e-01,  8.43989871e-01,  8.48011949e-01,  8.52047793e-01,\n",
       "          8.56097563e-01,  8.60161422e-01,  8.64239537e-01,  8.68332076e-01,\n",
       "          8.72439211e-01,  8.76561115e-01,  8.80697966e-01,  8.84849944e-01,\n",
       "          8.89017233e-01,  8.93200018e-01,  8.97398488e-01,  9.01612837e-01,\n",
       "          9.05843261e-01,  9.10089959e-01,  9.14353133e-01,  9.18632990e-01,\n",
       "          9.22929741e-01,  9.27243599e-01,  9.31574782e-01,  9.35923511e-01,\n",
       "          9.40290012e-01,  9.44674515e-01,  9.49077254e-01,  9.53498468e-01,\n",
       "          9.57938398e-01,  9.62397294e-01,  9.66875406e-01,  9.71372991e-01,\n",
       "          9.75890312e-01,  9.80427636e-01,  9.84985234e-01,  9.89563385e-01,\n",
       "          9.94162371e-01,  9.98782481e-01,  1.00342401e+00,  1.00808726e+00,\n",
       "          1.01277253e+00,  1.01748014e+00,  1.02221041e+00,  1.02696366e+00,\n",
       "          1.03174023e+00,  1.03654045e+00,  1.04136468e+00,  1.04621327e+00,\n",
       "          1.05108658e+00,  1.05598498e+00,  1.06090885e+00,  1.06585857e+00,\n",
       "          1.07083455e+00,  1.07583719e+00,  1.08086689e+00,  1.08592409e+00,\n",
       "          1.09100921e+00,  1.09612271e+00,  1.10126502e+00,  1.10643663e+00,\n",
       "          1.11163799e+00,  1.11686961e+00,  1.12213197e+00,  1.12742560e+00,\n",
       "          1.13275101e+00,  1.13810873e+00,  1.14349933e+00,  1.14892337e+00,\n",
       "          1.15438141e+00,  1.15987407e+00,  1.16540194e+00,  1.17096565e+00,\n",
       "          1.17656585e+00,  1.18220320e+00,  1.18787837e+00,  1.19359205e+00,\n",
       "          1.19934497e+00,  1.20513786e+00,  1.21097148e+00,  1.21684660e+00,\n",
       "          1.22276403e+00,  1.22872458e+00,  1.23472912e+00,  1.24077850e+00,\n",
       "          1.24687363e+00,  1.25301544e+00,  1.25920489e+00,  1.26544295e+00,\n",
       "          1.27173065e+00,  1.27806903e+00,  1.28445918e+00,  1.29090221e+00,\n",
       "          1.29739929e+00,  1.30395159e+00,  1.31056036e+00,  1.31722687e+00,\n",
       "          1.32395244e+00,  1.33073844e+00,  1.33758628e+00,  1.34449742e+00,\n",
       "          1.35147338e+00,  1.35851574e+00,  1.36562613e+00,  1.37280624e+00,\n",
       "          1.38005783e+00,  1.38738272e+00,  1.39478282e+00,  1.40226010e+00,\n",
       "          1.40981661e+00,  1.41745449e+00,  1.42517596e+00,  1.43298336e+00,\n",
       "          1.44087909e+00,  1.44886569e+00,  1.45694579e+00,  1.46512215e+00,\n",
       "          1.47339765e+00,  1.48177530e+00,  1.49025825e+00,  1.49884983e+00,\n",
       "          1.50755349e+00,  1.51637287e+00,  1.52531180e+00,  1.53437430e+00,\n",
       "          1.54356460e+00,  1.55288715e+00,  1.56234666e+00,  1.57194806e+00,\n",
       "          1.58169661e+00,  1.59159783e+00,  1.60165759e+00,  1.61188210e+00,\n",
       "          1.62227795e+00,  1.63285214e+00,  1.64361212e+00,  1.65456583e+00,\n",
       "          1.66572174e+00,  1.67708890e+00,  1.68867698e+00,  1.70049636e+00,\n",
       "          1.71255819e+00,  1.72487445e+00,  1.73745806e+00,  1.75032296e+00,\n",
       "          1.76348425e+00,  1.77695830e+00,  1.79076290e+00,  1.80491744e+00,\n",
       "          1.81944313e+00,  1.83436318e+00,  1.84970311e+00,  1.86549107e+00,\n",
       "          1.88175821e+00,  1.89853909e+00,  1.91587229e+00,  1.93380097e+00,\n",
       "          1.95237369e+00,  1.97164537e+00,  1.99167841e+00,  2.01254418e+00,\n",
       "          2.03432484e+00,  2.05711563e+00,  2.08102787e+00,  2.10619283e+00,\n",
       "          2.13276686e+00,  2.16093830e+00,  2.19093694e+00,  2.22304736e+00,\n",
       "          2.25762808e+00,  2.29513992e+00,  2.33618969e+00,  2.38160005e+00,\n",
       "          2.43252738e+00,  2.49067391e+00,  2.55870259e+00,  2.64114608e+00,\n",
       "          2.74675222e+00,  2.89636677e+00,  3.16416595e+00]),\n",
       "  array([0.01523591, 0.01523591, 0.01523591, 0.01523591, 0.01523591,\n",
       "         0.01523591, 0.01523591, 0.01523591, 0.01523591, 0.01523591,\n",
       "         0.01523591, 0.01523591, 0.01523591, 0.01523591, 0.01523591,\n",
       "         0.01523591, 0.01523591, 0.01523591, 0.01523591, 0.01523591,\n",
       "         0.01523591, 0.01523591, 0.01523591, 0.01523591, 0.01523591,\n",
       "         0.01523591, 0.01523591, 0.01523591, 0.01523591, 0.01523591,\n",
       "         0.01523591, 0.01523591, 0.01523591, 0.01523591, 0.01523591,\n",
       "         0.01523591, 0.01523591, 0.01523591, 0.01523591, 0.01523591,\n",
       "         0.01523591, 0.01523591, 0.01523591, 0.01523591, 0.01523591,\n",
       "         0.01523591, 0.01523591, 0.01523591, 0.01523591, 0.01523591,\n",
       "         0.01523591, 0.01523591, 0.01523591, 0.01523591, 0.01523591,\n",
       "         0.01523591, 0.01523591, 0.01523591, 0.01523591, 0.01523591,\n",
       "         0.01523591, 0.01523591, 0.01523591, 0.01523591, 0.01523591,\n",
       "         0.01523591, 0.01523591, 0.01523591, 0.01523591, 0.01523591,\n",
       "         0.01523591, 0.01523591, 0.01523591, 0.01523591, 0.01523591,\n",
       "         0.01523591, 0.01523591, 0.01523591, 0.01523591, 0.01523591,\n",
       "         0.01523591, 0.01523591, 0.01523591, 0.01523591, 0.01523591,\n",
       "         0.01523591, 0.01523591, 0.01523591, 0.01523591, 0.01523591,\n",
       "         0.01523591, 0.01523591, 0.01523591, 0.01523591, 0.01523591,\n",
       "         0.01523591, 0.01523591, 0.01523591, 0.01523591, 0.01523591,\n",
       "         0.01523591, 0.01523591, 0.01523591, 0.01523591, 0.01523591,\n",
       "         0.01523591, 0.01523591, 0.01523591, 0.01523591, 0.01523591,\n",
       "         0.01523591, 0.01523591, 0.01523591, 0.01523591, 0.01523591,\n",
       "         0.01523591, 0.01538462, 0.01538462, 0.01578325, 0.01613445,\n",
       "         0.01629216, 0.01634655, 0.01683502, 0.01724756, 0.01724756,\n",
       "         0.01754386, 0.01754386, 0.01756568, 0.01756568, 0.01770043,\n",
       "         0.01770043, 0.01770043, 0.01770043, 0.01770043, 0.01770043,\n",
       "         0.01770043, 0.01788909, 0.01788909, 0.01803696, 0.01818182,\n",
       "         0.01818182, 0.01883239, 0.01883239, 0.01883239, 0.01883239,\n",
       "         0.01883239, 0.01902797, 0.01902797, 0.01902797, 0.01923077,\n",
       "         0.01923077, 0.01923077, 0.01923077, 0.01923077, 0.01923077,\n",
       "         0.01923077, 0.01928175, 0.01928175, 0.01942532, 0.01980363,\n",
       "         0.02      , 0.02020031, 0.02020031, 0.02020202, 0.02123142,\n",
       "         0.02132196, 0.02132196, 0.02132196, 0.02132196, 0.02132196,\n",
       "         0.02132196, 0.02358491, 0.02405049, 0.02405049, 0.02405049,\n",
       "         0.02492212, 0.02519685, 0.02519685, 0.02519685, 0.02519685,\n",
       "         0.02519685, 0.02519685, 0.02525253, 0.02525253, 0.02538071,\n",
       "         0.02564103, 0.02564103, 0.02564103, 0.02564103, 0.02597403,\n",
       "         0.02702396, 0.02702396, 0.02721088, 0.02721088, 0.02816901,\n",
       "         0.02816901, 0.02816901, 0.02816901, 0.02857143, 0.02885653,\n",
       "         0.02909091, 0.02909091, 0.02909091, 0.02909091, 0.02939378,\n",
       "         0.02985075, 0.03030303, 0.03030303, 0.03030303, 0.03076923,\n",
       "         0.03093983, 0.03185982, 0.03185982, 0.03185982, 0.03185982,\n",
       "         0.03197442, 0.03197442, 0.03197442, 0.03197442, 0.03197442,\n",
       "         0.03197442, 0.03197442, 0.03225806, 0.03225806, 0.03225806,\n",
       "         0.03257775, 0.03257775, 0.03278689, 0.03278689, 0.03278689,\n",
       "         0.03278689, 0.03278689, 0.03325485, 0.03325485, 0.03333333,\n",
       "         0.03333333, 0.03333333, 0.03333333, 0.03333333, 0.03333333,\n",
       "         0.03367003, 0.03367003, 0.03367003, 0.03433476, 0.03433476,\n",
       "         0.03433476, 0.03433476, 0.03433476, 0.03448276, 0.03448276,\n",
       "         0.03482804, 0.03508772, 0.03584229, 0.03584229, 0.03584229,\n",
       "         0.03584229, 0.03584229, 0.03584229, 0.03603604, 0.03603604,\n",
       "         0.03603604, 0.03603604, 0.03607399, 0.03607399, 0.03607399,\n",
       "         0.03607399, 0.03607399, 0.03703704, 0.03703704, 0.03766478,\n",
       "         0.03766478, 0.03766478, 0.03766478, 0.03766478, 0.03766478,\n",
       "         0.03766478, 0.03766478, 0.03766478, 0.03766478, 0.03766478,\n",
       "         0.03766478, 0.03766478, 0.03766478, 0.03766478, 0.03789673,\n",
       "         0.03804089, 0.03804089, 0.03804089, 0.03804697, 0.03809524,\n",
       "         0.03809524, 0.03809524, 0.03809524, 0.03809524, 0.03809524,\n",
       "         0.03846154, 0.03846154, 0.03846154, 0.03846154, 0.03846154,\n",
       "         0.03846154, 0.03846154, 0.03846154, 0.03846154, 0.03846154,\n",
       "         0.03846154, 0.03846154, 0.03846154, 0.03846154, 0.03846154,\n",
       "         0.03846154, 0.03846154, 0.03846154, 0.03846154, 0.03846154,\n",
       "         0.03846154, 0.03846154, 0.03846154, 0.03846154, 0.03846154,\n",
       "         0.03846154, 0.03846154, 0.03846154, 0.03846154, 0.03846154,\n",
       "         0.03846154, 0.03856656, 0.03856656, 0.03857281, 0.03908158,\n",
       "         0.03926696, 0.03926696, 0.03926696, 0.03926696, 0.04140787,\n",
       "         0.04140787, 0.04140787, 0.04140787, 0.04140787, 0.04140787,\n",
       "         0.04140787, 0.04140787, 0.04166667, 0.04166667, 0.04264392,\n",
       "         0.04264392, 0.04301075, 0.04301075, 0.04347826, 0.04347826,\n",
       "         0.04347826, 0.04347826, 0.04439512, 0.04472612, 0.04472612,\n",
       "         0.04540295, 0.04612716, 0.04744958, 0.04744958, 0.04744958,\n",
       "         0.04744958, 0.04761905, 0.04761905, 0.04761905, 0.04761905,\n",
       "         0.04761905, 0.04761905, 0.04860267, 0.04860267, 0.04872107,\n",
       "         0.04872107, 0.04872107, 0.04938272, 0.04938272, 0.04947434,\n",
       "         0.04947434, 0.05008339, 0.05008339, 0.05128205, 0.05128205,\n",
       "         0.05192566, 0.05192566, 0.05192566, 0.05192566, 0.05322688,\n",
       "         0.05322688, 0.05333333, 0.05333333, 0.05333333, 0.05555556,\n",
       "         0.05555556, 0.05555556, 0.05617978, 0.05617978, 0.05747126,\n",
       "         0.05988024, 0.05988024, 0.0621118 , 0.0621118 , 0.0621118 ,\n",
       "         0.0621118 , 0.0621118 , 0.0621118 , 0.0621118 , 0.0621118 ,\n",
       "         0.0621118 , 0.0625    , 0.06289308, 0.06289308, 0.06309148,\n",
       "         0.06309148, 0.06309148, 0.06309148, 0.06349206, 0.06352554,\n",
       "         0.06352554, 0.06430868, 0.06451613, 0.06451613, 0.06451613,\n",
       "         0.06451613, 0.06451613, 0.06451613, 0.06451613, 0.06451613,\n",
       "         0.06559184, 0.06559184, 0.06559184, 0.06559184, 0.06559184,\n",
       "         0.06622517, 0.06644518, 0.06646373, 0.06666667, 0.06896552,\n",
       "         0.06896552, 0.06896552, 0.06896552, 0.06896552, 0.06896552,\n",
       "         0.06896552, 0.06916442, 0.06916442, 0.06916442, 0.06918404,\n",
       "         0.06918404, 0.06918404, 0.06918404, 0.06918404, 0.06918404,\n",
       "         0.06918404, 0.06944444, 0.06944444, 0.07088026, 0.07142857,\n",
       "         0.07213706, 0.07215892, 0.07250738, 0.07407407, 0.07407407,\n",
       "         0.07407407, 0.07407407, 0.07453398, 0.07692308, 0.07692308,\n",
       "         0.07692308, 0.07692308, 0.07692308, 0.07692308, 0.07692308,\n",
       "         0.07692308, 0.07692308, 0.07692308, 0.07692308, 0.07692308,\n",
       "         0.07692308, 0.07692308, 0.07692308, 0.07692308, 0.07692308,\n",
       "         0.07692308, 0.07692308, 0.07692308, 0.07692308, 0.07692308,\n",
       "         0.07692308, 0.07692308, 0.07692308, 0.07692308, 0.07692308,\n",
       "         0.07692308, 0.07692308, 0.07692308, 0.07692308, 0.07692308,\n",
       "         0.07692308, 0.07692308, 0.07692308, 0.07692308, 0.07692308,\n",
       "         0.07692308, 0.07692308, 0.07692308, 0.07692308, 0.07692308,\n",
       "         0.0776699 , 0.07905138, 0.07984032, 0.08016032, 0.08016032,\n",
       "         0.08016032, 0.08016032, 0.08097166, 0.08097166, 0.08097166,\n",
       "         0.08138352, 0.0814664 , 0.08333333, 0.08695652, 0.08695652,\n",
       "         0.08695652, 0.08695652, 0.08895452, 0.08895452, 0.08982063,\n",
       "         0.08982063, 0.08982063, 0.09508686, 0.0952381 , 0.0952381 ,\n",
       "         0.0952381 , 0.0952381 , 0.0952381 , 0.0952381 , 0.0952381 ,\n",
       "         0.0952381 , 0.0952381 , 0.0952381 , 0.0952381 , 0.0952381 ,\n",
       "         0.0952381 , 0.0952381 , 0.0952381 , 0.0952381 , 0.0952381 ,\n",
       "         0.0952381 , 0.0952381 , 0.0952381 , 0.0952381 , 0.0952381 ,\n",
       "         0.0952381 , 0.0952381 , 0.09557945, 0.09557945, 0.09832068,\n",
       "         0.10156615, 0.10160846, 0.10165184, 0.10178117, 0.10178117,\n",
       "         0.10430248, 0.10430248, 0.10526316, 0.10526316, 0.10526316,\n",
       "         0.10526316, 0.10526316, 0.10526316, 0.10526316, 0.10526316,\n",
       "         0.10526316, 0.10544853, 0.1055409 , 0.10695187, 0.10695187,\n",
       "         0.10840108, 0.10840108, 0.1084987 , 0.11111111, 0.11111111,\n",
       "         0.11299435, 0.11477762, 0.11516359, 0.11544012, 0.11544012,\n",
       "         0.11544012, 0.11544012, 0.11544012, 0.11544012, 0.11544012,\n",
       "         0.11544012, 0.11544012, 0.11544012, 0.11544012, 0.11544012,\n",
       "         0.11544012, 0.11555083, 0.11741637, 0.11822707, 0.11857754,\n",
       "         0.11898812, 0.11958146, 0.12048193, 0.12257456, 0.12288786,\n",
       "         0.12326656, 0.1242236 , 0.1242236 , 0.1242236 , 0.1242236 ,\n",
       "         0.1242236 , 0.1242236 , 0.1242236 , 0.1242236 , 0.1242236 ,\n",
       "         0.1242236 , 0.1242236 , 0.1242236 , 0.1242236 , 0.1242236 ,\n",
       "         0.1242236 , 0.1242236 , 0.1242236 , 0.1242236 , 0.1242236 ,\n",
       "         0.1242236 , 0.1242236 , 0.1242236 , 0.1242236 , 0.1242236 ,\n",
       "         0.1242236 , 0.1242236 , 0.1242236 , 0.1242236 , 0.1242236 ,\n",
       "         0.1242236 , 0.1242236 , 0.1242236 , 0.1242236 , 0.1242236 ,\n",
       "         0.1242236 , 0.1242236 , 0.1242236 , 0.1242236 , 0.1242236 ,\n",
       "         0.1242236 , 0.1242236 , 0.1242236 , 0.1242236 , 0.12454541,\n",
       "         0.12618297, 0.12618297, 0.12618297, 0.12618297, 0.12618297,\n",
       "         0.12618297, 0.12618297, 0.12618297, 0.12618297, 0.12618297,\n",
       "         0.12618297, 0.12618297, 0.12618297, 0.12618297, 0.12618297,\n",
       "         0.12618297, 0.12618297, 0.12618297, 0.12664961, 0.12664961,\n",
       "         0.12664961, 0.12664961, 0.12664961, 0.12664961, 0.12664961,\n",
       "         0.12664961, 0.12664961, 0.12664961, 0.12664961, 0.12664961,\n",
       "         0.12664961, 0.12664961, 0.12664961, 0.12664961, 0.12664961,\n",
       "         0.12664961, 0.12664961, 0.12664961, 0.12664961, 0.12664961,\n",
       "         0.12664961, 0.12664961, 0.12664961, 0.12664961, 0.12664961,\n",
       "         0.12664961, 0.12664961, 0.12664961, 0.12664961, 0.12664961,\n",
       "         0.12664961, 0.12664961, 0.12664961, 0.12664961, 0.12664961,\n",
       "         0.12664961, 0.12678288, 0.12691644, 0.12691644, 0.12691644,\n",
       "         0.12691644, 0.12698413, 0.12732041, 0.12732041, 0.12732041,\n",
       "         0.12732041, 0.12732041, 0.12732041, 0.12732041, 0.12732041,\n",
       "         0.12732041, 0.12732041, 0.12732041, 0.12732041, 0.12732041,\n",
       "         0.12772697, 0.12772697, 0.12820513, 0.1282742 , 0.1282742 ,\n",
       "         0.1282742 , 0.1282742 , 0.1282742 , 0.1282742 , 0.12841091,\n",
       "         0.12861736, 0.12861736, 0.12861736, 0.12861736, 0.12861736,\n",
       "         0.12861736, 0.12861736, 0.12861736, 0.12861736, 0.12861736,\n",
       "         0.12861736, 0.12861736, 0.12861736, 0.12861736, 0.12861736,\n",
       "         0.12861736, 0.12903226, 0.12903226, 0.12903226, 0.12903226,\n",
       "         0.12903226, 0.12903226, 0.12903226, 0.12903226, 0.12903226,\n",
       "         0.12903226, 0.12903226, 0.12903226, 0.12903226, 0.12903226,\n",
       "         0.12903226, 0.12903226, 0.12903226, 0.12903226, 0.12903226,\n",
       "         0.12903226, 0.12903226, 0.12903226, 0.12903226, 0.12903226,\n",
       "         0.12903226, 0.12903226, 0.12903226, 0.12903226, 0.12903226,\n",
       "         0.12903226, 0.12903226, 0.12903226, 0.12903226, 0.12903226,\n",
       "         0.1291706 , 0.12924071, 0.12924071, 0.1293109 , 0.1293109 ,\n",
       "         0.1293109 , 0.1293109 , 0.1293795 , 0.12944984, 0.13071895,\n",
       "         0.13071895, 0.13071895, 0.13071895, 0.13107534, 0.13245033,\n",
       "         0.13245033, 0.13245033, 0.13245033, 0.13296458, 0.13340804,\n",
       "         0.13340804, 0.13340804, 0.13675214, 0.13793103, 0.13793103,\n",
       "         0.13793103, 0.13793103, 0.13793103, 0.13793103, 0.13793103,\n",
       "         0.13793103, 0.13793103, 0.13793103, 0.13793103, 0.13793103,\n",
       "         0.13793103, 0.13832789, 0.13832789, 0.13832789, 0.13832789,\n",
       "         0.13832789, 0.13832789, 0.13832789, 0.13832789, 0.13832789,\n",
       "         0.13832789, 0.13832789, 0.13832789, 0.13832789, 0.13832789,\n",
       "         0.13832789, 0.1384083 , 0.1384083 , 0.1384083 , 0.1384083 ,\n",
       "         0.1384083 , 0.1384083 , 0.1384083 , 0.1384083 , 0.1384083 ,\n",
       "         0.1384083 , 0.1384083 , 0.1384083 , 0.14002268, 0.14035088,\n",
       "         0.14035088, 0.14035088, 0.14035088, 0.14175952, 0.14175952,\n",
       "         0.14184397, 0.14184397, 0.14184397, 0.14184397, 0.14184397,\n",
       "         0.14184397, 0.14184397, 0.14192852, 0.14336918, 0.14336918,\n",
       "         0.14388489, 0.14580873, 0.14814815, 0.14814815, 0.15394563,\n",
       "         0.15394563, 0.15503876, 0.15533981, 0.16032064, 0.2       ,\n",
       "         0.24922118,        inf,        inf,        inf,        inf,\n",
       "                inf,        inf,        inf,        inf,        inf,\n",
       "                inf,        inf,        inf,        inf,        inf,\n",
       "                inf])),\n",
       " (nan, nan, nan))"
      ]
     },
     "execution_count": 92,
     "metadata": {},
     "output_type": "execute_result"
    },
    {
     "data": {
      "image/png": "[encoded data removed]",
      "text/plain": [
       "<Figure size 640x480 with 1 Axes>"
      ]
     },
     "metadata": {},
     "output_type": "display_data"
    }
   ],
   "source": [
    "stats.probplot(np.reciprocal(data_train_mod['Fare']), dist ='norm', plot =pylab)"
   ]
  },
  {
   "cell_type": "code",
   "execution_count": 93,
   "id": "d6f16840",
   "metadata": {
    "execution": {
     "iopub.execute_input": "2022-11-04T08:38:33.903059Z",
     "iopub.status.busy": "2022-11-04T08:38:33.902675Z",
     "iopub.status.idle": "2022-11-04T08:38:33.909996Z",
     "shell.execute_reply": "2022-11-04T08:38:33.908921Z"
    },
    "papermill": {
     "duration": 0.06617,
     "end_time": "2022-11-04T08:38:33.912264",
     "exception": false,
     "start_time": "2022-11-04T08:38:33.846094",
     "status": "completed"
    },
    "tags": []
   },
   "outputs": [],
   "source": [
    "Fare_tr = data_train_mod['Fare'].transform([np.log, np.exp, np.sqrt, np.reciprocal])"
   ]
  },
  {
   "cell_type": "code",
   "execution_count": 94,
   "id": "3528c2a2",
   "metadata": {
    "execution": {
     "iopub.execute_input": "2022-11-04T08:38:34.029026Z",
     "iopub.status.busy": "2022-11-04T08:38:34.028168Z",
     "iopub.status.idle": "2022-11-04T08:38:34.273373Z",
     "shell.execute_reply": "2022-11-04T08:38:34.272197Z"
    },
    "papermill": {
     "duration": 0.306704,
     "end_time": "2022-11-04T08:38:34.275947",
     "exception": false,
     "start_time": "2022-11-04T08:38:33.969243",
     "status": "completed"
    },
    "tags": []
   },
   "outputs": [
    {
     "data": {
      "text/plain": [
       "(array([772.,   1.,   0.,   0.,   0.,   2.,   0.,   0.,   0., 116.]),\n",
       " array([1.00000000e+00, 3.19637513e+27, 6.39275026e+27, 9.58912539e+27,\n",
       "        1.27855005e+28, 1.59818757e+28, 1.91782508e+28, 2.23746259e+28,\n",
       "        2.55710010e+28, 2.87673762e+28, 3.19637513e+28]),\n",
       " <BarContainer object of 10 artists>)"
      ]
     },
     "execution_count": 94,
     "metadata": {},
     "output_type": "execute_result"
    },
    {
     "data": {
      "image/png": "[encoded data removed]",
      "text/plain": [
       "<Figure size 640x480 with 1 Axes>"
      ]
     },
     "metadata": {},
     "output_type": "display_data"
    }
   ],
   "source": [
    "plt.hist(Fare_tr['exp'])"
   ]
  },
  {
   "cell_type": "code",
   "execution_count": 95,
   "id": "8921580e",
   "metadata": {
    "execution": {
     "iopub.execute_input": "2022-11-04T08:38:34.392236Z",
     "iopub.status.busy": "2022-11-04T08:38:34.391177Z",
     "iopub.status.idle": "2022-11-04T08:38:34.635406Z",
     "shell.execute_reply": "2022-11-04T08:38:34.634256Z"
    },
    "papermill": {
     "duration": 0.303908,
     "end_time": "2022-11-04T08:38:34.637818",
     "exception": false,
     "start_time": "2022-11-04T08:38:34.333910",
     "status": "completed"
    },
    "tags": []
   },
   "outputs": [
    {
     "data": {
      "text/plain": [
       "(array([ 15.,   0.,   2., 346., 131.,  53., 133.,  39.,  31., 141.]),\n",
       " array([0.        , 0.8101506 , 1.62030121, 2.43045181, 3.24060241,\n",
       "        4.05075302, 4.86090362, 5.67105422, 6.48120483, 7.29135543,\n",
       "        8.10150603]),\n",
       " <BarContainer object of 10 artists>)"
      ]
     },
     "execution_count": 95,
     "metadata": {},
     "output_type": "execute_result"
    },
    {
     "data": {
      "image/png": "[encoded data removed]",
      "text/plain": [
       "<Figure size 640x480 with 1 Axes>"
      ]
     },
     "metadata": {},
     "output_type": "display_data"
    }
   ],
   "source": [
    "plt.hist(Fare_tr['sqrt']) # Sqrt transformation seems like appropriate to normal distribution"
   ]
  },
  {
   "cell_type": "code",
   "execution_count": 96,
   "id": "4bc03816",
   "metadata": {
    "execution": {
     "iopub.execute_input": "2022-11-04T08:38:34.751511Z",
     "iopub.status.busy": "2022-11-04T08:38:34.750455Z",
     "iopub.status.idle": "2022-11-04T08:38:34.757133Z",
     "shell.execute_reply": "2022-11-04T08:38:34.756263Z"
    },
    "papermill": {
     "duration": 0.066263,
     "end_time": "2022-11-04T08:38:34.759343",
     "exception": false,
     "start_time": "2022-11-04T08:38:34.693080",
     "status": "completed"
    },
    "tags": []
   },
   "outputs": [],
   "source": [
    "data_train_mod['Fare'] = data_train_mod['Fare'].transform(np.sqrt)"
   ]
  },
  {
   "cell_type": "markdown",
   "id": "1a75dd75",
   "metadata": {
    "papermill": {
     "duration": 0.055205,
     "end_time": "2022-11-04T08:38:34.869425",
     "exception": false,
     "start_time": "2022-11-04T08:38:34.814220",
     "status": "completed"
    },
    "tags": []
   },
   "source": [
    "Scaling the data<br>\n",
    "Using Customized Min-Max Scalor Function"
   ]
  },
  {
   "cell_type": "code",
   "execution_count": 97,
   "id": "6bff4082",
   "metadata": {
    "execution": {
     "iopub.execute_input": "2022-11-04T08:38:34.982845Z",
     "iopub.status.busy": "2022-11-04T08:38:34.982157Z",
     "iopub.status.idle": "2022-11-04T08:38:34.986721Z",
     "shell.execute_reply": "2022-11-04T08:38:34.985955Z"
    },
    "papermill": {
     "duration": 0.063157,
     "end_time": "2022-11-04T08:38:34.988798",
     "exception": false,
     "start_time": "2022-11-04T08:38:34.925641",
     "status": "completed"
    },
    "tags": []
   },
   "outputs": [],
   "source": [
    "def norm_func(i):\n",
    "    x = (i-i.min())/(i.max() - i.min())\n",
    "    return x;"
   ]
  },
  {
   "cell_type": "code",
   "execution_count": 98,
   "id": "f67aa5b0",
   "metadata": {
    "execution": {
     "iopub.execute_input": "2022-11-04T08:38:35.139795Z",
     "iopub.status.busy": "2022-11-04T08:38:35.139146Z",
     "iopub.status.idle": "2022-11-04T08:38:35.145995Z",
     "shell.execute_reply": "2022-11-04T08:38:35.144770Z"
    },
    "papermill": {
     "duration": 0.098304,
     "end_time": "2022-11-04T08:38:35.148944",
     "exception": false,
     "start_time": "2022-11-04T08:38:35.050640",
     "status": "completed"
    },
    "tags": []
   },
   "outputs": [],
   "source": [
    "data_train_mod['Age'] = norm_func(data_train_mod['Age'])"
   ]
  },
  {
   "cell_type": "code",
   "execution_count": 99,
   "id": "e20ce34c",
   "metadata": {
    "execution": {
     "iopub.execute_input": "2022-11-04T08:38:35.270572Z",
     "iopub.status.busy": "2022-11-04T08:38:35.270149Z",
     "iopub.status.idle": "2022-11-04T08:38:35.277210Z",
     "shell.execute_reply": "2022-11-04T08:38:35.275825Z"
    },
    "papermill": {
     "duration": 0.069879,
     "end_time": "2022-11-04T08:38:35.280443",
     "exception": false,
     "start_time": "2022-11-04T08:38:35.210564",
     "status": "completed"
    },
    "tags": []
   },
   "outputs": [],
   "source": [
    "data_train_mod['Fare'] = norm_func(data_train_mod['Fare'])"
   ]
  },
  {
   "cell_type": "code",
   "execution_count": 100,
   "id": "b3b4d1b6",
   "metadata": {
    "execution": {
     "iopub.execute_input": "2022-11-04T08:38:35.392635Z",
     "iopub.status.busy": "2022-11-04T08:38:35.391998Z",
     "iopub.status.idle": "2022-11-04T08:38:35.426518Z",
     "shell.execute_reply": "2022-11-04T08:38:35.425661Z"
    },
    "papermill": {
     "duration": 0.093307,
     "end_time": "2022-11-04T08:38:35.429004",
     "exception": false,
     "start_time": "2022-11-04T08:38:35.335697",
     "status": "completed"
    },
    "tags": []
   },
   "outputs": [],
   "source": [
    "des = data_train_mod.describe()"
   ]
  },
  {
   "cell_type": "markdown",
   "id": "6ab87846",
   "metadata": {
    "papermill": {
     "duration": 0.054198,
     "end_time": "2022-11-04T08:38:35.538736",
     "exception": false,
     "start_time": "2022-11-04T08:38:35.484538",
     "status": "completed"
    },
    "tags": []
   },
   "source": [
    "Making the dataset Imbalanced to Balanced"
   ]
  },
  {
   "cell_type": "code",
   "execution_count": 101,
   "id": "aa2b6705",
   "metadata": {
    "execution": {
     "iopub.execute_input": "2022-11-04T08:38:35.653832Z",
     "iopub.status.busy": "2022-11-04T08:38:35.652910Z",
     "iopub.status.idle": "2022-11-04T08:38:35.658808Z",
     "shell.execute_reply": "2022-11-04T08:38:35.657867Z"
    },
    "papermill": {
     "duration": 0.067655,
     "end_time": "2022-11-04T08:38:35.661270",
     "exception": false,
     "start_time": "2022-11-04T08:38:35.593615",
     "status": "completed"
    },
    "tags": []
   },
   "outputs": [],
   "source": [
    "X = data_train_mod.iloc[:, 2:]"
   ]
  },
  {
   "cell_type": "code",
   "execution_count": 102,
   "id": "76833075",
   "metadata": {
    "execution": {
     "iopub.execute_input": "2022-11-04T08:38:35.774759Z",
     "iopub.status.busy": "2022-11-04T08:38:35.774334Z",
     "iopub.status.idle": "2022-11-04T08:38:35.779817Z",
     "shell.execute_reply": "2022-11-04T08:38:35.778429Z"
    },
    "papermill": {
     "duration": 0.063979,
     "end_time": "2022-11-04T08:38:35.782217",
     "exception": false,
     "start_time": "2022-11-04T08:38:35.718238",
     "status": "completed"
    },
    "tags": []
   },
   "outputs": [],
   "source": [
    "y = data_train_mod.iloc[:,:2]"
   ]
  },
  {
   "cell_type": "markdown",
   "id": "b5142b96",
   "metadata": {
    "papermill": {
     "duration": 0.055423,
     "end_time": "2022-11-04T08:38:35.892106",
     "exception": false,
     "start_time": "2022-11-04T08:38:35.836683",
     "status": "completed"
    },
    "tags": []
   },
   "source": [
    "Pie Plot before applyting Random UnderSampling"
   ]
  },
  {
   "cell_type": "code",
   "execution_count": 103,
   "id": "33ad0b76",
   "metadata": {
    "execution": {
     "iopub.execute_input": "2022-11-04T08:38:36.005665Z",
     "iopub.status.busy": "2022-11-04T08:38:36.005027Z",
     "iopub.status.idle": "2022-11-04T08:38:36.099560Z",
     "shell.execute_reply": "2022-11-04T08:38:36.097759Z"
    },
    "papermill": {
     "duration": 0.155597,
     "end_time": "2022-11-04T08:38:36.104074",
     "exception": false,
     "start_time": "2022-11-04T08:38:35.948477",
     "status": "completed"
    },
    "tags": []
   },
   "outputs": [
    {
     "data": {
      "text/plain": [
       "<AxesSubplot:ylabel='Survived'>"
      ]
     },
     "execution_count": 103,
     "metadata": {},
     "output_type": "execute_result"
    },
    {
     "data": {
      "image/png": "[encoded data removed]",
      "text/plain": [
       "<Figure size 640x480 with 1 Axes>"
      ]
     },
     "metadata": {},
     "output_type": "display_data"
    }
   ],
   "source": [
    "y['Survived'].value_counts().plot.pie()"
   ]
  },
  {
   "cell_type": "markdown",
   "id": "7e58daa8",
   "metadata": {
    "papermill": {
     "duration": 0.057986,
     "end_time": "2022-11-04T08:38:36.273412",
     "exception": false,
     "start_time": "2022-11-04T08:38:36.215426",
     "status": "completed"
    },
    "tags": []
   },
   "source": [
    "conda install -c conda-forge imbalanced-learn"
   ]
  },
  {
   "cell_type": "code",
   "execution_count": 107,
   "id": "edc96235",
   "metadata": {
    "execution": {
     "iopub.execute_input": "2022-11-04T08:38:36.388926Z",
     "iopub.status.busy": "2022-11-04T08:38:36.388478Z",
     "iopub.status.idle": "2022-11-04T08:38:37.009823Z",
     "shell.execute_reply": "2022-11-04T08:38:37.008533Z"
    },
    "papermill": {
     "duration": 0.68214,
     "end_time": "2022-11-04T08:38:37.012978",
     "exception": false,
     "start_time": "2022-11-04T08:38:36.330838",
     "status": "completed"
    },
    "tags": []
   },
   "outputs": [],
   "source": [
    "from collections import Counter\n",
    "from sklearn.datasets import make_classification\n",
    "from imblearn.under_sampling import RandomUnderSampler \n",
    "rus = RandomUnderSampler(sampling_strategy = 'not minority')"
   ]
  },
  {
   "cell_type": "code",
   "execution_count": 108,
   "id": "782d8f21",
   "metadata": {
    "execution": {
     "iopub.execute_input": "2022-11-04T08:38:37.137194Z",
     "iopub.status.busy": "2022-11-04T08:38:37.136367Z",
     "iopub.status.idle": "2022-11-04T08:38:37.147752Z",
     "shell.execute_reply": "2022-11-04T08:38:37.146795Z"
    },
    "papermill": {
     "duration": 0.073736,
     "end_time": "2022-11-04T08:38:37.150330",
     "exception": false,
     "start_time": "2022-11-04T08:38:37.076594",
     "status": "completed"
    },
    "tags": []
   },
   "outputs": [],
   "source": [
    "X_res, y_res = rus.fit_resample(X, y['Survived'])"
   ]
  },
  {
   "cell_type": "code",
   "execution_count": 109,
   "id": "f4350795",
   "metadata": {
    "execution": {
     "iopub.execute_input": "2022-11-04T08:38:37.269814Z",
     "iopub.status.busy": "2022-11-04T08:38:37.269002Z",
     "iopub.status.idle": "2022-11-04T08:38:37.274986Z",
     "shell.execute_reply": "2022-11-04T08:38:37.274065Z"
    },
    "papermill": {
     "duration": 0.068288,
     "end_time": "2022-11-04T08:38:37.278266",
     "exception": false,
     "start_time": "2022-11-04T08:38:37.209978",
     "status": "completed"
    },
    "tags": []
   },
   "outputs": [],
   "source": [
    "y_res = pd.DataFrame(y_res)"
   ]
  },
  {
   "cell_type": "code",
   "execution_count": 110,
   "id": "6640f5f8",
   "metadata": {
    "execution": {
     "iopub.execute_input": "2022-11-04T08:38:37.395162Z",
     "iopub.status.busy": "2022-11-04T08:38:37.394118Z",
     "iopub.status.idle": "2022-11-04T08:38:37.499541Z",
     "shell.execute_reply": "2022-11-04T08:38:37.497686Z"
    },
    "papermill": {
     "duration": 0.168558,
     "end_time": "2022-11-04T08:38:37.504088",
     "exception": false,
     "start_time": "2022-11-04T08:38:37.335530",
     "status": "completed"
    },
    "tags": []
   },
   "outputs": [
    {
     "data": {
      "text/plain": [
       "<AxesSubplot:ylabel='None'>"
      ]
     },
     "execution_count": 110,
     "metadata": {},
     "output_type": "execute_result"
    },
    {
     "data": {
      "image/png": "[encoded data removed]",
      "text/plain": [
       "<Figure size 640x480 with 1 Axes>"
      ]
     },
     "metadata": {},
     "output_type": "display_data"
    }
   ],
   "source": [
    "y_res.value_counts().plot.pie()"
   ]
  },
  {
   "cell_type": "markdown",
   "id": "92ac1be2",
   "metadata": {
    "papermill": {
     "duration": 0.058182,
     "end_time": "2022-11-04T08:38:37.668978",
     "exception": false,
     "start_time": "2022-11-04T08:38:37.610796",
     "status": "completed"
    },
    "tags": []
   },
   "source": [
    "Data Preprocessing on Test Data set"
   ]
  },
  {
   "cell_type": "code",
   "execution_count": 111,
   "id": "6f02e594",
   "metadata": {
    "execution": {
     "iopub.execute_input": "2022-11-04T08:38:37.786114Z",
     "iopub.status.busy": "2022-11-04T08:38:37.785710Z",
     "iopub.status.idle": "2022-11-04T08:38:37.795464Z",
     "shell.execute_reply": "2022-11-04T08:38:37.794572Z"
    },
    "papermill": {
     "duration": 0.070603,
     "end_time": "2022-11-04T08:38:37.797788",
     "exception": false,
     "start_time": "2022-11-04T08:38:37.727185",
     "status": "completed"
    },
    "tags": []
   },
   "outputs": [
    {
     "data": {
      "text/plain": [
       "PassengerId     0\n",
       "Pclass          0\n",
       "Sex             0\n",
       "Age            86\n",
       "SibSp           0\n",
       "Parch           0\n",
       "Fare            1\n",
       "Embarked        0\n",
       "dtype: int64"
      ]
     },
     "execution_count": 111,
     "metadata": {},
     "output_type": "execute_result"
    }
   ],
   "source": [
    "data_test_mod.isna().sum() # Age column has  86 missing values on test dataset & 1 Missing value in test dataset"
   ]
  },
  {
   "cell_type": "markdown",
   "id": "331a7726",
   "metadata": {
    "papermill": {
     "duration": 0.056043,
     "end_time": "2022-11-04T08:38:37.909809",
     "exception": false,
     "start_time": "2022-11-04T08:38:37.853766",
     "status": "completed"
    },
    "tags": []
   },
   "source": [
    "Treating missing values in age column"
   ]
  },
  {
   "cell_type": "code",
   "execution_count": 112,
   "id": "2b2db628",
   "metadata": {
    "execution": {
     "iopub.execute_input": "2022-11-04T08:38:38.024276Z",
     "iopub.status.busy": "2022-11-04T08:38:38.023339Z",
     "iopub.status.idle": "2022-11-04T08:38:38.030505Z",
     "shell.execute_reply": "2022-11-04T08:38:38.029582Z"
    },
    "papermill": {
     "duration": 0.067207,
     "end_time": "2022-11-04T08:38:38.033041",
     "exception": false,
     "start_time": "2022-11-04T08:38:37.965834",
     "status": "completed"
    },
    "tags": []
   },
   "outputs": [],
   "source": [
    "df = data_test_mod[data_test_mod['Age'].isnull()]"
   ]
  },
  {
   "cell_type": "code",
   "execution_count": 113,
   "id": "6ba1b9ce",
   "metadata": {
    "execution": {
     "iopub.execute_input": "2022-11-04T08:38:38.147331Z",
     "iopub.status.busy": "2022-11-04T08:38:38.146803Z",
     "iopub.status.idle": "2022-11-04T08:38:38.156947Z",
     "shell.execute_reply": "2022-11-04T08:38:38.155664Z"
    },
    "papermill": {
     "duration": 0.07077,
     "end_time": "2022-11-04T08:38:38.159738",
     "exception": false,
     "start_time": "2022-11-04T08:38:38.088968",
     "status": "completed"
    },
    "tags": []
   },
   "outputs": [
    {
     "data": {
      "text/plain": [
       "3    72\n",
       "1     9\n",
       "2     5\n",
       "Name: Pclass, dtype: int64"
      ]
     },
     "execution_count": 113,
     "metadata": {},
     "output_type": "execute_result"
    }
   ],
   "source": [
    "df.Pclass.value_counts()  # 72  3rd class and 9 - 1st class and 5 - 2nd class in the missing values w.r.to Age"
   ]
  },
  {
   "cell_type": "code",
   "execution_count": 114,
   "id": "578f56fe",
   "metadata": {
    "execution": {
     "iopub.execute_input": "2022-11-04T08:38:38.281043Z",
     "iopub.status.busy": "2022-11-04T08:38:38.280641Z",
     "iopub.status.idle": "2022-11-04T08:38:38.290931Z",
     "shell.execute_reply": "2022-11-04T08:38:38.289951Z"
    },
    "papermill": {
     "duration": 0.070433,
     "end_time": "2022-11-04T08:38:38.293384",
     "exception": false,
     "start_time": "2022-11-04T08:38:38.222951",
     "status": "completed"
    },
    "tags": []
   },
   "outputs": [
    {
     "data": {
      "text/plain": [
       "male      61\n",
       "female    25\n",
       "Name: Sex, dtype: int64"
      ]
     },
     "execution_count": 114,
     "metadata": {},
     "output_type": "execute_result"
    }
   ],
   "source": [
    "df.Sex.value_counts() # 61 male and 25 female in missing values w.r.to Age"
   ]
  },
  {
   "cell_type": "code",
   "execution_count": 115,
   "id": "a8e0adf4",
   "metadata": {
    "execution": {
     "iopub.execute_input": "2022-11-04T08:38:38.413319Z",
     "iopub.status.busy": "2022-11-04T08:38:38.412218Z",
     "iopub.status.idle": "2022-11-04T08:38:38.422270Z",
     "shell.execute_reply": "2022-11-04T08:38:38.420593Z"
    },
    "papermill": {
     "duration": 0.075216,
     "end_time": "2022-11-04T08:38:38.425259",
     "exception": false,
     "start_time": "2022-11-04T08:38:38.350043",
     "status": "completed"
    },
    "tags": []
   },
   "outputs": [
    {
     "data": {
      "text/plain": [
       "S    42\n",
       "Q    24\n",
       "C    20\n",
       "Name: Embarked, dtype: int64"
      ]
     },
     "execution_count": 115,
     "metadata": {},
     "output_type": "execute_result"
    }
   ],
   "source": [
    "df.Embarked.value_counts() # S - 42, Q - 24, C - 20 in missing values data w.rto Age"
   ]
  },
  {
   "cell_type": "markdown",
   "id": "1dc2fe5d",
   "metadata": {
    "papermill": {
     "duration": 0.056924,
     "end_time": "2022-11-04T08:38:38.542504",
     "exception": false,
     "start_time": "2022-11-04T08:38:38.485580",
     "status": "completed"
    },
    "tags": []
   },
   "source": [
    "the data which is missing is mostly in 3rd class, male,from S - Class only<br>\n",
    "By filling the mean of Age  which are male, 3rdclass, From S - Class we can get the approx right data"
   ]
  },
  {
   "cell_type": "code",
   "execution_count": 116,
   "id": "c476863e",
   "metadata": {
    "execution": {
     "iopub.execute_input": "2022-11-04T08:38:38.659285Z",
     "iopub.status.busy": "2022-11-04T08:38:38.658198Z",
     "iopub.status.idle": "2022-11-04T08:38:38.664611Z",
     "shell.execute_reply": "2022-11-04T08:38:38.663544Z"
    },
    "papermill": {
     "duration": 0.06723,
     "end_time": "2022-11-04T08:38:38.666951",
     "exception": false,
     "start_time": "2022-11-04T08:38:38.599721",
     "status": "completed"
    },
    "tags": []
   },
   "outputs": [],
   "source": [
    "df1 = data_test_mod[data_test_mod['Pclass'] == 3]"
   ]
  },
  {
   "cell_type": "code",
   "execution_count": 117,
   "id": "bce58319",
   "metadata": {
    "execution": {
     "iopub.execute_input": "2022-11-04T08:38:38.785852Z",
     "iopub.status.busy": "2022-11-04T08:38:38.785413Z",
     "iopub.status.idle": "2022-11-04T08:38:38.791084Z",
     "shell.execute_reply": "2022-11-04T08:38:38.790220Z"
    },
    "papermill": {
     "duration": 0.068868,
     "end_time": "2022-11-04T08:38:38.793220",
     "exception": false,
     "start_time": "2022-11-04T08:38:38.724352",
     "status": "completed"
    },
    "tags": []
   },
   "outputs": [],
   "source": [
    "df1 = df1[df1['Sex'] == 'male']"
   ]
  },
  {
   "cell_type": "code",
   "execution_count": 118,
   "id": "d49a8289",
   "metadata": {
    "execution": {
     "iopub.execute_input": "2022-11-04T08:38:38.910091Z",
     "iopub.status.busy": "2022-11-04T08:38:38.909696Z",
     "iopub.status.idle": "2022-11-04T08:38:38.916849Z",
     "shell.execute_reply": "2022-11-04T08:38:38.915611Z"
    },
    "papermill": {
     "duration": 0.067087,
     "end_time": "2022-11-04T08:38:38.919292",
     "exception": false,
     "start_time": "2022-11-04T08:38:38.852205",
     "status": "completed"
    },
    "tags": []
   },
   "outputs": [],
   "source": [
    "df1 = df1[df1['Embarked'] == 'S']"
   ]
  },
  {
   "cell_type": "markdown",
   "id": "b95ba64c",
   "metadata": {
    "papermill": {
     "duration": 0.056566,
     "end_time": "2022-11-04T08:38:39.033134",
     "exception": false,
     "start_time": "2022-11-04T08:38:38.976568",
     "status": "completed"
    },
    "tags": []
   },
   "source": [
    "Filling the mean of Age  which are male and 3rdclass and not-survived "
   ]
  },
  {
   "cell_type": "code",
   "execution_count": 119,
   "id": "57830de2",
   "metadata": {
    "execution": {
     "iopub.execute_input": "2022-11-04T08:38:39.153742Z",
     "iopub.status.busy": "2022-11-04T08:38:39.153071Z",
     "iopub.status.idle": "2022-11-04T08:38:39.160139Z",
     "shell.execute_reply": "2022-11-04T08:38:39.158919Z"
    },
    "papermill": {
     "duration": 0.0705,
     "end_time": "2022-11-04T08:38:39.162631",
     "exception": false,
     "start_time": "2022-11-04T08:38:39.092131",
     "status": "completed"
    },
    "tags": []
   },
   "outputs": [],
   "source": [
    "data_test_mod['Age'] = data_test_mod['Age'].fillna(df1['Age'].mean()) # For train dataset"
   ]
  },
  {
   "cell_type": "markdown",
   "id": "5a85a018",
   "metadata": {
    "papermill": {
     "duration": 0.05913,
     "end_time": "2022-11-04T08:38:39.280352",
     "exception": false,
     "start_time": "2022-11-04T08:38:39.221222",
     "status": "completed"
    },
    "tags": []
   },
   "source": [
    "Treating missing values of Fare Column<br>\n",
    "Since there are only 1 missing vales we can simply use mode of that column"
   ]
  },
  {
   "cell_type": "code",
   "execution_count": 120,
   "id": "02607a95",
   "metadata": {
    "execution": {
     "iopub.execute_input": "2022-11-04T08:38:39.398670Z",
     "iopub.status.busy": "2022-11-04T08:38:39.398272Z",
     "iopub.status.idle": "2022-11-04T08:38:39.405257Z",
     "shell.execute_reply": "2022-11-04T08:38:39.403558Z"
    },
    "papermill": {
     "duration": 0.069403,
     "end_time": "2022-11-04T08:38:39.407856",
     "exception": false,
     "start_time": "2022-11-04T08:38:39.338453",
     "status": "completed"
    },
    "tags": []
   },
   "outputs": [],
   "source": [
    "data_test_mod['Fare'] = data_test_mod['Fare'].fillna(data_test_mod['Fare'].mean()) "
   ]
  },
  {
   "cell_type": "markdown",
   "id": "17088af4",
   "metadata": {
    "papermill": {
     "duration": 0.056036,
     "end_time": "2022-11-04T08:38:39.522807",
     "exception": false,
     "start_time": "2022-11-04T08:38:39.466771",
     "status": "completed"
    },
    "tags": []
   },
   "source": [
    "2) Checking for Duplicate values"
   ]
  },
  {
   "cell_type": "code",
   "execution_count": 121,
   "id": "9e12935b",
   "metadata": {
    "execution": {
     "iopub.execute_input": "2022-11-04T08:38:39.640860Z",
     "iopub.status.busy": "2022-11-04T08:38:39.640411Z",
     "iopub.status.idle": "2022-11-04T08:38:39.650096Z",
     "shell.execute_reply": "2022-11-04T08:38:39.648857Z"
    },
    "papermill": {
     "duration": 0.071527,
     "end_time": "2022-11-04T08:38:39.652445",
     "exception": false,
     "start_time": "2022-11-04T08:38:39.580918",
     "status": "completed"
    },
    "tags": []
   },
   "outputs": [
    {
     "data": {
      "text/plain": [
       "0"
      ]
     },
     "execution_count": 121,
     "metadata": {},
     "output_type": "execute_result"
    }
   ],
   "source": [
    "sum(data_test_mod.duplicated()) # 0 Duplicate rows are present"
   ]
  },
  {
   "cell_type": "markdown",
   "id": "f9dc9ae1",
   "metadata": {
    "papermill": {
     "duration": 0.056731,
     "end_time": "2022-11-04T08:38:39.765649",
     "exception": false,
     "start_time": "2022-11-04T08:38:39.708918",
     "status": "completed"
    },
    "tags": []
   },
   "source": [
    "Checking for Outliers"
   ]
  },
  {
   "cell_type": "code",
   "execution_count": 122,
   "id": "4a03ebfb",
   "metadata": {
    "execution": {
     "iopub.execute_input": "2022-11-04T08:38:39.880796Z",
     "iopub.status.busy": "2022-11-04T08:38:39.880375Z",
     "iopub.status.idle": "2022-11-04T08:38:39.889784Z",
     "shell.execute_reply": "2022-11-04T08:38:39.888415Z"
    },
    "papermill": {
     "duration": 0.070532,
     "end_time": "2022-11-04T08:38:39.892355",
     "exception": false,
     "start_time": "2022-11-04T08:38:39.821823",
     "status": "completed"
    },
    "tags": []
   },
   "outputs": [
    {
     "data": {
      "text/plain": [
       "36"
      ]
     },
     "execution_count": 122,
     "metadata": {},
     "output_type": "execute_result"
    }
   ],
   "source": [
    "detect_outliers(data_test_mod, 'Age') # 36  outliers are present"
   ]
  },
  {
   "cell_type": "code",
   "execution_count": 123,
   "id": "85d0a5eb",
   "metadata": {
    "execution": {
     "iopub.execute_input": "2022-11-04T08:38:40.006697Z",
     "iopub.status.busy": "2022-11-04T08:38:40.006257Z",
     "iopub.status.idle": "2022-11-04T08:38:40.015884Z",
     "shell.execute_reply": "2022-11-04T08:38:40.014996Z"
    },
    "papermill": {
     "duration": 0.069762,
     "end_time": "2022-11-04T08:38:40.018109",
     "exception": false,
     "start_time": "2022-11-04T08:38:39.948347",
     "status": "completed"
    },
    "tags": []
   },
   "outputs": [
    {
     "data": {
      "text/plain": [
       "0      34.500000\n",
       "1      47.000000\n",
       "2      54.875000\n",
       "3      27.000000\n",
       "4      22.000000\n",
       "         ...    \n",
       "413    24.939605\n",
       "414    39.000000\n",
       "415    38.500000\n",
       "416    24.939605\n",
       "417    24.939605\n",
       "Name: Age, Length: 418, dtype: float64"
      ]
     },
     "execution_count": 123,
     "metadata": {},
     "output_type": "execute_result"
    }
   ],
   "source": [
    "outlier_treatment(data_test_mod, 'Age')"
   ]
  },
  {
   "cell_type": "code",
   "execution_count": 124,
   "id": "c0e5765b",
   "metadata": {
    "execution": {
     "iopub.execute_input": "2022-11-04T08:38:40.139099Z",
     "iopub.status.busy": "2022-11-04T08:38:40.138712Z",
     "iopub.status.idle": "2022-11-04T08:38:40.148175Z",
     "shell.execute_reply": "2022-11-04T08:38:40.147068Z"
    },
    "papermill": {
     "duration": 0.073981,
     "end_time": "2022-11-04T08:38:40.150710",
     "exception": false,
     "start_time": "2022-11-04T08:38:40.076729",
     "status": "completed"
    },
    "tags": []
   },
   "outputs": [
    {
     "data": {
      "text/plain": [
       "55"
      ]
     },
     "execution_count": 124,
     "metadata": {},
     "output_type": "execute_result"
    }
   ],
   "source": [
    "detect_outliers(data_test_mod, 'Fare') # 55 outliers are present"
   ]
  },
  {
   "cell_type": "code",
   "execution_count": 125,
   "id": "afd91264",
   "metadata": {
    "execution": {
     "iopub.execute_input": "2022-11-04T08:38:40.267547Z",
     "iopub.status.busy": "2022-11-04T08:38:40.267131Z",
     "iopub.status.idle": "2022-11-04T08:38:40.278182Z",
     "shell.execute_reply": "2022-11-04T08:38:40.276881Z"
    },
    "papermill": {
     "duration": 0.070724,
     "end_time": "2022-11-04T08:38:40.280571",
     "exception": false,
     "start_time": "2022-11-04T08:38:40.209847",
     "status": "completed"
    },
    "tags": []
   },
   "outputs": [
    {
     "data": {
      "text/plain": [
       "0       7.8292\n",
       "1       7.0000\n",
       "2       9.6875\n",
       "3       8.6625\n",
       "4      12.2875\n",
       "        ...   \n",
       "413     8.0500\n",
       "414    66.9063\n",
       "415     7.2500\n",
       "416     8.0500\n",
       "417    22.3583\n",
       "Name: Fare, Length: 418, dtype: float64"
      ]
     },
     "execution_count": 125,
     "metadata": {},
     "output_type": "execute_result"
    }
   ],
   "source": [
    "outlier_treatment(data_test_mod, 'Fare')"
   ]
  },
  {
   "cell_type": "code",
   "execution_count": 126,
   "id": "8c9a4912",
   "metadata": {
    "execution": {
     "iopub.execute_input": "2022-11-04T08:38:40.400341Z",
     "iopub.status.busy": "2022-11-04T08:38:40.399938Z",
     "iopub.status.idle": "2022-11-04T08:38:40.422719Z",
     "shell.execute_reply": "2022-11-04T08:38:40.421285Z"
    },
    "papermill": {
     "duration": 0.087941,
     "end_time": "2022-11-04T08:38:40.425520",
     "exception": false,
     "start_time": "2022-11-04T08:38:40.337579",
     "status": "completed"
    },
    "tags": []
   },
   "outputs": [],
   "source": [
    "des_test = data_test_mod.describe()"
   ]
  },
  {
   "cell_type": "markdown",
   "id": "0a3dc27e",
   "metadata": {
    "papermill": {
     "duration": 0.058242,
     "end_time": "2022-11-04T08:38:40.542201",
     "exception": false,
     "start_time": "2022-11-04T08:38:40.483959",
     "status": "completed"
    },
    "tags": []
   },
   "source": [
    "3) Converting Non - Numerical Features to Numerical<br>\n",
    "The Non - Numerical Features are :"
   ]
  },
  {
   "cell_type": "code",
   "execution_count": 127,
   "id": "38a40e11",
   "metadata": {
    "execution": {
     "iopub.execute_input": "2022-11-04T08:38:40.660602Z",
     "iopub.status.busy": "2022-11-04T08:38:40.660176Z",
     "iopub.status.idle": "2022-11-04T08:38:40.669331Z",
     "shell.execute_reply": "2022-11-04T08:38:40.668013Z"
    },
    "papermill": {
     "duration": 0.072174,
     "end_time": "2022-11-04T08:38:40.671819",
     "exception": false,
     "start_time": "2022-11-04T08:38:40.599645",
     "status": "completed"
    },
    "tags": []
   },
   "outputs": [],
   "source": [
    "                                    # 1) Sex - Nominal\n",
    "                                    # 2) Embarked - Nominal\n",
    "# Converting Sex column Using oneHot encoding\n",
    "data_test_mod = pd.get_dummies(data_test_mod, columns = ['Sex'])"
   ]
  },
  {
   "cell_type": "markdown",
   "id": "3419f8f4",
   "metadata": {
    "papermill": {
     "duration": 0.057456,
     "end_time": "2022-11-04T08:38:40.787911",
     "exception": false,
     "start_time": "2022-11-04T08:38:40.730455",
     "status": "completed"
    },
    "tags": []
   },
   "source": [
    "Embarked Column"
   ]
  },
  {
   "cell_type": "code",
   "execution_count": 128,
   "id": "8b19a99c",
   "metadata": {
    "execution": {
     "iopub.execute_input": "2022-11-04T08:38:40.905533Z",
     "iopub.status.busy": "2022-11-04T08:38:40.905107Z",
     "iopub.status.idle": "2022-11-04T08:38:41.155133Z",
     "shell.execute_reply": "2022-11-04T08:38:41.154204Z"
    },
    "papermill": {
     "duration": 0.313571,
     "end_time": "2022-11-04T08:38:41.158117",
     "exception": false,
     "start_time": "2022-11-04T08:38:40.844546",
     "status": "completed"
    },
    "tags": []
   },
   "outputs": [
    {
     "data": {
      "text/plain": [
       "((array([-2.93702766, -2.6502503 , -2.48862734, -2.37383857, -2.28377496,\n",
       "         -2.20913468, -2.14508828, -2.08879364, -2.03843131, -1.99276366,\n",
       "         -1.95090921, -1.91221703, -1.87619232, -1.84244974, -1.81068319,\n",
       "         -1.78064526, -1.75213303, -1.72497793, -1.69903832, -1.674194  ,\n",
       "         -1.65034206, -1.6273937 , -1.60527171, -1.58390852, -1.56324469,\n",
       "         -1.54322758, -1.5238104 , -1.50495131, -1.48661278, -1.468761  ,\n",
       "         -1.4513654 , -1.43439822, -1.41783423, -1.40165035, -1.38582549,\n",
       "         -1.37034025, -1.35517682, -1.34031874, -1.32575079, -1.3114589 ,\n",
       "         -1.29742997, -1.28365184, -1.27011319, -1.25680341, -1.24371263,\n",
       "         -1.23083159, -1.21815159, -1.20566447, -1.19336258, -1.18123868,\n",
       "         -1.16928597, -1.15749802, -1.14586875, -1.13439242, -1.12306358,\n",
       "         -1.11187708, -1.10082801, -1.08991172, -1.07912379, -1.06846   ,\n",
       "         -1.05791635, -1.04748902, -1.03717435, -1.02696887, -1.01686924,\n",
       "         -1.00687229, -0.99697496, -0.98717434, -0.97746763, -0.96785216,\n",
       "         -0.95832535, -0.94888473, -0.93952794, -0.93025269, -0.92105678,\n",
       "         -0.91193811, -0.90289465, -0.89392443, -0.88502557, -0.87619625,\n",
       "         -0.86743471, -0.85873926, -0.85010826, -0.84154013, -0.83303333,\n",
       "         -0.8245864 , -0.8161979 , -0.80786644, -0.79959068, -0.79136933,\n",
       "         -0.78320112, -0.77508484, -0.76701929, -0.75900334, -0.75103586,\n",
       "         -0.74311577, -0.73524203, -0.72741361, -0.71962952, -0.71188878,\n",
       "         -0.70419047, -0.69653367, -0.68891749, -0.68134106, -0.67380354,\n",
       "         -0.66630411, -0.65884197, -0.65141634, -0.64402645, -0.63667157,\n",
       "         -0.62935097, -0.62206394, -0.6148098 , -0.60758786, -0.60039748,\n",
       "         -0.593238  , -0.58610881, -0.57900928, -0.57193881, -0.56489683,\n",
       "         -0.55788274, -0.550896  , -0.54393604, -0.53700234, -0.53009435,\n",
       "         -0.52321157, -0.51635349, -0.50951961, -0.50270944, -0.4959225 ,\n",
       "         -0.48915834, -0.48241648, -0.47569648, -0.46899789, -0.46232028,\n",
       "         -0.45566322, -0.44902629, -0.44240909, -0.4358112 , -0.42923223,\n",
       "         -0.42267178, -0.41612947, -0.40960493, -0.40309778, -0.39660765,\n",
       "         -0.39013419, -0.38367703, -0.37723584, -0.37081025, -0.36439994,\n",
       "         -0.35800457, -0.35162381, -0.34525733, -0.33890481, -0.33256595,\n",
       "         -0.32624041, -0.31992791, -0.31362812, -0.30734076, -0.30106553,\n",
       "         -0.29480213, -0.28855027, -0.28230967, -0.27608005, -0.26986112,\n",
       "         -0.26365261, -0.25745425, -0.25126576, -0.24508688, -0.23891735,\n",
       "         -0.23275689, -0.22660526, -0.22046219, -0.21432743, -0.20820072,\n",
       "         -0.20208182, -0.19597048, -0.18986644, -0.18376947, -0.17767933,\n",
       "         -0.17159577, -0.16551855, -0.15944744, -0.15338221, -0.1473226 ,\n",
       "         -0.14126841, -0.13521938, -0.12917531, -0.12313594, -0.11710107,\n",
       "         -0.11107045, -0.10504387, -0.09902111, -0.09300194, -0.08698613,\n",
       "         -0.08097347, -0.07496373, -0.0689567 , -0.06295216, -0.05694989,\n",
       "         -0.05094967, -0.04495128, -0.03895451, -0.03295914, -0.02696496,\n",
       "         -0.02097174, -0.01497928, -0.00898735, -0.00299575,  0.00299575,\n",
       "          0.00898735,  0.01497928,  0.02097174,  0.02696496,  0.03295914,\n",
       "          0.03895451,  0.04495128,  0.05094967,  0.05694989,  0.06295216,\n",
       "          0.0689567 ,  0.07496373,  0.08097347,  0.08698613,  0.09300194,\n",
       "          0.09902111,  0.10504387,  0.11107045,  0.11710107,  0.12313594,\n",
       "          0.12917531,  0.13521938,  0.14126841,  0.1473226 ,  0.15338221,\n",
       "          0.15944744,  0.16551855,  0.17159577,  0.17767933,  0.18376947,\n",
       "          0.18986644,  0.19597048,  0.20208182,  0.20820072,  0.21432743,\n",
       "          0.22046219,  0.22660526,  0.23275689,  0.23891735,  0.24508688,\n",
       "          0.25126576,  0.25745425,  0.26365261,  0.26986112,  0.27608005,\n",
       "          0.28230967,  0.28855027,  0.29480213,  0.30106553,  0.30734076,\n",
       "          0.31362812,  0.31992791,  0.32624041,  0.33256595,  0.33890481,\n",
       "          0.34525733,  0.35162381,  0.35800457,  0.36439994,  0.37081025,\n",
       "          0.37723584,  0.38367703,  0.39013419,  0.39660765,  0.40309778,\n",
       "          0.40960493,  0.41612947,  0.42267178,  0.42923223,  0.4358112 ,\n",
       "          0.44240909,  0.44902629,  0.45566322,  0.46232028,  0.46899789,\n",
       "          0.47569648,  0.48241648,  0.48915834,  0.4959225 ,  0.50270944,\n",
       "          0.50951961,  0.51635349,  0.52321157,  0.53009435,  0.53700234,\n",
       "          0.54393604,  0.550896  ,  0.55788274,  0.56489683,  0.57193881,\n",
       "          0.57900928,  0.58610881,  0.593238  ,  0.60039748,  0.60758786,\n",
       "          0.6148098 ,  0.62206394,  0.62935097,  0.63667157,  0.64402645,\n",
       "          0.65141634,  0.65884197,  0.66630411,  0.67380354,  0.68134106,\n",
       "          0.68891749,  0.69653367,  0.70419047,  0.71188878,  0.71962952,\n",
       "          0.72741361,  0.73524203,  0.74311577,  0.75103586,  0.75900334,\n",
       "          0.76701929,  0.77508484,  0.78320112,  0.79136933,  0.79959068,\n",
       "          0.80786644,  0.8161979 ,  0.8245864 ,  0.83303333,  0.84154013,\n",
       "          0.85010826,  0.85873926,  0.86743471,  0.87619625,  0.88502557,\n",
       "          0.89392443,  0.90289465,  0.91193811,  0.92105678,  0.93025269,\n",
       "          0.93952794,  0.94888473,  0.95832535,  0.96785216,  0.97746763,\n",
       "          0.98717434,  0.99697496,  1.00687229,  1.01686924,  1.02696887,\n",
       "          1.03717435,  1.04748902,  1.05791635,  1.06846   ,  1.07912379,\n",
       "          1.08991172,  1.10082801,  1.11187708,  1.12306358,  1.13439242,\n",
       "          1.14586875,  1.15749802,  1.16928597,  1.18123868,  1.19336258,\n",
       "          1.20566447,  1.21815159,  1.23083159,  1.24371263,  1.25680341,\n",
       "          1.27011319,  1.28365184,  1.29742997,  1.3114589 ,  1.32575079,\n",
       "          1.34031874,  1.35517682,  1.37034025,  1.38582549,  1.40165035,\n",
       "          1.41783423,  1.43439822,  1.4513654 ,  1.468761  ,  1.48661278,\n",
       "          1.50495131,  1.5238104 ,  1.54322758,  1.56324469,  1.58390852,\n",
       "          1.60527171,  1.6273937 ,  1.65034206,  1.674194  ,  1.69903832,\n",
       "          1.72497793,  1.75213303,  1.78064526,  1.81068319,  1.84244974,\n",
       "          1.87619232,  1.91221703,  1.95090921,  1.99276366,  2.03843131,\n",
       "          2.08879364,  2.14508828,  2.20913468,  2.28377496,  2.37383857,\n",
       "          2.48862734,  2.6502503 ,  2.93702766]),\n",
       "  array([ 3.875     ,  3.875     ,  3.875     ,  3.875     ,  3.875     ,\n",
       "          3.875     ,  3.875     ,  3.875     ,  3.875     ,  3.875     ,\n",
       "          3.875     ,  5.        ,  6.        ,  6.        ,  6.        ,\n",
       "          7.        ,  8.        ,  8.        ,  9.        ,  9.        ,\n",
       "         10.        , 10.        , 11.5       , 12.        , 12.        ,\n",
       "         13.        , 13.        , 13.        , 14.        , 14.        ,\n",
       "         14.5       , 15.        , 16.        , 16.        , 17.        ,\n",
       "         17.        , 17.        , 17.        , 17.        , 17.        ,\n",
       "         17.        , 18.        , 18.        , 18.        , 18.        ,\n",
       "         18.        , 18.        , 18.        , 18.        , 18.        ,\n",
       "         18.        , 18.        , 18.        , 18.        , 18.5       ,\n",
       "         18.5       , 18.5       , 19.        , 19.        , 19.        ,\n",
       "         19.        , 20.        , 20.        , 20.        , 20.        ,\n",
       "         20.        , 20.        , 20.        , 20.        , 21.        ,\n",
       "         21.        , 21.        , 21.        , 21.        , 21.        ,\n",
       "         21.        , 21.        , 21.        , 21.        , 21.        ,\n",
       "         21.        , 21.        , 21.        , 21.        , 21.        ,\n",
       "         21.        , 22.        , 22.        , 22.        , 22.        ,\n",
       "         22.        , 22.        , 22.        , 22.        , 22.        ,\n",
       "         22.        , 22.        , 22.        , 22.        , 22.        ,\n",
       "         22.        , 22.        , 22.5       , 23.        , 23.        ,\n",
       "         23.        , 23.        , 23.        , 23.        , 23.        ,\n",
       "         23.        , 23.        , 23.        , 23.        , 24.        ,\n",
       "         24.        , 24.        , 24.        , 24.        , 24.        ,\n",
       "         24.        , 24.        , 24.        , 24.        , 24.        ,\n",
       "         24.        , 24.        , 24.        , 24.        , 24.        ,\n",
       "         24.        , 24.93960526, 24.93960526, 24.93960526, 24.93960526,\n",
       "         24.93960526, 24.93960526, 24.93960526, 24.93960526, 24.93960526,\n",
       "         24.93960526, 24.93960526, 24.93960526, 24.93960526, 24.93960526,\n",
       "         24.93960526, 24.93960526, 24.93960526, 24.93960526, 24.93960526,\n",
       "         24.93960526, 24.93960526, 24.93960526, 24.93960526, 24.93960526,\n",
       "         24.93960526, 24.93960526, 24.93960526, 24.93960526, 24.93960526,\n",
       "         24.93960526, 24.93960526, 24.93960526, 24.93960526, 24.93960526,\n",
       "         24.93960526, 24.93960526, 24.93960526, 24.93960526, 24.93960526,\n",
       "         24.93960526, 24.93960526, 24.93960526, 24.93960526, 24.93960526,\n",
       "         24.93960526, 24.93960526, 24.93960526, 24.93960526, 24.93960526,\n",
       "         24.93960526, 24.93960526, 24.93960526, 24.93960526, 24.93960526,\n",
       "         24.93960526, 24.93960526, 24.93960526, 24.93960526, 24.93960526,\n",
       "         24.93960526, 24.93960526, 24.93960526, 24.93960526, 24.93960526,\n",
       "         24.93960526, 24.93960526, 24.93960526, 24.93960526, 24.93960526,\n",
       "         24.93960526, 24.93960526, 24.93960526, 24.93960526, 24.93960526,\n",
       "         24.93960526, 24.93960526, 24.93960526, 24.93960526, 24.93960526,\n",
       "         24.93960526, 24.93960526, 24.93960526, 24.93960526, 24.93960526,\n",
       "         24.93960526, 24.93960526, 25.        , 25.        , 25.        ,\n",
       "         25.        , 25.        , 25.        , 25.        , 25.        ,\n",
       "         25.        , 25.        , 25.        , 26.        , 26.        ,\n",
       "         26.        , 26.        , 26.        , 26.        , 26.        ,\n",
       "         26.        , 26.        , 26.        , 26.        , 26.        ,\n",
       "         26.5       , 27.        , 27.        , 27.        , 27.        ,\n",
       "         27.        , 27.        , 27.        , 27.        , 27.        ,\n",
       "         27.        , 27.        , 27.        , 28.        , 28.        ,\n",
       "         28.        , 28.        , 28.        , 28.        , 28.        ,\n",
       "         28.5       , 29.        , 29.        , 29.        , 29.        ,\n",
       "         29.        , 29.        , 29.        , 29.        , 29.        ,\n",
       "         29.        , 30.        , 30.        , 30.        , 30.        ,\n",
       "         30.        , 30.        , 30.        , 30.        , 30.        ,\n",
       "         30.        , 30.        , 30.        , 30.        , 30.        ,\n",
       "         30.        , 31.        , 31.        , 31.        , 31.        ,\n",
       "         31.        , 31.        , 32.        , 32.        , 32.        ,\n",
       "         32.        , 32.        , 32.        , 32.5       , 32.5       ,\n",
       "         33.        , 33.        , 33.        , 33.        , 33.        ,\n",
       "         33.        , 34.        , 34.5       , 35.        , 35.        ,\n",
       "         35.        , 35.        , 35.        , 36.        , 36.        ,\n",
       "         36.        , 36.        , 36.        , 36.        , 36.        ,\n",
       "         36.        , 36.        , 36.5       , 37.        , 37.        ,\n",
       "         37.        , 38.        , 38.        , 38.        , 38.5       ,\n",
       "         39.        , 39.        , 39.        , 39.        , 39.        ,\n",
       "         39.        , 40.        , 40.        , 40.        , 40.        ,\n",
       "         40.        , 40.5       , 41.        , 41.        , 41.        ,\n",
       "         41.        , 41.        , 42.        , 42.        , 42.        ,\n",
       "         42.        , 42.        , 43.        , 43.        , 43.        ,\n",
       "         43.        , 44.        , 45.        , 45.        , 45.        ,\n",
       "         45.        , 45.        , 45.        , 45.        , 45.        ,\n",
       "         45.        , 46.        , 46.        , 46.        , 47.        ,\n",
       "         47.        , 47.        , 47.        , 47.        , 48.        ,\n",
       "         48.        , 48.        , 48.        , 48.        , 49.        ,\n",
       "         49.        , 49.        , 50.        , 50.        , 50.        ,\n",
       "         50.        , 50.        , 51.        , 53.        , 53.        ,\n",
       "         53.        , 54.        , 54.        , 54.875     , 54.875     ,\n",
       "         54.875     , 54.875     , 54.875     , 54.875     , 54.875     ,\n",
       "         54.875     , 54.875     , 54.875     , 54.875     , 54.875     ,\n",
       "         54.875     , 54.875     , 54.875     , 54.875     , 54.875     ,\n",
       "         54.875     , 54.875     , 54.875     , 54.875     , 54.875     ,\n",
       "         54.875     , 54.875     , 54.875     ])),\n",
       " (11.497295941567957, 28.931354192898514, 0.9629645327207706))"
      ]
     },
     "execution_count": 128,
     "metadata": {},
     "output_type": "execute_result"
    },
    {
     "data": {
      "image/png": "[encoded data removed]",
      "text/plain": [
       "<Figure size 640x480 with 1 Axes>"
      ]
     },
     "metadata": {},
     "output_type": "display_data"
    }
   ],
   "source": [
    "data_test_mod = pd.get_dummies(data_test_mod, columns = ['Embarked'])\n",
    "  \n",
    "# 4) Checking whether the data is normally distributed or not for Continuos Variables\n",
    "stats.probplot(data_test_mod['Age'], dist ='norm', plot =pylab) # data is mostly Normally distributed"
   ]
  },
  {
   "cell_type": "code",
   "execution_count": 129,
   "id": "9ebda7da",
   "metadata": {
    "execution": {
     "iopub.execute_input": "2022-11-04T08:38:41.332735Z",
     "iopub.status.busy": "2022-11-04T08:38:41.331941Z",
     "iopub.status.idle": "2022-11-04T08:38:41.572393Z",
     "shell.execute_reply": "2022-11-04T08:38:41.571032Z"
    },
    "papermill": {
     "duration": 0.302599,
     "end_time": "2022-11-04T08:38:41.575205",
     "exception": false,
     "start_time": "2022-11-04T08:38:41.272606",
     "status": "completed"
    },
    "tags": []
   },
   "outputs": [
    {
     "data": {
      "text/plain": [
       "((array([-2.93702766, -2.6502503 , -2.48862734, -2.37383857, -2.28377496,\n",
       "         -2.20913468, -2.14508828, -2.08879364, -2.03843131, -1.99276366,\n",
       "         -1.95090921, -1.91221703, -1.87619232, -1.84244974, -1.81068319,\n",
       "         -1.78064526, -1.75213303, -1.72497793, -1.69903832, -1.674194  ,\n",
       "         -1.65034206, -1.6273937 , -1.60527171, -1.58390852, -1.56324469,\n",
       "         -1.54322758, -1.5238104 , -1.50495131, -1.48661278, -1.468761  ,\n",
       "         -1.4513654 , -1.43439822, -1.41783423, -1.40165035, -1.38582549,\n",
       "         -1.37034025, -1.35517682, -1.34031874, -1.32575079, -1.3114589 ,\n",
       "         -1.29742997, -1.28365184, -1.27011319, -1.25680341, -1.24371263,\n",
       "         -1.23083159, -1.21815159, -1.20566447, -1.19336258, -1.18123868,\n",
       "         -1.16928597, -1.15749802, -1.14586875, -1.13439242, -1.12306358,\n",
       "         -1.11187708, -1.10082801, -1.08991172, -1.07912379, -1.06846   ,\n",
       "         -1.05791635, -1.04748902, -1.03717435, -1.02696887, -1.01686924,\n",
       "         -1.00687229, -0.99697496, -0.98717434, -0.97746763, -0.96785216,\n",
       "         -0.95832535, -0.94888473, -0.93952794, -0.93025269, -0.92105678,\n",
       "         -0.91193811, -0.90289465, -0.89392443, -0.88502557, -0.87619625,\n",
       "         -0.86743471, -0.85873926, -0.85010826, -0.84154013, -0.83303333,\n",
       "         -0.8245864 , -0.8161979 , -0.80786644, -0.79959068, -0.79136933,\n",
       "         -0.78320112, -0.77508484, -0.76701929, -0.75900334, -0.75103586,\n",
       "         -0.74311577, -0.73524203, -0.72741361, -0.71962952, -0.71188878,\n",
       "         -0.70419047, -0.69653367, -0.68891749, -0.68134106, -0.67380354,\n",
       "         -0.66630411, -0.65884197, -0.65141634, -0.64402645, -0.63667157,\n",
       "         -0.62935097, -0.62206394, -0.6148098 , -0.60758786, -0.60039748,\n",
       "         -0.593238  , -0.58610881, -0.57900928, -0.57193881, -0.56489683,\n",
       "         -0.55788274, -0.550896  , -0.54393604, -0.53700234, -0.53009435,\n",
       "         -0.52321157, -0.51635349, -0.50951961, -0.50270944, -0.4959225 ,\n",
       "         -0.48915834, -0.48241648, -0.47569648, -0.46899789, -0.46232028,\n",
       "         -0.45566322, -0.44902629, -0.44240909, -0.4358112 , -0.42923223,\n",
       "         -0.42267178, -0.41612947, -0.40960493, -0.40309778, -0.39660765,\n",
       "         -0.39013419, -0.38367703, -0.37723584, -0.37081025, -0.36439994,\n",
       "         -0.35800457, -0.35162381, -0.34525733, -0.33890481, -0.33256595,\n",
       "         -0.32624041, -0.31992791, -0.31362812, -0.30734076, -0.30106553,\n",
       "         -0.29480213, -0.28855027, -0.28230967, -0.27608005, -0.26986112,\n",
       "         -0.26365261, -0.25745425, -0.25126576, -0.24508688, -0.23891735,\n",
       "         -0.23275689, -0.22660526, -0.22046219, -0.21432743, -0.20820072,\n",
       "         -0.20208182, -0.19597048, -0.18986644, -0.18376947, -0.17767933,\n",
       "         -0.17159577, -0.16551855, -0.15944744, -0.15338221, -0.1473226 ,\n",
       "         -0.14126841, -0.13521938, -0.12917531, -0.12313594, -0.11710107,\n",
       "         -0.11107045, -0.10504387, -0.09902111, -0.09300194, -0.08698613,\n",
       "         -0.08097347, -0.07496373, -0.0689567 , -0.06295216, -0.05694989,\n",
       "         -0.05094967, -0.04495128, -0.03895451, -0.03295914, -0.02696496,\n",
       "         -0.02097174, -0.01497928, -0.00898735, -0.00299575,  0.00299575,\n",
       "          0.00898735,  0.01497928,  0.02097174,  0.02696496,  0.03295914,\n",
       "          0.03895451,  0.04495128,  0.05094967,  0.05694989,  0.06295216,\n",
       "          0.0689567 ,  0.07496373,  0.08097347,  0.08698613,  0.09300194,\n",
       "          0.09902111,  0.10504387,  0.11107045,  0.11710107,  0.12313594,\n",
       "          0.12917531,  0.13521938,  0.14126841,  0.1473226 ,  0.15338221,\n",
       "          0.15944744,  0.16551855,  0.17159577,  0.17767933,  0.18376947,\n",
       "          0.18986644,  0.19597048,  0.20208182,  0.20820072,  0.21432743,\n",
       "          0.22046219,  0.22660526,  0.23275689,  0.23891735,  0.24508688,\n",
       "          0.25126576,  0.25745425,  0.26365261,  0.26986112,  0.27608005,\n",
       "          0.28230967,  0.28855027,  0.29480213,  0.30106553,  0.30734076,\n",
       "          0.31362812,  0.31992791,  0.32624041,  0.33256595,  0.33890481,\n",
       "          0.34525733,  0.35162381,  0.35800457,  0.36439994,  0.37081025,\n",
       "          0.37723584,  0.38367703,  0.39013419,  0.39660765,  0.40309778,\n",
       "          0.40960493,  0.41612947,  0.42267178,  0.42923223,  0.4358112 ,\n",
       "          0.44240909,  0.44902629,  0.45566322,  0.46232028,  0.46899789,\n",
       "          0.47569648,  0.48241648,  0.48915834,  0.4959225 ,  0.50270944,\n",
       "          0.50951961,  0.51635349,  0.52321157,  0.53009435,  0.53700234,\n",
       "          0.54393604,  0.550896  ,  0.55788274,  0.56489683,  0.57193881,\n",
       "          0.57900928,  0.58610881,  0.593238  ,  0.60039748,  0.60758786,\n",
       "          0.6148098 ,  0.62206394,  0.62935097,  0.63667157,  0.64402645,\n",
       "          0.65141634,  0.65884197,  0.66630411,  0.67380354,  0.68134106,\n",
       "          0.68891749,  0.69653367,  0.70419047,  0.71188878,  0.71962952,\n",
       "          0.72741361,  0.73524203,  0.74311577,  0.75103586,  0.75900334,\n",
       "          0.76701929,  0.77508484,  0.78320112,  0.79136933,  0.79959068,\n",
       "          0.80786644,  0.8161979 ,  0.8245864 ,  0.83303333,  0.84154013,\n",
       "          0.85010826,  0.85873926,  0.86743471,  0.87619625,  0.88502557,\n",
       "          0.89392443,  0.90289465,  0.91193811,  0.92105678,  0.93025269,\n",
       "          0.93952794,  0.94888473,  0.95832535,  0.96785216,  0.97746763,\n",
       "          0.98717434,  0.99697496,  1.00687229,  1.01686924,  1.02696887,\n",
       "          1.03717435,  1.04748902,  1.05791635,  1.06846   ,  1.07912379,\n",
       "          1.08991172,  1.10082801,  1.11187708,  1.12306358,  1.13439242,\n",
       "          1.14586875,  1.15749802,  1.16928597,  1.18123868,  1.19336258,\n",
       "          1.20566447,  1.21815159,  1.23083159,  1.24371263,  1.25680341,\n",
       "          1.27011319,  1.28365184,  1.29742997,  1.3114589 ,  1.32575079,\n",
       "          1.34031874,  1.35517682,  1.37034025,  1.38582549,  1.40165035,\n",
       "          1.41783423,  1.43439822,  1.4513654 ,  1.468761  ,  1.48661278,\n",
       "          1.50495131,  1.5238104 ,  1.54322758,  1.56324469,  1.58390852,\n",
       "          1.60527171,  1.6273937 ,  1.65034206,  1.674194  ,  1.69903832,\n",
       "          1.72497793,  1.75213303,  1.78064526,  1.81068319,  1.84244974,\n",
       "          1.87619232,  1.91221703,  1.95090921,  1.99276366,  2.03843131,\n",
       "          2.08879364,  2.14508828,  2.20913468,  2.28377496,  2.37383857,\n",
       "          2.48862734,  2.6502503 ,  2.93702766]),\n",
       "  array([ 0.        ,  0.        ,  3.1708    ,  6.4375    ,  6.4375    ,\n",
       "          6.4958    ,  6.95      ,  7.        ,  7.        ,  7.05      ,\n",
       "          7.05      ,  7.225     ,  7.225     ,  7.225     ,  7.225     ,\n",
       "          7.225     ,  7.225     ,  7.225     ,  7.225     ,  7.225     ,\n",
       "          7.2292    ,  7.2292    ,  7.2292    ,  7.2292    ,  7.2292    ,\n",
       "          7.2292    ,  7.2292    ,  7.2292    ,  7.2292    ,  7.25      ,\n",
       "          7.25      ,  7.25      ,  7.25      ,  7.25      ,  7.2833    ,\n",
       "          7.55      ,  7.55      ,  7.55      ,  7.55      ,  7.575     ,\n",
       "          7.5792    ,  7.6292    ,  7.65      ,  7.65      ,  7.7208    ,\n",
       "          7.725     ,  7.7333    ,  7.7333    ,  7.7333    ,  7.75      ,\n",
       "          7.75      ,  7.75      ,  7.75      ,  7.75      ,  7.75      ,\n",
       "          7.75      ,  7.75      ,  7.75      ,  7.75      ,  7.75      ,\n",
       "          7.75      ,  7.75      ,  7.75      ,  7.75      ,  7.75      ,\n",
       "          7.75      ,  7.75      ,  7.75      ,  7.75      ,  7.75      ,\n",
       "          7.775     ,  7.775     ,  7.775     ,  7.775     ,  7.775     ,\n",
       "          7.775     ,  7.775     ,  7.775     ,  7.775     ,  7.775     ,\n",
       "          7.7792    ,  7.7958    ,  7.7958    ,  7.7958    ,  7.7958    ,\n",
       "          7.8208    ,  7.8292    ,  7.85      ,  7.8542    ,  7.8542    ,\n",
       "          7.8542    ,  7.8542    ,  7.8542    ,  7.8542    ,  7.8542    ,\n",
       "          7.8542    ,  7.8792    ,  7.8792    ,  7.8792    ,  7.8792    ,\n",
       "          7.8792    ,  7.8792    ,  7.8875    ,  7.8958    ,  7.8958    ,\n",
       "          7.8958    ,  7.8958    ,  7.8958    ,  7.8958    ,  7.8958    ,\n",
       "          7.8958    ,  7.8958    ,  7.8958    ,  7.8958    ,  7.925     ,\n",
       "          7.925     ,  7.925     ,  7.925     ,  7.925     ,  8.05      ,\n",
       "          8.05      ,  8.05      ,  8.05      ,  8.05      ,  8.05      ,\n",
       "          8.05      ,  8.05      ,  8.05      ,  8.05      ,  8.05      ,\n",
       "          8.05      ,  8.05      ,  8.05      ,  8.05      ,  8.05      ,\n",
       "          8.05      ,  8.1125    ,  8.5167    ,  8.6625    ,  8.6625    ,\n",
       "          8.6625    ,  8.6625    ,  8.6625    ,  8.6625    ,  8.6625    ,\n",
       "          8.6625    ,  8.7125    ,  8.9625    ,  9.225     ,  9.325     ,\n",
       "          9.35      ,  9.5       ,  9.5       ,  9.5       ,  9.6875    ,\n",
       "         10.5       , 10.5       , 10.5       , 10.5       , 10.5       ,\n",
       "         10.5       , 10.5       , 10.5       , 10.5       , 10.5       ,\n",
       "         10.5       , 10.7083    , 11.5       , 11.5       , 12.1833    ,\n",
       "         12.1833    , 12.2875    , 12.35      , 12.35      , 12.7375    ,\n",
       "         12.875     , 13.        , 13.        , 13.        , 13.        ,\n",
       "         13.        , 13.        , 13.        , 13.        , 13.        ,\n",
       "         13.        , 13.        , 13.        , 13.        , 13.        ,\n",
       "         13.        , 13.        , 13.        , 13.4167    , 13.5       ,\n",
       "         13.5       , 13.5       , 13.775     , 13.775     , 13.775     ,\n",
       "         13.8583    , 13.8583    , 13.8625    , 13.9       , 13.9       ,\n",
       "         14.1083    , 14.4       , 14.4542    , 14.4542    , 14.4542    ,\n",
       "         14.4583    , 14.5       , 14.5       , 14.5       , 14.5       ,\n",
       "         15.0333    , 15.0458    , 15.0458    , 15.1       , 15.2458    ,\n",
       "         15.2458    , 15.2458    , 15.2458    , 15.5       , 15.5       ,\n",
       "         15.55      , 15.5792    , 15.7417    , 15.75      , 15.9       ,\n",
       "         16.        , 16.1       , 16.1       , 16.1       , 16.7       ,\n",
       "         17.4       , 18.        , 20.2125    , 20.25      , 20.575     ,\n",
       "         20.575     , 21.        , 21.        , 21.        , 21.        ,\n",
       "         21.        , 21.        , 21.        , 21.        , 21.075     ,\n",
       "         21.6792    , 21.6792    , 22.025     , 22.025     , 22.3583    ,\n",
       "         22.525     , 22.525     , 23.        , 23.        , 23.        ,\n",
       "         23.25      , 23.45      , 23.45      , 24.15      , 25.4667    ,\n",
       "         25.7       , 25.7417    , 26.        , 26.        , 26.        ,\n",
       "         26.        , 26.        , 26.        , 26.        , 26.        ,\n",
       "         26.        , 26.        , 26.        , 26.        , 26.        ,\n",
       "         26.        , 26.        , 26.        , 26.        , 26.        ,\n",
       "         26.        , 26.55      , 26.55      , 26.55      , 26.55      ,\n",
       "         26.55      , 26.55      , 26.55      , 27.4458    , 27.7208    ,\n",
       "         27.7208    , 27.7208    , 27.7208    , 27.7208    , 27.7208    ,\n",
       "         27.75      , 28.5       , 28.5375    , 29.        , 29.125     ,\n",
       "         29.7       , 29.7       , 30.        , 30.5       , 31.3875    ,\n",
       "         31.3875    , 31.3875    , 31.5       , 31.5       , 31.5       ,\n",
       "         31.6792    , 31.6833    , 32.5       , 32.5       , 34.375     ,\n",
       "         35.62718849, 36.75      , 36.75      , 37.0042    , 39.        ,\n",
       "         39.        , 39.        , 39.4       , 39.6       , 39.6875    ,\n",
       "         41.5792    , 42.4       , 42.5       , 45.5       , 46.9       ,\n",
       "         46.9       , 47.1       , 50.        , 50.4958    , 51.4792    ,\n",
       "         51.8625    , 51.8625    , 52.        , 52.5542    , 53.1       ,\n",
       "         55.4417    , 55.4417    , 55.4417    , 56.4958    , 57.75      ,\n",
       "         57.75      , 59.4       , 59.4       , 59.4       , 60.        ,\n",
       "         60.        , 61.175     , 61.3792    , 61.9792    , 63.3583    ,\n",
       "         65.        , 65.        , 65.        , 66.9063    , 66.9063    ,\n",
       "         66.9063    , 66.9063    , 66.9063    , 66.9063    , 66.9063    ,\n",
       "         66.9063    , 66.9063    , 66.9063    , 66.9063    , 66.9063    ,\n",
       "         66.9063    , 66.9063    , 66.9063    , 66.9063    , 66.9063    ,\n",
       "         66.9063    , 66.9063    , 66.9063    , 66.9063    , 66.9063    ,\n",
       "         66.9063    , 66.9063    , 66.9063    , 66.9063    , 66.9063    ,\n",
       "         66.9063    , 66.9063    , 66.9063    , 66.9063    , 66.9063    ,\n",
       "         66.9063    , 66.9063    , 66.9063    , 66.9063    , 66.9063    ,\n",
       "         66.9063    , 66.9063    , 66.9063    , 66.9063    , 66.9063    ,\n",
       "         66.9063    , 66.9063    , 66.9063    , 66.9063    , 66.9063    ,\n",
       "         66.9063    , 66.9063    , 66.9063    , 66.9063    , 66.9063    ,\n",
       "         66.9063    , 66.9063    , 66.9063    ])),\n",
       " (18.73638489213073, 24.70390427868231, 0.8790905504763032))"
      ]
     },
     "execution_count": 129,
     "metadata": {},
     "output_type": "execute_result"
    },
    {
     "data": {
      "image/png": "[encoded data removed]",
      "text/plain": [
       "<Figure size 640x480 with 1 Axes>"
      ]
     },
     "metadata": {},
     "output_type": "display_data"
    }
   ],
   "source": [
    "stats.probplot(data_test_mod['Fare'], dist ='norm', plot =pylab)"
   ]
  },
  {
   "cell_type": "code",
   "execution_count": 130,
   "id": "c10ca0dd",
   "metadata": {
    "execution": {
     "iopub.execute_input": "2022-11-04T08:38:41.697978Z",
     "iopub.status.busy": "2022-11-04T08:38:41.697571Z",
     "iopub.status.idle": "2022-11-04T08:38:41.706685Z",
     "shell.execute_reply": "2022-11-04T08:38:41.705390Z"
    },
    "papermill": {
     "duration": 0.073866,
     "end_time": "2022-11-04T08:38:41.709190",
     "exception": false,
     "start_time": "2022-11-04T08:38:41.635324",
     "status": "completed"
    },
    "tags": []
   },
   "outputs": [],
   "source": [
    "Fare_test_tr = data_test_mod['Fare'].transform([np.log, np.exp, np.sqrt, np.reciprocal])"
   ]
  },
  {
   "cell_type": "code",
   "execution_count": 131,
   "id": "3df6de32",
   "metadata": {
    "execution": {
     "iopub.execute_input": "2022-11-04T08:38:41.831423Z",
     "iopub.status.busy": "2022-11-04T08:38:41.830378Z",
     "iopub.status.idle": "2022-11-04T08:38:42.071220Z",
     "shell.execute_reply": "2022-11-04T08:38:42.069881Z"
    },
    "papermill": {
     "duration": 0.303562,
     "end_time": "2022-11-04T08:38:42.073819",
     "exception": false,
     "start_time": "2022-11-04T08:38:41.770257",
     "status": "completed"
    },
    "tags": []
   },
   "outputs": [
    {
     "data": {
      "text/plain": [
       "(array([360.,   3.,   0.,   0.,   0.,   0.,   0.,   0.,   0.,  55.]),\n",
       " array([1.00000000e+00, 1.14034666e+28, 2.28069332e+28, 3.42103998e+28,\n",
       "        4.56138664e+28, 5.70173330e+28, 6.84207996e+28, 7.98242661e+28,\n",
       "        9.12277327e+28, 1.02631199e+29, 1.14034666e+29]),\n",
       " <BarContainer object of 10 artists>)"
      ]
     },
     "execution_count": 131,
     "metadata": {},
     "output_type": "execute_result"
    },
    {
     "data": {
      "image/png": "[encoded data removed]",
      "text/plain": [
       "<Figure size 640x480 with 1 Axes>"
      ]
     },
     "metadata": {},
     "output_type": "display_data"
    }
   ],
   "source": [
    "plt.hist(Fare_test_tr['exp'])"
   ]
  },
  {
   "cell_type": "code",
   "execution_count": 132,
   "id": "6e42fd5e",
   "metadata": {
    "execution": {
     "iopub.execute_input": "2022-11-04T08:38:42.192971Z",
     "iopub.status.busy": "2022-11-04T08:38:42.192256Z",
     "iopub.status.idle": "2022-11-04T08:38:42.442256Z",
     "shell.execute_reply": "2022-11-04T08:38:42.440632Z"
    },
    "papermill": {
     "duration": 0.311868,
     "end_time": "2022-11-04T08:38:42.444808",
     "exception": false,
     "start_time": "2022-11-04T08:38:42.132940",
     "status": "completed"
    },
    "tags": []
   },
   "outputs": [
    {
     "data": {
      "text/plain": [
       "(array([  2.,   0.,   1., 163.,  69.,  28.,  56.,  14.,  12.,  73.]),\n",
       " array([0.        , 0.81796271, 1.63592543, 2.45388814, 3.27185085,\n",
       "        4.08981357, 4.90777628, 5.72573899, 6.5437017 , 7.36166442,\n",
       "        8.17962713]),\n",
       " <BarContainer object of 10 artists>)"
      ]
     },
     "execution_count": 132,
     "metadata": {},
     "output_type": "execute_result"
    },
    {
     "data": {
      "image/png": "[encoded data removed]",
      "text/plain": [
       "<Figure size 640x480 with 1 Axes>"
      ]
     },
     "metadata": {},
     "output_type": "display_data"
    }
   ],
   "source": [
    "plt.hist(Fare_test_tr['sqrt']) # Sqrt transformation seems like appropriate to normal distribution"
   ]
  },
  {
   "cell_type": "code",
   "execution_count": 133,
   "id": "e57e3926",
   "metadata": {
    "execution": {
     "iopub.execute_input": "2022-11-04T08:38:42.565533Z",
     "iopub.status.busy": "2022-11-04T08:38:42.564210Z",
     "iopub.status.idle": "2022-11-04T08:38:42.570954Z",
     "shell.execute_reply": "2022-11-04T08:38:42.570050Z"
    },
    "papermill": {
     "duration": 0.06903,
     "end_time": "2022-11-04T08:38:42.573428",
     "exception": false,
     "start_time": "2022-11-04T08:38:42.504398",
     "status": "completed"
    },
    "tags": []
   },
   "outputs": [],
   "source": [
    "data_test_mod['Fare'] = data_test_mod['Fare'].transform(np.sqrt)"
   ]
  },
  {
   "cell_type": "markdown",
   "id": "c9bab776",
   "metadata": {
    "papermill": {
     "duration": 0.059266,
     "end_time": "2022-11-04T08:38:42.693361",
     "exception": false,
     "start_time": "2022-11-04T08:38:42.634095",
     "status": "completed"
    },
    "tags": []
   },
   "source": [
    "Scaling the data<br>\n",
    "Using Customized Min-Max Scalor Function"
   ]
  },
  {
   "cell_type": "code",
   "execution_count": 134,
   "id": "fb3dadb4",
   "metadata": {
    "execution": {
     "iopub.execute_input": "2022-11-04T08:38:42.814506Z",
     "iopub.status.busy": "2022-11-04T08:38:42.813730Z",
     "iopub.status.idle": "2022-11-04T08:38:42.820770Z",
     "shell.execute_reply": "2022-11-04T08:38:42.819698Z"
    },
    "papermill": {
     "duration": 0.07158,
     "end_time": "2022-11-04T08:38:42.823368",
     "exception": false,
     "start_time": "2022-11-04T08:38:42.751788",
     "status": "completed"
    },
    "tags": []
   },
   "outputs": [],
   "source": [
    "data_test_mod['Age'] = norm_func(data_test_mod['Age'])"
   ]
  },
  {
   "cell_type": "code",
   "execution_count": 135,
   "id": "bc5564d3",
   "metadata": {
    "execution": {
     "iopub.execute_input": "2022-11-04T08:38:42.944662Z",
     "iopub.status.busy": "2022-11-04T08:38:42.944017Z",
     "iopub.status.idle": "2022-11-04T08:38:42.949993Z",
     "shell.execute_reply": "2022-11-04T08:38:42.949210Z"
    },
    "papermill": {
     "duration": 0.068042,
     "end_time": "2022-11-04T08:38:42.952163",
     "exception": false,
     "start_time": "2022-11-04T08:38:42.884121",
     "status": "completed"
    },
    "tags": []
   },
   "outputs": [],
   "source": [
    "data_test_mod['Fare'] = norm_func(data_test_mod['Fare'])"
   ]
  },
  {
   "cell_type": "code",
   "execution_count": 136,
   "id": "eaec95f1",
   "metadata": {
    "execution": {
     "iopub.execute_input": "2022-11-04T08:38:43.073714Z",
     "iopub.status.busy": "2022-11-04T08:38:43.073035Z",
     "iopub.status.idle": "2022-11-04T08:38:43.102804Z",
     "shell.execute_reply": "2022-11-04T08:38:43.101682Z"
    },
    "papermill": {
     "duration": 0.093974,
     "end_time": "2022-11-04T08:38:43.105287",
     "exception": false,
     "start_time": "2022-11-04T08:38:43.011313",
     "status": "completed"
    },
    "tags": []
   },
   "outputs": [],
   "source": [
    "des_test = data_test_mod.describe()"
   ]
  },
  {
   "cell_type": "markdown",
   "id": "12719b6f",
   "metadata": {
    "papermill": {
     "duration": 0.068171,
     "end_time": "2022-11-04T08:38:43.233051",
     "exception": false,
     "start_time": "2022-11-04T08:38:43.164880",
     "status": "completed"
    },
    "tags": []
   },
   "source": [
    "Applying Decision Tree Algorithm<br>\n",
    "Splitting the Input data"
   ]
  },
  {
   "cell_type": "code",
   "execution_count": 137,
   "id": "90589a11",
   "metadata": {
    "execution": {
     "iopub.execute_input": "2022-11-04T08:38:43.354720Z",
     "iopub.status.busy": "2022-11-04T08:38:43.353998Z",
     "iopub.status.idle": "2022-11-04T08:38:43.360817Z",
     "shell.execute_reply": "2022-11-04T08:38:43.359803Z"
    },
    "papermill": {
     "duration": 0.06923,
     "end_time": "2022-11-04T08:38:43.363000",
     "exception": false,
     "start_time": "2022-11-04T08:38:43.293770",
     "status": "completed"
    },
    "tags": []
   },
   "outputs": [],
   "source": [
    "from sklearn.model_selection import train_test_split\n",
    "X_train,X_test,y_train,y_test = train_test_split(X_res,y_res, test_size = 0.1)"
   ]
  },
  {
   "cell_type": "code",
   "execution_count": 138,
   "id": "e8dd8854",
   "metadata": {
    "execution": {
     "iopub.execute_input": "2022-11-04T08:38:43.487655Z",
     "iopub.status.busy": "2022-11-04T08:38:43.487203Z",
     "iopub.status.idle": "2022-11-04T08:38:43.495237Z",
     "shell.execute_reply": "2022-11-04T08:38:43.494119Z"
    },
    "papermill": {
     "duration": 0.073861,
     "end_time": "2022-11-04T08:38:43.498013",
     "exception": false,
     "start_time": "2022-11-04T08:38:43.424152",
     "status": "completed"
    },
    "tags": []
   },
   "outputs": [
    {
     "data": {
      "text/plain": [
       "0.4959349593495935"
      ]
     },
     "execution_count": 138,
     "metadata": {},
     "output_type": "execute_result"
    }
   ],
   "source": [
    "sum(y_train['Survived'])/len(y_train['Survived']) # 49.7 %"
   ]
  },
  {
   "cell_type": "code",
   "execution_count": 139,
   "id": "0bbb02b1",
   "metadata": {
    "execution": {
     "iopub.execute_input": "2022-11-04T08:38:43.618654Z",
     "iopub.status.busy": "2022-11-04T08:38:43.617585Z",
     "iopub.status.idle": "2022-11-04T08:38:43.625189Z",
     "shell.execute_reply": "2022-11-04T08:38:43.624429Z"
    },
    "papermill": {
     "duration": 0.070493,
     "end_time": "2022-11-04T08:38:43.627438",
     "exception": false,
     "start_time": "2022-11-04T08:38:43.556945",
     "status": "completed"
    },
    "tags": []
   },
   "outputs": [
    {
     "data": {
      "text/plain": [
       "0.5362318840579711"
      ]
     },
     "execution_count": 139,
     "metadata": {},
     "output_type": "execute_result"
    }
   ],
   "source": [
    "sum(y_test['Survived'])/len(y_test['Survived']) # 52.1% - # Data is splitted Balanced only"
   ]
  },
  {
   "cell_type": "code",
   "execution_count": 140,
   "id": "a55f5e7e",
   "metadata": {
    "execution": {
     "iopub.execute_input": "2022-11-04T08:38:43.747232Z",
     "iopub.status.busy": "2022-11-04T08:38:43.746422Z",
     "iopub.status.idle": "2022-11-04T08:38:43.751739Z",
     "shell.execute_reply": "2022-11-04T08:38:43.750599Z"
    },
    "papermill": {
     "duration": 0.068192,
     "end_time": "2022-11-04T08:38:43.754983",
     "exception": false,
     "start_time": "2022-11-04T08:38:43.686791",
     "status": "completed"
    },
    "tags": []
   },
   "outputs": [],
   "source": [
    "from sklearn.tree import DecisionTreeClassifier as DT"
   ]
  },
  {
   "cell_type": "markdown",
   "id": "5599a839",
   "metadata": {
    "papermill": {
     "duration": 0.05825,
     "end_time": "2022-11-04T08:38:43.871643",
     "exception": false,
     "start_time": "2022-11-04T08:38:43.813393",
     "status": "completed"
    },
    "tags": []
   },
   "source": [
    "By the GridSearchCV I have chosen the Best Parameters and Building a model Based on that"
   ]
  },
  {
   "cell_type": "code",
   "execution_count": 141,
   "id": "b16e2b03",
   "metadata": {
    "execution": {
     "iopub.execute_input": "2022-11-04T08:38:43.990048Z",
     "iopub.status.busy": "2022-11-04T08:38:43.989643Z",
     "iopub.status.idle": "2022-11-04T08:38:43.995011Z",
     "shell.execute_reply": "2022-11-04T08:38:43.993674Z"
    },
    "papermill": {
     "duration": 0.067636,
     "end_time": "2022-11-04T08:38:43.997467",
     "exception": false,
     "start_time": "2022-11-04T08:38:43.929831",
     "status": "completed"
    },
    "tags": []
   },
   "outputs": [],
   "source": [
    "final_model = DT(max_depth =  10, min_samples_leaf = 10, max_features = 'log2')"
   ]
  },
  {
   "cell_type": "markdown",
   "id": "32cb3465",
   "metadata": {
    "papermill": {
     "duration": 0.058985,
     "end_time": "2022-11-04T08:38:44.115708",
     "exception": false,
     "start_time": "2022-11-04T08:38:44.056723",
     "status": "completed"
    },
    "tags": []
   },
   "source": [
    "Training the model"
   ]
  },
  {
   "cell_type": "code",
   "execution_count": 142,
   "id": "5c02cff6",
   "metadata": {
    "execution": {
     "iopub.execute_input": "2022-11-04T08:38:44.235757Z",
     "iopub.status.busy": "2022-11-04T08:38:44.235083Z",
     "iopub.status.idle": "2022-11-04T08:38:44.247951Z",
     "shell.execute_reply": "2022-11-04T08:38:44.246818Z"
    },
    "papermill": {
     "duration": 0.075551,
     "end_time": "2022-11-04T08:38:44.250171",
     "exception": false,
     "start_time": "2022-11-04T08:38:44.174620",
     "status": "completed"
    },
    "tags": []
   },
   "outputs": [
    {
     "data": {
      "text/plain": [
       "DecisionTreeClassifier(max_depth=10, max_features='log2', min_samples_leaf=10)"
      ]
     },
     "execution_count": 142,
     "metadata": {},
     "output_type": "execute_result"
    }
   ],
   "source": [
    "final_model.fit(X_train, y_train)"
   ]
  },
  {
   "cell_type": "markdown",
   "id": "cceebb2d",
   "metadata": {
    "papermill": {
     "duration": 0.06137,
     "end_time": "2022-11-04T08:38:44.372222",
     "exception": false,
     "start_time": "2022-11-04T08:38:44.310852",
     "status": "completed"
    },
    "tags": []
   },
   "source": [
    "Prediction on splitted Test data of Train Dataset"
   ]
  },
  {
   "cell_type": "code",
   "execution_count": 143,
   "id": "3783e762",
   "metadata": {
    "execution": {
     "iopub.execute_input": "2022-11-04T08:38:44.497885Z",
     "iopub.status.busy": "2022-11-04T08:38:44.497477Z",
     "iopub.status.idle": "2022-11-04T08:38:44.504863Z",
     "shell.execute_reply": "2022-11-04T08:38:44.503573Z"
    },
    "papermill": {
     "duration": 0.074369,
     "end_time": "2022-11-04T08:38:44.507366",
     "exception": false,
     "start_time": "2022-11-04T08:38:44.432997",
     "status": "completed"
    },
    "tags": []
   },
   "outputs": [],
   "source": [
    "pred = final_model.predict(X_test)"
   ]
  },
  {
   "cell_type": "markdown",
   "id": "8f8644ec",
   "metadata": {
    "papermill": {
     "duration": 0.05984,
     "end_time": "2022-11-04T08:38:44.627087",
     "exception": false,
     "start_time": "2022-11-04T08:38:44.567247",
     "status": "completed"
    },
    "tags": []
   },
   "source": [
    "Cross tab or Confusion matrix"
   ]
  },
  {
   "cell_type": "code",
   "execution_count": 144,
   "id": "cb5deb3c",
   "metadata": {
    "execution": {
     "iopub.execute_input": "2022-11-04T08:38:44.750895Z",
     "iopub.status.busy": "2022-11-04T08:38:44.750430Z",
     "iopub.status.idle": "2022-11-04T08:38:44.781722Z",
     "shell.execute_reply": "2022-11-04T08:38:44.780829Z"
    },
    "papermill": {
     "duration": 0.095998,
     "end_time": "2022-11-04T08:38:44.784021",
     "exception": false,
     "start_time": "2022-11-04T08:38:44.688023",
     "status": "completed"
    },
    "tags": []
   },
   "outputs": [
    {
     "data": {
      "text/html": [
       "<div>\n",
       "<style scoped>\n",
       "    .dataframe tbody tr th:only-of-type {\n",
       "        vertical-align: middle;\n",
       "    }\n",
       "\n",
       "    .dataframe tbody tr th {\n",
       "        vertical-align: top;\n",
       "    }\n",
       "\n",
       "    .dataframe thead th {\n",
       "        text-align: right;\n",
       "    }\n",
       "</style>\n",
       "<table border=\"1\" class=\"dataframe\">\n",
       "  <thead>\n",
       "    <tr style=\"text-align: right;\">\n",
       "      <th>Predicted_values</th>\n",
       "      <th>0</th>\n",
       "      <th>1</th>\n",
       "    </tr>\n",
       "    <tr>\n",
       "      <th>Actual_values</th>\n",
       "      <th></th>\n",
       "      <th></th>\n",
       "    </tr>\n",
       "  </thead>\n",
       "  <tbody>\n",
       "    <tr>\n",
       "      <th>0</th>\n",
       "      <td>23</td>\n",
       "      <td>9</td>\n",
       "    </tr>\n",
       "    <tr>\n",
       "      <th>1</th>\n",
       "      <td>10</td>\n",
       "      <td>27</td>\n",
       "    </tr>\n",
       "  </tbody>\n",
       "</table>\n",
       "</div>"
      ],
      "text/plain": [
       "Predicted_values   0   1\n",
       "Actual_values           \n",
       "0                 23   9\n",
       "1                 10  27"
      ]
     },
     "execution_count": 144,
     "metadata": {},
     "output_type": "execute_result"
    }
   ],
   "source": [
    "pd.crosstab(y_test['Survived'], pred, rownames=['Actual_values'], colnames=['Predicted_values'])"
   ]
  },
  {
   "cell_type": "markdown",
   "id": "50de161c",
   "metadata": {
    "papermill": {
     "duration": 0.059967,
     "end_time": "2022-11-04T08:38:44.903794",
     "exception": false,
     "start_time": "2022-11-04T08:38:44.843827",
     "status": "completed"
    },
    "tags": []
   },
   "source": [
    "Accuracy"
   ]
  },
  {
   "cell_type": "code",
   "execution_count": 145,
   "id": "9784db97",
   "metadata": {
    "execution": {
     "iopub.execute_input": "2022-11-04T08:38:45.028032Z",
     "iopub.status.busy": "2022-11-04T08:38:45.027650Z",
     "iopub.status.idle": "2022-11-04T08:38:45.035087Z",
     "shell.execute_reply": "2022-11-04T08:38:45.034317Z"
    },
    "papermill": {
     "duration": 0.073045,
     "end_time": "2022-11-04T08:38:45.037167",
     "exception": false,
     "start_time": "2022-11-04T08:38:44.964122",
     "status": "completed"
    },
    "tags": []
   },
   "outputs": [
    {
     "data": {
      "text/plain": [
       "0.7246376811594203"
      ]
     },
     "execution_count": 145,
     "metadata": {},
     "output_type": "execute_result"
    }
   ],
   "source": [
    "np.mean(pred == y_test['Survived']) # 76.8.5%"
   ]
  },
  {
   "cell_type": "markdown",
   "id": "2b8cc327",
   "metadata": {
    "papermill": {
     "duration": 0.059294,
     "end_time": "2022-11-04T08:38:45.156034",
     "exception": false,
     "start_time": "2022-11-04T08:38:45.096740",
     "status": "completed"
    },
    "tags": []
   },
   "source": [
    "For validation purpose predicting on train data of Train Dataset"
   ]
  },
  {
   "cell_type": "code",
   "execution_count": 146,
   "id": "d43bf095",
   "metadata": {
    "execution": {
     "iopub.execute_input": "2022-11-04T08:38:45.278282Z",
     "iopub.status.busy": "2022-11-04T08:38:45.277857Z",
     "iopub.status.idle": "2022-11-04T08:38:45.285838Z",
     "shell.execute_reply": "2022-11-04T08:38:45.284860Z"
    },
    "papermill": {
     "duration": 0.070799,
     "end_time": "2022-11-04T08:38:45.287950",
     "exception": false,
     "start_time": "2022-11-04T08:38:45.217151",
     "status": "completed"
    },
    "tags": []
   },
   "outputs": [],
   "source": [
    "pred_train = final_model.predict(X_train)"
   ]
  },
  {
   "cell_type": "markdown",
   "id": "fc691d77",
   "metadata": {
    "papermill": {
     "duration": 0.061533,
     "end_time": "2022-11-04T08:38:45.410340",
     "exception": false,
     "start_time": "2022-11-04T08:38:45.348807",
     "status": "completed"
    },
    "tags": []
   },
   "source": [
    "Cross tab or Confusion matrix"
   ]
  },
  {
   "cell_type": "code",
   "execution_count": 147,
   "id": "1b5c6b62",
   "metadata": {
    "execution": {
     "iopub.execute_input": "2022-11-04T08:38:45.535738Z",
     "iopub.status.busy": "2022-11-04T08:38:45.535314Z",
     "iopub.status.idle": "2022-11-04T08:38:45.557965Z",
     "shell.execute_reply": "2022-11-04T08:38:45.556679Z"
    },
    "papermill": {
     "duration": 0.088543,
     "end_time": "2022-11-04T08:38:45.560786",
     "exception": false,
     "start_time": "2022-11-04T08:38:45.472243",
     "status": "completed"
    },
    "tags": []
   },
   "outputs": [
    {
     "data": {
      "text/html": [
       "<div>\n",
       "<style scoped>\n",
       "    .dataframe tbody tr th:only-of-type {\n",
       "        vertical-align: middle;\n",
       "    }\n",
       "\n",
       "    .dataframe tbody tr th {\n",
       "        vertical-align: top;\n",
       "    }\n",
       "\n",
       "    .dataframe thead th {\n",
       "        text-align: right;\n",
       "    }\n",
       "</style>\n",
       "<table border=\"1\" class=\"dataframe\">\n",
       "  <thead>\n",
       "    <tr style=\"text-align: right;\">\n",
       "      <th>Predicted_values</th>\n",
       "      <th>0</th>\n",
       "      <th>1</th>\n",
       "    </tr>\n",
       "    <tr>\n",
       "      <th>Actual_values</th>\n",
       "      <th></th>\n",
       "      <th></th>\n",
       "    </tr>\n",
       "  </thead>\n",
       "  <tbody>\n",
       "    <tr>\n",
       "      <th>0</th>\n",
       "      <td>259</td>\n",
       "      <td>51</td>\n",
       "    </tr>\n",
       "    <tr>\n",
       "      <th>1</th>\n",
       "      <td>71</td>\n",
       "      <td>234</td>\n",
       "    </tr>\n",
       "  </tbody>\n",
       "</table>\n",
       "</div>"
      ],
      "text/plain": [
       "Predicted_values    0    1\n",
       "Actual_values             \n",
       "0                 259   51\n",
       "1                  71  234"
      ]
     },
     "execution_count": 147,
     "metadata": {},
     "output_type": "execute_result"
    }
   ],
   "source": [
    "pd.crosstab(y_train['Survived'], pred_train, rownames=['Actual_values'], colnames=['Predicted_values'])"
   ]
  },
  {
   "cell_type": "markdown",
   "id": "cf62f984",
   "metadata": {
    "papermill": {
     "duration": 0.063407,
     "end_time": "2022-11-04T08:38:45.686360",
     "exception": false,
     "start_time": "2022-11-04T08:38:45.622953",
     "status": "completed"
    },
    "tags": []
   },
   "source": [
    "Accuracy on Train Data"
   ]
  },
  {
   "cell_type": "code",
   "execution_count": 148,
   "id": "35173fb2",
   "metadata": {
    "execution": {
     "iopub.execute_input": "2022-11-04T08:38:45.812123Z",
     "iopub.status.busy": "2022-11-04T08:38:45.811759Z",
     "iopub.status.idle": "2022-11-04T08:38:45.818815Z",
     "shell.execute_reply": "2022-11-04T08:38:45.818010Z"
    },
    "papermill": {
     "duration": 0.073754,
     "end_time": "2022-11-04T08:38:45.820902",
     "exception": false,
     "start_time": "2022-11-04T08:38:45.747148",
     "status": "completed"
    },
    "tags": []
   },
   "outputs": [
    {
     "data": {
      "text/plain": [
       "0.8016260162601626"
      ]
     },
     "execution_count": 148,
     "metadata": {},
     "output_type": "execute_result"
    }
   ],
   "source": [
    "np.mean(pred_train == y_train['Survived']) # 82.6 % - # Model seems fine "
   ]
  },
  {
   "cell_type": "markdown",
   "id": "ea69ec65",
   "metadata": {
    "papermill": {
     "duration": 0.058899,
     "end_time": "2022-11-04T08:38:45.940684",
     "exception": false,
     "start_time": "2022-11-04T08:38:45.881785",
     "status": "completed"
    },
    "tags": []
   },
   "source": [
    "predicting on test dataset"
   ]
  },
  {
   "cell_type": "code",
   "execution_count": 149,
   "id": "563f4bc0",
   "metadata": {
    "execution": {
     "iopub.execute_input": "2022-11-04T08:38:46.075576Z",
     "iopub.status.busy": "2022-11-04T08:38:46.074062Z",
     "iopub.status.idle": "2022-11-04T08:38:46.087125Z",
     "shell.execute_reply": "2022-11-04T08:38:46.085816Z"
    },
    "papermill": {
     "duration": 0.090048,
     "end_time": "2022-11-04T08:38:46.090839",
     "exception": false,
     "start_time": "2022-11-04T08:38:46.000791",
     "status": "completed"
    },
    "tags": []
   },
   "outputs": [
    {
     "name": "stdout",
     "output_type": "stream",
     "text": [
      "The Predicted values on Test Dataset is : [0 1 0 0 1 0 1 1 1 0 0 0 1 0 1 1 0 0 1 1 1 0 1 0 1 0 1 0 0 1 0 0 1 0 1 0 1\n",
      " 1 0 0 1 0 0 1 1 0 0 0 0 1 1 0 1 1 0 0 0 0 0 1 0 0 0 1 1 1 1 0 0 1 1 0 1 0\n",
      " 1 0 0 1 0 1 1 1 0 0 0 1 1 1 1 1 1 0 1 0 0 0 1 0 1 0 1 0 0 0 1 0 0 0 0 0 0\n",
      " 1 1 1 1 1 0 1 0 1 1 0 1 0 0 1 0 1 0 0 0 0 0 0 0 0 0 0 1 0 0 1 1 0 0 0 0 0\n",
      " 0 1 1 1 0 1 0 0 1 1 0 1 1 1 1 0 0 0 0 0 1 1 0 0 0 0 0 1 1 1 1 0 0 1 1 0 1\n",
      " 0 1 0 0 0 0 0 0 0 0 0 0 1 0 1 1 1 1 1 0 0 1 0 1 0 0 0 0 1 1 0 1 1 1 0 1 0\n",
      " 1 0 0 1 0 1 0 0 0 1 0 0 1 0 1 0 1 1 0 1 1 0 0 1 1 1 1 1 1 0 1 0 0 0 0 0 1\n",
      " 0 0 0 1 1 0 0 0 0 1 0 0 0 1 1 0 1 0 0 0 0 1 1 1 1 1 0 0 1 0 0 0 1 0 1 0 0\n",
      " 1 1 0 0 0 0 0 0 1 1 1 1 1 1 0 0 0 1 0 1 1 0 0 0 0 0 0 0 1 0 1 0 0 0 1 0 0\n",
      " 1 0 0 0 0 0 0 0 0 0 0 0 1 0 1 0 1 1 0 0 1 1 0 1 0 0 1 0 1 1 0 1 0 1 0 1 0\n",
      " 0 1 0 0 1 1 1 0 0 1 0 0 1 1 0 1 0 0 0 1 0 0 0 0 0 1 0 1 0 0 1 0 1 0 1 0 0\n",
      " 1 1 1 1 1 1 0 1 0 0 1]\n"
     ]
    }
   ],
   "source": [
    "pred_final = final_model.predict(data_test_mod.iloc[:,1:])\n",
    "print('The Predicted values on Test Dataset is :',pred_final)"
   ]
  },
  {
   "cell_type": "code",
   "execution_count": 150,
   "id": "521a00eb",
   "metadata": {
    "execution": {
     "iopub.execute_input": "2022-11-04T08:38:46.227624Z",
     "iopub.status.busy": "2022-11-04T08:38:46.226827Z",
     "iopub.status.idle": "2022-11-04T08:38:46.232779Z",
     "shell.execute_reply": "2022-11-04T08:38:46.231774Z"
    },
    "papermill": {
     "duration": 0.071901,
     "end_time": "2022-11-04T08:38:46.235279",
     "exception": false,
     "start_time": "2022-11-04T08:38:46.163378",
     "status": "completed"
    },
    "tags": []
   },
   "outputs": [],
   "source": [
    "final_submission = pd.DataFrame(data_test_mod['PassengerId'])"
   ]
  },
  {
   "cell_type": "code",
   "execution_count": 151,
   "id": "bd901f9d",
   "metadata": {
    "execution": {
     "iopub.execute_input": "2022-11-04T08:38:46.359377Z",
     "iopub.status.busy": "2022-11-04T08:38:46.358628Z",
     "iopub.status.idle": "2022-11-04T08:38:46.364368Z",
     "shell.execute_reply": "2022-11-04T08:38:46.363573Z"
    },
    "papermill": {
     "duration": 0.069351,
     "end_time": "2022-11-04T08:38:46.366696",
     "exception": false,
     "start_time": "2022-11-04T08:38:46.297345",
     "status": "completed"
    },
    "tags": []
   },
   "outputs": [],
   "source": [
    "final_submission['Survived'] = pred_final"
   ]
  },
  {
   "cell_type": "code",
   "execution_count": 152,
   "id": "d027ae61",
   "metadata": {
    "execution": {
     "iopub.execute_input": "2022-11-04T08:38:46.489902Z",
     "iopub.status.busy": "2022-11-04T08:38:46.489527Z",
     "iopub.status.idle": "2022-11-04T08:38:46.502578Z",
     "shell.execute_reply": "2022-11-04T08:38:46.501439Z"
    },
    "papermill": {
     "duration": 0.078937,
     "end_time": "2022-11-04T08:38:46.505098",
     "exception": false,
     "start_time": "2022-11-04T08:38:46.426161",
     "status": "completed"
    },
    "tags": []
   },
   "outputs": [
    {
     "data": {
      "text/html": [
       "<div>\n",
       "<style scoped>\n",
       "    .dataframe tbody tr th:only-of-type {\n",
       "        vertical-align: middle;\n",
       "    }\n",
       "\n",
       "    .dataframe tbody tr th {\n",
       "        vertical-align: top;\n",
       "    }\n",
       "\n",
       "    .dataframe thead th {\n",
       "        text-align: right;\n",
       "    }\n",
       "</style>\n",
       "<table border=\"1\" class=\"dataframe\">\n",
       "  <thead>\n",
       "    <tr style=\"text-align: right;\">\n",
       "      <th></th>\n",
       "      <th>PassengerId</th>\n",
       "      <th>Survived</th>\n",
       "    </tr>\n",
       "  </thead>\n",
       "  <tbody>\n",
       "    <tr>\n",
       "      <th>0</th>\n",
       "      <td>892</td>\n",
       "      <td>0</td>\n",
       "    </tr>\n",
       "    <tr>\n",
       "      <th>1</th>\n",
       "      <td>893</td>\n",
       "      <td>1</td>\n",
       "    </tr>\n",
       "    <tr>\n",
       "      <th>2</th>\n",
       "      <td>894</td>\n",
       "      <td>0</td>\n",
       "    </tr>\n",
       "    <tr>\n",
       "      <th>3</th>\n",
       "      <td>895</td>\n",
       "      <td>0</td>\n",
       "    </tr>\n",
       "    <tr>\n",
       "      <th>4</th>\n",
       "      <td>896</td>\n",
       "      <td>1</td>\n",
       "    </tr>\n",
       "    <tr>\n",
       "      <th>...</th>\n",
       "      <td>...</td>\n",
       "      <td>...</td>\n",
       "    </tr>\n",
       "    <tr>\n",
       "      <th>413</th>\n",
       "      <td>1305</td>\n",
       "      <td>0</td>\n",
       "    </tr>\n",
       "    <tr>\n",
       "      <th>414</th>\n",
       "      <td>1306</td>\n",
       "      <td>1</td>\n",
       "    </tr>\n",
       "    <tr>\n",
       "      <th>415</th>\n",
       "      <td>1307</td>\n",
       "      <td>0</td>\n",
       "    </tr>\n",
       "    <tr>\n",
       "      <th>416</th>\n",
       "      <td>1308</td>\n",
       "      <td>0</td>\n",
       "    </tr>\n",
       "    <tr>\n",
       "      <th>417</th>\n",
       "      <td>1309</td>\n",
       "      <td>1</td>\n",
       "    </tr>\n",
       "  </tbody>\n",
       "</table>\n",
       "<p>418 rows × 2 columns</p>\n",
       "</div>"
      ],
      "text/plain": [
       "     PassengerId  Survived\n",
       "0            892         0\n",
       "1            893         1\n",
       "2            894         0\n",
       "3            895         0\n",
       "4            896         1\n",
       "..           ...       ...\n",
       "413         1305         0\n",
       "414         1306         1\n",
       "415         1307         0\n",
       "416         1308         0\n",
       "417         1309         1\n",
       "\n",
       "[418 rows x 2 columns]"
      ]
     },
     "execution_count": 152,
     "metadata": {},
     "output_type": "execute_result"
    }
   ],
   "source": [
    "final_submission"
   ]
  }
 ],
 "metadata": {
  "kernelspec": {
   "display_name": "Python 3 (ipykernel)",
   "language": "python",
   "name": "python3"
  },
  "language_info": {
   "codemirror_mode": {
    "name": "ipython",
    "version": 3
   },
   "file_extension": ".py",
   "mimetype": "text/x-python",
   "name": "python",
   "nbconvert_exporter": "python",
   "pygments_lexer": "ipython3",
   "version": "3.9.13"
  },
  "papermill": {
   "default_parameters": {},
   "duration": 46.797235,
   "end_time": "2022-11-04T08:38:47.792538",
   "environment_variables": {},
   "exception": null,
   "input_path": "__notebook__.ipynb",
   "output_path": "__notebook__.ipynb",
   "parameters": {},
   "start_time": "2022-11-04T08:38:00.995303",
   "version": "2.3.4"
  }
 },
 "nbformat": 4,
 "nbformat_minor": 5
}
